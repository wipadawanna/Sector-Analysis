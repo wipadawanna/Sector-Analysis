{
 "cells": [
  {
   "cell_type": "code",
   "execution_count": 1,
   "metadata": {
    "collapsed": true
   },
   "outputs": [],
   "source": [
    "from lib.env.global_var import *\n",
    "from lib.func.shelve_store import *\n",
    "from lib.func.top_sector import *\n",
    "import pandas as pd\n",
    "import numpy as np"
   ]
  },
  {
   "cell_type": "code",
   "execution_count": 5,
   "metadata": {},
   "outputs": [
    {
     "name": "stdout",
     "output_type": "stream",
     "text": [
      "C:/Users/globa/Documents/Investible-Stocks-Selection/tmp/shelve.out\n",
      "Retrieved Successfully\n"
     ]
    }
   ],
   "source": [
    "print shelve_dir\n",
    "top_sector = retrieve_variable(shelve_dir, 'top_sector')"
   ]
  },
  {
   "cell_type": "code",
   "execution_count": 6,
   "metadata": {},
   "outputs": [
    {
     "data": {
      "text/html": [
       "<div>\n",
       "<style>\n",
       "    .dataframe thead tr:only-child th {\n",
       "        text-align: right;\n",
       "    }\n",
       "\n",
       "    .dataframe thead th {\n",
       "        text-align: left;\n",
       "    }\n",
       "\n",
       "    .dataframe tbody tr th {\n",
       "        vertical-align: top;\n",
       "    }\n",
       "</style>\n",
       "<table border=\"1\" class=\"dataframe\">\n",
       "  <thead>\n",
       "    <tr style=\"text-align: right;\">\n",
       "      <th></th>\n",
       "      <th>IDU US Equity</th>\n",
       "      <th>IYE US Equity</th>\n",
       "      <th>IYF US Equity</th>\n",
       "      <th>IYJ US Equity</th>\n",
       "      <th>IYK US Equity</th>\n",
       "      <th>IYM US Equity</th>\n",
       "      <th>IYW US Equity</th>\n",
       "      <th>IYZ US Equity</th>\n",
       "    </tr>\n",
       "  </thead>\n",
       "  <tbody>\n",
       "    <tr>\n",
       "      <th>2000-08-31</th>\n",
       "      <td>True</td>\n",
       "      <td>False</td>\n",
       "      <td>False</td>\n",
       "      <td>True</td>\n",
       "      <td>False</td>\n",
       "      <td>False</td>\n",
       "      <td>True</td>\n",
       "      <td>False</td>\n",
       "    </tr>\n",
       "    <tr>\n",
       "      <th>2000-09-29</th>\n",
       "      <td>True</td>\n",
       "      <td>True</td>\n",
       "      <td>True</td>\n",
       "      <td>False</td>\n",
       "      <td>False</td>\n",
       "      <td>False</td>\n",
       "      <td>False</td>\n",
       "      <td>False</td>\n",
       "    </tr>\n",
       "    <tr>\n",
       "      <th>2000-10-31</th>\n",
       "      <td>False</td>\n",
       "      <td>False</td>\n",
       "      <td>False</td>\n",
       "      <td>False</td>\n",
       "      <td>True</td>\n",
       "      <td>True</td>\n",
       "      <td>False</td>\n",
       "      <td>True</td>\n",
       "    </tr>\n",
       "    <tr>\n",
       "      <th>2000-11-30</th>\n",
       "      <td>True</td>\n",
       "      <td>False</td>\n",
       "      <td>False</td>\n",
       "      <td>False</td>\n",
       "      <td>True</td>\n",
       "      <td>True</td>\n",
       "      <td>False</td>\n",
       "      <td>False</td>\n",
       "    </tr>\n",
       "    <tr>\n",
       "      <th>2000-12-29</th>\n",
       "      <td>False</td>\n",
       "      <td>True</td>\n",
       "      <td>True</td>\n",
       "      <td>False</td>\n",
       "      <td>False</td>\n",
       "      <td>True</td>\n",
       "      <td>False</td>\n",
       "      <td>False</td>\n",
       "    </tr>\n",
       "    <tr>\n",
       "      <th>2001-01-31</th>\n",
       "      <td>False</td>\n",
       "      <td>False</td>\n",
       "      <td>False</td>\n",
       "      <td>True</td>\n",
       "      <td>False</td>\n",
       "      <td>False</td>\n",
       "      <td>True</td>\n",
       "      <td>True</td>\n",
       "    </tr>\n",
       "    <tr>\n",
       "      <th>2001-02-28</th>\n",
       "      <td>True</td>\n",
       "      <td>True</td>\n",
       "      <td>False</td>\n",
       "      <td>False</td>\n",
       "      <td>True</td>\n",
       "      <td>False</td>\n",
       "      <td>False</td>\n",
       "      <td>False</td>\n",
       "    </tr>\n",
       "    <tr>\n",
       "      <th>2001-03-30</th>\n",
       "      <td>True</td>\n",
       "      <td>True</td>\n",
       "      <td>True</td>\n",
       "      <td>False</td>\n",
       "      <td>False</td>\n",
       "      <td>False</td>\n",
       "      <td>False</td>\n",
       "      <td>False</td>\n",
       "    </tr>\n",
       "    <tr>\n",
       "      <th>2001-04-30</th>\n",
       "      <td>False</td>\n",
       "      <td>True</td>\n",
       "      <td>False</td>\n",
       "      <td>True</td>\n",
       "      <td>False</td>\n",
       "      <td>False</td>\n",
       "      <td>True</td>\n",
       "      <td>False</td>\n",
       "    </tr>\n",
       "    <tr>\n",
       "      <th>2001-05-31</th>\n",
       "      <td>False</td>\n",
       "      <td>False</td>\n",
       "      <td>True</td>\n",
       "      <td>False</td>\n",
       "      <td>True</td>\n",
       "      <td>True</td>\n",
       "      <td>False</td>\n",
       "      <td>False</td>\n",
       "    </tr>\n",
       "  </tbody>\n",
       "</table>\n",
       "</div>"
      ],
      "text/plain": [
       "            IDU US Equity  IYE US Equity  IYF US Equity  IYJ US Equity  \\\n",
       "2000-08-31           True          False          False           True   \n",
       "2000-09-29           True           True           True          False   \n",
       "2000-10-31          False          False          False          False   \n",
       "2000-11-30           True          False          False          False   \n",
       "2000-12-29          False           True           True          False   \n",
       "2001-01-31          False          False          False           True   \n",
       "2001-02-28           True           True          False          False   \n",
       "2001-03-30           True           True           True          False   \n",
       "2001-04-30          False           True          False           True   \n",
       "2001-05-31          False          False           True          False   \n",
       "\n",
       "            IYK US Equity  IYM US Equity  IYW US Equity  IYZ US Equity  \n",
       "2000-08-31          False          False           True          False  \n",
       "2000-09-29          False          False          False          False  \n",
       "2000-10-31           True           True          False           True  \n",
       "2000-11-30           True           True          False          False  \n",
       "2000-12-29          False           True          False          False  \n",
       "2001-01-31          False          False           True           True  \n",
       "2001-02-28           True          False          False          False  \n",
       "2001-03-30          False          False          False          False  \n",
       "2001-04-30          False          False           True          False  \n",
       "2001-05-31           True           True          False          False  "
      ]
     },
     "execution_count": 6,
     "metadata": {},
     "output_type": "execute_result"
    }
   ],
   "source": [
    "top_sector.head(10)"
   ]
  },
  {
   "cell_type": "code",
   "execution_count": null,
   "metadata": {
    "collapsed": true
   },
   "outputs": [],
   "source": [
    "folder_dir_str = data_path\n",
    "econ_dir_str = econ_data_path\n",
    "\n",
    "BENCHMARK = \"benchmark_data.xlsx\" # benchmark for 9 sectors\n",
    "\n",
    "#Customer Price Index Growth, Customer Sentimental, Government 10-y interest rate, \n",
    "#Fed Fund rate, Gross Domestic Products, Home Price Indices, Net Expenditures, Options-Adjusted Spread,\n",
    "#Payroll, Consumption Expenditures, Recession probability, Counterparty Credit Risk,\n",
    "#Unemployment rate, SP500 Volatility\n",
    "var_list = ['CPI','CSENT', 'DGS10', 'FEDFUNDS', 'GDP', 'HPI', 'NETEXP', 'OAS', 'PAYEMS',\n",
    "          'PCE', 'RECESSION', 'TEDRATE', 'UNRATE', 'VIXCLS']\n"
   ]
  },
  {
   "cell_type": "code",
   "execution_count": null,
   "metadata": {
    "collapsed": true
   },
   "outputs": [],
   "source": [
    "def quaterly_to_monthly(df):\n",
    "    # if the index is not pd.DatetimeIndex, convert it\n",
    "    if type(df.index) != pd.DatetimeIndex:\n",
    "        df.index = pd.DatetimeIndex(df.index)\n",
    "        \n",
    "    resampled_df = df.resample(\"M\").last()\n",
    "    for int_index in range(len(resampled_df)):\n",
    "        value = resampled_df.iloc[int_index,:].values[0]\n",
    "        if not np.isnan(value):\n",
    "            # copy quater data\n",
    "            previouse_quater = value\n",
    "            quater_index = 1\n",
    "        if np.isnan(value) and quater_index ==1:\n",
    "            # filling first value\n",
    "            resampled_df.iloc[int_index,:] = previouse_quater\n",
    "            quater_index += 1\n",
    "        if np.isnan(value) and quater_index ==2:\n",
    "            # filling the second value\n",
    "            resampled_df.iloc[int_index,:] = previouse_quater\n",
    "            quater_index = 1\n",
    "    return(resampled_df)"
   ]
  },
  {
   "cell_type": "code",
   "execution_count": null,
   "metadata": {
    "collapsed": true
   },
   "outputs": [],
   "source": [
    "# return time series of the input file\n",
    "def read_format_csv(filename, filepath, varname='VAR'):\n",
    "    dat_csv = pd.read_csv(filepath+filename)\n",
    "    map(str, dat_csv.columns)\n",
    "    dat_csv.columns = ['DATE', varname]\n",
    "    dat_dte = dat_csv.loc[:, 'DATE']\n",
    "    dat_csv.index = dat_dte.values\n",
    "    \n",
    "    dat_csv = (dat_csv.loc[:, [varname]].replace('.',0)).astype(float)\n",
    "    return dat_csv"
   ]
  },
  {
   "cell_type": "code",
   "execution_count": null,
   "metadata": {
    "collapsed": true
   },
   "outputs": [],
   "source": [
    "#merge benchmark data time series with all fundamentals\n",
    "def get_bm_fundamental_ts(benchmark, var_list):\n",
    "    for var in var_list:\n",
    "        var_file_name = var +'.csv'\n",
    "        tmp = read_format_csv(var_file_name, econ_dir_str, var)\n",
    "        exec(var+\"_ts = tmp\")\n",
    "        \n",
    "    for var in ['CPI', 'GDP', 'NETEXP']:\n",
    "        exec(\"tmp =\"+var+\"_ts\")\n",
    "        filltmp = quaterly_to_monthly(tmp)\n",
    "        exec(var+\"_ts = filltmp\")\n",
    "        \n",
    "    ts_df = benchmark\n",
    "    for var in var_list:\n",
    "        exec('tmp_csv = '+var+'_ts')\n",
    "        tmp_csv.index = pd.DatetimeIndex(tmp_csv.index)\n",
    "        tmp_concat = pd.concat([ts_df, tmp_csv], 1)\n",
    "        tmp_concat = tmp_concat.resample(\"M\").last()\n",
    "        ts_df = tmp_concat.loc[ts_df.index[0]:tmp_csv.index[-1], :]\n",
    "\n",
    "    return ts_df"
   ]
  },
  {
   "cell_type": "code",
   "execution_count": null,
   "metadata": {
    "collapsed": true
   },
   "outputs": [],
   "source": [
    "numInd = len(top_sector.columns)\n",
    "for ind in range(numInd):\n",
    "    bm = top_sector.iloc[:,[ind]]\n",
    "    bm_res = bm.resample(\"M\").last()\n",
    "    \n",
    "    tmp = get_bm_fundamental_ts(bm_res, var_list)\n",
    "    bmname = bm.columns[0].replace(\" \", \"_\")\n",
    "    exec(bmname+'_df = tmp')"
   ]
  },
  {
   "cell_type": "code",
   "execution_count": null,
   "metadata": {
    "collapsed": true
   },
   "outputs": [],
   "source": [
    "top_sector.iloc[:,[0]].columns[0].replace(\" \", \"_\")+'_df'"
   ]
  },
  {
   "cell_type": "code",
   "execution_count": null,
   "metadata": {
    "collapsed": true
   },
   "outputs": [],
   "source": [
    "IDU_US_Equity_df.tail(10)"
   ]
  },
  {
   "cell_type": "code",
   "execution_count": null,
   "metadata": {
    "collapsed": true
   },
   "outputs": [],
   "source": [
    "N = len(top_sector.columns)\n",
    "for i in range(N):\n",
    "    str = top_sector.iloc[:,[i]].columns[0]\n",
    "    bm_df_name = str.replace(\" \", \"_\")+'_df'\n",
    "    print(bm_df_name +' = ' + bm_df_name + '.dropna(axis=0, how=\"any\")')\n",
    "    exec(bm_df_name +' = ' + bm_df_name + '.dropna(axis=0, how=\"any\")')"
   ]
  },
  {
   "cell_type": "markdown",
   "metadata": {},
   "source": [
    "Scaled Data Preprocessing"
   ]
  },
  {
   "cell_type": "code",
   "execution_count": null,
   "metadata": {
    "collapsed": true
   },
   "outputs": [],
   "source": [
    "from sklearn import preprocessing\n",
    "selected_bm = IYW_US_Equity_df\n",
    "attributes = selected_bm.iloc[:,1:].columns\n",
    "data_scaled = preprocessing.scale(selected_bm.iloc[:,1:].values, axis = 0)\n",
    "data_scaled\n",
    "data_scaled = pd.DataFrame(data_scaled, columns = attributes)\n",
    "data_scaled"
   ]
  },
  {
   "cell_type": "code",
   "execution_count": null,
   "metadata": {
    "collapsed": true
   },
   "outputs": [],
   "source": [
    "data_timestamp = selected_bm.index\n",
    "data_timestamp"
   ]
  },
  {
   "cell_type": "code",
   "execution_count": null,
   "metadata": {
    "collapsed": true
   },
   "outputs": [],
   "source": [
    "data_target = pd.to_numeric(selected_bm.iloc[:,0].values)\n",
    "data_target"
   ]
  },
  {
   "cell_type": "markdown",
   "metadata": {},
   "source": [
    "Logistic Regression"
   ]
  },
  {
   "cell_type": "code",
   "execution_count": null,
   "metadata": {
    "collapsed": true
   },
   "outputs": [],
   "source": [
    "from sklearn import linear_model\n",
    "logreg = linear_model.LogisticRegression(C=1e5, multi_class = 'ovr')\n",
    "N_train = len(data_target)*3/4\n",
    "\n",
    "Y = data_target[0:N_train]\n",
    "X = data_scaled.iloc[0:N_train,:]\n",
    "#X = data_scaled.iloc[0:N_train,:].shift()/data_scaled.iloc[0:N_train,:]-1\n",
    "#X = X.dropna()\n",
    "#Y = Y[1:]\n",
    "\n",
    "logreg.fit(X, Y)"
   ]
  },
  {
   "cell_type": "markdown",
   "metadata": {},
   "source": [
    "Benchmark Attributes"
   ]
  },
  {
   "cell_type": "code",
   "execution_count": null,
   "metadata": {
    "collapsed": true
   },
   "outputs": [],
   "source": [
    "print(pd.DataFrame(logreg.coef_, columns = attributes))"
   ]
  },
  {
   "cell_type": "code",
   "execution_count": null,
   "metadata": {
    "collapsed": true
   },
   "outputs": [],
   "source": [
    "X_test = data_scaled.iloc[N_train:,:]\n",
    "#X_test = data_scaled.iloc[N_train:,:].shift()/data_scaled.iloc[N_train:,:]-1\n",
    "#X_test = X_test.dropna()\n",
    "\n",
    "y_test = logreg.predict(X_test)"
   ]
  },
  {
   "cell_type": "code",
   "execution_count": null,
   "metadata": {
    "collapsed": true
   },
   "outputs": [],
   "source": [
    "import matplotlib.pyplot as plt\n",
    "\n",
    "plt.figure(figsize=(15,5))\n",
    "plt.plot(Y,'r-',alpha =0.7)\n",
    "plt.plot(np.concatenate([np.repeat(np.nan,len(Y)),y_test]),'b--')\n",
    "plt.plot(np.concatenate([np.repeat(np.nan,len(Y)),data_target[N_train:]]), 'g-')\n",
    "plt.show()"
   ]
  },
  {
   "cell_type": "code",
   "execution_count": null,
   "metadata": {
    "collapsed": true
   },
   "outputs": [],
   "source": [
    "comparison_df = pd.concat([pd.DataFrame(y_test,columns=['y_test']),pd.DataFrame(data_target[N_train:],columns = ['real'])],1).dropna()\n",
    "score_df = pd.DataFrame(map(lambda x: x[0]==x[1],comparison_df.values))*1\n",
    "score = np.mean(score_df)\n",
    "\n",
    "print(\"prediction rate: \",np.round(score.values[0]*100,3),\"%\")"
   ]
  },
  {
   "cell_type": "code",
   "execution_count": null,
   "metadata": {
    "collapsed": true
   },
   "outputs": [],
   "source": []
  }
 ],
 "metadata": {
  "kernelspec": {
   "display_name": "Python 2",
   "language": "python",
   "name": "python2"
  },
  "language_info": {
   "codemirror_mode": {
    "name": "ipython",
    "version": 2
   },
   "file_extension": ".py",
   "mimetype": "text/x-python",
   "name": "python",
   "nbconvert_exporter": "python",
   "pygments_lexer": "ipython2",
   "version": "2.7.13"
  }
 },
 "nbformat": 4,
 "nbformat_minor": 2
}
