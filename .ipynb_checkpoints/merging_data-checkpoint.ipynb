{
 "cells": [
  {
   "cell_type": "code",
   "execution_count": 1,
   "metadata": {
    "collapsed": true
   },
   "outputs": [],
   "source": [
    "from global_var import *\n",
    "import pandas as pd\n",
    "import numpy as np"
   ]
  },
  {
   "cell_type": "code",
   "execution_count": 10,
   "metadata": {
    "collapsed": true
   },
   "outputs": [],
   "source": [
    "folder_dir_str = data_path\n",
    "econ_dir_str = econ_data_path\n",
    "price = 'PX_LAST.xlsx'\n",
    "PE = 'PE.xlsx'\n",
    "ROE = 'RETURN_COM_EQY.xlsx'\n",
    "CFNI = 'CASH_FLOW_TO_NET_INC.xlsx'\n",
    "DA = 'TOT_DEBT_TO_TOT_ASSET.xlsx'\n",
    "EPS_12M = 'TRAIL_12M_EPS.xlsx'\n",
    "REV = 'SALES_GROWTH.xlsx'\n",
    "LC_sheet = '500_large_cap'"
   ]
  },
  {
   "cell_type": "code",
   "execution_count": 3,
   "metadata": {
    "collapsed": true
   },
   "outputs": [],
   "source": [
    "price_df = pd.read_excel(folder_dir_str+price, sheetname = LC_sheet)"
   ]
  },
  {
   "cell_type": "code",
   "execution_count": 4,
   "metadata": {
    "collapsed": true
   },
   "outputs": [],
   "source": [
    "large_cap_sectors = pd.read_excel(folder_dir_str+'INDUSTRY_SECTOR.xlsx',sheetname =LC_sheet)"
   ]
  },
  {
   "cell_type": "code",
   "execution_count": 5,
   "metadata": {
    "collapsed": false
   },
   "outputs": [
    {
     "data": {
      "text/plain": [
       "{u'Basic Materials',\n",
       " u'Communications',\n",
       " u'Consumer, Cyclical',\n",
       " u'Consumer, Non-cyclical',\n",
       " u'Diversified',\n",
       " u'Energy',\n",
       " u'Financial',\n",
       " u'Industrial',\n",
       " u'Technology',\n",
       " u'Utilities'}"
      ]
     },
     "execution_count": 5,
     "metadata": {},
     "output_type": "execute_result"
    }
   ],
   "source": [
    "set(large_cap_sectors.iloc[:,1].values)"
   ]
  },
  {
   "cell_type": "code",
   "execution_count": 6,
   "metadata": {
    "collapsed": true
   },
   "outputs": [],
   "source": [
    "def read_bl_data(directory,sheetname):\n",
    "    df = pd.read_excel(directory, sheetname = sheetname)\n",
    "    df = df.T #this is for when the timeseries index is the columns\n",
    "    df.columns = df.iloc[0,:]\n",
    "    df = df.iloc[1:,:]\n",
    "    na_list = []\n",
    "    for columns in df.columns:\n",
    "        if len(df.loc[:,columns].dropna()) ==0:\n",
    "            na_list.append(columns)\n",
    "    na_list = map(str,na_list)\n",
    "    col_bool = [False if element in na_list else True for element in list(df.columns)]\n",
    "    df = df[df.columns[col_bool]]\n",
    "    df = df.dropna() #maybe remove this line\n",
    "    return df"
   ]
  },
  {
   "cell_type": "code",
   "execution_count": 7,
   "metadata": {
    "collapsed": true
   },
   "outputs": [],
   "source": [
    "price_df = read_bl_data(folder_dir_str+price, sheetname = LC_sheet)"
   ]
  },
  {
   "cell_type": "code",
   "execution_count": 9,
   "metadata": {
    "collapsed": true
   },
   "outputs": [],
   "source": [
    "PE_df = read_bl_data(folder_dir_str+PE, sheetname = LC_sheet)"
   ]
  },
  {
   "cell_type": "code",
   "execution_count": 11,
   "metadata": {
    "collapsed": true
   },
   "outputs": [],
   "source": [
    "ROE_df = read_bl_data(folder_dir_str+ROE, sheetname = LC_sheet)"
   ]
  },
  {
   "cell_type": "code",
   "execution_count": 12,
   "metadata": {
    "collapsed": true
   },
   "outputs": [],
   "source": [
    "CFNI_df = read_bl_data(folder_dir_str+CFNI, sheetname = LC_sheet)"
   ]
  },
  {
   "cell_type": "code",
   "execution_count": 14,
   "metadata": {
    "collapsed": true
   },
   "outputs": [],
   "source": [
    "DA_df = read_bl_data(folder_dir_str+DA, sheetname = LC_sheet)"
   ]
  },
  {
   "cell_type": "code",
   "execution_count": 15,
   "metadata": {
    "collapsed": true
   },
   "outputs": [],
   "source": [
    "EPS_12M_df = read_bl_data(folder_dir_str+EPS_12M, sheetname = LC_sheet)"
   ]
  },
  {
   "cell_type": "code",
   "execution_count": 16,
   "metadata": {
    "collapsed": true
   },
   "outputs": [],
   "source": [
    "REV_df = read_bl_data(folder_dir_str+REV, sheetname = LC_sheet)"
   ]
  },
  {
   "cell_type": "code",
   "execution_count": null,
   "metadata": {
    "collapsed": true
   },
   "outputs": [],
   "source": []
  },
  {
   "cell_type": "code",
   "execution_count": null,
   "metadata": {
    "collapsed": true
   },
   "outputs": [],
   "source": []
  }
 ],
 "metadata": {
  "kernelspec": {
   "display_name": "Python 2",
   "language": "python",
   "name": "python2"
  },
  "language_info": {
   "codemirror_mode": {
    "name": "ipython",
    "version": 2
   },
   "file_extension": ".py",
   "mimetype": "text/x-python",
   "name": "python",
   "nbconvert_exporter": "python",
   "pygments_lexer": "ipython2",
   "version": "2.7.14"
  }
 },
 "nbformat": 4,
 "nbformat_minor": 2
}
