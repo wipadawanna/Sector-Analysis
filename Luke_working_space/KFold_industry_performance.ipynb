{
 "cells": [
  {
   "cell_type": "code",
   "execution_count": 1,
   "metadata": {
    "collapsed": true
   },
   "outputs": [],
   "source": [
    "import os\n",
    "import sys\n",
    "sys.path.append('../')\n",
    "from lib.env.global_var import *\n",
    "from lib.func.shelve_store import *\n",
    "sys.path.remove('../')"
   ]
  },
  {
   "cell_type": "code",
   "execution_count": 2,
   "metadata": {
    "collapsed": false
   },
   "outputs": [
    {
     "name": "stdout",
     "output_type": "stream",
     "text": [
      "CPIdefined\n",
      "GDPdefined\n",
      "DGS10defined\n",
      "HPIdefined\n",
      "PAYEMSdefined\n",
      "TEDRATEdefined\n",
      "FEDFUNDSdefined\n",
      "NETEXPdefined\n",
      "PCEdefined\n",
      "UNRATEdefined\n",
      "CSENTdefined\n",
      "OASdefined\n",
      "RECESSIONdefined\n",
      "VIXCLSdefined\n",
      "OILdefined\n",
      "YIELD_SLOPEdefined\n",
      "GOLDdefined\n",
      "C:/Users/globa/Documents/Sector-Analysis/tmp/data_set_selection.out\n",
      "Stored Successfully\n"
     ]
    }
   ],
   "source": [
    "%run -i test.py"
   ]
  },
  {
   "cell_type": "code",
   "execution_count": 3,
   "metadata": {
    "collapsed": true
   },
   "outputs": [],
   "source": [
    "from sklearn import metrics\n",
    "\n",
    "def mean_squared_log_error(y_true,y_pred):\n",
    "    diff = (y_true+1).apply(np.log).values - (y_pred+1).apply(np.log).values\n",
    "    return np.sqrt(np.mean(diff**2))\n",
    "\n",
    "def accuracy_score_function(y_true, y_pred):\n",
    "    temp = pd.concat([y_true, y_pred],1).dropna()\n",
    "    score_df = pd.DataFrame(map(lambda x: x[0]==x[1],temp.values))*1\n",
    "    score = np.mean(score_df)\n",
    "    return(score)\n",
    "\n",
    "def evaluate_metric(y_true,y_pred,function='mse'):\n",
    "    if function == 'evs':\n",
    "        metric_value = metrics.explained_variance_score(y_true, y_pred)\n",
    "    elif function == 'mae':\n",
    "        metric_value = metrics.mean_absolute_error(y_true, y_pred)\n",
    "    elif function == 'mse':\n",
    "        metric_value = metrics.mean_squared_error(y_true, y_pred)\n",
    "    elif function == 'msle':\n",
    "        metric_value = mean_squared_log_error(y_true, y_pred)\n",
    "    elif function == 'mdae':\n",
    "        metric_value = metrics.median_absolute_error(y_true, y_pred)\n",
    "    elif function == 'r2':\n",
    "        metric_value = metrics.r2_score(y_true, y_pred)\n",
    "    elif function =='acf':\n",
    "        metric_value = accuracy_score_function(y_true, y_pred)\n",
    "    return metric_value"
   ]
  },
  {
   "cell_type": "code",
   "execution_count": null,
   "metadata": {
    "collapsed": true
   },
   "outputs": [],
   "source": []
  },
  {
   "cell_type": "code",
   "execution_count": 4,
   "metadata": {
    "collapsed": true
   },
   "outputs": [],
   "source": [
    "from sklearn.model_selection import KFold"
   ]
  },
  {
   "cell_type": "code",
   "execution_count": 21,
   "metadata": {
    "collapsed": true
   },
   "outputs": [],
   "source": [
    "def data_prep(sector_dir_str,sector_sheet_int,spx_dir_str):\n",
    "    sector_ind = read_data(sector_dir_str,sector_sheet_int)\n",
    "    sector_ind_ret = sector_ind.shift()/sector_ind - 1\n",
    "    \n",
    "    spx = read_csv(spx_dir_str).resample(\"M\").last()\n",
    "    spx_ret = spx.shift()/spx -1\n",
    "\n",
    "    sector_ind_ret,spx_ret = model_data(sector_ind_ret,spx_ret)\n",
    "    defeat_benchmark = pd.DataFrame((sector_ind_ret.values-spx_ret.values),\n",
    "                                    index= sector_ind_ret.index,columns=['beat_benchmark'])*1\n",
    "    x = pd.concat(data_set_selection,1).dropna()\n",
    "    x,y = model_data(x,defeat_benchmark)\n",
    "    return(x,y)"
   ]
  },
  {
   "cell_type": "code",
   "execution_count": null,
   "metadata": {
    "collapsed": true
   },
   "outputs": [],
   "source": []
  },
  {
   "cell_type": "code",
   "execution_count": 22,
   "metadata": {
    "collapsed": true
   },
   "outputs": [],
   "source": [
    "x,y = data_prep(benchmark_str,7,spx_str)"
   ]
  },
  {
   "cell_type": "code",
   "execution_count": 7,
   "metadata": {
    "collapsed": true
   },
   "outputs": [],
   "source": [
    "# # for one sector perform cross validation\n",
    "# # 4: IYJ US Equity\n",
    "\n",
    "# sheet_int = 7\n",
    "# sector_ind = read_data(benchmark_str,sheet_int)\n",
    "# sector_ind.dropna().head()"
   ]
  },
  {
   "cell_type": "code",
   "execution_count": 8,
   "metadata": {
    "collapsed": true
   },
   "outputs": [],
   "source": [
    "# sector_ind_ret = sector_ind.shift()/sector_ind - 1\n",
    "\n",
    "# spx = read_csv(spx_str).resample(\"M\").last()\n",
    "# spx_ret = spx.shift()/spx -1\n",
    "\n",
    "# sector_ind_ret,spx_ret = model_data(sector_ind_ret,spx_ret)\n",
    "# defeat_benchmark = pd.DataFrame((sector_ind_ret.values>spx_ret.values),\n",
    "#                                 index= sector_ind_ret.index,columns=['beat_benchmark'])*1\n",
    "# spx.head()"
   ]
  },
  {
   "cell_type": "code",
   "execution_count": 9,
   "metadata": {
    "collapsed": true
   },
   "outputs": [],
   "source": [
    "# defeat_benchmark.head()"
   ]
  },
  {
   "cell_type": "code",
   "execution_count": 10,
   "metadata": {
    "collapsed": true
   },
   "outputs": [],
   "source": [
    "# x = pd.concat(data_set_selection,1).dropna()\n",
    "# x,y = model_data(x,defeat_benchmark)"
   ]
  },
  {
   "cell_type": "code",
   "execution_count": 11,
   "metadata": {
    "collapsed": true
   },
   "outputs": [],
   "source": [
    "# y.index"
   ]
  },
  {
   "cell_type": "code",
   "execution_count": 12,
   "metadata": {
    "collapsed": true
   },
   "outputs": [],
   "source": [
    "def K_Fold_evaluation(x,y,n,penalty,C,evaluation_metric='mse'):\n",
    "    kf = KFold(n_splits=n)\n",
    "    kf.get_n_splits(x)\n",
    "\n",
    "    # x : train_dict[key][0]\n",
    "    # y : train_dict[key][1]\n",
    "    train_dict ={}\n",
    "    test_dict = {}\n",
    "    ind = 1\n",
    "    for train_index, test_index in kf.split(x):\n",
    "        x_train, x_test = x.iloc[train_index,:],x.iloc[test_index,:]\n",
    "        y_train, y_test = y.iloc[train_index,:],y.iloc[test_index,:]\n",
    "\n",
    "        train_dict[ind] = [x_train,y_train]\n",
    "        test_dict[ind] = [x_test,y_test]\n",
    "        ind += 1\n",
    "        \n",
    "    metric_list =[]\n",
    "    for select_index in range(1,n+1):\n",
    "        x_train_model = train_dict[select_index][0]\n",
    "        x_test_model = test_dict[select_index][0]\n",
    "\n",
    "        y_train_model = train_dict[select_index][1]\n",
    "        y_test_model = test_dict[select_index][1]\n",
    "\n",
    "\n",
    "        logistic  = LogisticRegression(penalty=penalty, C = C)\n",
    "        logistic.fit(x_train_model,y_train_model)\n",
    "\n",
    "        y_predict = pd.DataFrame(logistic.predict(x_test_model),index = x_test_model.index)\n",
    "        metric_value = evaluate_metric(y_test_model,y_predict,evaluation_metric)\n",
    "        metric_list.append(metric_value)\n",
    "    \n",
    "    # the higher the better\n",
    "    overall_metric = np.mean(metric_list)\n",
    "#     np.prod(map(lambda x: x,metric_list))\n",
    "    out_df = pd.DataFrame([penalty,1/C,overall_metric],index = ['penalty','lambda','overall_metric']).T\n",
    "    return(out_df)"
   ]
  },
  {
   "cell_type": "code",
   "execution_count": 13,
   "metadata": {
    "collapsed": false
   },
   "outputs": [
    {
     "name": "stderr",
     "output_type": "stream",
     "text": [
      "C:\\Users\\globa\\Anaconda3\\envs\\py27\\lib\\site-packages\\sklearn\\utils\\validation.py:547: DataConversionWarning: A column-vector y was passed when a 1d array was expected. Please change the shape of y to (n_samples, ), for example using ravel().\n",
      "  y = column_or_1d(y, warn=True)\n"
     ]
    },
    {
     "data": {
      "text/html": [
       "<div>\n",
       "<style>\n",
       "    .dataframe thead tr:only-child th {\n",
       "        text-align: right;\n",
       "    }\n",
       "\n",
       "    .dataframe thead th {\n",
       "        text-align: left;\n",
       "    }\n",
       "\n",
       "    .dataframe tbody tr th {\n",
       "        vertical-align: top;\n",
       "    }\n",
       "</style>\n",
       "<table border=\"1\" class=\"dataframe\">\n",
       "  <thead>\n",
       "    <tr style=\"text-align: right;\">\n",
       "      <th>penalty</th>\n",
       "      <th>l1</th>\n",
       "      <th>l2</th>\n",
       "    </tr>\n",
       "    <tr>\n",
       "      <th>lambda</th>\n",
       "      <th></th>\n",
       "      <th></th>\n",
       "    </tr>\n",
       "  </thead>\n",
       "  <tbody>\n",
       "    <tr>\n",
       "      <th>100000.000</th>\n",
       "      <td>0.507463</td>\n",
       "      <td>0.48221</td>\n",
       "    </tr>\n",
       "    <tr>\n",
       "      <th>10000.000</th>\n",
       "      <td>0.507463</td>\n",
       "      <td>0.507237</td>\n",
       "    </tr>\n",
       "    <tr>\n",
       "      <th>1000.000</th>\n",
       "      <td>0.462234</td>\n",
       "      <td>0.49216</td>\n",
       "    </tr>\n",
       "    <tr>\n",
       "      <th>100.000</th>\n",
       "      <td>0.472109</td>\n",
       "      <td>0.512438</td>\n",
       "    </tr>\n",
       "    <tr>\n",
       "      <th>10.000</th>\n",
       "      <td>0.517413</td>\n",
       "      <td>0.517639</td>\n",
       "    </tr>\n",
       "    <tr>\n",
       "      <th>1.000</th>\n",
       "      <td>0.512664</td>\n",
       "      <td>0.482361</td>\n",
       "    </tr>\n",
       "    <tr>\n",
       "      <th>0.100</th>\n",
       "      <td>0.497286</td>\n",
       "      <td>0.472185</td>\n",
       "    </tr>\n",
       "    <tr>\n",
       "      <th>0.010</th>\n",
       "      <td>0.512513</td>\n",
       "      <td>0.467209</td>\n",
       "    </tr>\n",
       "    <tr>\n",
       "      <th>0.001</th>\n",
       "      <td>0.522614</td>\n",
       "      <td>0.487261</td>\n",
       "    </tr>\n",
       "  </tbody>\n",
       "</table>\n",
       "</div>"
      ],
      "text/plain": [
       "penalty           l1        l2\n",
       "lambda                        \n",
       "100000.000  0.507463   0.48221\n",
       "10000.000   0.507463  0.507237\n",
       "1000.000    0.462234   0.49216\n",
       "100.000     0.472109  0.512438\n",
       "10.000      0.517413  0.517639\n",
       "1.000       0.512664  0.482361\n",
       "0.100       0.497286  0.472185\n",
       "0.010       0.512513  0.467209\n",
       "0.001       0.522614  0.487261"
      ]
     },
     "execution_count": 13,
     "metadata": {},
     "output_type": "execute_result"
    }
   ],
   "source": [
    "n=3\n",
    "\n",
    "index = 1\n",
    "penalty_list = ['l1','l2']\n",
    "C_list = [1e-5,1e-4,1e-3,1e-2,1e-1,1,10.0,100.0,1000.0]\n",
    "overall_df = pd.DataFrame(index = map(lambda x:1/x,C_list),columns=penalty_list)\n",
    "overall_df.index.name = 'lambda'\n",
    "overall_df.columns.name = 'penalty'\n",
    "for penalty in penalty_list:\n",
    "    for C in C_list:\n",
    "        result_df = K_Fold_evaluation(x,y,n,penalty,C,evaluation_metric='acf')\n",
    "        result_df.index = [index]\n",
    "        index += 1\n",
    "        overall_df.loc[1/C,penalty]=result_df.loc[:,'overall_metric'].values[0]\n",
    "overall_df"
   ]
  },
  {
   "cell_type": "code",
   "execution_count": null,
   "metadata": {
    "collapsed": true
   },
   "outputs": [],
   "source": []
  },
  {
   "cell_type": "code",
   "execution_count": null,
   "metadata": {
    "collapsed": true
   },
   "outputs": [],
   "source": []
  },
  {
   "cell_type": "code",
   "execution_count": null,
   "metadata": {
    "collapsed": false
   },
   "outputs": [],
   "source": []
  },
  {
   "cell_type": "code",
   "execution_count": 14,
   "metadata": {
    "collapsed": true
   },
   "outputs": [],
   "source": [
    "n = 3\n",
    "\n",
    "kf = KFold(n_splits=n)\n",
    "kf.get_n_splits(x)\n",
    "\n",
    "# x : train_dict[key][0]\n",
    "# y : train_dict[key][1]\n",
    "train_dict ={}\n",
    "test_dict = {}\n",
    "ind = 1\n",
    "for train_index, test_index in kf.split(x):\n",
    "    x_train, x_test = x.iloc[train_index,:],x.iloc[test_index,:]\n",
    "    y_train, y_test = y.iloc[train_index,:],y.iloc[test_index,:]\n",
    "    \n",
    "    train_dict[ind] = [x_train,y_train]\n",
    "    test_dict[ind] = [x_test,y_test]\n",
    "    ind += 1"
   ]
  },
  {
   "cell_type": "code",
   "execution_count": 15,
   "metadata": {
    "collapsed": true
   },
   "outputs": [],
   "source": [
    "penalty = 'l2'\n",
    "C = 1e-4\n",
    "\n",
    "metric_list =[]\n",
    "for select_index in range(1,n+1):\n",
    "    x_train_model = train_dict[select_index][0]\n",
    "    x_test_model = test_dict[select_index][0]\n",
    "\n",
    "    y_train_model = train_dict[select_index][1]\n",
    "    y_test_model = test_dict[select_index][1]\n",
    "\n",
    "\n",
    "    logistic  = LogisticRegression(penalty=penalty, C = C)\n",
    "    logistic.fit(x_train_model,y_train_model)\n",
    "\n",
    "    y_predict = pd.DataFrame(logistic.predict(x_test_model),index = x_test_model.index)\n",
    "    metric_value = evaluate_metric(y_test_model,y_predict,'msle')\n",
    "    metric_list.append(metric_value)\n",
    "\n",
    "overall_metric = np.prod(map(lambda x: 1/x,metric_list))"
   ]
  },
  {
   "cell_type": "code",
   "execution_count": null,
   "metadata": {
    "collapsed": false
   },
   "outputs": [],
   "source": []
  },
  {
   "cell_type": "code",
   "execution_count": null,
   "metadata": {
    "collapsed": true
   },
   "outputs": [],
   "source": []
  },
  {
   "cell_type": "code",
   "execution_count": null,
   "metadata": {
    "collapsed": false
   },
   "outputs": [],
   "source": []
  },
  {
   "cell_type": "code",
   "execution_count": 16,
   "metadata": {
    "collapsed": true
   },
   "outputs": [],
   "source": [
    "result_dict={}\n",
    "model_dict={}"
   ]
  },
  {
   "cell_type": "code",
   "execution_count": 17,
   "metadata": {
    "collapsed": false,
    "scrolled": true
   },
   "outputs": [
    {
     "name": "stdout",
     "output_type": "stream",
     "text": [
      "Sector selected: \n",
      "IYZ US Equity\n",
      "Coeff\n",
      "   CPALTT01USQ657N       GDP  CSUSHPINSA    DGS10   TEDRATE  FEDFUNDS  \\\n",
      "0         0.000693  0.000231    0.001862  0.00394  0.000291  0.002982   \n",
      "\n",
      "        PCE    UNRATE  RECPROUSM156N    VIXCLS  XOI Index  YIELD_SLOPE  \\\n",
      "0 -0.002161 -0.008289      -0.000563  0.005415   0.004006     0.000043   \n",
      "\n",
      "   XAU Curncy  \n",
      "0    0.000584  \n",
      "prediction rate: 40.0%\n",
      "\n",
      "\n",
      "\n",
      "Sector selected: \n",
      "IYH US Equity\n",
      "Coeff\n",
      "   CPALTT01USQ657N       GDP  CSUSHPINSA     DGS10   TEDRATE  FEDFUNDS  \\\n",
      "0         0.002278 -0.000281    0.003076 -0.005128 -0.000137  0.002302   \n",
      "\n",
      "        PCE    UNRATE  RECPROUSM156N    VIXCLS  XOI Index  YIELD_SLOPE  \\\n",
      "0 -0.002445 -0.004049       0.002048  0.004395  -0.008326    -0.000741   \n",
      "\n",
      "   XAU Curncy  \n",
      "0    -0.00116  \n",
      "prediction rate: 38.0%\n",
      "\n",
      "\n",
      "\n",
      "Sector selected: \n",
      "IYK US Equity\n",
      "Coeff\n",
      "   CPALTT01USQ657N       GDP  CSUSHPINSA     DGS10   TEDRATE  FEDFUNDS  \\\n",
      "0         0.001741 -0.000378    0.003465 -0.004904 -0.000687 -0.002811   \n",
      "\n",
      "        PCE    UNRATE  RECPROUSM156N    VIXCLS  XOI Index  YIELD_SLOPE  \\\n",
      "0 -0.002476 -0.008268       0.000992  0.003654   0.003244    -0.001457   \n",
      "\n",
      "   XAU Curncy  \n",
      "0   -0.000381  \n",
      "prediction rate: 50.0%\n",
      "\n",
      "\n",
      "\n",
      "Sector selected: \n",
      "IYE US Equity\n",
      "Coeff\n",
      "   CPALTT01USQ657N       GDP  CSUSHPINSA     DGS10  TEDRATE  FEDFUNDS  \\\n",
      "0         0.001476  0.000286    0.003429  0.005447  0.00057  0.002944   \n",
      "\n",
      "        PCE    UNRATE  RECPROUSM156N    VIXCLS  XOI Index  YIELD_SLOPE  \\\n",
      "0  0.002159  0.004461       0.002824  0.004411    0.00317     0.000413   \n",
      "\n",
      "   XAU Curncy  \n",
      "0    0.000814  \n",
      "prediction rate: 42.0%\n",
      "\n",
      "\n",
      "\n",
      "Sector selected: \n",
      "IYJ US Equity\n",
      "Coeff\n",
      "   CPALTT01USQ657N       GDP  CSUSHPINSA    DGS10   TEDRATE  FEDFUNDS  \\\n",
      "0        -0.001719 -0.000385   -0.003253  0.00373 -0.001844  0.003246   \n",
      "\n",
      "        PCE    UNRATE  RECPROUSM156N    VIXCLS  XOI Index  YIELD_SLOPE  \\\n",
      "0 -0.002365 -0.000919       0.001708  0.004887   0.006407     0.000123   \n",
      "\n",
      "   XAU Curncy  \n",
      "0    0.000235  \n",
      "prediction rate: 44.0%\n",
      "\n",
      "\n",
      "\n",
      "Sector selected: \n",
      "IYM US Equity\n",
      "Coeff\n",
      "   CPALTT01USQ657N       GDP  CSUSHPINSA     DGS10   TEDRATE  FEDFUNDS  \\\n",
      "0        -0.002074  0.000231   -0.002479 -0.005124 -0.001019  0.003419   \n",
      "\n",
      "       PCE    UNRATE  RECPROUSM156N    VIXCLS  XOI Index  YIELD_SLOPE  \\\n",
      "0 -0.00241  0.008311       0.001939 -0.004175   0.002241      0.00063   \n",
      "\n",
      "   XAU Curncy  \n",
      "0     0.00024  \n",
      "prediction rate: 52.0%\n",
      "\n",
      "\n",
      "\n",
      "Sector selected: \n",
      "IDU US Equity\n",
      "Coeff\n",
      "   CPALTT01USQ657N       GDP  CSUSHPINSA     DGS10   TEDRATE  FEDFUNDS  \\\n",
      "0         0.001899  0.000452      0.0022  0.004555  0.000233  0.002811   \n",
      "\n",
      "        PCE    UNRATE  RECPROUSM156N    VIXCLS  XOI Index  YIELD_SLOPE  \\\n",
      "0  0.002134  0.001537        0.00281  0.004228   0.003665      0.00006   \n",
      "\n",
      "   XAU Curncy  \n",
      "0    0.001287  \n",
      "prediction rate: 54.0%\n",
      "\n",
      "\n",
      "\n",
      "Sector selected: \n",
      "IYW US Equity\n",
      "Coeff\n",
      "   CPALTT01USQ657N       GDP  CSUSHPINSA     DGS10   TEDRATE  FEDFUNDS  \\\n",
      "0        -0.000766  0.000109   -0.002848  0.004933 -0.001096   0.00341   \n",
      "\n",
      "        PCE    UNRATE  RECPROUSM156N    VIXCLS  XOI Index  YIELD_SLOPE  \\\n",
      "0 -0.002348 -0.004381      -0.001165 -0.003691   0.001326     0.001132   \n",
      "\n",
      "   XAU Curncy  \n",
      "0    0.000267  \n",
      "prediction rate: 60.0%\n",
      "\n",
      "\n",
      "\n",
      "Sector selected: \n",
      "IYF US Equity\n",
      "Coeff\n",
      "   CPALTT01USQ657N       GDP  CSUSHPINSA     DGS10   TEDRATE  FEDFUNDS  \\\n",
      "0         0.000539 -0.000138   -0.002103  0.003384  0.000759 -0.002894   \n",
      "\n",
      "        PCE    UNRATE  RECPROUSM156N    VIXCLS  XOI Index  YIELD_SLOPE  \\\n",
      "0  0.002452  0.001599       0.000664  0.004127  -0.001329     0.000136   \n",
      "\n",
      "   XAU Curncy  \n",
      "0   -0.000145  \n",
      "prediction rate: 50.0%\n",
      "\n",
      "\n",
      "\n"
     ]
    }
   ],
   "source": [
    "# Edit: input sector_ind excel sheet instead\n",
    "# Put data_set_selection into input variable\n",
    "for sheet_int in np.arange(1,10):\n",
    "    sector_ind = read_data(benchmark_str,sheet_int)\n",
    "    name,score,model = logistic_reg_sector_index(data_set_selection, sector_ind ,\n",
    "                        base_benchmark=spx_ret, print_plot = False, penalty = 'l2', C = 1e-4)\n",
    "    result_dict[name] = score\n",
    "    model_dict[name] = model"
   ]
  },
  {
   "cell_type": "code",
   "execution_count": 18,
   "metadata": {
    "collapsed": false
   },
   "outputs": [
    {
     "data": {
      "text/plain": [
       "[('IYH US Equity', 0.38),\n",
       " ('IYZ US Equity', 0.40000000000000002),\n",
       " ('IYK US Equity', 0.5),\n",
       " ('IDU US Equity', 0.54000000000000004),\n",
       " ('IYF US Equity', 0.5),\n",
       " ('IYW US Equity', 0.59999999999999998),\n",
       " ('IYJ US Equity', 0.44),\n",
       " ('IYM US Equity', 0.52000000000000002),\n",
       " ('IYE US Equity', 0.41999999999999998)]"
      ]
     },
     "execution_count": 18,
     "metadata": {},
     "output_type": "execute_result"
    }
   ],
   "source": [
    "result_dict.items()"
   ]
  },
  {
   "cell_type": "code",
   "execution_count": 19,
   "metadata": {
    "collapsed": false
   },
   "outputs": [
    {
     "data": {
      "text/plain": [
       "Index([u'CPALTT01USQ657N',             u'GDP',      u'CSUSHPINSA',\n",
       "                 u'DGS10',         u'TEDRATE',        u'FEDFUNDS',\n",
       "                   u'PCE',          u'UNRATE',   u'RECPROUSM156N',\n",
       "                u'VIXCLS',       u'XOI Index',     u'YIELD_SLOPE',\n",
       "            u'XAU Curncy'],\n",
       "      dtype='object')"
      ]
     },
     "execution_count": 19,
     "metadata": {},
     "output_type": "execute_result"
    }
   ],
   "source": [
    "pd.concat(data_set_selection, 1).columns"
   ]
  },
  {
   "cell_type": "code",
   "execution_count": 20,
   "metadata": {
    "collapsed": false
   },
   "outputs": [
    {
     "name": "stdout",
     "output_type": "stream",
     "text": [
      "IYH US Equity\n",
      "   CPALTT01USQ657N       GDP  CSUSHPINSA     DGS10   TEDRATE  FEDFUNDS  \\\n",
      "0         0.002278 -0.000281    0.003076 -0.005128 -0.000137  0.002302   \n",
      "\n",
      "        PCE    UNRATE  RECPROUSM156N    VIXCLS  XOI Index  YIELD_SLOPE  \\\n",
      "0 -0.002445 -0.004049       0.002048  0.004395  -0.008326    -0.000741   \n",
      "\n",
      "   XAU Curncy  \n",
      "0    -0.00116  \n",
      "IYZ US Equity\n",
      "   CPALTT01USQ657N       GDP  CSUSHPINSA    DGS10   TEDRATE  FEDFUNDS  \\\n",
      "0         0.000693  0.000231    0.001862  0.00394  0.000291  0.002982   \n",
      "\n",
      "        PCE    UNRATE  RECPROUSM156N    VIXCLS  XOI Index  YIELD_SLOPE  \\\n",
      "0 -0.002161 -0.008289      -0.000563  0.005415   0.004006     0.000043   \n",
      "\n",
      "   XAU Curncy  \n",
      "0    0.000584  \n",
      "IYK US Equity\n",
      "   CPALTT01USQ657N       GDP  CSUSHPINSA     DGS10   TEDRATE  FEDFUNDS  \\\n",
      "0         0.001741 -0.000378    0.003465 -0.004904 -0.000687 -0.002811   \n",
      "\n",
      "        PCE    UNRATE  RECPROUSM156N    VIXCLS  XOI Index  YIELD_SLOPE  \\\n",
      "0 -0.002476 -0.008268       0.000992  0.003654   0.003244    -0.001457   \n",
      "\n",
      "   XAU Curncy  \n",
      "0   -0.000381  \n",
      "IDU US Equity\n",
      "   CPALTT01USQ657N       GDP  CSUSHPINSA     DGS10   TEDRATE  FEDFUNDS  \\\n",
      "0         0.001899  0.000452      0.0022  0.004555  0.000233  0.002811   \n",
      "\n",
      "        PCE    UNRATE  RECPROUSM156N    VIXCLS  XOI Index  YIELD_SLOPE  \\\n",
      "0  0.002134  0.001537        0.00281  0.004228   0.003665      0.00006   \n",
      "\n",
      "   XAU Curncy  \n",
      "0    0.001287  \n",
      "IYF US Equity\n",
      "   CPALTT01USQ657N       GDP  CSUSHPINSA     DGS10   TEDRATE  FEDFUNDS  \\\n",
      "0         0.000539 -0.000138   -0.002103  0.003384  0.000759 -0.002894   \n",
      "\n",
      "        PCE    UNRATE  RECPROUSM156N    VIXCLS  XOI Index  YIELD_SLOPE  \\\n",
      "0  0.002452  0.001599       0.000664  0.004127  -0.001329     0.000136   \n",
      "\n",
      "   XAU Curncy  \n",
      "0   -0.000145  \n",
      "IYW US Equity\n",
      "   CPALTT01USQ657N       GDP  CSUSHPINSA     DGS10   TEDRATE  FEDFUNDS  \\\n",
      "0        -0.000766  0.000109   -0.002848  0.004933 -0.001096   0.00341   \n",
      "\n",
      "        PCE    UNRATE  RECPROUSM156N    VIXCLS  XOI Index  YIELD_SLOPE  \\\n",
      "0 -0.002348 -0.004381      -0.001165 -0.003691   0.001326     0.001132   \n",
      "\n",
      "   XAU Curncy  \n",
      "0    0.000267  \n",
      "IYJ US Equity\n",
      "   CPALTT01USQ657N       GDP  CSUSHPINSA    DGS10   TEDRATE  FEDFUNDS  \\\n",
      "0        -0.001719 -0.000385   -0.003253  0.00373 -0.001844  0.003246   \n",
      "\n",
      "        PCE    UNRATE  RECPROUSM156N    VIXCLS  XOI Index  YIELD_SLOPE  \\\n",
      "0 -0.002365 -0.000919       0.001708  0.004887   0.006407     0.000123   \n",
      "\n",
      "   XAU Curncy  \n",
      "0    0.000235  \n",
      "IYM US Equity\n",
      "   CPALTT01USQ657N       GDP  CSUSHPINSA     DGS10   TEDRATE  FEDFUNDS  \\\n",
      "0        -0.002074  0.000231   -0.002479 -0.005124 -0.001019  0.003419   \n",
      "\n",
      "       PCE    UNRATE  RECPROUSM156N    VIXCLS  XOI Index  YIELD_SLOPE  \\\n",
      "0 -0.00241  0.008311       0.001939 -0.004175   0.002241      0.00063   \n",
      "\n",
      "   XAU Curncy  \n",
      "0     0.00024  \n",
      "IYE US Equity\n",
      "   CPALTT01USQ657N       GDP  CSUSHPINSA     DGS10  TEDRATE  FEDFUNDS  \\\n",
      "0         0.001476  0.000286    0.003429  0.005447  0.00057  0.002944   \n",
      "\n",
      "        PCE    UNRATE  RECPROUSM156N    VIXCLS  XOI Index  YIELD_SLOPE  \\\n",
      "0  0.002159  0.004461       0.002824  0.004411    0.00317     0.000413   \n",
      "\n",
      "   XAU Curncy  \n",
      "0    0.000814  \n"
     ]
    }
   ],
   "source": [
    "col_name = pd.concat(data_set_selection, 1).columns\n",
    "for key in model_dict.keys():\n",
    "    print key\n",
    "    model = model_dict[key]\n",
    "    coef_df = pd.DataFrame(model.coef_, columns = col_name)\n",
    "    print coef_df"
   ]
  },
  {
   "cell_type": "code",
   "execution_count": null,
   "metadata": {
    "collapsed": true
   },
   "outputs": [],
   "source": []
  }
 ],
 "metadata": {
  "kernelspec": {
   "display_name": "Python 2",
   "language": "python",
   "name": "python2"
  },
  "language_info": {
   "codemirror_mode": {
    "name": "ipython",
    "version": 2
   },
   "file_extension": ".py",
   "mimetype": "text/x-python",
   "name": "python",
   "nbconvert_exporter": "python",
   "pygments_lexer": "ipython2",
   "version": "2.7.14"
  }
 },
 "nbformat": 4,
 "nbformat_minor": 2
}
