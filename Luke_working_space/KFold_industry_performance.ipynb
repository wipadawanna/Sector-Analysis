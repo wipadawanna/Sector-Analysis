{
 "cells": [
  {
   "cell_type": "code",
   "execution_count": 1,
   "metadata": {},
   "outputs": [],
   "source": [
    "import os\n",
    "import sys\n",
    "sys.path.append('../')\n",
    "from lib.env.global_var import *\n",
    "from lib.func.shelve_store import *\n",
    "sys.path.remove('../')"
   ]
  },
  {
   "cell_type": "code",
   "execution_count": 2,
   "metadata": {},
   "outputs": [
    {
     "name": "stdout",
     "output_type": "stream",
     "text": [
      "CPIdefined\n",
      "GDPdefined\n",
      "DGS10defined\n",
      "HPIdefined\n",
      "PAYEMSdefined\n",
      "TEDRATEdefined\n",
      "FEDFUNDSdefined\n",
      "NETEXPdefined\n",
      "PCEdefined\n",
      "UNRATEdefined\n",
      "CSENTdefined\n",
      "OASdefined\n",
      "RECESSIONdefined\n",
      "VIXCLSdefined\n"
     ]
    }
   ],
   "source": [
    "%run -i test.py"
   ]
  },
  {
   "cell_type": "code",
   "execution_count": 3,
   "metadata": {},
   "outputs": [],
   "source": [
    "from sklearn import metrics\n",
    "\n",
    "def mean_squared_log_error(y_true,y_pred):\n",
    "    diff = (y_true+1).apply(np.log).values - (y_pred+1).apply(np.log).values\n",
    "    return np.sqrt(np.mean(diff**2))\n",
    "\n",
    "def accuracy_score_function(y_true, y_pred):\n",
    "    temp = pd.concat([y_true, y_pred],1).dropna()\n",
    "    score_df = pd.DataFrame(map(lambda x: x[0]==x[1],temp.values))*1\n",
    "    score = np.mean(score_df)\n",
    "    return(score)\n",
    "\n",
    "def evaluate_metric(y_true,y_pred,function='mse'):\n",
    "    if function == 'evs':\n",
    "        metric_value = metrics.explained_variance_score(y_true, y_pred)\n",
    "    elif function == 'mae':\n",
    "        metric_value = metrics.mean_absolute_error(y_true, y_pred)\n",
    "    elif function == 'mse':\n",
    "        metric_value = metrics.mean_squared_error(y_true, y_pred)\n",
    "    elif function == 'msle':\n",
    "        metric_value = mean_squared_log_error(y_true, y_pred)\n",
    "    elif function == 'mdae':\n",
    "        metric_value = metrics.median_absolute_error(y_true, y_pred)\n",
    "    elif function == 'r2':\n",
    "        metric_value = metrics.r2_score(y_true, y_pred)\n",
    "    elif function =='acf':\n",
    "        metric_value = accuracy_score_function(y_true, y_pred)\n",
    "    return metric_value"
   ]
  },
  {
   "cell_type": "code",
   "execution_count": null,
   "metadata": {
    "collapsed": true
   },
   "outputs": [],
   "source": []
  },
  {
   "cell_type": "code",
   "execution_count": 4,
   "metadata": {
    "collapsed": true
   },
   "outputs": [],
   "source": [
    "from sklearn.model_selection import KFold"
   ]
  },
  {
   "cell_type": "code",
   "execution_count": 5,
   "metadata": {
    "collapsed": true
   },
   "outputs": [],
   "source": [
    "def data_prep(sector_dir_str,sector_sheet_int,spx_dir_str):\n",
    "    sector_ind = read_data(sector_dir_str,sector_sheet_int)\n",
    "    sector_ind_ret = sector_ind.shift()/sector_ind - 1\n",
    "    \n",
    "    spx = read_csv(spx_dir_str).resample(\"M\").last()\n",
    "    spx_ret = spx.shift()/spx -1\n",
    "\n",
    "    sector_ind_ret,spx_ret = model_data(sector_ind_ret,spx_ret)\n",
    "    defeat_benchmark = pd.DataFrame((sector_ind_ret.values>spx_ret.values),\n",
    "                                    index= sector_ind_ret.index,columns=['beat_benchmark'])*1\n",
    "    x = pd.concat(data_set_selection,1).dropna()\n",
    "    x,y = model_data(x,defeat_benchmark)\n",
    "    return(x,y)"
   ]
  },
  {
   "cell_type": "code",
   "execution_count": 6,
   "metadata": {},
   "outputs": [],
   "source": [
    "x,y = data_prep(benchmark_str,7,spx_str)"
   ]
  },
  {
   "cell_type": "code",
   "execution_count": null,
   "metadata": {
    "collapsed": true
   },
   "outputs": [],
   "source": []
  },
  {
   "cell_type": "code",
   "execution_count": 7,
   "metadata": {},
   "outputs": [],
   "source": [
    "# # for one sector perform cross validation\n",
    "# # 4: IYJ US Equity\n",
    "\n",
    "# sheet_int = 7\n",
    "# sector_ind = read_data(benchmark_str,sheet_int)\n",
    "# sector_ind.dropna().head()"
   ]
  },
  {
   "cell_type": "code",
   "execution_count": 8,
   "metadata": {},
   "outputs": [],
   "source": [
    "# sector_ind_ret = sector_ind.shift()/sector_ind - 1\n",
    "\n",
    "# spx = read_csv(spx_str).resample(\"M\").last()\n",
    "# spx_ret = spx.shift()/spx -1\n",
    "\n",
    "# sector_ind_ret,spx_ret = model_data(sector_ind_ret,spx_ret)\n",
    "# defeat_benchmark = pd.DataFrame((sector_ind_ret.values>spx_ret.values),\n",
    "#                                 index= sector_ind_ret.index,columns=['beat_benchmark'])*1\n",
    "# spx.head()"
   ]
  },
  {
   "cell_type": "code",
   "execution_count": 9,
   "metadata": {},
   "outputs": [],
   "source": [
    "# defeat_benchmark.head()"
   ]
  },
  {
   "cell_type": "code",
   "execution_count": 10,
   "metadata": {},
   "outputs": [],
   "source": [
    "# x = pd.concat(data_set_selection,1).dropna()\n",
    "# x,y = model_data(x,defeat_benchmark)"
   ]
  },
  {
   "cell_type": "code",
   "execution_count": 11,
   "metadata": {},
   "outputs": [],
   "source": [
    "# y.index"
   ]
  },
  {
   "cell_type": "code",
   "execution_count": 12,
   "metadata": {
    "collapsed": true
   },
   "outputs": [],
   "source": [
    "def K_Fold_evaluation(x,y,n,penalty,C,evaluation_metric='mse'):\n",
    "    kf = KFold(n_splits=n)\n",
    "    kf.get_n_splits(x)\n",
    "\n",
    "    # x : train_dict[key][0]\n",
    "    # y : train_dict[key][1]\n",
    "    train_dict ={}\n",
    "    test_dict = {}\n",
    "    ind = 1\n",
    "    for train_index, test_index in kf.split(x):\n",
    "        x_train, x_test = x.iloc[train_index,:],x.iloc[test_index,:]\n",
    "        y_train, y_test = y.iloc[train_index,:],y.iloc[test_index,:]\n",
    "\n",
    "        train_dict[ind] = [x_train,y_train]\n",
    "        test_dict[ind] = [x_test,y_test]\n",
    "        ind += 1\n",
    "        \n",
    "    metric_list =[]\n",
    "    for select_index in range(1,n+1):\n",
    "        x_train_model = train_dict[select_index][0]\n",
    "        x_test_model = test_dict[select_index][0]\n",
    "\n",
    "        y_train_model = train_dict[select_index][1]\n",
    "        y_test_model = test_dict[select_index][1]\n",
    "\n",
    "\n",
    "        logistic  = LogisticRegression(penalty=penalty, C = C)\n",
    "        logistic.fit(x_train_model,y_train_model)\n",
    "\n",
    "        y_predict = pd.DataFrame(logistic.predict(x_test_model),index = x_test_model.index)\n",
    "        metric_value = evaluate_metric(y_test_model,y_predict,evaluation_metric)\n",
    "        metric_list.append(metric_value)\n",
    "    \n",
    "    # the higher the better\n",
    "    overall_metric = np.mean(metric_list)\n",
    "#     np.prod(map(lambda x: x,metric_list))\n",
    "    out_df = pd.DataFrame([penalty,1/C,overall_metric],index = ['penalty','lambda','overall_metric']).T\n",
    "    return(out_df)"
   ]
  },
  {
   "cell_type": "code",
   "execution_count": 13,
   "metadata": {},
   "outputs": [
    {
     "name": "stderr",
     "output_type": "stream",
     "text": [
      "/home/luke/anaconda2/lib/python2.7/site-packages/sklearn/utils/validation.py:526: DataConversionWarning: A column-vector y was passed when a 1d array was expected. Please change the shape of y to (n_samples, ), for example using ravel().\n",
      "  y = column_or_1d(y, warn=True)\n"
     ]
    },
    {
     "data": {
      "text/html": [
       "<div>\n",
       "<style>\n",
       "    .dataframe thead tr:only-child th {\n",
       "        text-align: right;\n",
       "    }\n",
       "\n",
       "    .dataframe thead th {\n",
       "        text-align: left;\n",
       "    }\n",
       "\n",
       "    .dataframe tbody tr th {\n",
       "        vertical-align: top;\n",
       "    }\n",
       "</style>\n",
       "<table border=\"1\" class=\"dataframe\">\n",
       "  <thead>\n",
       "    <tr style=\"text-align: right;\">\n",
       "      <th>penalty</th>\n",
       "      <th>l1</th>\n",
       "      <th>l2</th>\n",
       "    </tr>\n",
       "    <tr>\n",
       "      <th>lambda</th>\n",
       "      <th></th>\n",
       "      <th></th>\n",
       "    </tr>\n",
       "  </thead>\n",
       "  <tbody>\n",
       "    <tr>\n",
       "      <th>100000.000</th>\n",
       "      <td>0.515152</td>\n",
       "      <td>0.5</td>\n",
       "    </tr>\n",
       "    <tr>\n",
       "      <th>10000.000</th>\n",
       "      <td>0.515152</td>\n",
       "      <td>0.545455</td>\n",
       "    </tr>\n",
       "    <tr>\n",
       "      <th>1000.000</th>\n",
       "      <td>0.515152</td>\n",
       "      <td>0.530303</td>\n",
       "    </tr>\n",
       "    <tr>\n",
       "      <th>100.000</th>\n",
       "      <td>0.515152</td>\n",
       "      <td>0.5</td>\n",
       "    </tr>\n",
       "    <tr>\n",
       "      <th>10.000</th>\n",
       "      <td>0.530303</td>\n",
       "      <td>0.530303</td>\n",
       "    </tr>\n",
       "    <tr>\n",
       "      <th>1.000</th>\n",
       "      <td>0.409091</td>\n",
       "      <td>0.5</td>\n",
       "    </tr>\n",
       "    <tr>\n",
       "      <th>0.100</th>\n",
       "      <td>0.469697</td>\n",
       "      <td>0.515152</td>\n",
       "    </tr>\n",
       "    <tr>\n",
       "      <th>0.010</th>\n",
       "      <td>0.469697</td>\n",
       "      <td>0.5</td>\n",
       "    </tr>\n",
       "    <tr>\n",
       "      <th>0.001</th>\n",
       "      <td>0.469697</td>\n",
       "      <td>0.5</td>\n",
       "    </tr>\n",
       "  </tbody>\n",
       "</table>\n",
       "</div>"
      ],
      "text/plain": [
       "penalty           l1        l2\n",
       "lambda                        \n",
       "100000.000  0.515152       0.5\n",
       "10000.000   0.515152  0.545455\n",
       "1000.000    0.515152  0.530303\n",
       "100.000     0.515152       0.5\n",
       "10.000      0.530303  0.530303\n",
       "1.000       0.409091       0.5\n",
       "0.100       0.469697  0.515152\n",
       "0.010       0.469697       0.5\n",
       "0.001       0.469697       0.5"
      ]
     },
     "execution_count": 13,
     "metadata": {},
     "output_type": "execute_result"
    }
   ],
   "source": [
    "n=3\n",
    "\n",
    "index = 1\n",
    "penalty_list = ['l1','l2']\n",
    "C_list = [1e-5,1e-4,1e-3,1e-2,1e-1,1,10.0,100.0,1000.0]\n",
    "overall_df = pd.DataFrame(index = map(lambda x:1/x,C_list),columns=penalty_list)\n",
    "overall_df.index.name = 'lambda'\n",
    "overall_df.columns.name = 'penalty'\n",
    "for penalty in penalty_list:\n",
    "    for C in C_list:\n",
    "        result_df = K_Fold_evaluation(x,y,n,penalty,C,evaluation_metric='acf')\n",
    "        result_df.index = [index]\n",
    "        index += 1\n",
    "        overall_df.loc[1/C,penalty]=result_df.loc[:,'overall_metric'].values[0]\n",
    "overall_df"
   ]
  },
  {
   "cell_type": "code",
   "execution_count": null,
   "metadata": {
    "collapsed": true
   },
   "outputs": [],
   "source": []
  },
  {
   "cell_type": "code",
   "execution_count": null,
   "metadata": {
    "collapsed": true
   },
   "outputs": [],
   "source": []
  },
  {
   "cell_type": "code",
   "execution_count": 27,
   "metadata": {},
   "outputs": [
    {
     "data": {
      "text/plain": [
       "[1000.0, 100.0, 10.0]"
      ]
     },
     "execution_count": 27,
     "metadata": {},
     "output_type": "execute_result"
    }
   ],
   "source": []
  },
  {
   "cell_type": "code",
   "execution_count": 9,
   "metadata": {},
   "outputs": [],
   "source": [
    "n = 3\n",
    "\n",
    "kf = KFold(n_splits=n)\n",
    "kf.get_n_splits(x)\n",
    "\n",
    "# x : train_dict[key][0]\n",
    "# y : train_dict[key][1]\n",
    "train_dict ={}\n",
    "test_dict = {}\n",
    "ind = 1\n",
    "for train_index, test_index in kf.split(x):\n",
    "    x_train, x_test = x.iloc[train_index,:],x.iloc[test_index,:]\n",
    "    y_train, y_test = y.iloc[train_index,:],y.iloc[test_index,:]\n",
    "    \n",
    "    train_dict[ind] = [x_train,y_train]\n",
    "    test_dict[ind] = [x_test,y_test]\n",
    "    ind += 1"
   ]
  },
  {
   "cell_type": "code",
   "execution_count": 15,
   "metadata": {},
   "outputs": [],
   "source": [
    "penalty = 'l2'\n",
    "C = 1e-4\n",
    "\n",
    "metric_list =[]\n",
    "for select_index in range(1,n+1):\n",
    "    x_train_model = train_dict[select_index][0]\n",
    "    x_test_model = test_dict[select_index][0]\n",
    "\n",
    "    y_train_model = train_dict[select_index][1]\n",
    "    y_test_model = test_dict[select_index][1]\n",
    "\n",
    "\n",
    "    logistic  = LogisticRegression(penalty=penalty, C = C)\n",
    "    logistic.fit(x_train_model,y_train_model)\n",
    "\n",
    "    y_predict = pd.DataFrame(logistic.predict(x_test_model),index = x_test_model.index)\n",
    "    metric_value = evaluate_metric(y_test_model,y_predict,'msle')\n",
    "    metric_list.append(metric_value)\n",
    "\n",
    "overall_metric = np.prod(map(lambda x: 1/x,metric_list))"
   ]
  },
  {
   "cell_type": "code",
   "execution_count": 22,
   "metadata": {},
   "outputs": [
    {
     "data": {
      "text/html": [
       "<div>\n",
       "<style>\n",
       "    .dataframe thead tr:only-child th {\n",
       "        text-align: right;\n",
       "    }\n",
       "\n",
       "    .dataframe thead th {\n",
       "        text-align: left;\n",
       "    }\n",
       "\n",
       "    .dataframe tbody tr th {\n",
       "        vertical-align: top;\n",
       "    }\n",
       "</style>\n",
       "<table border=\"1\" class=\"dataframe\">\n",
       "  <thead>\n",
       "    <tr style=\"text-align: right;\">\n",
       "      <th></th>\n",
       "      <th>penalty</th>\n",
       "      <th>lambda</th>\n",
       "      <th>overall_metric</th>\n",
       "    </tr>\n",
       "  </thead>\n",
       "  <tbody>\n",
       "    <tr>\n",
       "      <th>0</th>\n",
       "      <td>l2</td>\n",
       "      <td>10000</td>\n",
       "      <td>6.0952</td>\n",
       "    </tr>\n",
       "  </tbody>\n",
       "</table>\n",
       "</div>"
      ],
      "text/plain": [
       "  penalty lambda overall_metric\n",
       "0      l2  10000         6.0952"
      ]
     },
     "execution_count": 22,
     "metadata": {},
     "output_type": "execute_result"
    }
   ],
   "source": []
  },
  {
   "cell_type": "code",
   "execution_count": 53,
   "metadata": {
    "collapsed": true
   },
   "outputs": [],
   "source": []
  },
  {
   "cell_type": "code",
   "execution_count": 54,
   "metadata": {},
   "outputs": [
    {
     "data": {
      "text/plain": [
       "0.54185807659592389"
      ]
     },
     "execution_count": 54,
     "metadata": {},
     "output_type": "execute_result"
    }
   ],
   "source": []
  },
  {
   "cell_type": "code",
   "execution_count": 3,
   "metadata": {
    "collapsed": true
   },
   "outputs": [],
   "source": [
    "result_dict={}\n",
    "model_dict={}"
   ]
  },
  {
   "cell_type": "code",
   "execution_count": 4,
   "metadata": {
    "scrolled": true
   },
   "outputs": [
    {
     "name": "stdout",
     "output_type": "stream",
     "text": [
      "Sector selected: \n",
      "IYZ US Equity\n",
      "Coeff\n",
      "   CPALTT01USQ657N       GDP  CSUSHPINSA     DGS10   TEDRATE  FEDFUNDS  \\\n",
      "0        -0.003805 -0.000002   -0.000036  0.000024 -0.000838  0.000881   \n",
      "\n",
      "        PCE    UNRATE  RECPROUSM156N  VIXCLS  \n",
      "0  0.000004 -0.000561       0.000769  0.0018  \n",
      "prediction rate: 32.143%\n",
      "\n",
      "\n",
      "\n",
      "Sector selected: \n",
      "IYK US Equity\n"
     ]
    },
    {
     "name": "stderr",
     "output_type": "stream",
     "text": [
      "/home/luke/anaconda2/lib/python2.7/site-packages/sklearn/utils/validation.py:526: DataConversionWarning: A column-vector y was passed when a 1d array was expected. Please change the shape of y to (n_samples, ), for example using ravel().\n",
      "  y = column_or_1d(y, warn=True)\n"
     ]
    },
    {
     "name": "stdout",
     "output_type": "stream",
     "text": [
      "Coeff\n",
      "   CPALTT01USQ657N       GDP  CSUSHPINSA     DGS10   TEDRATE  FEDFUNDS  \\\n",
      "0          0.00448 -0.000004   -0.000004 -0.000232  0.000706 -0.000891   \n",
      "\n",
      "        PCE    UNRATE  RECPROUSM156N    VIXCLS  \n",
      "0  0.000002 -0.000294      -0.000729 -0.001479  \n",
      "prediction rate: 50.0%\n",
      "\n",
      "\n",
      "\n",
      "Sector selected: \n",
      "IYE US Equity\n",
      "Coeff\n",
      "   CPALTT01USQ657N       GDP  CSUSHPINSA     DGS10   TEDRATE  FEDFUNDS  \\\n",
      "0         0.004081 -0.000012    0.000045  0.000127  0.000946 -0.000856   \n",
      "\n",
      "        PCE    UNRATE  RECPROUSM156N    VIXCLS  \n",
      "0 -0.000004  0.000791       0.000776  0.002121  \n",
      "prediction rate: 39.286%\n",
      "\n",
      "\n",
      "\n",
      "Sector selected: \n",
      "IYJ US Equity\n",
      "Coeff\n",
      "   CPALTT01USQ657N       GDP  CSUSHPINSA     DGS10   TEDRATE  FEDFUNDS  \\\n",
      "0         0.004488 -0.000002    0.000084  0.000059 -0.001257 -0.000876   \n",
      "\n",
      "        PCE    UNRATE  RECPROUSM156N    VIXCLS  \n",
      "0  0.000002 -0.000312      -0.000876 -0.001388  \n",
      "prediction rate: 57.143%\n",
      "\n",
      "\n",
      "\n",
      "Sector selected: \n",
      "IYM US Equity\n",
      "Coeff\n",
      "   CPALTT01USQ657N       GDP  CSUSHPINSA     DGS10   TEDRATE  FEDFUNDS  \\\n",
      "0        -0.003449  0.000002    0.000072  0.000207  0.000733 -0.000806   \n",
      "\n",
      "        PCE    UNRATE  RECPROUSM156N    VIXCLS  \n",
      "0 -0.000008  0.000346      -0.000838 -0.002121  \n",
      "prediction rate: 60.714%\n",
      "\n",
      "\n",
      "\n",
      "Sector selected: \n",
      "IDU US Equity\n",
      "Coeff\n",
      "   CPALTT01USQ657N       GDP  CSUSHPINSA     DGS10   TEDRATE  FEDFUNDS  \\\n",
      "0         0.003657  0.000007   -0.000069 -0.000087 -0.000948 -0.000979   \n",
      "\n",
      "        PCE    UNRATE  RECPROUSM156N    VIXCLS  \n",
      "0  0.000003  0.000717       0.000788  0.001973  \n",
      "prediction rate: 46.429%\n",
      "\n",
      "\n",
      "\n",
      "Sector selected: \n",
      "IYW US Equity\n",
      "Coeff\n",
      "   CPALTT01USQ657N       GDP  CSUSHPINSA     DGS10   TEDRATE  FEDFUNDS  \\\n",
      "0        -0.004646  0.000003    0.000052  0.000195 -0.000548  0.000763   \n",
      "\n",
      "        PCE    UNRATE  RECPROUSM156N    VIXCLS  \n",
      "0 -0.000002 -0.000485      -0.000639 -0.000739  \n",
      "prediction rate: 78.571%\n",
      "\n",
      "\n",
      "\n",
      "Sector selected: \n",
      "IYF US Equity\n",
      "Coeff\n",
      "   CPALTT01USQ657N           GDP  CSUSHPINSA     DGS10   TEDRATE  FEDFUNDS  \\\n",
      "0         0.003999  9.459046e-07   -0.000018  0.000083  0.000768  0.000945   \n",
      "\n",
      "            PCE    UNRATE  RECPROUSM156N    VIXCLS  \n",
      "0  3.126215e-07  0.000535      -0.000743 -0.001673  \n",
      "prediction rate: 32.143%\n",
      "\n",
      "\n",
      "\n",
      "Sector selected: \n",
      "SPX Index\n"
     ]
    },
    {
     "ename": "ValueError",
     "evalue": "Found array with 0 sample(s) (shape=(0, 10)) while a minimum of 1 is required.",
     "output_type": "error",
     "traceback": [
      "\u001b[0;31m---------------------------------------------------------------------------\u001b[0m",
      "\u001b[0;31mValueError\u001b[0m                                Traceback (most recent call last)",
      "\u001b[0;32m<ipython-input-4-73450e131a4f>\u001b[0m in \u001b[0;36m<module>\u001b[0;34m()\u001b[0m\n\u001b[1;32m      4\u001b[0m     \u001b[0msector_ind\u001b[0m \u001b[0;34m=\u001b[0m \u001b[0mread_data\u001b[0m\u001b[0;34m(\u001b[0m\u001b[0mbenchmark_str\u001b[0m\u001b[0;34m,\u001b[0m\u001b[0msheet_int\u001b[0m\u001b[0;34m)\u001b[0m\u001b[0;34m\u001b[0m\u001b[0m\n\u001b[1;32m      5\u001b[0m     name,score,model = logistic_reg_sector_index(data_set_selection, sector_ind ,\n\u001b[0;32m----> 6\u001b[0;31m                         base_benchmark=spx_ret, print_plot = False, penalty = 'l2', C = 1e-4)\n\u001b[0m\u001b[1;32m      7\u001b[0m     \u001b[0mresult_dict\u001b[0m\u001b[0;34m[\u001b[0m\u001b[0mname\u001b[0m\u001b[0;34m]\u001b[0m \u001b[0;34m=\u001b[0m \u001b[0mscore\u001b[0m\u001b[0;34m\u001b[0m\u001b[0m\n\u001b[1;32m      8\u001b[0m     \u001b[0mmodel_dict\u001b[0m\u001b[0;34m[\u001b[0m\u001b[0mname\u001b[0m\u001b[0;34m]\u001b[0m \u001b[0;34m=\u001b[0m \u001b[0mmodel\u001b[0m\u001b[0;34m\u001b[0m\u001b[0m\n",
      "\u001b[0;32m/home/luke/workspace/Sector-Analysis/Luke_working_space/test.py\u001b[0m in \u001b[0;36mlogistic_reg_sector_index\u001b[0;34m(data_set_selection, sector_ind, base_benchmark, print_plot, penalty, C)\u001b[0m\n\u001b[1;32m     82\u001b[0m \u001b[0;34m\u001b[0m\u001b[0m\n\u001b[1;32m     83\u001b[0m     \u001b[0mlogistic\u001b[0m  \u001b[0;34m=\u001b[0m \u001b[0mLogisticRegression\u001b[0m\u001b[0;34m(\u001b[0m\u001b[0mpenalty\u001b[0m\u001b[0;34m=\u001b[0m\u001b[0mpenalty\u001b[0m\u001b[0;34m,\u001b[0m \u001b[0mC\u001b[0m \u001b[0;34m=\u001b[0m \u001b[0mC\u001b[0m\u001b[0;34m)\u001b[0m\u001b[0;34m\u001b[0m\u001b[0m\n\u001b[0;32m---> 84\u001b[0;31m     \u001b[0mlogistic\u001b[0m\u001b[0;34m.\u001b[0m\u001b[0mfit\u001b[0m\u001b[0;34m(\u001b[0m\u001b[0mx\u001b[0m\u001b[0;34m.\u001b[0m\u001b[0mloc\u001b[0m\u001b[0;34m[\u001b[0m\u001b[0mtrain_index\u001b[0m\u001b[0;34m,\u001b[0m\u001b[0;34m:\u001b[0m\u001b[0;34m]\u001b[0m\u001b[0;34m,\u001b[0m\u001b[0my\u001b[0m\u001b[0;34m.\u001b[0m\u001b[0mloc\u001b[0m\u001b[0;34m[\u001b[0m\u001b[0mtrain_index\u001b[0m\u001b[0;34m,\u001b[0m\u001b[0;34m:\u001b[0m\u001b[0;34m]\u001b[0m\u001b[0;34m)\u001b[0m\u001b[0;34m\u001b[0m\u001b[0m\n\u001b[0m\u001b[1;32m     85\u001b[0m \u001b[0;34m\u001b[0m\u001b[0m\n\u001b[1;32m     86\u001b[0m     \u001b[0my_predict\u001b[0m \u001b[0;34m=\u001b[0m \u001b[0mpd\u001b[0m\u001b[0;34m.\u001b[0m\u001b[0mDataFrame\u001b[0m\u001b[0;34m(\u001b[0m\u001b[0mlogistic\u001b[0m\u001b[0;34m.\u001b[0m\u001b[0mpredict\u001b[0m\u001b[0;34m(\u001b[0m\u001b[0mx\u001b[0m\u001b[0;34m.\u001b[0m\u001b[0mloc\u001b[0m\u001b[0;34m[\u001b[0m\u001b[0mvalidate_index\u001b[0m\u001b[0;34m,\u001b[0m\u001b[0;34m:\u001b[0m\u001b[0;34m]\u001b[0m\u001b[0;34m)\u001b[0m\u001b[0;34m,\u001b[0m\u001b[0mindex\u001b[0m \u001b[0;34m=\u001b[0m \u001b[0mvalidate_index\u001b[0m\u001b[0;34m)\u001b[0m\u001b[0;34m\u001b[0m\u001b[0m\n",
      "\u001b[0;32m/home/luke/anaconda2/lib/python2.7/site-packages/sklearn/linear_model/logistic.pyc\u001b[0m in \u001b[0;36mfit\u001b[0;34m(self, X, y, sample_weight)\u001b[0m\n\u001b[1;32m   1171\u001b[0m \u001b[0;34m\u001b[0m\u001b[0m\n\u001b[1;32m   1172\u001b[0m         X, y = check_X_y(X, y, accept_sparse='csr', dtype=np.float64,\n\u001b[0;32m-> 1173\u001b[0;31m                          order=\"C\")\n\u001b[0m\u001b[1;32m   1174\u001b[0m         \u001b[0mcheck_classification_targets\u001b[0m\u001b[0;34m(\u001b[0m\u001b[0my\u001b[0m\u001b[0;34m)\u001b[0m\u001b[0;34m\u001b[0m\u001b[0m\n\u001b[1;32m   1175\u001b[0m         \u001b[0mself\u001b[0m\u001b[0;34m.\u001b[0m\u001b[0mclasses_\u001b[0m \u001b[0;34m=\u001b[0m \u001b[0mnp\u001b[0m\u001b[0;34m.\u001b[0m\u001b[0munique\u001b[0m\u001b[0;34m(\u001b[0m\u001b[0my\u001b[0m\u001b[0;34m)\u001b[0m\u001b[0;34m\u001b[0m\u001b[0m\n",
      "\u001b[0;32m/home/luke/anaconda2/lib/python2.7/site-packages/sklearn/utils/validation.pyc\u001b[0m in \u001b[0;36mcheck_X_y\u001b[0;34m(X, y, accept_sparse, dtype, order, copy, force_all_finite, ensure_2d, allow_nd, multi_output, ensure_min_samples, ensure_min_features, y_numeric, warn_on_dtype, estimator)\u001b[0m\n\u001b[1;32m    519\u001b[0m     X = check_array(X, accept_sparse, dtype, order, copy, force_all_finite,\n\u001b[1;32m    520\u001b[0m                     \u001b[0mensure_2d\u001b[0m\u001b[0;34m,\u001b[0m \u001b[0mallow_nd\u001b[0m\u001b[0;34m,\u001b[0m \u001b[0mensure_min_samples\u001b[0m\u001b[0;34m,\u001b[0m\u001b[0;34m\u001b[0m\u001b[0m\n\u001b[0;32m--> 521\u001b[0;31m                     ensure_min_features, warn_on_dtype, estimator)\n\u001b[0m\u001b[1;32m    522\u001b[0m     \u001b[0;32mif\u001b[0m \u001b[0mmulti_output\u001b[0m\u001b[0;34m:\u001b[0m\u001b[0;34m\u001b[0m\u001b[0m\n\u001b[1;32m    523\u001b[0m         y = check_array(y, 'csr', force_all_finite=True, ensure_2d=False,\n",
      "\u001b[0;32m/home/luke/anaconda2/lib/python2.7/site-packages/sklearn/utils/validation.pyc\u001b[0m in \u001b[0;36mcheck_array\u001b[0;34m(array, accept_sparse, dtype, order, copy, force_all_finite, ensure_2d, allow_nd, ensure_min_samples, ensure_min_features, warn_on_dtype, estimator)\u001b[0m\n\u001b[1;32m    414\u001b[0m                              \u001b[0;34m\" minimum of %d is required%s.\"\u001b[0m\u001b[0;34m\u001b[0m\u001b[0m\n\u001b[1;32m    415\u001b[0m                              % (n_samples, shape_repr, ensure_min_samples,\n\u001b[0;32m--> 416\u001b[0;31m                                 context))\n\u001b[0m\u001b[1;32m    417\u001b[0m \u001b[0;34m\u001b[0m\u001b[0m\n\u001b[1;32m    418\u001b[0m     \u001b[0;32mif\u001b[0m \u001b[0mensure_min_features\u001b[0m \u001b[0;34m>\u001b[0m \u001b[0;36m0\u001b[0m \u001b[0;32mand\u001b[0m \u001b[0marray\u001b[0m\u001b[0;34m.\u001b[0m\u001b[0mndim\u001b[0m \u001b[0;34m==\u001b[0m \u001b[0;36m2\u001b[0m\u001b[0;34m:\u001b[0m\u001b[0;34m\u001b[0m\u001b[0m\n",
      "\u001b[0;31mValueError\u001b[0m: Found array with 0 sample(s) (shape=(0, 10)) while a minimum of 1 is required."
     ]
    }
   ],
   "source": [
    "# Edit: input sector_ind excel sheet instead\n",
    "# Put data_set_selection into input variable\n",
    "for sheet_int in np.arange(1,10):\n",
    "    sector_ind = read_data(benchmark_str,sheet_int)\n",
    "    name,score,model = logistic_reg_sector_index(data_set_selection, sector_ind ,\n",
    "                        base_benchmark=spx_ret, print_plot = False, penalty = 'l2', C = 1e-4)\n",
    "    result_dict[name] = score\n",
    "    model_dict[name] = model"
   ]
  },
  {
   "cell_type": "code",
   "execution_count": 5,
   "metadata": {},
   "outputs": [
    {
     "data": {
      "text/plain": [
       "[('IYZ US Equity', 0.32142857142857145),\n",
       " ('IYK US Equity', 0.5),\n",
       " ('IDU US Equity', 0.4642857142857143),\n",
       " ('IYF US Equity', 0.32142857142857145),\n",
       " ('IYW US Equity', 0.7857142857142857),\n",
       " ('IYJ US Equity', 0.5714285714285714),\n",
       " ('IYM US Equity', 0.6071428571428571),\n",
       " ('ISHAF US Equity', 0.73913043478260865),\n",
       " ('IYE US Equity', 0.39285714285714285)]"
      ]
     },
     "execution_count": 5,
     "metadata": {},
     "output_type": "execute_result"
    }
   ],
   "source": [
    "result_dict.items()"
   ]
  },
  {
   "cell_type": "code",
   "execution_count": 6,
   "metadata": {},
   "outputs": [
    {
     "data": {
      "text/plain": [
       "Index([u'CPALTT01USQ657N', u'GDP', u'CSUSHPINSA', u'DGS10', u'TEDRATE',\n",
       "       u'FEDFUNDS', u'PCE', u'UNRATE', u'RECPROUSM156N', u'VIXCLS'],\n",
       "      dtype='object')"
      ]
     },
     "execution_count": 6,
     "metadata": {},
     "output_type": "execute_result"
    }
   ],
   "source": [
    "pd.concat(data_set_selection, 1).columns"
   ]
  },
  {
   "cell_type": "code",
   "execution_count": 7,
   "metadata": {},
   "outputs": [
    {
     "name": "stdout",
     "output_type": "stream",
     "text": [
      "IYZ US Equity\n",
      "   CPALTT01USQ657N       GDP  CSUSHPINSA     DGS10   TEDRATE  FEDFUNDS  \\\n",
      "0        -0.003805 -0.000002   -0.000036  0.000024 -0.000838  0.000881   \n",
      "\n",
      "        PCE    UNRATE  RECPROUSM156N  VIXCLS  \n",
      "0  0.000004 -0.000561       0.000769  0.0018  \n",
      "IYK US Equity\n",
      "   CPALTT01USQ657N       GDP  CSUSHPINSA     DGS10   TEDRATE  FEDFUNDS  \\\n",
      "0          0.00448 -0.000004   -0.000004 -0.000232  0.000706 -0.000891   \n",
      "\n",
      "        PCE    UNRATE  RECPROUSM156N    VIXCLS  \n",
      "0  0.000002 -0.000294      -0.000729 -0.001479  \n",
      "IDU US Equity\n",
      "   CPALTT01USQ657N       GDP  CSUSHPINSA     DGS10   TEDRATE  FEDFUNDS  \\\n",
      "0         0.003657  0.000007   -0.000069 -0.000087 -0.000948 -0.000979   \n",
      "\n",
      "        PCE    UNRATE  RECPROUSM156N    VIXCLS  \n",
      "0  0.000003  0.000717       0.000788  0.001973  \n",
      "IYF US Equity\n",
      "   CPALTT01USQ657N           GDP  CSUSHPINSA     DGS10   TEDRATE  FEDFUNDS  \\\n",
      "0         0.003999  9.459046e-07   -0.000018  0.000083  0.000768  0.000945   \n",
      "\n",
      "            PCE    UNRATE  RECPROUSM156N    VIXCLS  \n",
      "0  3.126215e-07  0.000535      -0.000743 -0.001673  \n",
      "IYW US Equity\n",
      "   CPALTT01USQ657N       GDP  CSUSHPINSA     DGS10   TEDRATE  FEDFUNDS  \\\n",
      "0        -0.004646  0.000003    0.000052  0.000195 -0.000548  0.000763   \n",
      "\n",
      "        PCE    UNRATE  RECPROUSM156N    VIXCLS  \n",
      "0 -0.000002 -0.000485      -0.000639 -0.000739  \n",
      "IYJ US Equity\n",
      "   CPALTT01USQ657N       GDP  CSUSHPINSA     DGS10   TEDRATE  FEDFUNDS  \\\n",
      "0         0.004488 -0.000002    0.000084  0.000059 -0.001257 -0.000876   \n",
      "\n",
      "        PCE    UNRATE  RECPROUSM156N    VIXCLS  \n",
      "0  0.000002 -0.000312      -0.000876 -0.001388  \n",
      "IYM US Equity\n",
      "   CPALTT01USQ657N       GDP  CSUSHPINSA     DGS10   TEDRATE  FEDFUNDS  \\\n",
      "0        -0.003449  0.000002    0.000072  0.000207  0.000733 -0.000806   \n",
      "\n",
      "        PCE    UNRATE  RECPROUSM156N    VIXCLS  \n",
      "0 -0.000008  0.000346      -0.000838 -0.002121  \n",
      "ISHAF US Equity\n",
      "   CPALTT01USQ657N       GDP  CSUSHPINSA     DGS10   TEDRATE  FEDFUNDS  \\\n",
      "0        -0.003691  0.000012    0.000011 -0.000009  0.001339  -0.00088   \n",
      "\n",
      "            PCE    UNRATE  RECPROUSM156N   VIXCLS  \n",
      "0  3.391805e-07  0.000131       0.000723  0.00096  \n",
      "IYE US Equity\n",
      "   CPALTT01USQ657N       GDP  CSUSHPINSA     DGS10   TEDRATE  FEDFUNDS  \\\n",
      "0         0.004081 -0.000012    0.000045  0.000127  0.000946 -0.000856   \n",
      "\n",
      "        PCE    UNRATE  RECPROUSM156N    VIXCLS  \n",
      "0 -0.000004  0.000791       0.000776  0.002121  \n"
     ]
    }
   ],
   "source": [
    "col_name = pd.concat(data_set_selection, 1).columns\n",
    "for key in model_dict.keys():\n",
    "    print key\n",
    "    model = model_dict[key]\n",
    "    coef_df = pd.DataFrame(model.coef_, columns = col_name)\n",
    "    print coef_df"
   ]
  },
  {
   "cell_type": "code",
   "execution_count": null,
   "metadata": {},
   "outputs": [],
   "source": []
  }
 ],
 "metadata": {
  "kernelspec": {
   "display_name": "Python 2",
   "language": "python",
   "name": "python2"
  },
  "language_info": {
   "codemirror_mode": {
    "name": "ipython",
    "version": 2
   },
   "file_extension": ".py",
   "mimetype": "text/x-python",
   "name": "python",
   "nbconvert_exporter": "python",
   "pygments_lexer": "ipython2",
   "version": "2.7.13"
  }
 },
 "nbformat": 4,
 "nbformat_minor": 2
}
