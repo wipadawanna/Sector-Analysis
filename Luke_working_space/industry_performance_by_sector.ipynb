{
 "cells": [
  {
   "cell_type": "code",
   "execution_count": 1,
   "metadata": {
    "collapsed": false
   },
   "outputs": [],
   "source": [
    "import os\n",
    "import sys\n",
    "sys.path.append('../')\n",
    "from lib.env.global_var import *\n",
    "from lib.func.shelve_store import *\n",
    "sys.path.remove('../')"
   ]
  },
  {
   "cell_type": "code",
   "execution_count": 2,
   "metadata": {
    "collapsed": false
   },
   "outputs": [
    {
     "name": "stdout",
     "output_type": "stream",
     "text": [
      "CPIdefined\n",
      "GDPdefined\n",
      "DGS10defined\n",
      "HPIdefined\n",
      "PAYEMSdefined\n",
      "TEDRATEdefined\n",
      "FEDFUNDSdefined\n",
      "NETEXPdefined\n",
      "PCEdefined\n",
      "UNRATEdefined\n",
      "CSENTdefined\n",
      "OASdefined\n",
      "RECESSIONdefined\n",
      "VIXCLSdefined\n",
      "OILdefined\n",
      "YIELD_SLOPEdefined\n",
      "GOLDdefined\n",
      "C:/Users/globa/Documents/Sector-Analysis/tmp/data_set_selection.out\n",
      "Stored Successfully\n"
     ]
    }
   ],
   "source": [
    "%run -i test.py"
   ]
  },
  {
   "cell_type": "code",
   "execution_count": 4,
   "metadata": {
    "collapsed": true
   },
   "outputs": [],
   "source": [
    "result_dict={}\n",
    "model_dict={}"
   ]
  },
  {
   "cell_type": "code",
   "execution_count": 5,
   "metadata": {
    "collapsed": false,
    "scrolled": false
   },
   "outputs": [
    {
     "name": "stdout",
     "output_type": "stream",
     "text": [
      "C:/Users/globa/Documents/Sector-Analysis/tmp/data_set_selection.out\n",
      "Retrieved Successfully\n",
      "Sector selected: \n",
      "IYZ US Equity\n",
      "Coeff\n",
      "   CPALTT01USQ657N       GDP  CSUSHPINSA     DGS10   TEDRATE  FEDFUNDS  \\\n",
      "0         0.000819  0.000011   -0.001077  0.004376 -0.000382   0.00291   \n",
      "\n",
      "        PCE    UNRATE  RECPROUSM156N    VIXCLS  XOI Index  YIELD_SLOPE  \\\n",
      "0  0.000011 -0.007007       0.000571  0.001552   0.004288      0.00028   \n",
      "\n",
      "   XAU Curncy  \n",
      "0    0.000316  \n",
      "prediction rate: 32.143%\n",
      "\n",
      "\n",
      "\n"
     ]
    },
    {
     "name": "stderr",
     "output_type": "stream",
     "text": [
      "C:\\Users\\globa\\Anaconda3\\envs\\py27\\lib\\site-packages\\sklearn\\utils\\validation.py:547: DataConversionWarning: A column-vector y was passed when a 1d array was expected. Please change the shape of y to (n_samples, ), for example using ravel().\n",
      "  y = column_or_1d(y, warn=True)\n"
     ]
    },
    {
     "name": "stdout",
     "output_type": "stream",
     "text": [
      "Sector selected: \n",
      "IYH US Equity\n",
      "Coeff\n",
      "   CPALTT01USQ657N     GDP  CSUSHPINSA     DGS10   TEDRATE  FEDFUNDS  \\\n",
      "0         0.000047  0.0001     0.00102 -0.004976  0.000115   0.00264   \n",
      "\n",
      "        PCE    UNRATE  RECPROUSM156N    VIXCLS  XOI Index  YIELD_SLOPE  \\\n",
      "0 -0.000012 -0.001182       0.000501  0.000267  -0.007882    -0.000579   \n",
      "\n",
      "   XAU Curncy  \n",
      "0   -0.000953  \n",
      "prediction rate: 42.857%\n",
      "\n",
      "\n",
      "\n",
      "Sector selected: \n",
      "IYK US Equity\n",
      "Coeff\n",
      "   CPALTT01USQ657N       GDP  CSUSHPINSA     DGS10   TEDRATE  FEDFUNDS  \\\n",
      "0        -0.000307  0.000007    0.001363 -0.004773 -0.000237 -0.002828   \n",
      "\n",
      "        PCE    UNRATE  RECPROUSM156N    VIXCLS  XOI Index  YIELD_SLOPE  \\\n",
      "0 -0.000003 -0.006936      -0.000528 -0.001279   0.003485    -0.000926   \n",
      "\n",
      "   XAU Curncy  \n",
      "0   -0.000087  \n",
      "prediction rate: 60.714%\n",
      "\n",
      "\n",
      "\n",
      "Sector selected: \n",
      "IYE US Equity\n",
      "Coeff\n",
      "   CPALTT01USQ657N       GDP  CSUSHPINSA     DGS10   TEDRATE  FEDFUNDS  \\\n",
      "0        -0.000448 -0.000043    0.000625  0.005246  0.000031  0.002897   \n",
      "\n",
      "        PCE    UNRATE  RECPROUSM156N    VIXCLS  XOI Index  YIELD_SLOPE  \\\n",
      "0 -0.000013  0.007168       0.000548  0.000884   0.003748     0.000145   \n",
      "\n",
      "   XAU Curncy  \n",
      "0    0.000234  \n",
      "prediction rate: 21.429%\n",
      "\n",
      "\n",
      "\n",
      "Sector selected: \n",
      "IYJ US Equity\n",
      "Coeff\n",
      "   CPALTT01USQ657N       GDP  CSUSHPINSA     DGS10   TEDRATE  FEDFUNDS  \\\n",
      "0         0.000381 -0.000037   -0.001279  0.002961  0.000056  0.002913   \n",
      "\n",
      "        PCE    UNRATE  RECPROUSM156N   VIXCLS  XOI Index  YIELD_SLOPE  \\\n",
      "0  0.000035 -0.006976      -0.000666 -0.00079   0.005924    -0.000051   \n",
      "\n",
      "   XAU Curncy  \n",
      "0    0.000116  \n",
      "prediction rate: 39.286%\n",
      "\n",
      "\n",
      "\n",
      "Sector selected: \n",
      "IYM US Equity\n",
      "Coeff\n",
      "   CPALTT01USQ657N       GDP  CSUSHPINSA     DGS10   TEDRATE  FEDFUNDS  \\\n",
      "0         0.001244  0.000021   -0.000396 -0.004742  0.000667  0.002914   \n",
      "\n",
      "        PCE    UNRATE  RECPROUSM156N    VIXCLS  XOI Index  YIELD_SLOPE  \\\n",
      "0 -0.000008  0.001209      -0.000621  0.000219   0.001926     0.000358   \n",
      "\n",
      "   XAU Curncy  \n",
      "0    -0.00005  \n",
      "prediction rate: 35.714%\n",
      "\n",
      "\n",
      "\n",
      "Sector selected: \n",
      "IDU US Equity\n",
      "Coeff\n",
      "   CPALTT01USQ657N       GDP  CSUSHPINSA     DGS10   TEDRATE  FEDFUNDS  \\\n",
      "0        -0.000943  0.000066    0.000222  0.004199 -0.000483  0.002877   \n",
      "\n",
      "        PCE    UNRATE  RECPROUSM156N    VIXCLS  XOI Index  YIELD_SLOPE  \\\n",
      "0 -0.000011  0.007135       0.000565  0.001033   0.004206     0.000572   \n",
      "\n",
      "   XAU Curncy  \n",
      "0    0.000552  \n",
      "prediction rate: 39.286%\n",
      "\n",
      "\n",
      "\n",
      "Sector selected: \n",
      "IYW US Equity\n",
      "Coeff\n",
      "   CPALTT01USQ657N       GDP  CSUSHPINSA     DGS10   TEDRATE  FEDFUNDS  \\\n",
      "0        -0.000312  0.000032   -0.000791  0.004643  0.000341  0.002903   \n",
      "\n",
      "       PCE    UNRATE  RECPROUSM156N    VIXCLS  XOI Index  YIELD_SLOPE  \\\n",
      "0  0.00001 -0.001073      -0.000413  0.002742   0.001913      0.00103   \n",
      "\n",
      "   XAU Curncy  \n",
      "0   -0.000428  \n",
      "prediction rate: 42.857%\n",
      "\n",
      "\n",
      "\n",
      "Sector selected: \n",
      "IYF US Equity\n",
      "Coeff\n",
      "   CPALTT01USQ657N      GDP  CSUSHPINSA     DGS10   TEDRATE  FEDFUNDS  \\\n",
      "0        -0.000205 -0.00004    0.000746  0.003275  0.000342 -0.002774   \n",
      "\n",
      "        PCE    UNRATE  RECPROUSM156N    VIXCLS  XOI Index  YIELD_SLOPE  \\\n",
      "0 -0.000031  0.006979      -0.000548  0.000189  -0.001913     0.000201   \n",
      "\n",
      "   XAU Curncy  \n",
      "0    0.000039  \n",
      "prediction rate: 35.714%\n",
      "\n",
      "\n",
      "\n"
     ]
    }
   ],
   "source": [
    "# Edit: input sector_ind excel sheet instead\n",
    "# Put data_set_selection into input variable\n",
    "file_shelve = shelve_dir + 'data_set_selection.out'\n",
    "print file_shelve\n",
    "data_set_selection = retrieve_variable(file_shelve, 'data_set_selection')\n",
    "\n",
    "for sheet_int in np.arange(1,10):\n",
    "    sector_ind = read_data(benchmark_str,sheet_int)\n",
    "    name,score,model = logistic_reg_sector_index(data_set_selection, sector_ind ,\n",
    "                        base_benchmark=spx_ret, print_plot = False, penalty = 'l2', C = 1e-4)\n",
    "    result_dict[name] = score\n",
    "    model_dict[name] = model"
   ]
  },
  {
   "cell_type": "code",
   "execution_count": 6,
   "metadata": {
    "collapsed": false
   },
   "outputs": [
    {
     "data": {
      "text/plain": [
       "[('IYH US Equity', 0.42857142857142855),\n",
       " ('IYZ US Equity', 0.32142857142857145),\n",
       " ('IYK US Equity', 0.6071428571428571),\n",
       " ('IDU US Equity', 0.39285714285714285),\n",
       " ('IYF US Equity', 0.35714285714285715),\n",
       " ('IYW US Equity', 0.42857142857142855),\n",
       " ('IYJ US Equity', 0.39285714285714285),\n",
       " ('IYM US Equity', 0.35714285714285715),\n",
       " ('IYE US Equity', 0.21428571428571427)]"
      ]
     },
     "execution_count": 6,
     "metadata": {},
     "output_type": "execute_result"
    }
   ],
   "source": [
    "result_dict.items()"
   ]
  },
  {
   "cell_type": "code",
   "execution_count": 7,
   "metadata": {
    "collapsed": false
   },
   "outputs": [
    {
     "data": {
      "text/plain": [
       "Index([u'CPALTT01USQ657N',             u'GDP',      u'CSUSHPINSA',\n",
       "                 u'DGS10',         u'TEDRATE',        u'FEDFUNDS',\n",
       "                   u'PCE',          u'UNRATE',   u'RECPROUSM156N',\n",
       "                u'VIXCLS',       u'XOI Index',     u'YIELD_SLOPE',\n",
       "            u'XAU Curncy'],\n",
       "      dtype='object')"
      ]
     },
     "execution_count": 7,
     "metadata": {},
     "output_type": "execute_result"
    }
   ],
   "source": [
    "pd.concat(data_set_selection, 1).columns"
   ]
  },
  {
   "cell_type": "code",
   "execution_count": 8,
   "metadata": {
    "collapsed": false
   },
   "outputs": [
    {
     "name": "stdout",
     "output_type": "stream",
     "text": [
      "IYH US Equity\n",
      "   CPALTT01USQ657N     GDP  CSUSHPINSA     DGS10   TEDRATE  FEDFUNDS  \\\n",
      "0         0.000047  0.0001     0.00102 -0.004976  0.000115   0.00264   \n",
      "\n",
      "        PCE    UNRATE  RECPROUSM156N    VIXCLS  XOI Index  YIELD_SLOPE  \\\n",
      "0 -0.000012 -0.001182       0.000501  0.000267  -0.007882    -0.000579   \n",
      "\n",
      "   XAU Curncy  \n",
      "0   -0.000953  \n",
      "IYZ US Equity\n",
      "   CPALTT01USQ657N       GDP  CSUSHPINSA     DGS10   TEDRATE  FEDFUNDS  \\\n",
      "0         0.000819  0.000011   -0.001077  0.004376 -0.000382   0.00291   \n",
      "\n",
      "        PCE    UNRATE  RECPROUSM156N    VIXCLS  XOI Index  YIELD_SLOPE  \\\n",
      "0  0.000011 -0.007007       0.000571  0.001552   0.004288      0.00028   \n",
      "\n",
      "   XAU Curncy  \n",
      "0    0.000316  \n",
      "IYK US Equity\n",
      "   CPALTT01USQ657N       GDP  CSUSHPINSA     DGS10   TEDRATE  FEDFUNDS  \\\n",
      "0        -0.000307  0.000007    0.001363 -0.004773 -0.000237 -0.002828   \n",
      "\n",
      "        PCE    UNRATE  RECPROUSM156N    VIXCLS  XOI Index  YIELD_SLOPE  \\\n",
      "0 -0.000003 -0.006936      -0.000528 -0.001279   0.003485    -0.000926   \n",
      "\n",
      "   XAU Curncy  \n",
      "0   -0.000087  \n",
      "IDU US Equity\n",
      "   CPALTT01USQ657N       GDP  CSUSHPINSA     DGS10   TEDRATE  FEDFUNDS  \\\n",
      "0        -0.000943  0.000066    0.000222  0.004199 -0.000483  0.002877   \n",
      "\n",
      "        PCE    UNRATE  RECPROUSM156N    VIXCLS  XOI Index  YIELD_SLOPE  \\\n",
      "0 -0.000011  0.007135       0.000565  0.001033   0.004206     0.000572   \n",
      "\n",
      "   XAU Curncy  \n",
      "0    0.000552  \n",
      "IYF US Equity\n",
      "   CPALTT01USQ657N      GDP  CSUSHPINSA     DGS10   TEDRATE  FEDFUNDS  \\\n",
      "0        -0.000205 -0.00004    0.000746  0.003275  0.000342 -0.002774   \n",
      "\n",
      "        PCE    UNRATE  RECPROUSM156N    VIXCLS  XOI Index  YIELD_SLOPE  \\\n",
      "0 -0.000031  0.006979      -0.000548  0.000189  -0.001913     0.000201   \n",
      "\n",
      "   XAU Curncy  \n",
      "0    0.000039  \n",
      "IYW US Equity\n",
      "   CPALTT01USQ657N       GDP  CSUSHPINSA     DGS10   TEDRATE  FEDFUNDS  \\\n",
      "0        -0.000312  0.000032   -0.000791  0.004643  0.000341  0.002903   \n",
      "\n",
      "       PCE    UNRATE  RECPROUSM156N    VIXCLS  XOI Index  YIELD_SLOPE  \\\n",
      "0  0.00001 -0.001073      -0.000413  0.002742   0.001913      0.00103   \n",
      "\n",
      "   XAU Curncy  \n",
      "0   -0.000428  \n",
      "IYJ US Equity\n",
      "   CPALTT01USQ657N       GDP  CSUSHPINSA     DGS10   TEDRATE  FEDFUNDS  \\\n",
      "0         0.000381 -0.000037   -0.001279  0.002961  0.000056  0.002913   \n",
      "\n",
      "        PCE    UNRATE  RECPROUSM156N   VIXCLS  XOI Index  YIELD_SLOPE  \\\n",
      "0  0.000035 -0.006976      -0.000666 -0.00079   0.005924    -0.000051   \n",
      "\n",
      "   XAU Curncy  \n",
      "0    0.000116  \n",
      "IYM US Equity\n",
      "   CPALTT01USQ657N       GDP  CSUSHPINSA     DGS10   TEDRATE  FEDFUNDS  \\\n",
      "0         0.001244  0.000021   -0.000396 -0.004742  0.000667  0.002914   \n",
      "\n",
      "        PCE    UNRATE  RECPROUSM156N    VIXCLS  XOI Index  YIELD_SLOPE  \\\n",
      "0 -0.000008  0.001209      -0.000621  0.000219   0.001926     0.000358   \n",
      "\n",
      "   XAU Curncy  \n",
      "0    -0.00005  \n",
      "IYE US Equity\n",
      "   CPALTT01USQ657N       GDP  CSUSHPINSA     DGS10   TEDRATE  FEDFUNDS  \\\n",
      "0        -0.000448 -0.000043    0.000625  0.005246  0.000031  0.002897   \n",
      "\n",
      "        PCE    UNRATE  RECPROUSM156N    VIXCLS  XOI Index  YIELD_SLOPE  \\\n",
      "0 -0.000013  0.007168       0.000548  0.000884   0.003748     0.000145   \n",
      "\n",
      "   XAU Curncy  \n",
      "0    0.000234  \n"
     ]
    }
   ],
   "source": [
    "col_name = pd.concat(data_set_selection, 1).columns\n",
    "for key in model_dict.keys():\n",
    "    print key\n",
    "    model = model_dict[key]\n",
    "    coef_df = pd.DataFrame(model.coef_, columns = col_name)\n",
    "    print coef_df"
   ]
  },
  {
   "cell_type": "code",
   "execution_count": null,
   "metadata": {
    "collapsed": false
   },
   "outputs": [],
   "source": []
  }
 ],
 "metadata": {
  "kernelspec": {
   "display_name": "Python 2",
   "language": "python",
   "name": "python2"
  },
  "language_info": {
   "codemirror_mode": {
    "name": "ipython",
    "version": 2
   },
   "file_extension": ".py",
   "mimetype": "text/x-python",
   "name": "python",
   "nbconvert_exporter": "python",
   "pygments_lexer": "ipython2",
   "version": "2.7.14"
  }
 },
 "nbformat": 4,
 "nbformat_minor": 2
}
