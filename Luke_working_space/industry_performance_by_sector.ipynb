{
 "cells": [
  {
   "cell_type": "code",
   "execution_count": 1,
   "metadata": {
    "collapsed": false
   },
   "outputs": [],
   "source": [
    "import os\n",
    "import sys\n",
    "sys.path.append('../')\n",
    "from lib.env.global_var import *\n",
    "from lib.func.shelve_store import *\n",
    "sys.path.remove('../')"
   ]
  },
  {
   "cell_type": "code",
   "execution_count": 2,
   "metadata": {
    "collapsed": false
   },
   "outputs": [
    {
     "name": "stdout",
     "output_type": "stream",
     "text": [
      "CPIdefined\n",
      "GDPdefined\n",
      "DGS10defined\n",
      "HPIdefined\n",
      "PAYEMSdefined\n",
      "TEDRATEdefined\n",
      "FEDFUNDSdefined\n",
      "NETEXPdefined\n",
      "PCEdefined\n",
      "UNRATEdefined\n",
      "CSENTdefined\n",
      "OASdefined\n",
      "RECESSIONdefined\n",
      "VIXCLSdefined\n"
     ]
    }
   ],
   "source": [
    "%run -i test.py"
   ]
  },
  {
   "cell_type": "code",
   "execution_count": 3,
   "metadata": {
    "collapsed": true
   },
   "outputs": [],
   "source": [
    "result_dict={}\n",
    "model_dict={}"
   ]
  },
  {
   "cell_type": "code",
   "execution_count": 4,
   "metadata": {
    "collapsed": false,
    "scrolled": false
   },
   "outputs": [
    {
     "name": "stdout",
     "output_type": "stream",
     "text": [
      "Sector selected: \n",
      "IYZ US Equity\n",
      "Coeff\n",
      "   CPALTT01USQ657N       GDP  CSUSHPINSA     DGS10   TEDRATE  FEDFUNDS  \\\n",
      "0        -0.003805 -0.000002   -0.000036  0.000024 -0.000838  0.000881   \n",
      "\n",
      "        PCE    UNRATE  RECPROUSM156N  VIXCLS  \n",
      "0  0.000004 -0.000561       0.000769  0.0018  \n",
      "prediction rate: 32.143%\n",
      "\n",
      "\n",
      "\n"
     ]
    },
    {
     "name": "stderr",
     "output_type": "stream",
     "text": [
      "C:\\Users\\globa\\Anaconda3\\envs\\py27\\lib\\site-packages\\sklearn\\utils\\validation.py:547: DataConversionWarning: A column-vector y was passed when a 1d array was expected. Please change the shape of y to (n_samples, ), for example using ravel().\n",
      "  y = column_or_1d(y, warn=True)\n"
     ]
    },
    {
     "name": "stdout",
     "output_type": "stream",
     "text": [
      "Sector selected: \n",
      "ISHAF US Equity\n",
      "Coeff\n",
      "   CPALTT01USQ657N       GDP  CSUSHPINSA     DGS10   TEDRATE  FEDFUNDS  \\\n",
      "0        -0.003691  0.000012    0.000011 -0.000009  0.001339  -0.00088   \n",
      "\n",
      "            PCE    UNRATE  RECPROUSM156N   VIXCLS  \n",
      "0  3.391805e-07  0.000131       0.000723  0.00096  \n",
      "prediction rate: 73.913%\n",
      "\n",
      "\n",
      "\n",
      "Sector selected: \n",
      "IYK US Equity\n",
      "Coeff\n",
      "   CPALTT01USQ657N       GDP  CSUSHPINSA     DGS10   TEDRATE  FEDFUNDS  \\\n",
      "0          0.00448 -0.000004   -0.000004 -0.000232  0.000706 -0.000891   \n",
      "\n",
      "        PCE    UNRATE  RECPROUSM156N    VIXCLS  \n",
      "0  0.000002 -0.000294      -0.000729 -0.001479  \n",
      "prediction rate: 50.0%\n",
      "\n",
      "\n",
      "\n",
      "Sector selected: \n",
      "IYE US Equity\n",
      "Coeff\n",
      "   CPALTT01USQ657N       GDP  CSUSHPINSA     DGS10   TEDRATE  FEDFUNDS  \\\n",
      "0         0.004081 -0.000012    0.000045  0.000127  0.000946 -0.000856   \n",
      "\n",
      "        PCE    UNRATE  RECPROUSM156N    VIXCLS  \n",
      "0 -0.000004  0.000791       0.000776  0.002121  \n",
      "prediction rate: 39.286%\n",
      "\n",
      "\n",
      "\n",
      "Sector selected: \n",
      "IYJ US Equity\n",
      "Coeff\n",
      "   CPALTT01USQ657N       GDP  CSUSHPINSA     DGS10   TEDRATE  FEDFUNDS  \\\n",
      "0         0.004488 -0.000002    0.000084  0.000059 -0.001257 -0.000876   \n",
      "\n",
      "        PCE    UNRATE  RECPROUSM156N    VIXCLS  \n",
      "0  0.000002 -0.000312      -0.000876 -0.001388  \n",
      "prediction rate: 57.143%\n",
      "\n",
      "\n",
      "\n",
      "Sector selected: \n",
      "IYM US Equity\n",
      "Coeff\n",
      "   CPALTT01USQ657N       GDP  CSUSHPINSA     DGS10   TEDRATE  FEDFUNDS  \\\n",
      "0        -0.003449  0.000002    0.000072  0.000207  0.000733 -0.000806   \n",
      "\n",
      "        PCE    UNRATE  RECPROUSM156N    VIXCLS  \n",
      "0 -0.000008  0.000346      -0.000838 -0.002121  \n",
      "prediction rate: 60.714%\n",
      "\n",
      "\n",
      "\n",
      "Sector selected: \n",
      "IDU US Equity\n",
      "Coeff\n",
      "   CPALTT01USQ657N       GDP  CSUSHPINSA     DGS10   TEDRATE  FEDFUNDS  \\\n",
      "0         0.003657  0.000007   -0.000069 -0.000087 -0.000948 -0.000979   \n",
      "\n",
      "        PCE    UNRATE  RECPROUSM156N    VIXCLS  \n",
      "0  0.000003  0.000717       0.000788  0.001973  \n",
      "prediction rate: 46.429%\n",
      "\n",
      "\n",
      "\n",
      "Sector selected: \n",
      "IYW US Equity\n",
      "Coeff\n",
      "   CPALTT01USQ657N       GDP  CSUSHPINSA     DGS10   TEDRATE  FEDFUNDS  \\\n",
      "0        -0.004646  0.000003    0.000052  0.000195 -0.000548  0.000763   \n",
      "\n",
      "        PCE    UNRATE  RECPROUSM156N    VIXCLS  \n",
      "0 -0.000002 -0.000485      -0.000639 -0.000739  \n",
      "prediction rate: 78.571%\n",
      "\n",
      "\n",
      "\n",
      "Sector selected: \n",
      "IYF US Equity\n",
      "Coeff\n",
      "   CPALTT01USQ657N           GDP  CSUSHPINSA     DGS10   TEDRATE  FEDFUNDS  \\\n",
      "0         0.003999  9.459046e-07   -0.000018  0.000083  0.000768  0.000945   \n",
      "\n",
      "            PCE    UNRATE  RECPROUSM156N    VIXCLS  \n",
      "0  3.126215e-07  0.000535      -0.000743 -0.001673  \n",
      "prediction rate: 32.143%\n",
      "\n",
      "\n",
      "\n"
     ]
    }
   ],
   "source": [
    "# Edit: input sector_ind excel sheet instead\n",
    "# Put data_set_selection into input variable\n",
    "for sheet_int in np.arange(1,10):\n",
    "    sector_ind = read_data(benchmark_str,sheet_int)\n",
    "    name,score,model = logistic_reg_sector_index(data_set_selection, sector_ind ,\n",
    "                        base_benchmark=spx_ret, print_plot = False, penalty = 'l2', C = 1e-4)\n",
    "    result_dict[name] = score\n",
    "    model_dict[name] = model"
   ]
  },
  {
   "cell_type": "code",
   "execution_count": 5,
   "metadata": {
    "collapsed": false
   },
   "outputs": [
    {
     "data": {
      "text/plain": [
       "[('IYZ US Equity', 0.32142857142857145),\n",
       " ('IYK US Equity', 0.5),\n",
       " ('IDU US Equity', 0.4642857142857143),\n",
       " ('IYF US Equity', 0.32142857142857145),\n",
       " ('IYW US Equity', 0.7857142857142857),\n",
       " ('IYJ US Equity', 0.5714285714285714),\n",
       " ('IYM US Equity', 0.6071428571428571),\n",
       " ('ISHAF US Equity', 0.73913043478260865),\n",
       " ('IYE US Equity', 0.39285714285714285)]"
      ]
     },
     "execution_count": 5,
     "metadata": {},
     "output_type": "execute_result"
    }
   ],
   "source": [
    "result_dict.items()"
   ]
  },
  {
   "cell_type": "code",
   "execution_count": 6,
   "metadata": {
    "collapsed": false
   },
   "outputs": [
    {
     "data": {
      "text/plain": [
       "Index([u'CPALTT01USQ657N', u'GDP', u'CSUSHPINSA', u'DGS10', u'TEDRATE',\n",
       "       u'FEDFUNDS', u'PCE', u'UNRATE', u'RECPROUSM156N', u'VIXCLS'],\n",
       "      dtype='object')"
      ]
     },
     "execution_count": 6,
     "metadata": {},
     "output_type": "execute_result"
    }
   ],
   "source": [
    "pd.concat(data_set_selection, 1).columns"
   ]
  },
  {
   "cell_type": "code",
   "execution_count": 7,
   "metadata": {
    "collapsed": false
   },
   "outputs": [
    {
     "name": "stdout",
     "output_type": "stream",
     "text": [
      "IYZ US Equity\n",
      "   CPALTT01USQ657N       GDP  CSUSHPINSA     DGS10   TEDRATE  FEDFUNDS  \\\n",
      "0        -0.003805 -0.000002   -0.000036  0.000024 -0.000838  0.000881   \n",
      "\n",
      "        PCE    UNRATE  RECPROUSM156N  VIXCLS  \n",
      "0  0.000004 -0.000561       0.000769  0.0018  \n",
      "IYK US Equity\n",
      "   CPALTT01USQ657N       GDP  CSUSHPINSA     DGS10   TEDRATE  FEDFUNDS  \\\n",
      "0          0.00448 -0.000004   -0.000004 -0.000232  0.000706 -0.000891   \n",
      "\n",
      "        PCE    UNRATE  RECPROUSM156N    VIXCLS  \n",
      "0  0.000002 -0.000294      -0.000729 -0.001479  \n",
      "IDU US Equity\n",
      "   CPALTT01USQ657N       GDP  CSUSHPINSA     DGS10   TEDRATE  FEDFUNDS  \\\n",
      "0         0.003657  0.000007   -0.000069 -0.000087 -0.000948 -0.000979   \n",
      "\n",
      "        PCE    UNRATE  RECPROUSM156N    VIXCLS  \n",
      "0  0.000003  0.000717       0.000788  0.001973  \n",
      "IYF US Equity\n",
      "   CPALTT01USQ657N           GDP  CSUSHPINSA     DGS10   TEDRATE  FEDFUNDS  \\\n",
      "0         0.003999  9.459046e-07   -0.000018  0.000083  0.000768  0.000945   \n",
      "\n",
      "            PCE    UNRATE  RECPROUSM156N    VIXCLS  \n",
      "0  3.126215e-07  0.000535      -0.000743 -0.001673  \n",
      "IYW US Equity\n",
      "   CPALTT01USQ657N       GDP  CSUSHPINSA     DGS10   TEDRATE  FEDFUNDS  \\\n",
      "0        -0.004646  0.000003    0.000052  0.000195 -0.000548  0.000763   \n",
      "\n",
      "        PCE    UNRATE  RECPROUSM156N    VIXCLS  \n",
      "0 -0.000002 -0.000485      -0.000639 -0.000739  \n",
      "IYJ US Equity\n",
      "   CPALTT01USQ657N       GDP  CSUSHPINSA     DGS10   TEDRATE  FEDFUNDS  \\\n",
      "0         0.004488 -0.000002    0.000084  0.000059 -0.001257 -0.000876   \n",
      "\n",
      "        PCE    UNRATE  RECPROUSM156N    VIXCLS  \n",
      "0  0.000002 -0.000312      -0.000876 -0.001388  \n",
      "IYM US Equity\n",
      "   CPALTT01USQ657N       GDP  CSUSHPINSA     DGS10   TEDRATE  FEDFUNDS  \\\n",
      "0        -0.003449  0.000002    0.000072  0.000207  0.000733 -0.000806   \n",
      "\n",
      "        PCE    UNRATE  RECPROUSM156N    VIXCLS  \n",
      "0 -0.000008  0.000346      -0.000838 -0.002121  \n",
      "ISHAF US Equity\n",
      "   CPALTT01USQ657N       GDP  CSUSHPINSA     DGS10   TEDRATE  FEDFUNDS  \\\n",
      "0        -0.003691  0.000012    0.000011 -0.000009  0.001339  -0.00088   \n",
      "\n",
      "            PCE    UNRATE  RECPROUSM156N   VIXCLS  \n",
      "0  3.391805e-07  0.000131       0.000723  0.00096  \n",
      "IYE US Equity\n",
      "   CPALTT01USQ657N       GDP  CSUSHPINSA     DGS10   TEDRATE  FEDFUNDS  \\\n",
      "0         0.004081 -0.000012    0.000045  0.000127  0.000946 -0.000856   \n",
      "\n",
      "        PCE    UNRATE  RECPROUSM156N    VIXCLS  \n",
      "0 -0.000004  0.000791       0.000776  0.002121  \n"
     ]
    }
   ],
   "source": [
    "col_name = pd.concat(data_set_selection, 1).columns\n",
    "for key in model_dict.keys():\n",
    "    print key\n",
    "    model = model_dict[key]\n",
    "    coef_df = pd.DataFrame(model.coef_, columns = col_name)\n",
    "    print coef_df"
   ]
  },
  {
   "cell_type": "code",
   "execution_count": null,
   "metadata": {
    "collapsed": false
   },
   "outputs": [],
   "source": []
  }
 ],
 "metadata": {
  "kernelspec": {
   "display_name": "Python 2",
   "language": "python",
   "name": "python2"
  },
  "language_info": {
   "codemirror_mode": {
    "name": "ipython",
    "version": 2
   },
   "file_extension": ".py",
   "mimetype": "text/x-python",
   "name": "python",
   "nbconvert_exporter": "python",
   "pygments_lexer": "ipython2",
   "version": "2.7.14"
  }
 },
 "nbformat": 4,
 "nbformat_minor": 2
}
