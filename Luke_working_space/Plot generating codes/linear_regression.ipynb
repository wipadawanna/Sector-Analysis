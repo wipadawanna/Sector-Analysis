{
 "cells": [
  {
   "cell_type": "code",
   "execution_count": 2,
   "metadata": {},
   "outputs": [],
   "source": [
    "%store -r econ_x"
   ]
  },
  {
   "cell_type": "code",
   "execution_count": 20,
   "metadata": {
    "collapsed": true
   },
   "outputs": [],
   "source": [
    "%store -r econ_x_raw"
   ]
  },
  {
   "cell_type": "code",
   "execution_count": 46,
   "metadata": {},
   "outputs": [],
   "source": [
    "tech_data = pd.read_csv(\"tech_raw_data_ret.csv\")\n",
    "tech_data.index = pd.DatetimeIndex(tech_data.iloc[:,[0]].values.flatten())\n",
    "tech_data = tech_data.iloc[:,1:]"
   ]
  },
  {
   "cell_type": "code",
   "execution_count": 78,
   "metadata": {},
   "outputs": [
    {
     "data": {
      "text/plain": [
       "Index([u'benchmark', u'GDP', u'CSUSHPINSA', u'DGS10', u'TEDRATE', u'FEDFUNDS',\n",
       "       u'PCE', u'UNRATE', u'RECPROUSM156N', u'VIXCLS', u'XOI.Index',\n",
       "       u'YIELD_SLOPE', u'XAU.Curncy', u'CSENT', u'PAYEMS', u'OAS', u'SP500',\n",
       "       u'TELECOMEXPORT', u'PPI_TELECOM', u'PPI_SOFTWARE',\n",
       "       u'PPI_Semiconductor'],\n",
       "      dtype='object')"
      ]
     },
     "execution_count": 78,
     "metadata": {},
     "output_type": "execute_result"
    }
   ],
   "source": [
    "tech_data.columns"
   ]
  },
  {
   "cell_type": "code",
   "execution_count": 81,
   "metadata": {},
   "outputs": [
    {
     "data": {
      "text/plain": [
       "['GDP',\n",
       " 'DGS10',\n",
       " 'TEDRATE',\n",
       " u'YIELD_SLOPE',\n",
       " 'PAYEMS',\n",
       " 'VIXCLS',\n",
       " 'CSUSHPINSA',\n",
       " 'RECPROUSM156N',\n",
       " 'UNRATE',\n",
       " 'FEDFUNDS',\n",
       " 'PCE']"
      ]
     },
     "execution_count": 81,
     "metadata": {},
     "output_type": "execute_result"
    }
   ],
   "source": [
    "common_data_column = list(set(list(tech_data.columns)).intersection(set(list(econ_x_raw.columns))))\n",
    "common_data_column"
   ]
  },
  {
   "cell_type": "code",
   "execution_count": 85,
   "metadata": {},
   "outputs": [],
   "source": [
    "fin_specific_columns = np.setdiff1d(list(econ_x_raw.columns),common_data_column)"
   ]
  },
  {
   "cell_type": "code",
   "execution_count": 83,
   "metadata": {},
   "outputs": [],
   "source": [
    "common_data = tech_data.loc[:,common_data_column]"
   ]
  },
  {
   "cell_type": "code",
   "execution_count": 96,
   "metadata": {
    "scrolled": true
   },
   "outputs": [
    {
     "data": {
      "text/html": [
       "<div>\n",
       "<style>\n",
       "    .dataframe thead tr:only-child th {\n",
       "        text-align: right;\n",
       "    }\n",
       "\n",
       "    .dataframe thead th {\n",
       "        text-align: left;\n",
       "    }\n",
       "\n",
       "    .dataframe tbody tr th {\n",
       "        vertical-align: top;\n",
       "    }\n",
       "</style>\n",
       "<table border=\"1\" class=\"dataframe\">\n",
       "  <thead>\n",
       "    <tr style=\"text-align: right;\">\n",
       "      <th></th>\n",
       "      <th>BAMLH0A0HYM2</th>\n",
       "      <th>NETEXP</th>\n",
       "      <th>UMCSENT</th>\n",
       "      <th>XAU Curncy</th>\n",
       "      <th>XOI Index</th>\n",
       "    </tr>\n",
       "  </thead>\n",
       "  <tbody>\n",
       "    <tr>\n",
       "      <th>1999-01-31</th>\n",
       "      <td>0.0560</td>\n",
       "      <td>-208.515</td>\n",
       "      <td>103.9</td>\n",
       "      <td>286.15</td>\n",
       "      <td>394.97</td>\n",
       "    </tr>\n",
       "    <tr>\n",
       "      <th>1999-02-28</th>\n",
       "      <td>0.0521</td>\n",
       "      <td>-208.515</td>\n",
       "      <td>108.1</td>\n",
       "      <td>287.05</td>\n",
       "      <td>384.96</td>\n",
       "    </tr>\n",
       "    <tr>\n",
       "      <th>1999-03-31</th>\n",
       "      <td>0.0519</td>\n",
       "      <td>-208.515</td>\n",
       "      <td>105.7</td>\n",
       "      <td>280.05</td>\n",
       "      <td>450.59</td>\n",
       "    </tr>\n",
       "    <tr>\n",
       "      <th>1999-04-30</th>\n",
       "      <td>0.0476</td>\n",
       "      <td>-245.428</td>\n",
       "      <td>104.6</td>\n",
       "      <td>286.55</td>\n",
       "      <td>515.08</td>\n",
       "    </tr>\n",
       "    <tr>\n",
       "      <th>1999-05-31</th>\n",
       "      <td>0.0475</td>\n",
       "      <td>-245.428</td>\n",
       "      <td>106.8</td>\n",
       "      <td>270.35</td>\n",
       "      <td>505.39</td>\n",
       "    </tr>\n",
       "  </tbody>\n",
       "</table>\n",
       "</div>"
      ],
      "text/plain": [
       "            BAMLH0A0HYM2   NETEXP  UMCSENT  XAU Curncy  XOI Index\n",
       "1999-01-31        0.0560 -208.515    103.9      286.15     394.97\n",
       "1999-02-28        0.0521 -208.515    108.1      287.05     384.96\n",
       "1999-03-31        0.0519 -208.515    105.7      280.05     450.59\n",
       "1999-04-30        0.0476 -245.428    104.6      286.55     515.08\n",
       "1999-05-31        0.0475 -245.428    106.8      270.35     505.39"
      ]
     },
     "execution_count": 96,
     "metadata": {},
     "output_type": "execute_result"
    }
   ],
   "source": [
    "fin_specific = econ_x_raw.loc[:,fin_specific_columns]\n",
    "fin_specific.head()"
   ]
  },
  {
   "cell_type": "code",
   "execution_count": 95,
   "metadata": {},
   "outputs": [
    {
     "data": {
      "text/plain": [
       "0.1770280315564828"
      ]
     },
     "execution_count": 95,
     "metadata": {},
     "output_type": "execute_result"
    }
   ],
   "source": [
    "# ((spx_ind.shift(-1)/spx_ind) -1)\n",
    "(-245.428+208.515)/(-208.515)"
   ]
  },
  {
   "cell_type": "code",
   "execution_count": 93,
   "metadata": {
    "collapsed": true
   },
   "outputs": [],
   "source": [
    "fin_specific.iloc[:,[0]] = fin_specific.iloc[:,[0]]/100\n",
    "fin_specific.iloc[:,[1]] = ( fin_specific.iloc[::3,[1]].shift(-1)/  fin_specific.iloc[::3,[1]] -1).shift(-1)"
   ]
  },
  {
   "cell_type": "code",
   "execution_count": 98,
   "metadata": {
    "scrolled": true
   },
   "outputs": [
    {
     "data": {
      "text/html": [
       "<div>\n",
       "<style>\n",
       "    .dataframe thead tr:only-child th {\n",
       "        text-align: right;\n",
       "    }\n",
       "\n",
       "    .dataframe thead th {\n",
       "        text-align: left;\n",
       "    }\n",
       "\n",
       "    .dataframe tbody tr th {\n",
       "        vertical-align: top;\n",
       "    }\n",
       "</style>\n",
       "<table border=\"1\" class=\"dataframe\">\n",
       "  <thead>\n",
       "    <tr style=\"text-align: right;\">\n",
       "      <th></th>\n",
       "      <th>NETEXP</th>\n",
       "    </tr>\n",
       "  </thead>\n",
       "  <tbody>\n",
       "    <tr>\n",
       "      <th>1999-01-31</th>\n",
       "      <td>-208.515</td>\n",
       "    </tr>\n",
       "    <tr>\n",
       "      <th>1999-04-30</th>\n",
       "      <td>-245.428</td>\n",
       "    </tr>\n",
       "    <tr>\n",
       "      <th>1999-07-31</th>\n",
       "      <td>-276.106</td>\n",
       "    </tr>\n",
       "    <tr>\n",
       "      <th>1999-10-31</th>\n",
       "      <td>-296.475</td>\n",
       "    </tr>\n",
       "    <tr>\n",
       "      <th>2000-01-31</th>\n",
       "      <td>-352.760</td>\n",
       "    </tr>\n",
       "    <tr>\n",
       "      <th>2000-04-30</th>\n",
       "      <td>-359.587</td>\n",
       "    </tr>\n",
       "    <tr>\n",
       "      <th>2000-07-31</th>\n",
       "      <td>-388.487</td>\n",
       "    </tr>\n",
       "    <tr>\n",
       "      <th>2000-10-31</th>\n",
       "      <td>-402.351</td>\n",
       "    </tr>\n",
       "    <tr>\n",
       "      <th>2001-01-31</th>\n",
       "      <td>-391.688</td>\n",
       "    </tr>\n",
       "    <tr>\n",
       "      <th>2001-04-30</th>\n",
       "      <td>-359.331</td>\n",
       "    </tr>\n",
       "    <tr>\n",
       "      <th>2001-07-31</th>\n",
       "      <td>-366.666</td>\n",
       "    </tr>\n",
       "    <tr>\n",
       "      <th>2001-10-31</th>\n",
       "      <td>-357.048</td>\n",
       "    </tr>\n",
       "    <tr>\n",
       "      <th>2002-01-31</th>\n",
       "      <td>-375.263</td>\n",
       "    </tr>\n",
       "    <tr>\n",
       "      <th>2002-04-30</th>\n",
       "      <td>-415.978</td>\n",
       "    </tr>\n",
       "    <tr>\n",
       "      <th>2002-07-31</th>\n",
       "      <td>-431.634</td>\n",
       "    </tr>\n",
       "    <tr>\n",
       "      <th>2002-10-31</th>\n",
       "      <td>-482.967</td>\n",
       "    </tr>\n",
       "    <tr>\n",
       "      <th>2003-01-31</th>\n",
       "      <td>-501.593</td>\n",
       "    </tr>\n",
       "    <tr>\n",
       "      <th>2003-04-30</th>\n",
       "      <td>-501.364</td>\n",
       "    </tr>\n",
       "    <tr>\n",
       "      <th>2003-07-31</th>\n",
       "      <td>-499.917</td>\n",
       "    </tr>\n",
       "    <tr>\n",
       "      <th>2003-10-31</th>\n",
       "      <td>-511.744</td>\n",
       "    </tr>\n",
       "    <tr>\n",
       "      <th>2004-01-31</th>\n",
       "      <td>-546.643</td>\n",
       "    </tr>\n",
       "    <tr>\n",
       "      <th>2004-04-30</th>\n",
       "      <td>-608.021</td>\n",
       "    </tr>\n",
       "    <tr>\n",
       "      <th>2004-07-31</th>\n",
       "      <td>-637.979</td>\n",
       "    </tr>\n",
       "    <tr>\n",
       "      <th>2004-10-31</th>\n",
       "      <td>-684.036</td>\n",
       "    </tr>\n",
       "    <tr>\n",
       "      <th>2005-01-31</th>\n",
       "      <td>-676.782</td>\n",
       "    </tr>\n",
       "    <tr>\n",
       "      <th>2005-04-30</th>\n",
       "      <td>-689.086</td>\n",
       "    </tr>\n",
       "    <tr>\n",
       "      <th>2005-07-31</th>\n",
       "      <td>-731.395</td>\n",
       "    </tr>\n",
       "    <tr>\n",
       "      <th>2005-10-31</th>\n",
       "      <td>-787.480</td>\n",
       "    </tr>\n",
       "    <tr>\n",
       "      <th>2006-01-31</th>\n",
       "      <td>-777.220</td>\n",
       "    </tr>\n",
       "    <tr>\n",
       "      <th>2006-04-30</th>\n",
       "      <td>-781.568</td>\n",
       "    </tr>\n",
       "    <tr>\n",
       "      <th>...</th>\n",
       "      <td>...</td>\n",
       "    </tr>\n",
       "    <tr>\n",
       "      <th>2010-04-30</th>\n",
       "      <td>-523.229</td>\n",
       "    </tr>\n",
       "    <tr>\n",
       "      <th>2010-07-31</th>\n",
       "      <td>-535.014</td>\n",
       "    </tr>\n",
       "    <tr>\n",
       "      <th>2010-10-31</th>\n",
       "      <td>-503.682</td>\n",
       "    </tr>\n",
       "    <tr>\n",
       "      <th>2011-01-31</th>\n",
       "      <td>-562.477</td>\n",
       "    </tr>\n",
       "    <tr>\n",
       "      <th>2011-04-30</th>\n",
       "      <td>-586.949</td>\n",
       "    </tr>\n",
       "    <tr>\n",
       "      <th>2011-07-31</th>\n",
       "      <td>-572.402</td>\n",
       "    </tr>\n",
       "    <tr>\n",
       "      <th>2011-10-31</th>\n",
       "      <td>-598.149</td>\n",
       "    </tr>\n",
       "    <tr>\n",
       "      <th>2012-01-31</th>\n",
       "      <td>-614.716</td>\n",
       "    </tr>\n",
       "    <tr>\n",
       "      <th>2012-04-30</th>\n",
       "      <td>-580.908</td>\n",
       "    </tr>\n",
       "    <tr>\n",
       "      <th>2012-07-31</th>\n",
       "      <td>-535.180</td>\n",
       "    </tr>\n",
       "    <tr>\n",
       "      <th>2012-10-31</th>\n",
       "      <td>-531.843</td>\n",
       "    </tr>\n",
       "    <tr>\n",
       "      <th>2013-01-31</th>\n",
       "      <td>-519.513</td>\n",
       "    </tr>\n",
       "    <tr>\n",
       "      <th>2013-04-30</th>\n",
       "      <td>-514.719</td>\n",
       "    </tr>\n",
       "    <tr>\n",
       "      <th>2013-07-31</th>\n",
       "      <td>-492.902</td>\n",
       "    </tr>\n",
       "    <tr>\n",
       "      <th>2013-10-31</th>\n",
       "      <td>-440.885</td>\n",
       "    </tr>\n",
       "    <tr>\n",
       "      <th>2014-01-31</th>\n",
       "      <td>-516.444</td>\n",
       "    </tr>\n",
       "    <tr>\n",
       "      <th>2014-04-30</th>\n",
       "      <td>-512.654</td>\n",
       "    </tr>\n",
       "    <tr>\n",
       "      <th>2014-07-31</th>\n",
       "      <td>-489.127</td>\n",
       "    </tr>\n",
       "    <tr>\n",
       "      <th>2014-10-31</th>\n",
       "      <td>-519.811</td>\n",
       "    </tr>\n",
       "    <tr>\n",
       "      <th>2015-01-31</th>\n",
       "      <td>-538.223</td>\n",
       "    </tr>\n",
       "    <tr>\n",
       "      <th>2015-04-30</th>\n",
       "      <td>-507.064</td>\n",
       "    </tr>\n",
       "    <tr>\n",
       "      <th>2015-07-31</th>\n",
       "      <td>-530.779</td>\n",
       "    </tr>\n",
       "    <tr>\n",
       "      <th>2015-10-31</th>\n",
       "      <td>-520.103</td>\n",
       "    </tr>\n",
       "    <tr>\n",
       "      <th>2016-01-31</th>\n",
       "      <td>-526.236</td>\n",
       "    </tr>\n",
       "    <tr>\n",
       "      <th>2016-04-30</th>\n",
       "      <td>-501.567</td>\n",
       "    </tr>\n",
       "    <tr>\n",
       "      <th>2016-07-31</th>\n",
       "      <td>-492.834</td>\n",
       "    </tr>\n",
       "    <tr>\n",
       "      <th>2016-10-31</th>\n",
       "      <td>-564.320</td>\n",
       "    </tr>\n",
       "    <tr>\n",
       "      <th>2017-01-31</th>\n",
       "      <td>-582.844</td>\n",
       "    </tr>\n",
       "    <tr>\n",
       "      <th>2017-04-30</th>\n",
       "      <td>-567.236</td>\n",
       "    </tr>\n",
       "    <tr>\n",
       "      <th>2017-07-31</th>\n",
       "      <td>-531.687</td>\n",
       "    </tr>\n",
       "  </tbody>\n",
       "</table>\n",
       "<p>75 rows × 1 columns</p>\n",
       "</div>"
      ],
      "text/plain": [
       "             NETEXP\n",
       "1999-01-31 -208.515\n",
       "1999-04-30 -245.428\n",
       "1999-07-31 -276.106\n",
       "1999-10-31 -296.475\n",
       "2000-01-31 -352.760\n",
       "2000-04-30 -359.587\n",
       "2000-07-31 -388.487\n",
       "2000-10-31 -402.351\n",
       "2001-01-31 -391.688\n",
       "2001-04-30 -359.331\n",
       "2001-07-31 -366.666\n",
       "2001-10-31 -357.048\n",
       "2002-01-31 -375.263\n",
       "2002-04-30 -415.978\n",
       "2002-07-31 -431.634\n",
       "2002-10-31 -482.967\n",
       "2003-01-31 -501.593\n",
       "2003-04-30 -501.364\n",
       "2003-07-31 -499.917\n",
       "2003-10-31 -511.744\n",
       "2004-01-31 -546.643\n",
       "2004-04-30 -608.021\n",
       "2004-07-31 -637.979\n",
       "2004-10-31 -684.036\n",
       "2005-01-31 -676.782\n",
       "2005-04-30 -689.086\n",
       "2005-07-31 -731.395\n",
       "2005-10-31 -787.480\n",
       "2006-01-31 -777.220\n",
       "2006-04-30 -781.568\n",
       "...             ...\n",
       "2010-04-30 -523.229\n",
       "2010-07-31 -535.014\n",
       "2010-10-31 -503.682\n",
       "2011-01-31 -562.477\n",
       "2011-04-30 -586.949\n",
       "2011-07-31 -572.402\n",
       "2011-10-31 -598.149\n",
       "2012-01-31 -614.716\n",
       "2012-04-30 -580.908\n",
       "2012-07-31 -535.180\n",
       "2012-10-31 -531.843\n",
       "2013-01-31 -519.513\n",
       "2013-04-30 -514.719\n",
       "2013-07-31 -492.902\n",
       "2013-10-31 -440.885\n",
       "2014-01-31 -516.444\n",
       "2014-04-30 -512.654\n",
       "2014-07-31 -489.127\n",
       "2014-10-31 -519.811\n",
       "2015-01-31 -538.223\n",
       "2015-04-30 -507.064\n",
       "2015-07-31 -530.779\n",
       "2015-10-31 -520.103\n",
       "2016-01-31 -526.236\n",
       "2016-04-30 -501.567\n",
       "2016-07-31 -492.834\n",
       "2016-10-31 -564.320\n",
       "2017-01-31 -582.844\n",
       "2017-04-30 -567.236\n",
       "2017-07-31 -531.687\n",
       "\n",
       "[75 rows x 1 columns]"
      ]
     },
     "execution_count": 98,
     "metadata": {},
     "output_type": "execute_result"
    }
   ],
   "source": [
    " fin_specific.iloc[::3,[1]]"
   ]
  },
  {
   "cell_type": "code",
   "execution_count": 99,
   "metadata": {},
   "outputs": [
    {
     "data": {
      "text/plain": [
       "0.1770280315564828"
      ]
     },
     "execution_count": 99,
     "metadata": {},
     "output_type": "execute_result"
    }
   ],
   "source": [
    "(-245.428-(-208.515))/(-208.515)"
   ]
  },
  {
   "cell_type": "code",
   "execution_count": 48,
   "metadata": {},
   "outputs": [],
   "source": [
    "tech_y = tech_data.iloc[:,[0]]\n",
    "tech_x = tech_data.iloc[:,1:]"
   ]
  },
  {
   "cell_type": "code",
   "execution_count": 3,
   "metadata": {
    "collapsed": true
   },
   "outputs": [],
   "source": [
    "import pandas as pd\n",
    "import numpy as np\n",
    "import os\n",
    "from sklearn.linear_model import LogisticRegression\n",
    "from sklearn.linear_model import LinearRegression"
   ]
  },
  {
   "cell_type": "code",
   "execution_count": 5,
   "metadata": {},
   "outputs": [
    {
     "name": "stderr",
     "output_type": "stream",
     "text": [
      "/home/luke/anaconda2/lib/python2.7/site-packages/statsmodels/compat/pandas.py:56: FutureWarning: The pandas.core.datetools module is deprecated and will be removed in a future version. Please use the pandas.tseries module instead.\n",
      "  from pandas.core import datetools\n"
     ]
    }
   ],
   "source": [
    "%run -i financial_sector_functions.py"
   ]
  },
  {
   "cell_type": "code",
   "execution_count": 6,
   "metadata": {},
   "outputs": [],
   "source": [
    "%run -i financial_sector_ret_space.py"
   ]
  },
  {
   "cell_type": "code",
   "execution_count": 14,
   "metadata": {},
   "outputs": [],
   "source": [
    "econ_x,sector_ind_ret = model_data(econ_x,sector_ind_ret)"
   ]
  },
  {
   "cell_type": "code",
   "execution_count": 53,
   "metadata": {},
   "outputs": [
    {
     "name": "stdout",
     "output_type": "stream",
     "text": [
      "0.786547164603\n"
     ]
    }
   ],
   "source": [
    "x= tech_x\n",
    "y= tech_y\n",
    "linear = sm.OLS(y, x)\n",
    "results = linear.fit()\n",
    "\n",
    "y_predict = pd.DataFrame(results.predict(x),index = x.index)\n",
    "metric_value = evaluate_metric(y,y_predict,'r2')\n",
    "print(metric_value)"
   ]
  },
  {
   "cell_type": "code",
   "execution_count": 57,
   "metadata": {},
   "outputs": [
    {
     "data": {
      "image/png": "[encoded data removed]",
      "text/plain": [
       "<matplotlib.figure.Figure at 0x7f9765283490>"
      ]
     },
     "metadata": {},
     "output_type": "display_data"
    }
   ],
   "source": [
    "plt.figure(figsize = (15,5))\n",
    "plt.plot(y,'k-')\n",
    "plt.plot(y_predict,'r-')\n",
    "plt.show()"
   ]
  },
  {
   "cell_type": "code",
   "execution_count": null,
   "metadata": {
    "collapsed": true
   },
   "outputs": [],
   "source": []
  },
  {
   "cell_type": "code",
   "execution_count": null,
   "metadata": {
    "collapsed": true
   },
   "outputs": [],
   "source": []
  },
  {
   "cell_type": "code",
   "execution_count": null,
   "metadata": {
    "collapsed": true
   },
   "outputs": [],
   "source": []
  },
  {
   "cell_type": "code",
   "execution_count": null,
   "metadata": {
    "collapsed": true
   },
   "outputs": [],
   "source": []
  },
  {
   "cell_type": "code",
   "execution_count": null,
   "metadata": {
    "collapsed": true
   },
   "outputs": [],
   "source": []
  }
 ],
 "metadata": {
  "kernelspec": {
   "display_name": "Python 2",
   "language": "python",
   "name": "python2"
  },
  "language_info": {
   "codemirror_mode": {
    "name": "ipython",
    "version": 2
   },
   "file_extension": ".py",
   "mimetype": "text/x-python",
   "name": "python",
   "nbconvert_exporter": "python",
   "pygments_lexer": "ipython2",
   "version": "2.7.13"
  }
 },
 "nbformat": 4,
 "nbformat_minor": 2
}
