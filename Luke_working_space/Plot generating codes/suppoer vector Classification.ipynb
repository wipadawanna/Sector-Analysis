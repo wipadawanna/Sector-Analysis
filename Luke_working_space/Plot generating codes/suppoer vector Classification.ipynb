{
 "cells": [
  {
   "cell_type": "code",
   "execution_count": 35,
   "metadata": {
    "collapsed": true
   },
   "outputs": [],
   "source": [
    "import pandas as pd\n",
    "import numpy as np\n",
    "from sklearn.linear_model import LogisticRegression\n",
    "import matplotlib.pyplot as plt\n",
    "from sklearn import svm\n",
    "from pandas.tseries.offsets import MonthEnd\n",
    "%matplotlib inline"
   ]
  },
  {
   "cell_type": "code",
   "execution_count": 3,
   "metadata": {},
   "outputs": [
    {
     "name": "stderr",
     "output_type": "stream",
     "text": [
      "/home/luke/anaconda2/lib/python2.7/site-packages/statsmodels/compat/pandas.py:56: FutureWarning: The pandas.core.datetools module is deprecated and will be removed in a future version. Please use the pandas.tseries module instead.\n",
      "  from pandas.core import datetools\n"
     ]
    }
   ],
   "source": [
    "%run -i financial_sector_functions.py"
   ]
  },
  {
   "cell_type": "code",
   "execution_count": 4,
   "metadata": {
    "collapsed": true
   },
   "outputs": [],
   "source": [
    "def return_function(df):\n",
    "    if type(df)!=pd.DataFrame:\n",
    "        df = pd.DataFrame(df)\n",
    "    out_df = (df.shift(-1)-df)/df\n",
    "    return out_df"
   ]
  },
  {
   "cell_type": "code",
   "execution_count": 8,
   "metadata": {
    "collapsed": true
   },
   "outputs": [],
   "source": [
    "data = pd.read_csv(\"financial_sector_clean_return_space_Dec_13.csv\")\n",
    "data.index = pd.DatetimeIndex(data.iloc[:,[0]].values.flatten())\n",
    "data = data.iloc[:,1:]\n",
    "\n",
    "sp500 = pd.read_csv('/home/luke/workspace/Sector-Analysis/data/CFRM521_final_project/SPX500.csv')\n",
    "sp500.index = pd.DatetimeIndex(sp500.iloc[:,[0]].values.flatten())\n",
    "sp500 = sp500.iloc[:,[1]]\n",
    "sp500 = return_function(sp500)\n",
    "sector_return = data.iloc[:,[0]]\n",
    "x_data = data.iloc[:,1:]\n",
    "sector_return,x_data = model_data(sector_return,x_data)\n",
    "sector_return,sp500 = model_data(sector_return,sp500)\n",
    "\n",
    "sector_beat_benchmark = pd.DataFrame((sector_return.values > sp500.values)*1,index = sector_return.index,columns = ['IFY beat benchmark'])"
   ]
  },
  {
   "cell_type": "code",
   "execution_count": 28,
   "metadata": {},
   "outputs": [],
   "source": [
    "result_df = pd.DataFrame()\n",
    "for gamma_value in map(lambda x: 10**(float(x)),np.arange(-3,4)):\n",
    "    for c in np.linspace(0.1,10,20):\n",
    "        svc_model = svm.SVC(C=c,gamma=gamma_value)\n",
    "        svc_model.fit(x_data, sector_beat_benchmark)\n",
    "        result_df.loc[gamma_value,c]=(svc_model.score(X=x_data,y=sector_beat_benchmark))"
   ]
  },
  {
   "cell_type": "code",
   "execution_count": 36,
   "metadata": {
    "collapsed": true
   },
   "outputs": [],
   "source": [
    "def svc_fit_function(x,y,nunmber_of_years_lookback,month_forecast,c,gamma_value):\n",
    "#     y,benchmark = model_data(y,benchmark)\n",
    "    logistic_result_dict = {}\n",
    "    coef_all_df = pd.DataFrame()\n",
    "    accuracy_dict = {}\n",
    "    y_prediction_dict ={}\n",
    "    number_of_runs = 0.0\n",
    "    \n",
    "    coef_pval_all = pd.DataFrame()\n",
    "    coef_all = pd.DataFrame()\n",
    "    for dt_index in x.index[x.index>=x.index.min()+pd.DateOffset(years = nunmber_of_years_lookback)][:-(month_forecast-1)]:\n",
    "        begin_index,end_index = dt_index+pd.DateOffset(years = -nunmber_of_years_lookback)+MonthEnd(0),dt_index+MonthEnd(-1)\n",
    "        selection = (x.index>=begin_index) & (x.index <= end_index)\n",
    "        spliced_x = x[selection]\n",
    "        spliced_y = y[selection]\n",
    "\n",
    "        assert(len(spliced_x.index)==nunmber_of_years_lookback*12)\n",
    "        model = sm.OLS(spliced_y,spliced_x)\n",
    "        result = model.fit()\n",
    "        svc_model = svm.SVC(C=c,gamma=gamma_value)\n",
    "        svc_model.fit(spliced_x, spliced_y)\n",
    "\n",
    "        test_begin_index,test_end_index = dt_index+pd.DateOffset(months=+1)+MonthEnd(-1),dt_index+pd.DateOffset(months=+month_forecast)+MonthEnd(-1)\n",
    "        test_selection = (x.index>=test_begin_index) & (x.index<=test_end_index)\n",
    "        test_x = x[test_selection]\n",
    "        test_y = y[test_selection]\n",
    "        \n",
    "        assert(len(test_y)==month_forecast)\n",
    "        y_prediction = pd.DataFrame(svc_model.predict(test_x),index = test_x.index,columns = ['predict'])\n",
    "        y_prediction_dict[dt_index] = y_prediction\n",
    "        \n",
    "        accuracy_df = pd.DataFrame((y_prediction.values==test_y.values)*1,index=test_y.index)\n",
    "        accuracy_dict[dt_index] = accuracy_df\n",
    "        number_of_runs +=1\n",
    "\n",
    "    mean_accuracy_list = []\n",
    "    for key,value in accuracy_dict.iteritems():\n",
    "        mean_accuracy_list.append((value.values.flatten()))\n",
    "    average_accuracy = np.mean(mean_accuracy_list)\n",
    "    return average_accuracy"
   ]
  },
  {
   "cell_type": "code",
   "execution_count": 43,
   "metadata": {},
   "outputs": [],
   "source": [
    "month = 3\n",
    "year = 10\n",
    "\n",
    "def svc_choose_year_month(month,year):\n",
    "    result_df = pd.DataFrame()\n",
    "    for gamma_value in map(lambda x: 10**(float(x)),np.arange(-3,4)):\n",
    "        for c in np.linspace(0.1,10,20):\n",
    "            accuracy = svc_fit_function(x=x_data,y=sector_beat_benchmark,\n",
    "                             nunmber_of_years_lookback=year,month_forecast=month,c=c,gamma_value=gamma_value)\n",
    "            result_df.loc[gamma_value,c] = accuracy\n",
    "    selected_C, selected_lambda = result_df.max(axis=0).idxmax(),result_df.max(axis=1).idxmax()\n",
    "    max_acf = np.max(result_df.values)\n",
    "    return max_acf,selected_C,selected_lambda"
   ]
  },
  {
   "cell_type": "code",
   "execution_count": 46,
   "metadata": {},
   "outputs": [],
   "source": [
    "accuracy_df = pd.DataFrame()\n",
    "C_df = pd.DataFrame()\n",
    "lambda_df = pd.DataFrame()\n",
    "\n",
    "for month in np.arange(3,12+1):\n",
    "    for year in np.arange(3,11):\n",
    "        max_acf,selected_C,selected_lambda = svc_choose_year_month(month,year)\n",
    "        accuracy_df.loc[str(year)+\" year\",str(month)+\" month\"]=max_acf\n",
    "        C_df.loc[str(year)+\" year\",str(month)+\" month\"]=selected_C\n",
    "        lambda_df.loc[str(year)+\" year\",str(month)+\" month\"]=selected_lambda"
   ]
  },
  {
   "cell_type": "code",
   "execution_count": 47,
   "metadata": {},
   "outputs": [
    {
     "data": {
      "text/plain": [
       "(0.6216216216216216,\n",
       "           3 month   4 month   5 month   6 month   7 month   8 month   9 month  \\\n",
       " 3 year   0.584906  0.580696  0.577070  0.577991  0.575115  0.573052  0.574437   \n",
       " 4 year   0.585034  0.587329  0.584828  0.581019  0.577423  0.579225  0.576832   \n",
       " 5 year   0.590123  0.587687  0.581955  0.582071  0.582334  0.582692  0.579673   \n",
       " 6 year   0.612466  0.608607  0.606612  0.600000  0.593037  0.591102  0.586895   \n",
       " 7 year   0.609610  0.611364  0.603670  0.591049  0.580774  0.573113  0.569312   \n",
       " 8 year   0.599327  0.599490  0.595876  0.592014  0.584962  0.583777  0.583035   \n",
       " 9 year   0.601533  0.604651  0.607059  0.613095  0.614458  0.614329  0.611797   \n",
       " 10 year  0.617778  0.621622  0.619178  0.618056  0.615694  0.617857  0.615137   \n",
       " \n",
       "          10 month  11 month  12 month  \n",
       " 3 year   0.573026  0.570138  0.570556  \n",
       " 4 year   0.574286  0.571615  0.570652  \n",
       " 5 year   0.577344  0.574087  0.570767  \n",
       " 6 year   0.583621  0.581818  0.578947  \n",
       " 7 year   0.565385  0.562224  0.559641  \n",
       " 8 year   0.581522  0.579421  0.577778  \n",
       " 9 year   0.608750  0.606444  0.606838  \n",
       " 10 year  0.610294  0.606513  0.603535  )"
      ]
     },
     "execution_count": 47,
     "metadata": {},
     "output_type": "execute_result"
    }
   ],
   "source": [
    "np.max(accuracy_df.values),accuracy_df"
   ]
  },
  {
   "cell_type": "code",
   "execution_count": 48,
   "metadata": {},
   "outputs": [
    {
     "data": {
      "text/plain": [
       "1"
      ]
     },
     "execution_count": 48,
     "metadata": {},
     "output_type": "execute_result"
    }
   ],
   "source": [
    "1"
   ]
  }
 ],
 "metadata": {
  "kernelspec": {
   "display_name": "Python 2",
   "language": "python",
   "name": "python2"
  },
  "language_info": {
   "codemirror_mode": {
    "name": "ipython",
    "version": 2
   },
   "file_extension": ".py",
   "mimetype": "text/x-python",
   "name": "python",
   "nbconvert_exporter": "python",
   "pygments_lexer": "ipython2",
   "version": "2.7.13"
  }
 },
 "nbformat": 4,
 "nbformat_minor": 2
}
