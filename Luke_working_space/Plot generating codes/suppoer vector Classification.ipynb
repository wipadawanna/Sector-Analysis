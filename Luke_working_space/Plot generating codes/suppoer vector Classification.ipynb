{
 "cells": [
  {
   "cell_type": "code",
   "execution_count": 35,
   "metadata": {
    "collapsed": true
   },
   "outputs": [],
   "source": [
    "import pandas as pd\n",
    "import numpy as np\n",
    "from sklearn.linear_model import LogisticRegression\n",
    "import matplotlib.pyplot as plt\n",
    "from sklearn import svm\n",
    "from pandas.tseries.offsets import MonthEnd\n",
    "%matplotlib inline"
   ]
  },
  {
   "cell_type": "code",
   "execution_count": 3,
   "metadata": {},
   "outputs": [
    {
     "name": "stderr",
     "output_type": "stream",
     "text": [
      "/home/luke/anaconda2/lib/python2.7/site-packages/statsmodels/compat/pandas.py:56: FutureWarning: The pandas.core.datetools module is deprecated and will be removed in a future version. Please use the pandas.tseries module instead.\n",
      "  from pandas.core import datetools\n"
     ]
    }
   ],
   "source": [
    "%run -i financial_sector_functions.py"
   ]
  },
  {
   "cell_type": "code",
   "execution_count": 4,
   "metadata": {
    "collapsed": true
   },
   "outputs": [],
   "source": [
    "def return_function(df):\n",
    "    if type(df)!=pd.DataFrame:\n",
    "        df = pd.DataFrame(df)\n",
    "    out_df = (df.shift(-1)-df)/df\n",
    "    return out_df"
   ]
  },
  {
   "cell_type": "code",
   "execution_count": 8,
   "metadata": {
    "collapsed": true
   },
   "outputs": [],
   "source": [
    "data = pd.read_csv(\"financial_sector_clean_return_space_Dec_13.csv\")\n",
    "data.index = pd.DatetimeIndex(data.iloc[:,[0]].values.flatten())\n",
    "data = data.iloc[:,1:]\n",
    "\n",
    "sp500 = pd.read_csv('/home/luke/workspace/Sector-Analysis/data/CFRM521_final_project/SPX500.csv')\n",
    "sp500.index = pd.DatetimeIndex(sp500.iloc[:,[0]].values.flatten())\n",
    "sp500 = sp500.iloc[:,[1]]\n",
    "sp500 = return_function(sp500)\n",
    "sector_return = data.iloc[:,[0]]\n",
    "x_data = data.iloc[:,1:]\n",
    "sector_return,x_data = model_data(sector_return,x_data)\n",
    "sector_return,sp500 = model_data(sector_return,sp500)\n",
    "\n",
    "sector_beat_benchmark = pd.DataFrame((sector_return.values > sp500.values)*1,index = sector_return.index,columns = ['IFY beat benchmark'])"
   ]
  },
  {
   "cell_type": "code",
   "execution_count": 28,
   "metadata": {},
   "outputs": [],
   "source": [
    "result_df = pd.DataFrame()\n",
    "for gamma_value in map(lambda x: 10**(float(x)),np.arange(-3,4)):\n",
    "    for c in np.linspace(0.1,10,20):\n",
    "        svc_model = svm.SVC(C=c,gamma=gamma_value)\n",
    "        svc_model.fit(x_data, sector_beat_benchmark)\n",
    "        result_df.loc[gamma_value,c]=(svc_model.score(X=x_data,y=sector_beat_benchmark))"
   ]
  },
  {
   "cell_type": "code",
   "execution_count": 36,
   "metadata": {
    "collapsed": true
   },
   "outputs": [],
   "source": [
    "def svc_fit_function(x,y,nunmber_of_years_lookback,month_forecast,c,gamma_value):\n",
    "#     y,benchmark = model_data(y,benchmark)\n",
    "    logistic_result_dict = {}\n",
    "    coef_all_df = pd.DataFrame()\n",
    "    accuracy_dict = {}\n",
    "    y_prediction_dict ={}\n",
    "    number_of_runs = 0.0\n",
    "    \n",
    "    coef_pval_all = pd.DataFrame()\n",
    "    coef_all = pd.DataFrame()\n",
    "    for dt_index in x.index[x.index>=x.index.min()+pd.DateOffset(years = nunmber_of_years_lookback)][:-(month_forecast-1)]:\n",
    "        begin_index,end_index = dt_index+pd.DateOffset(years = -nunmber_of_years_lookback)+MonthEnd(0),dt_index+MonthEnd(-1)\n",
    "        selection = (x.index>=begin_index) & (x.index <= end_index)\n",
    "        spliced_x = x[selection]\n",
    "        spliced_y = y[selection]\n",
    "\n",
    "        assert(len(spliced_x.index)==nunmber_of_years_lookback*12)\n",
    "        model = sm.OLS(spliced_y,spliced_x)\n",
    "        result = model.fit()\n",
    "        svc_model = svm.SVC(C=c,gamma=gamma_value)\n",
    "        svc_model.fit(spliced_x, spliced_y)\n",
    "\n",
    "        test_begin_index,test_end_index = dt_index+pd.DateOffset(months=+1)+MonthEnd(-1),dt_index+pd.DateOffset(months=+month_forecast)+MonthEnd(-1)\n",
    "        test_selection = (x.index>=test_begin_index) & (x.index<=test_end_index)\n",
    "        test_x = x[test_selection]\n",
    "        test_y = y[test_selection]\n",
    "        \n",
    "        assert(len(test_y)==month_forecast)\n",
    "        y_prediction = pd.DataFrame(svc_model.predict(test_x),index = test_x.index,columns = ['predict'])\n",
    "        y_prediction_dict[dt_index] = y_prediction\n",
    "        \n",
    "        accuracy_df = pd.DataFrame((y_prediction.values==test_y.values)*1,index=test_y.index)\n",
    "        accuracy_dict[dt_index] = accuracy_df\n",
    "        number_of_runs +=1\n",
    "\n",
    "    mean_accuracy_list = []\n",
    "    for key,value in accuracy_dict.iteritems():\n",
    "        mean_accuracy_list.append((value.values.flatten()))\n",
    "    average_accuracy = np.mean(mean_accuracy_list)\n",
    "    return average_accuracy"
   ]
  },
  {
   "cell_type": "code",
   "execution_count": 77,
   "metadata": {},
   "outputs": [
    {
     "data": {
      "text/plain": [
       "array([  0.1       ,   0.62105263,   1.14210526,   1.66315789,\n",
       "         2.18421053,   2.70526316,   3.22631579,   3.74736842,\n",
       "         4.26842105,   4.78947368,   5.31052632,   5.83157895,\n",
       "         6.35263158,   6.87368421,   7.39473684,   7.91578947,\n",
       "         8.43684211,   8.95789474,   9.47894737,  10.        ])"
      ]
     },
     "execution_count": 77,
     "metadata": {},
     "output_type": "execute_result"
    }
   ],
   "source": [
    "map(lambda x: 10**(float(x)),np.arange(-3,4))\n",
    "np.linspace(0.1,10,20)"
   ]
  },
  {
   "cell_type": "code",
   "execution_count": 43,
   "metadata": {},
   "outputs": [],
   "source": [
    "month = 3\n",
    "year = 10\n",
    "\n",
    "def svc_choose_year_month(month,year):\n",
    "    result_df = pd.DataFrame()\n",
    "    for gamma_value in map(lambda x: 10**(float(x)),np.arange(-3,4)):\n",
    "        for c in np.linspace(0.1,10,20):\n",
    "            accuracy = svc_fit_function(x=x_data,y=sector_beat_benchmark,\n",
    "                             nunmber_of_years_lookback=year,month_forecast=month,c=c,gamma_value=gamma_value)\n",
    "            result_df.loc[gamma_value,c] = accuracy\n",
    "    selected_C, selected_lambda = result_df.max(axis=0).idxmax(),result_df.max(axis=1).idxmax()\n",
    "    max_acf = np.max(result_df.values)\n",
    "    return max_acf,selected_C,selected_lambda"
   ]
  },
  {
   "cell_type": "code",
   "execution_count": 46,
   "metadata": {},
   "outputs": [],
   "source": [
    "accuracy_df = pd.DataFrame()\n",
    "C_df = pd.DataFrame()\n",
    "lambda_df = pd.DataFrame()\n",
    "\n",
    "for month in np.arange(3,12+1):\n",
    "    for year in np.arange(3,11):\n",
    "        max_acf,selected_C,selected_lambda = svc_choose_year_month(month,year)\n",
    "        accuracy_df.loc[str(year)+\" year\",str(month)+\" month\"]=max_acf\n",
    "        C_df.loc[str(year)+\" year\",str(month)+\" month\"]=selected_C\n",
    "        lambda_df.loc[str(year)+\" year\",str(month)+\" month\"]=selected_lambda"
   ]
  },
  {
   "cell_type": "code",
   "execution_count": 72,
   "metadata": {},
   "outputs": [
    {
     "data": {
      "text/html": [
       "<div>\n",
       "<style>\n",
       "    .dataframe thead tr:only-child th {\n",
       "        text-align: right;\n",
       "    }\n",
       "\n",
       "    .dataframe thead th {\n",
       "        text-align: left;\n",
       "    }\n",
       "\n",
       "    .dataframe tbody tr th {\n",
       "        vertical-align: top;\n",
       "    }\n",
       "</style>\n",
       "<table border=\"1\" class=\"dataframe\">\n",
       "  <thead>\n",
       "    <tr style=\"text-align: right;\">\n",
       "      <th></th>\n",
       "      <th>0</th>\n",
       "    </tr>\n",
       "  </thead>\n",
       "  <tbody>\n",
       "    <tr>\n",
       "      <th>2017-01-31</th>\n",
       "      <td>0</td>\n",
       "    </tr>\n",
       "    <tr>\n",
       "      <th>2017-02-28</th>\n",
       "      <td>1</td>\n",
       "    </tr>\n",
       "    <tr>\n",
       "      <th>2017-03-31</th>\n",
       "      <td>0</td>\n",
       "    </tr>\n",
       "    <tr>\n",
       "      <th>2017-04-30</th>\n",
       "      <td>1</td>\n",
       "    </tr>\n",
       "  </tbody>\n",
       "</table>\n",
       "</div>"
      ],
      "text/plain": [
       "            0\n",
       "2017-01-31  0\n",
       "2017-02-28  1\n",
       "2017-03-31  0\n",
       "2017-04-30  1"
      ]
     },
     "execution_count": 72,
     "metadata": {},
     "output_type": "execute_result"
    }
   ],
   "source": []
  },
  {
   "cell_type": "code",
   "execution_count": 49,
   "metadata": {},
   "outputs": [
    {
     "data": {
      "text/plain": [
       "('4 month', '10 year')"
      ]
     },
     "execution_count": 49,
     "metadata": {},
     "output_type": "execute_result"
    }
   ],
   "source": [
    "# accuracy_df\n",
    "\n",
    "# max_year, max_lambda = \n",
    "accuracy_df.max(axis=0).idxmax(),accuracy_df.max(axis=1).idxmax()"
   ]
  },
  {
   "cell_type": "code",
   "execution_count": 51,
   "metadata": {},
   "outputs": [
    {
     "data": {
      "text/plain": [
       "2.7052631578947373"
      ]
     },
     "execution_count": 51,
     "metadata": {},
     "output_type": "execute_result"
    }
   ],
   "source": [
    "C_df.loc['10 year','4 month']"
   ]
  },
  {
   "cell_type": "code",
   "execution_count": 54,
   "metadata": {
    "scrolled": true
   },
   "outputs": [
    {
     "name": "stdout",
     "output_type": "stream",
     "text": [
      "100.0\n"
     ]
    },
    {
     "data": {
      "text/html": [
       "<div>\n",
       "<style>\n",
       "    .dataframe thead tr:only-child th {\n",
       "        text-align: right;\n",
       "    }\n",
       "\n",
       "    .dataframe thead th {\n",
       "        text-align: left;\n",
       "    }\n",
       "\n",
       "    .dataframe tbody tr th {\n",
       "        vertical-align: top;\n",
       "    }\n",
       "</style>\n",
       "<table border=\"1\" class=\"dataframe\">\n",
       "  <thead>\n",
       "    <tr style=\"text-align: right;\">\n",
       "      <th></th>\n",
       "      <th>3 month</th>\n",
       "      <th>4 month</th>\n",
       "      <th>5 month</th>\n",
       "      <th>6 month</th>\n",
       "      <th>7 month</th>\n",
       "      <th>8 month</th>\n",
       "      <th>9 month</th>\n",
       "      <th>10 month</th>\n",
       "      <th>11 month</th>\n",
       "      <th>12 month</th>\n",
       "    </tr>\n",
       "  </thead>\n",
       "  <tbody>\n",
       "    <tr>\n",
       "      <th>3 year</th>\n",
       "      <td>100.0</td>\n",
       "      <td>100.0</td>\n",
       "      <td>100.0</td>\n",
       "      <td>100.0</td>\n",
       "      <td>100.0</td>\n",
       "      <td>100.0</td>\n",
       "      <td>100.0</td>\n",
       "      <td>100.0</td>\n",
       "      <td>100.0</td>\n",
       "      <td>10.0</td>\n",
       "    </tr>\n",
       "    <tr>\n",
       "      <th>4 year</th>\n",
       "      <td>100.0</td>\n",
       "      <td>100.0</td>\n",
       "      <td>100.0</td>\n",
       "      <td>100.0</td>\n",
       "      <td>100.0</td>\n",
       "      <td>100.0</td>\n",
       "      <td>100.0</td>\n",
       "      <td>1.0</td>\n",
       "      <td>1.0</td>\n",
       "      <td>1.0</td>\n",
       "    </tr>\n",
       "    <tr>\n",
       "      <th>5 year</th>\n",
       "      <td>10.0</td>\n",
       "      <td>10.0</td>\n",
       "      <td>10.0</td>\n",
       "      <td>10.0</td>\n",
       "      <td>10.0</td>\n",
       "      <td>10.0</td>\n",
       "      <td>10.0</td>\n",
       "      <td>100.0</td>\n",
       "      <td>100.0</td>\n",
       "      <td>100.0</td>\n",
       "    </tr>\n",
       "    <tr>\n",
       "      <th>6 year</th>\n",
       "      <td>100.0</td>\n",
       "      <td>100.0</td>\n",
       "      <td>100.0</td>\n",
       "      <td>100.0</td>\n",
       "      <td>100.0</td>\n",
       "      <td>100.0</td>\n",
       "      <td>100.0</td>\n",
       "      <td>100.0</td>\n",
       "      <td>100.0</td>\n",
       "      <td>100.0</td>\n",
       "    </tr>\n",
       "    <tr>\n",
       "      <th>7 year</th>\n",
       "      <td>100.0</td>\n",
       "      <td>100.0</td>\n",
       "      <td>100.0</td>\n",
       "      <td>100.0</td>\n",
       "      <td>100.0</td>\n",
       "      <td>100.0</td>\n",
       "      <td>100.0</td>\n",
       "      <td>100.0</td>\n",
       "      <td>100.0</td>\n",
       "      <td>100.0</td>\n",
       "    </tr>\n",
       "    <tr>\n",
       "      <th>8 year</th>\n",
       "      <td>100.0</td>\n",
       "      <td>100.0</td>\n",
       "      <td>100.0</td>\n",
       "      <td>100.0</td>\n",
       "      <td>100.0</td>\n",
       "      <td>100.0</td>\n",
       "      <td>100.0</td>\n",
       "      <td>100.0</td>\n",
       "      <td>100.0</td>\n",
       "      <td>100.0</td>\n",
       "    </tr>\n",
       "    <tr>\n",
       "      <th>9 year</th>\n",
       "      <td>100.0</td>\n",
       "      <td>100.0</td>\n",
       "      <td>100.0</td>\n",
       "      <td>100.0</td>\n",
       "      <td>100.0</td>\n",
       "      <td>100.0</td>\n",
       "      <td>100.0</td>\n",
       "      <td>100.0</td>\n",
       "      <td>100.0</td>\n",
       "      <td>100.0</td>\n",
       "    </tr>\n",
       "    <tr>\n",
       "      <th>10 year</th>\n",
       "      <td>100.0</td>\n",
       "      <td>100.0</td>\n",
       "      <td>100.0</td>\n",
       "      <td>100.0</td>\n",
       "      <td>100.0</td>\n",
       "      <td>100.0</td>\n",
       "      <td>100.0</td>\n",
       "      <td>100.0</td>\n",
       "      <td>100.0</td>\n",
       "      <td>100.0</td>\n",
       "    </tr>\n",
       "  </tbody>\n",
       "</table>\n",
       "</div>"
      ],
      "text/plain": [
       "         3 month  4 month  5 month  6 month  7 month  8 month  9 month  \\\n",
       "3 year     100.0    100.0    100.0    100.0    100.0    100.0    100.0   \n",
       "4 year     100.0    100.0    100.0    100.0    100.0    100.0    100.0   \n",
       "5 year      10.0     10.0     10.0     10.0     10.0     10.0     10.0   \n",
       "6 year     100.0    100.0    100.0    100.0    100.0    100.0    100.0   \n",
       "7 year     100.0    100.0    100.0    100.0    100.0    100.0    100.0   \n",
       "8 year     100.0    100.0    100.0    100.0    100.0    100.0    100.0   \n",
       "9 year     100.0    100.0    100.0    100.0    100.0    100.0    100.0   \n",
       "10 year    100.0    100.0    100.0    100.0    100.0    100.0    100.0   \n",
       "\n",
       "         10 month  11 month  12 month  \n",
       "3 year      100.0     100.0      10.0  \n",
       "4 year        1.0       1.0       1.0  \n",
       "5 year      100.0     100.0     100.0  \n",
       "6 year      100.0     100.0     100.0  \n",
       "7 year      100.0     100.0     100.0  \n",
       "8 year      100.0     100.0     100.0  \n",
       "9 year      100.0     100.0     100.0  \n",
       "10 year     100.0     100.0     100.0  "
      ]
     },
     "execution_count": 54,
     "metadata": {},
     "output_type": "execute_result"
    }
   ],
   "source": [
    "print(lambda_df.loc['10 year','4 month'])\n",
    "lambda_df"
   ]
  },
  {
   "cell_type": "code",
   "execution_count": 74,
   "metadata": {},
   "outputs": [
    {
     "data": {
      "text/plain": [
       "0.52364864864864868"
      ]
     },
     "execution_count": 74,
     "metadata": {},
     "output_type": "execute_result"
    }
   ],
   "source": [
    "# svc_fit_function(\n",
    "x=x_data\n",
    "y = sector_beat_benchmark\n",
    "nunmber_of_years_lookback=10\n",
    "month_forecast=4\n",
    "c = 10\n",
    "# 2.705\n",
    "gamma_value=0.1\n",
    "# 100.0\n",
    "    \n",
    "\n",
    "#     y,benchmark = model_data(y,benchmark)\n",
    "logistic_result_dict = {}\n",
    "coef_all_df = pd.DataFrame()\n",
    "accuracy_dict = {}\n",
    "y_prediction_dict ={}\n",
    "number_of_runs = 0.0\n",
    "\n",
    "coef_pval_all = pd.DataFrame()\n",
    "coef_all = pd.DataFrame()\n",
    "for dt_index in x.index[x.index>=x.index.min()+pd.DateOffset(years = nunmber_of_years_lookback)][:-(month_forecast-1)]:\n",
    "    begin_index,end_index = dt_index+pd.DateOffset(years = -nunmber_of_years_lookback)+MonthEnd(0),dt_index+MonthEnd(-1)\n",
    "    selection = (x.index>=begin_index) & (x.index <= end_index)\n",
    "    spliced_x = x[selection]\n",
    "    spliced_y = y[selection]\n",
    "\n",
    "    assert(len(spliced_x.index)==nunmber_of_years_lookback*12)\n",
    "    model = sm.OLS(spliced_y,spliced_x)\n",
    "    result = model.fit()\n",
    "    svc_model = svm.SVC(C=c,gamma=gamma_value)\n",
    "    svc_model.fit(spliced_x, spliced_y)\n",
    "\n",
    "    test_begin_index,test_end_index = dt_index+pd.DateOffset(months=+1)+MonthEnd(-1),dt_index+pd.DateOffset(months=+month_forecast)+MonthEnd(-1)\n",
    "    test_selection = (x.index>=test_begin_index) & (x.index<=test_end_index)\n",
    "    test_x = x[test_selection]\n",
    "    test_y = y[test_selection]\n",
    "\n",
    "    assert(len(test_y)==month_forecast)\n",
    "    y_prediction = pd.DataFrame(svc_model.predict(test_x),index = test_x.index,columns = ['predict'])\n",
    "    y_prediction_dict[dt_index] = y_prediction\n",
    "\n",
    "    accuracy_df = pd.DataFrame((y_prediction.values==test_y.values)*1,index=test_y.index)\n",
    "    accuracy_dict[dt_index] = accuracy_df\n",
    "    number_of_runs +=1\n",
    "\n",
    "mean_accuracy_list = []\n",
    "for key,value in accuracy_dict.iteritems():\n",
    "    mean_accuracy_list.append((value.values.flatten()))\n",
    "average_accuracy = np.mean(mean_accuracy_list)\n",
    "average_accuracy"
   ]
  },
  {
   "cell_type": "code",
   "execution_count": 69,
   "metadata": {},
   "outputs": [
    {
     "data": {
      "text/plain": [
       "(74, 120)"
      ]
     },
     "execution_count": 69,
     "metadata": {},
     "output_type": "execute_result"
    }
   ],
   "source": [
    "len(x.index[x.index>=x.index.min()+pd.DateOffset(years = nunmber_of_years_lookback)][:-(month_forecast-1)]),10*12"
   ]
  },
  {
   "cell_type": "code",
   "execution_count": 70,
   "metadata": {},
   "outputs": [
    {
     "data": {
      "text/plain": [
       "197"
      ]
     },
     "execution_count": 70,
     "metadata": {},
     "output_type": "execute_result"
    }
   ],
   "source": [
    "len(x)"
   ]
  },
  {
   "cell_type": "code",
   "execution_count": 75,
   "metadata": {
    "collapsed": true
   },
   "outputs": [],
   "source": [
    "concat_df = pd.DataFrame()\n",
    "for key in np.sort(y_prediction_dict.keys()):\n",
    "    value = y_prediction_dict[key]\n",
    "    concat_df = pd.concat([concat_df,value],1)\n",
    "clean_df = pd.DataFrame()\n",
    "for index in concat_df.index:\n",
    "    temp = concat_df.loc[index,:].dropna()\n",
    "    temp = pd.DataFrame(temp).T\n",
    "    temp.columns = range(len(temp.columns))\n",
    "    clean_df = pd.concat([clean_df,temp])"
   ]
  },
  {
   "cell_type": "code",
   "execution_count": 76,
   "metadata": {},
   "outputs": [
    {
     "data": {
      "image/png": "[encoded data removed]",
      "text/plain": [
       "<matplotlib.figure.Figure at 0x7f5c34277b10>"
      ]
     },
     "metadata": {},
     "output_type": "display_data"
    }
   ],
   "source": [
    "svm_png_dir = '/home/luke/workspace/Sector-Analysis/Luke_working_space/Plot generating codes/svm_png/'\n",
    "start_index = clean_df.index.min()\n",
    "plt.figure(figsize = (13,7))\n",
    "plt.grid()\n",
    "pred_1,pred_2,pred_3,pred_4,=plt.plot(clean_df,'b.')\n",
    "real_y,=plt.plot(y.loc[start_index:,:],'k-',alpha = 0.5)\n",
    "base,=plt.plot(clean_df.index,np.repeat(0.5,len(clean_df)),'r-')\n",
    "plt.legend([pred_1,real_y,base],['prediction','real','base'],loc=2)\n",
    "ttl = plt.title(\"SVM: 10 year lookback predicting 4 months ahead\",fontsize = 15)\n",
    "ttl.set_position([.5, 1.05])\n",
    "plt.savefig(svm_png_dir+\"svm_fit.png\",bbox_inches='tight')\n",
    "plt.show()"
   ]
  }
 ],
 "metadata": {
  "kernelspec": {
   "display_name": "Python 2",
   "language": "python",
   "name": "python2"
  },
  "language_info": {
   "codemirror_mode": {
    "name": "ipython",
    "version": 2
   },
   "file_extension": ".py",
   "mimetype": "text/x-python",
   "name": "python",
   "nbconvert_exporter": "python",
   "pygments_lexer": "ipython2",
   "version": "2.7.13"
  }
 },
 "nbformat": 4,
 "nbformat_minor": 2
}
