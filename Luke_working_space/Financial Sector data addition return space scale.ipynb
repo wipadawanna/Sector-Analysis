{
 "cells": [
  {
   "cell_type": "code",
   "execution_count": 1,
   "metadata": {
    "collapsed": true
   },
   "outputs": [],
   "source": [
    "import os\n",
    "import sys\n",
    "sys.path.append('../')\n",
    "from lib.env.global_var import *\n",
    "from lib.func.shelve_store import *\n",
    "sys.path.remove('../')\n",
    "import statsmodels\n",
    "import copy"
   ]
  },
  {
   "cell_type": "code",
   "execution_count": 2,
   "metadata": {},
   "outputs": [
    {
     "name": "stderr",
     "output_type": "stream",
     "text": [
      "/home/luke/anaconda2/lib/python2.7/site-packages/statsmodels/compat/pandas.py:56: FutureWarning: The pandas.core.datetools module is deprecated and will be removed in a future version. Please use the pandas.tseries module instead.\n",
      "  from pandas.core import datetools\n"
     ]
    }
   ],
   "source": [
    "%run -i financial_sector_functions.py"
   ]
  },
  {
   "cell_type": "code",
   "execution_count": 3,
   "metadata": {
    "scrolled": true
   },
   "outputs": [],
   "source": [
    "%run -i financial_sector_ret_space.py"
   ]
  },
  {
   "cell_type": "code",
   "execution_count": 4,
   "metadata": {},
   "outputs": [
    {
     "name": "stdout",
     "output_type": "stream",
     "text": [
      "('CPI', 'QS-OCT')\n",
      "('GDP', 'QS-OCT')\n",
      "('DGS10', None)\n",
      "('HPI', 'MS')\n",
      "('PAYEMS', 'MS')\n",
      "('TEDRATE', None)\n",
      "('FEDFUNDS', 'MS')\n",
      "('NETEXP', 'QS-OCT')\n",
      "('PCE', 'MS')\n",
      "('UNRATE', 'MS')\n",
      "('CSENT', 'MS')\n",
      "('OAS', None)\n",
      "('RECESSION', 'MS')\n",
      "('VIXCLS', None)\n"
     ]
    }
   ],
   "source": [
    "for csv_name in csv_name_list:\n",
    "    var_name = csv_name.split(\".\")[0]\n",
    "    exec(\"freq = pd.infer_freq(\"+var_name+\".index)\")\n",
    "    print(var_name,freq)"
   ]
  },
  {
   "cell_type": "code",
   "execution_count": 5,
   "metadata": {},
   "outputs": [],
   "source": [
    "CPI = CPI.diff().dropna()\n",
    "GDP = (GDP.shift()/GDP-1).dropna()\n",
    "NETEXP = (NETEXP.shift()/NETEXP -1).dropna()"
   ]
  },
  {
   "cell_type": "code",
   "execution_count": 6,
   "metadata": {},
   "outputs": [
    {
     "name": "stdout",
     "output_type": "stream",
     "text": [
      "CPI\n",
      "GDP\n",
      "DGS10\n",
      "HPI\n",
      "PAYEMS\n",
      "TEDRATE\n",
      "FEDFUNDS\n",
      "NETEXP\n",
      "PCE\n",
      "UNRATE\n",
      "CSENT\n",
      "OAS\n",
      "RECESSION\n",
      "VIXCLS\n"
     ]
    }
   ],
   "source": [
    "for csv_name in csv_name_list:\n",
    "    var_name = csv_name.split(\".\")[0]\n",
    "    print(var_name)\n",
    "    exec(var_name+\" = quaterly_to_monthly(\"+var_name+\")\")"
   ]
  },
  {
   "cell_type": "code",
   "execution_count": 7,
   "metadata": {},
   "outputs": [
    {
     "data": {
      "text/plain": [
       "['CPI.csv',\n",
       " 'GDP.csv',\n",
       " 'NETEXP.csv',\n",
       " 'UNRATE.csv',\n",
       " 'RECESSION.csv',\n",
       " 'OAS.csv',\n",
       " 'FEDFUNDS.csv']"
      ]
     },
     "execution_count": 7,
     "metadata": {},
     "output_type": "execute_result"
    }
   ],
   "source": [
    "manual_conversion_list = ['CPI.csv','GDP.csv','NETEXP.csv']\n",
    "do_not_convert_to_ret = ['UNRATE.csv','RECESSION.csv','OAS.csv','FEDFUNDS.csv']\n",
    "ret_exemp_list = manual_conversion_list+do_not_convert_to_ret\n",
    "ret_exemp_list"
   ]
  },
  {
   "cell_type": "code",
   "execution_count": 8,
   "metadata": {},
   "outputs": [],
   "source": [
    "for csv_name in do_not_convert_to_ret:\n",
    "    var_name = csv_name.split(\".\")[0]\n",
    "    exec(var_name+\"=\"+var_name+\"/100\")"
   ]
  },
  {
   "cell_type": "code",
   "execution_count": 9,
   "metadata": {},
   "outputs": [],
   "source": [
    "for csv_name in np.setdiff1d(csv_name_list,ret_exemp_list):\n",
    "    var_name = csv_name.split(\".\")[0]\n",
    "    exec(var_name+\"=(\"+var_name+\".shift()\"+\"/\"+var_name+\"-1).dropna()\")\n"
   ]
  },
  {
   "cell_type": "code",
   "execution_count": 10,
   "metadata": {},
   "outputs": [
    {
     "data": {
      "text/plain": [
       "['CPI',\n",
       " 'GDP',\n",
       " 'DGS10',\n",
       " 'HPI',\n",
       " 'PAYEMS',\n",
       " 'TEDRATE',\n",
       " 'FEDFUNDS',\n",
       " 'NETEXP',\n",
       " 'PCE',\n",
       " 'UNRATE',\n",
       " 'CSENT',\n",
       " 'OAS',\n",
       " 'RECESSION',\n",
       " 'VIXCLS']"
      ]
     },
     "execution_count": 10,
     "metadata": {},
     "output_type": "execute_result"
    }
   ],
   "source": [
    "var_list = map(lambda x:x.split(\".\")[0],csv_name_list)\n",
    "var_list"
   ]
  },
  {
   "cell_type": "code",
   "execution_count": 11,
   "metadata": {},
   "outputs": [
    {
     "data": {
      "text/plain": [
       "['OIL.xlsx', 'YIELD_SLOPE.xlsx', 'GOLD.xlsx']"
      ]
     },
     "execution_count": 11,
     "metadata": {},
     "output_type": "execute_result"
    }
   ],
   "source": [
    "bldata_name_list"
   ]
  },
  {
   "cell_type": "code",
   "execution_count": 12,
   "metadata": {},
   "outputs": [],
   "source": [
    "econ_x = pd.concat([GDP,DGS10,HPI,PAYEMS,TEDRATE,FEDFUNDS,NETEXP,PCE,UNRATE,CSENT,OAS,RECESSION,\n",
    "           VIXCLS],1).resample(\"M\").last().dropna()"
   ]
  },
  {
   "cell_type": "code",
   "execution_count": 13,
   "metadata": {},
   "outputs": [
    {
     "data": {
      "text/plain": [
       "(Timestamp('2017-01-31 00:00:00', freq='M'),\n",
       " Timestamp('2017-07-31 00:00:00', freq='M'),\n",
       " Timestamp('2017-11-30 00:00:00', freq='M'),\n",
       " Timestamp('2017-08-31 00:00:00', freq='M'),\n",
       " Timestamp('2017-10-31 00:00:00', freq='M'),\n",
       " Timestamp('2017-11-30 00:00:00', freq='M'),\n",
       " Timestamp('2017-10-31 00:00:00', freq='M'),\n",
       " Timestamp('2017-07-31 00:00:00', freq='M'),\n",
       " Timestamp('2017-09-30 00:00:00', freq='M'),\n",
       " Timestamp('2017-10-31 00:00:00', freq='M'),\n",
       " Timestamp('2017-10-31 00:00:00', freq='M'),\n",
       " Timestamp('2017-11-30 00:00:00', freq='M'),\n",
       " Timestamp('2017-08-31 00:00:00', freq='M'),\n",
       " Timestamp('2017-11-30 00:00:00', freq='M'))"
      ]
     },
     "execution_count": 13,
     "metadata": {},
     "output_type": "execute_result"
    }
   ],
   "source": [
    "CPI.index.max(),GDP.index.max(),DGS10.index.max(),HPI.index.max(),PAYEMS.index.max(),TEDRATE.index.max(),FEDFUNDS.index.max(),NETEXP.index.max(),PCE.index.max(),UNRATE.index.max(),CSENT.index.max(),OAS.index.max(),RECESSION.index.max(),VIXCLS.index.max()"
   ]
  },
  {
   "cell_type": "code",
   "execution_count": 14,
   "metadata": {},
   "outputs": [
    {
     "data": {
      "text/plain": [
       "['OIL.xlsx', 'YIELD_SLOPE.xlsx', 'GOLD.xlsx']"
      ]
     },
     "execution_count": 14,
     "metadata": {},
     "output_type": "execute_result"
    }
   ],
   "source": [
    "bldata_name_list"
   ]
  },
  {
   "cell_type": "code",
   "execution_count": 15,
   "metadata": {},
   "outputs": [],
   "source": [
    "OIL=(OIL.shift()/OIL-1).dropna()\n",
    "YIELD_SLOPE = YIELD_SLOPE/100\n",
    "GOLD = (GOLD.shift()/GOLD-1).dropna()"
   ]
  },
  {
   "cell_type": "code",
   "execution_count": 16,
   "metadata": {
    "collapsed": true
   },
   "outputs": [],
   "source": [
    "econ_x = pd.concat([econ_x,OIL,YIELD_SLOPE,GOLD],1).resample(\"M\").last().dropna()"
   ]
  },
  {
   "cell_type": "code",
   "execution_count": 17,
   "metadata": {},
   "outputs": [
    {
     "data": {
      "text/plain": [
       "(Timestamp('2017-11-30 00:00:00'),\n",
       " Timestamp('2017-11-30 00:00:00'),\n",
       " Timestamp('2017-11-30 00:00:00'))"
      ]
     },
     "execution_count": 17,
     "metadata": {},
     "output_type": "execute_result"
    }
   ],
   "source": [
    "OIL.index.max(),YIELD_SLOPE.index.max(),GOLD.index.max()"
   ]
  },
  {
   "cell_type": "markdown",
   "metadata": {},
   "source": [
    "# Adding non-econ data"
   ]
  },
  {
   "cell_type": "code",
   "execution_count": 18,
   "metadata": {},
   "outputs": [
    {
     "data": {
      "text/html": [
       "<div>\n",
       "<style>\n",
       "    .dataframe thead tr:only-child th {\n",
       "        text-align: right;\n",
       "    }\n",
       "\n",
       "    .dataframe thead th {\n",
       "        text-align: left;\n",
       "    }\n",
       "\n",
       "    .dataframe tbody tr th {\n",
       "        vertical-align: top;\n",
       "    }\n",
       "</style>\n",
       "<table border=\"1\" class=\"dataframe\">\n",
       "  <thead>\n",
       "    <tr style=\"text-align: right;\">\n",
       "      <th></th>\n",
       "      <th>0</th>\n",
       "    </tr>\n",
       "  </thead>\n",
       "  <tbody>\n",
       "    <tr>\n",
       "      <th>LUMSTRUU Index</th>\n",
       "      <td>The Bloomberg Barclays US Mortgage Backed Secu...</td>\n",
       "    </tr>\n",
       "    <tr>\n",
       "      <th>DXY Curncy</th>\n",
       "      <td>The U.S. Dollar Index(USDX) indicates the gene...</td>\n",
       "    </tr>\n",
       "    <tr>\n",
       "      <th>BBDXY Index</th>\n",
       "      <td>The Bloomberg Dollar Spot Index tracks the per...</td>\n",
       "    </tr>\n",
       "    <tr>\n",
       "      <th>BXIICSTN Index</th>\n",
       "      <td>For any further information regarding this ind...</td>\n",
       "    </tr>\n",
       "    <tr>\n",
       "      <th>LUGCTRUU Index</th>\n",
       "      <td>The Bloomberg Barclays US Government/Credit Bo...</td>\n",
       "    </tr>\n",
       "  </tbody>\n",
       "</table>\n",
       "</div>"
      ],
      "text/plain": [
       "                                                                0\n",
       "LUMSTRUU Index  The Bloomberg Barclays US Mortgage Backed Secu...\n",
       "DXY Curncy      The U.S. Dollar Index(USDX) indicates the gene...\n",
       "BBDXY Index     The Bloomberg Dollar Spot Index tracks the per...\n",
       "BXIICSTN Index  For any further information regarding this ind...\n",
       "LUGCTRUU Index  The Bloomberg Barclays US Government/Credit Bo..."
      ]
     },
     "execution_count": 18,
     "metadata": {},
     "output_type": "execute_result"
    }
   ],
   "source": [
    "data_description = pd.read_excel(benchmark_dir_str+'financial_sector_data.xlsx',0).T.dropna()\n",
    "data_description"
   ]
  },
  {
   "cell_type": "code",
   "execution_count": 19,
   "metadata": {},
   "outputs": [
    {
     "data": {
      "text/plain": [
       "u'The Bloomberg Barclays US Government/Credit Bond Index is a broad-based flagship benchmark that measures the non-securitized component of the US Aggregate Index. It includes investment grade, US dollar-denominated, fixed-rate Treasuries, government-related and corporate securities.'"
      ]
     },
     "execution_count": 19,
     "metadata": {},
     "output_type": "execute_result"
    }
   ],
   "source": [
    "data_description.iloc[4,0]"
   ]
  },
  {
   "cell_type": "code",
   "execution_count": 20,
   "metadata": {
    "scrolled": true
   },
   "outputs": [],
   "source": [
    "fin_sector_df = pd.read_excel(benchmark_dir_str+'financial_sector_data.xlsx',1)\n",
    "fin_sector_df.index = fin_sector_df.iloc[:,0].values\n",
    "MBS = fin_sector_df.loc[:,['LUMSTRUU Index']]\n",
    "USD = fin_sector_df.loc[:,['DXY Curncy']]\n",
    "# BBUSD = fin_sector_df.loc[:,['BBDXY Index']]\n",
    "MTWO = fin_sector_df.loc[:,['M2 Index']]\n",
    "CAPE = fin_sector_df.loc[:,['BXIICSTN Index']]\n",
    "CREDIT = fin_sector_df.loc[:,['LUGCTRUU Index']]\n",
    "\n",
    "for var_name in ['MBS','USD','MTWO','CAPE','CREDIT']:\n",
    "    exec(var_name+\"=(\"+var_name+\".shift()/\"+var_name+\"-1)\"+\".dropna()\")\n",
    "#     print(var_name+'=pd.DataFrame('+var_name+\n",
    "#           \",index=\"+var_name+\".index, columns =\"+var_name+\".columns)\")"
   ]
  },
  {
   "cell_type": "code",
   "execution_count": 21,
   "metadata": {
    "collapsed": true
   },
   "outputs": [],
   "source": [
    "# MBS: ret\n",
    "# USD: ret\n",
    "# MTWO: ret\n",
    "# CAPE: ret\n",
    "# CREDIT: ret"
   ]
  },
  {
   "cell_type": "code",
   "execution_count": 22,
   "metadata": {},
   "outputs": [
    {
     "data": {
      "text/plain": [
       "(Timestamp('2017-11-30 00:00:00'),\n",
       " Timestamp('2017-11-30 00:00:00'),\n",
       " Timestamp('2017-10-31 00:00:00'),\n",
       " Timestamp('2014-03-31 00:00:00'),\n",
       " Timestamp('2017-11-30 00:00:00'))"
      ]
     },
     "execution_count": 22,
     "metadata": {},
     "output_type": "execute_result"
    }
   ],
   "source": [
    "MBS.index.max(),USD.index.max(),MTWO.index.max(),CAPE.index.max(),CREDIT.index.max()"
   ]
  },
  {
   "cell_type": "code",
   "execution_count": 23,
   "metadata": {},
   "outputs": [
    {
     "data": {
      "text/plain": [
       "Timestamp('2017-07-31 00:00:00', freq='M')"
      ]
     },
     "execution_count": 23,
     "metadata": {},
     "output_type": "execute_result"
    }
   ],
   "source": [
    "fin_x = pd.concat([econ_x,MBS,USD,MTWO,CREDIT],1).resample(\"M\").last().dropna()\n",
    "fin_x.index.max()"
   ]
  },
  {
   "cell_type": "code",
   "execution_count": 24,
   "metadata": {},
   "outputs": [],
   "source": [
    "WORKING_POPULATION = read_csv(sector_dir_str+'WORKING_POPULATION.csv')\n",
    "WORKING_POPULATION = WORKING_POPULATION.resample(\"M\").last().dropna()"
   ]
  },
  {
   "cell_type": "code",
   "execution_count": 25,
   "metadata": {
    "collapsed": true
   },
   "outputs": [],
   "source": [
    "sector_csv_list = ['ASSET_INTEREST.csv','INSURED_CLAIMS.csv','JOB_FINANCE.csv','LOAN_COMM_INDUS.csv'\n",
    "                   ,'LOANCONSUM.csv']\n",
    "for sector_csv in sector_csv_list:\n",
    "    temp = read_csv(sector_dir_str+sector_csv)\n",
    "    temp = pd.DataFrame(temp,index = temp.index,columns = temp.columns)\n",
    "    temp = quaterly_to_monthly(temp).dropna()\n",
    "    exec(sector_csv.split(\".\")[0]+\"=temp\")\n",
    "#     print(temp.index.min())"
   ]
  },
  {
   "cell_type": "code",
   "execution_count": 26,
   "metadata": {},
   "outputs": [],
   "source": [
    "WORKING_POPULATION,INSURED_CLAIMS=model_data(WORKING_POPULATION,INSURED_CLAIMS)"
   ]
  },
  {
   "cell_type": "code",
   "execution_count": 27,
   "metadata": {
    "collapsed": true
   },
   "outputs": [],
   "source": [
    "ASSET_INTEREST = (ASSET_INTEREST.shift()/ASSET_INTEREST-1).dropna()\n",
    "INSURED_CLAIMS = INSURED_CLAIMS/WORKING_POPULATION.values\n",
    "JOB_FINANCE = JOB_FINANCE/100\n",
    "LOAN_COMM_INDUS = (LOAN_COMM_INDUS.shift()/LOAN_COMM_INDUS-1).dropna()"
   ]
  },
  {
   "cell_type": "code",
   "execution_count": 28,
   "metadata": {},
   "outputs": [
    {
     "name": "stdout",
     "output_type": "stream",
     "text": [
      "(Timestamp('1985-02-28 00:00:00', freq='M'), Timestamp('1999-01-31 00:00:00', freq='M'), Timestamp('2000-12-31 00:00:00', freq='M'), Timestamp('1985-02-28 00:00:00', freq='M'))\n"
     ]
    },
    {
     "data": {
      "text/plain": [
       "(Timestamp('2017-07-31 00:00:00', freq='M'),\n",
       " Timestamp('2017-10-31 00:00:00', freq='M'),\n",
       " Timestamp('2017-09-30 00:00:00', freq='M'),\n",
       " Timestamp('2017-07-31 00:00:00', freq='M'))"
      ]
     },
     "execution_count": 28,
     "metadata": {},
     "output_type": "execute_result"
    }
   ],
   "source": [
    "print(\n",
    "ASSET_INTEREST.index.min(),INSURED_CLAIMS.index.min(),JOB_FINANCE.index.min(),LOAN_COMM_INDUS.index.min())\n",
    "ASSET_INTEREST.index.max(),INSURED_CLAIMS.index.max(),JOB_FINANCE.index.max(),LOAN_COMM_INDUS.index.max()"
   ]
  },
  {
   "cell_type": "code",
   "execution_count": 29,
   "metadata": {
    "collapsed": true
   },
   "outputs": [],
   "source": [
    "fin_x_all = pd.concat([fin_x,ASSET_INTEREST,INSURED_CLAIMS,JOB_FINANCE,LOAN_COMM_INDUS],1).resample(\"M\").last().dropna()"
   ]
  },
  {
   "cell_type": "code",
   "execution_count": 30,
   "metadata": {},
   "outputs": [],
   "source": [
    "# ASSET_INTEREST(dollars): ret\n",
    "# INSURED_CLAIMS(Millions): percentage -> divide by number of people\n",
    "# JOB_FINANCE(percentage): divide by 100\n",
    "# LOAN_COMM_INDUS(dollars): ret"
   ]
  },
  {
   "cell_type": "code",
   "execution_count": 31,
   "metadata": {
    "collapsed": true
   },
   "outputs": [],
   "source": [
    "x,y=model_data(fin_x_all,sector_beat_spx)"
   ]
  },
  {
   "cell_type": "code",
   "execution_count": 32,
   "metadata": {
    "scrolled": true
   },
   "outputs": [
    {
     "data": {
      "text/html": [
       "<div>\n",
       "<style>\n",
       "    .dataframe thead tr:only-child th {\n",
       "        text-align: right;\n",
       "    }\n",
       "\n",
       "    .dataframe thead th {\n",
       "        text-align: left;\n",
       "    }\n",
       "\n",
       "    .dataframe tbody tr th {\n",
       "        vertical-align: top;\n",
       "    }\n",
       "</style>\n",
       "<table border=\"1\" class=\"dataframe\">\n",
       "  <thead>\n",
       "    <tr style=\"text-align: right;\">\n",
       "      <th></th>\n",
       "      <th>GDP</th>\n",
       "      <th>DGS10</th>\n",
       "      <th>CSUSHPINSA</th>\n",
       "      <th>PAYEMS</th>\n",
       "      <th>TEDRATE</th>\n",
       "      <th>FEDFUNDS</th>\n",
       "      <th>NETEXP</th>\n",
       "      <th>PCE</th>\n",
       "      <th>UNRATE</th>\n",
       "      <th>UMCSENT</th>\n",
       "      <th>...</th>\n",
       "      <th>YIELD_SLOPE</th>\n",
       "      <th>XAU Curncy</th>\n",
       "      <th>LUMSTRUU Index</th>\n",
       "      <th>DXY Curncy</th>\n",
       "      <th>M2 Index</th>\n",
       "      <th>LUGCTRUU Index</th>\n",
       "      <th>TAIEALLGCLCRT100EP</th>\n",
       "      <th>CCSA</th>\n",
       "      <th>JTU5200JOR</th>\n",
       "      <th>ACILOB</th>\n",
       "    </tr>\n",
       "  </thead>\n",
       "  <tbody>\n",
       "    <tr>\n",
       "      <th>2017-03-31</th>\n",
       "      <td>-0.007984</td>\n",
       "      <td>-0.016667</td>\n",
       "      <td>-0.008029</td>\n",
       "      <td>-0.000343</td>\n",
       "      <td>0.325000</td>\n",
       "      <td>0.0079</td>\n",
       "      <td>-0.031782</td>\n",
       "      <td>-0.004887</td>\n",
       "      <td>0.045</td>\n",
       "      <td>-0.006192</td>\n",
       "      <td>...</td>\n",
       "      <td>0.011334</td>\n",
       "      <td>-0.000608</td>\n",
       "      <td>-0.000284</td>\n",
       "      <td>0.007673</td>\n",
       "      <td>-0.006179</td>\n",
       "      <td>0.000890</td>\n",
       "      <td>0.000000</td>\n",
       "      <td>0.009854</td>\n",
       "      <td>0.037</td>\n",
       "      <td>0.000000</td>\n",
       "    </tr>\n",
       "    <tr>\n",
       "      <th>2017-04-30</th>\n",
       "      <td>-0.009990</td>\n",
       "      <td>0.048035</td>\n",
       "      <td>-0.010644</td>\n",
       "      <td>-0.001418</td>\n",
       "      <td>0.052632</td>\n",
       "      <td>0.0090</td>\n",
       "      <td>0.027516</td>\n",
       "      <td>-0.003162</td>\n",
       "      <td>0.044</td>\n",
       "      <td>-0.001031</td>\n",
       "      <td>...</td>\n",
       "      <td>0.010183</td>\n",
       "      <td>-0.015044</td>\n",
       "      <td>-0.006481</td>\n",
       "      <td>0.013125</td>\n",
       "      <td>-0.003888</td>\n",
       "      <td>-0.008171</td>\n",
       "      <td>-0.038510</td>\n",
       "      <td>0.009635</td>\n",
       "      <td>0.051</td>\n",
       "      <td>-0.020599</td>\n",
       "    </tr>\n",
       "    <tr>\n",
       "      <th>2017-05-31</th>\n",
       "      <td>-0.009990</td>\n",
       "      <td>0.036199</td>\n",
       "      <td>-0.010895</td>\n",
       "      <td>-0.000992</td>\n",
       "      <td>0.520000</td>\n",
       "      <td>0.0091</td>\n",
       "      <td>0.027516</td>\n",
       "      <td>-0.002149</td>\n",
       "      <td>0.043</td>\n",
       "      <td>-0.001030</td>\n",
       "      <td>...</td>\n",
       "      <td>0.009210</td>\n",
       "      <td>-0.000504</td>\n",
       "      <td>-0.006170</td>\n",
       "      <td>0.021956</td>\n",
       "      <td>-0.004809</td>\n",
       "      <td>-0.008250</td>\n",
       "      <td>0.000000</td>\n",
       "      <td>0.009336</td>\n",
       "      <td>0.038</td>\n",
       "      <td>0.000000</td>\n",
       "    </tr>\n",
       "    <tr>\n",
       "      <th>2017-06-30</th>\n",
       "      <td>-0.009990</td>\n",
       "      <td>-0.043290</td>\n",
       "      <td>-0.009031</td>\n",
       "      <td>-0.001435</td>\n",
       "      <td>-0.137931</td>\n",
       "      <td>0.0104</td>\n",
       "      <td>0.027516</td>\n",
       "      <td>-0.001410</td>\n",
       "      <td>0.044</td>\n",
       "      <td>0.021030</td>\n",
       "      <td>...</td>\n",
       "      <td>0.009220</td>\n",
       "      <td>0.021996</td>\n",
       "      <td>0.004035</td>\n",
       "      <td>0.013532</td>\n",
       "      <td>-0.001934</td>\n",
       "      <td>-0.000276</td>\n",
       "      <td>0.000000</td>\n",
       "      <td>0.009470</td>\n",
       "      <td>0.043</td>\n",
       "      <td>0.000000</td>\n",
       "    </tr>\n",
       "    <tr>\n",
       "      <th>2017-07-31</th>\n",
       "      <td>-0.012591</td>\n",
       "      <td>0.004348</td>\n",
       "      <td>-0.006958</td>\n",
       "      <td>-0.000942</td>\n",
       "      <td>0.115385</td>\n",
       "      <td>0.0115</td>\n",
       "      <td>0.066861</td>\n",
       "      <td>-0.003633</td>\n",
       "      <td>0.043</td>\n",
       "      <td>0.018201</td>\n",
       "      <td>...</td>\n",
       "      <td>0.009451</td>\n",
       "      <td>-0.021923</td>\n",
       "      <td>-0.004500</td>\n",
       "      <td>0.029775</td>\n",
       "      <td>-0.005609</td>\n",
       "      <td>-0.004163</td>\n",
       "      <td>-0.026086</td>\n",
       "      <td>0.009540</td>\n",
       "      <td>0.044</td>\n",
       "      <td>-0.007913</td>\n",
       "    </tr>\n",
       "  </tbody>\n",
       "</table>\n",
       "<p>5 rows × 24 columns</p>\n",
       "</div>"
      ],
      "text/plain": [
       "                 GDP     DGS10  CSUSHPINSA    PAYEMS   TEDRATE  FEDFUNDS  \\\n",
       "2017-03-31 -0.007984 -0.016667   -0.008029 -0.000343  0.325000    0.0079   \n",
       "2017-04-30 -0.009990  0.048035   -0.010644 -0.001418  0.052632    0.0090   \n",
       "2017-05-31 -0.009990  0.036199   -0.010895 -0.000992  0.520000    0.0091   \n",
       "2017-06-30 -0.009990 -0.043290   -0.009031 -0.001435 -0.137931    0.0104   \n",
       "2017-07-31 -0.012591  0.004348   -0.006958 -0.000942  0.115385    0.0115   \n",
       "\n",
       "              NETEXP       PCE  UNRATE   UMCSENT    ...     YIELD_SLOPE  \\\n",
       "2017-03-31 -0.031782 -0.004887   0.045 -0.006192    ...        0.011334   \n",
       "2017-04-30  0.027516 -0.003162   0.044 -0.001031    ...        0.010183   \n",
       "2017-05-31  0.027516 -0.002149   0.043 -0.001030    ...        0.009210   \n",
       "2017-06-30  0.027516 -0.001410   0.044  0.021030    ...        0.009220   \n",
       "2017-07-31  0.066861 -0.003633   0.043  0.018201    ...        0.009451   \n",
       "\n",
       "            XAU Curncy  LUMSTRUU Index  DXY Curncy  M2 Index  LUGCTRUU Index  \\\n",
       "2017-03-31   -0.000608       -0.000284    0.007673 -0.006179        0.000890   \n",
       "2017-04-30   -0.015044       -0.006481    0.013125 -0.003888       -0.008171   \n",
       "2017-05-31   -0.000504       -0.006170    0.021956 -0.004809       -0.008250   \n",
       "2017-06-30    0.021996        0.004035    0.013532 -0.001934       -0.000276   \n",
       "2017-07-31   -0.021923       -0.004500    0.029775 -0.005609       -0.004163   \n",
       "\n",
       "            TAIEALLGCLCRT100EP      CCSA  JTU5200JOR    ACILOB  \n",
       "2017-03-31            0.000000  0.009854       0.037  0.000000  \n",
       "2017-04-30           -0.038510  0.009635       0.051 -0.020599  \n",
       "2017-05-31            0.000000  0.009336       0.038  0.000000  \n",
       "2017-06-30            0.000000  0.009470       0.043  0.000000  \n",
       "2017-07-31           -0.026086  0.009540       0.044 -0.007913  \n",
       "\n",
       "[5 rows x 24 columns]"
      ]
     },
     "execution_count": 32,
     "metadata": {},
     "output_type": "execute_result"
    }
   ],
   "source": [
    "x.tail()"
   ]
  },
  {
   "cell_type": "code",
   "execution_count": 38,
   "metadata": {},
   "outputs": [
    {
     "data": {
      "image/png": "[encoded data removed]",
      "text/plain": [
       "<matplotlib.figure.Figure at 0x7fe42f88a390>"
      ]
     },
     "metadata": {},
     "output_type": "display_data"
    }
   ],
   "source": [
    "plt.figure(figsize = (15,5))\n",
    "plt.plot(x,alpha=0.5)\n",
    "plt.plot(2*(y-0.5),'r.')\n",
    "plt.show()"
   ]
  },
  {
   "cell_type": "code",
   "execution_count": 59,
   "metadata": {
    "collapsed": true
   },
   "outputs": [],
   "source": [
    "# fin_x.to_csv('~/fin_x.csv')"
   ]
  },
  {
   "cell_type": "code",
   "execution_count": 60,
   "metadata": {
    "collapsed": true
   },
   "outputs": [],
   "source": [
    "# y.to_csv('~/y.csv')"
   ]
  },
  {
   "cell_type": "code",
   "execution_count": 65,
   "metadata": {},
   "outputs": [],
   "source": [
    "logistic  = LogisticRegression(penalty='l1', C = 1/(0.01))\n",
    "logistic.fit(x,y)\n",
    "\n",
    "coef_df = pd.DataFrame(logistic.coef_,columns=x.columns)\n",
    "predict_df = pd.DataFrame(logistic.predict(x),index=x.index)\n",
    "predict_prob_df = pd.DataFrame(logistic.predict_proba(x),index = x.index).iloc[:,[1]]"
   ]
  },
  {
   "cell_type": "code",
   "execution_count": 66,
   "metadata": {},
   "outputs": [
    {
     "data": {
      "text/html": [
       "<div>\n",
       "<style>\n",
       "    .dataframe thead tr:only-child th {\n",
       "        text-align: right;\n",
       "    }\n",
       "\n",
       "    .dataframe thead th {\n",
       "        text-align: left;\n",
       "    }\n",
       "\n",
       "    .dataframe tbody tr th {\n",
       "        vertical-align: top;\n",
       "    }\n",
       "</style>\n",
       "<table border=\"1\" class=\"dataframe\">\n",
       "  <thead>\n",
       "    <tr style=\"text-align: right;\">\n",
       "      <th></th>\n",
       "      <th>GDP</th>\n",
       "      <th>DGS10</th>\n",
       "      <th>CSUSHPINSA</th>\n",
       "      <th>PAYEMS</th>\n",
       "      <th>TEDRATE</th>\n",
       "      <th>FEDFUNDS</th>\n",
       "      <th>NETEXP</th>\n",
       "      <th>PCE</th>\n",
       "      <th>UNRATE</th>\n",
       "      <th>UMCSENT</th>\n",
       "      <th>...</th>\n",
       "      <th>YIELD_SLOPE</th>\n",
       "      <th>XAU Curncy</th>\n",
       "      <th>LUMSTRUU Index</th>\n",
       "      <th>DXY Curncy</th>\n",
       "      <th>M2 Index</th>\n",
       "      <th>LUGCTRUU Index</th>\n",
       "      <th>TAIEALLGCLCRT100EP</th>\n",
       "      <th>CCSA</th>\n",
       "      <th>JTU5200JOR</th>\n",
       "      <th>ACILOB</th>\n",
       "    </tr>\n",
       "  </thead>\n",
       "  <tbody>\n",
       "    <tr>\n",
       "      <th>0</th>\n",
       "      <td>31.844847</td>\n",
       "      <td>6.971525</td>\n",
       "      <td>-64.72662</td>\n",
       "      <td>0.0</td>\n",
       "      <td>-0.066411</td>\n",
       "      <td>22.387467</td>\n",
       "      <td>-4.207905</td>\n",
       "      <td>-0.544013</td>\n",
       "      <td>38.264801</td>\n",
       "      <td>0.0</td>\n",
       "      <td>...</td>\n",
       "      <td>0.0</td>\n",
       "      <td>-1.549748</td>\n",
       "      <td>0.0</td>\n",
       "      <td>-0.649807</td>\n",
       "      <td>0.0</td>\n",
       "      <td>19.738302</td>\n",
       "      <td>-5.205229</td>\n",
       "      <td>-77.414581</td>\n",
       "      <td>0.0</td>\n",
       "      <td>-27.173515</td>\n",
       "    </tr>\n",
       "  </tbody>\n",
       "</table>\n",
       "<p>1 rows × 24 columns</p>\n",
       "</div>"
      ],
      "text/plain": [
       "         GDP     DGS10  CSUSHPINSA  PAYEMS   TEDRATE   FEDFUNDS    NETEXP  \\\n",
       "0  31.844847  6.971525   -64.72662     0.0 -0.066411  22.387467 -4.207905   \n",
       "\n",
       "        PCE     UNRATE  UMCSENT    ...      YIELD_SLOPE  XAU Curncy  \\\n",
       "0 -0.544013  38.264801      0.0    ...              0.0   -1.549748   \n",
       "\n",
       "   LUMSTRUU Index  DXY Curncy  M2 Index  LUGCTRUU Index  TAIEALLGCLCRT100EP  \\\n",
       "0             0.0   -0.649807       0.0       19.738302           -5.205229   \n",
       "\n",
       "        CCSA  JTU5200JOR     ACILOB  \n",
       "0 -77.414581         0.0 -27.173515  \n",
       "\n",
       "[1 rows x 24 columns]"
      ]
     },
     "execution_count": 66,
     "metadata": {},
     "output_type": "execute_result"
    }
   ],
   "source": [
    "coef_df"
   ]
  },
  {
   "cell_type": "code",
   "execution_count": 67,
   "metadata": {},
   "outputs": [
    {
     "data": {
      "image/png": "[encoded data removed]",
      "text/plain": [
       "<matplotlib.figure.Figure at 0x7fe42f86aed0>"
      ]
     },
     "metadata": {},
     "output_type": "display_data"
    }
   ],
   "source": [
    "plt.figure(figsize=(20,7))\n",
    "plt.plot(y,'r-')\n",
    "plt.plot(predict_df,'b.')\n",
    "plt.plot(predict_prob_df,'go')\n",
    "plt.hlines(0.5,x.index.min(),x.index.max())\n",
    "plt.show()"
   ]
  },
  {
   "cell_type": "code",
   "execution_count": 68,
   "metadata": {
    "scrolled": true
   },
   "outputs": [
    {
     "data": {
      "text/plain": [
       "0.68500000000000005"
      ]
     },
     "execution_count": 68,
     "metadata": {},
     "output_type": "execute_result"
    }
   ],
   "source": [
    "evaluate_metric(y,predict_df,'acf')"
   ]
  },
  {
   "cell_type": "markdown",
   "metadata": {},
   "source": [
    "# Dropping some data"
   ]
  },
  {
   "cell_type": "code",
   "execution_count": 69,
   "metadata": {},
   "outputs": [
    {
     "name": "stdout",
     "output_type": "stream",
     "text": [
      "(6, 24)\n",
      "['PAYEMS', 'UMCSENT', u'YIELD_SLOPE', 'LUMSTRUU Index', 'M2 Index', 'JTU5200JOR']\n"
     ]
    }
   ],
   "source": [
    "coef_is_zero = pd.DataFrame(np.prod(coef_df,0)).T\n",
    "# coef_is_zero[coef_is_zero.values == 0]\n",
    "zero_coef_ticker_list =[]\n",
    "for ticker in coef_is_zero.columns:\n",
    "    if coef_is_zero.loc[0,ticker]==0:\n",
    "        zero_coef_ticker_list.append(ticker)\n",
    "        \n",
    "assert(len(zero_coef_ticker_list)<len(coef_df.columns))\n",
    "print(len(zero_coef_ticker_list),len(coef_df.columns))\n",
    "print(zero_coef_ticker_list)"
   ]
  },
  {
   "cell_type": "code",
   "execution_count": 70,
   "metadata": {
    "scrolled": true
   },
   "outputs": [
    {
     "data": {
      "text/plain": [
       "Index([               u'GDP',              u'DGS10',         u'CSUSHPINSA',\n",
       "                  u'TEDRATE',           u'FEDFUNDS',             u'NETEXP',\n",
       "                      u'PCE',             u'UNRATE',       u'BAMLH0A0HYM2',\n",
       "            u'RECPROUSM156N',             u'VIXCLS',          u'XOI Index',\n",
       "               u'XAU Curncy',         u'DXY Curncy',     u'LUGCTRUU Index',\n",
       "       u'TAIEALLGCLCRT100EP',               u'CCSA',             u'ACILOB'],\n",
       "      dtype='object')"
      ]
     },
     "execution_count": 70,
     "metadata": {},
     "output_type": "execute_result"
    }
   ],
   "source": [
    "fin_x_2 = copy.deepcopy(x)\n",
    "for ticker in zero_coef_ticker_list:\n",
    "    fin_x_2 = fin_x_2.drop(ticker,1)\n",
    "fin_x_2.columns"
   ]
  },
  {
   "cell_type": "code",
   "execution_count": 71,
   "metadata": {},
   "outputs": [
    {
     "name": "stdout",
     "output_type": "stream",
     "text": [
      "(0.001, 0.69499999999999995)\n",
      "(0.01, 0.69499999999999995)\n",
      "(0.1, 0.67000000000000004)\n",
      "(1.0, 0.66500000000000004)\n",
      "(10.0, 0.54000000000000004)\n"
     ]
    }
   ],
   "source": [
    "lambda_list = [0.001,0.01,0.1,1.0,10.0]\n",
    "coef_df_all = pd.DataFrame()\n",
    "for C in map(lambda x: 1/x,lambda_list):\n",
    "    logistic  = LogisticRegression(penalty='l2', C = C)\n",
    "    logistic.fit(fin_x_2,y)\n",
    "\n",
    "    coef_df_x_2 = pd.DataFrame(logistic.coef_,columns=fin_x_2.columns)\n",
    "    predict_df_x_2 = pd.DataFrame(logistic.predict(fin_x_2),index=fin_x_2.index)\n",
    "    predict_prob_df_x_2 = pd.DataFrame(logistic.predict_proba(fin_x_2),index = fin_x_2.index).iloc[:,[1]]\n",
    "    print(1/C,evaluate_metric(y,predict_df_x_2,'acf'))"
   ]
  },
  {
   "cell_type": "markdown",
   "metadata": {},
   "source": [
    "# Try l2 with lambda"
   ]
  },
  {
   "cell_type": "code",
   "execution_count": 73,
   "metadata": {},
   "outputs": [
    {
     "name": "stdout",
     "output_type": "stream",
     "text": [
      "(0.001, 0.69999999999999996)\n",
      "(0.01, 0.68000000000000005)\n",
      "(0.1, 0.67000000000000004)\n",
      "(1.0, 0.65500000000000003)\n",
      "(10.0, 0.54000000000000004)\n"
     ]
    }
   ],
   "source": [
    "lambda_list = [0.001,0.01,0.1,1.0,10.0]\n",
    "coef_df_all = pd.DataFrame()\n",
    "for C in map(lambda x: 1/x,lambda_list):\n",
    "    logistic  = LogisticRegression(penalty='l2', C = C)\n",
    "    logistic.fit(x,y)\n",
    "\n",
    "    coef_df = pd.DataFrame(logistic.coef_,columns=x.columns)\n",
    "    predict_df = pd.DataFrame(logistic.predict(x),index=x.index)\n",
    "    predict_prob_df = pd.DataFrame(logistic.predict_proba(x),index = x.index).iloc[:,[1]]\n",
    "    print(1/C,evaluate_metric(y,predict_df,'acf'))"
   ]
  },
  {
   "cell_type": "code",
   "execution_count": null,
   "metadata": {
    "collapsed": true
   },
   "outputs": [],
   "source": []
  },
  {
   "cell_type": "code",
   "execution_count": null,
   "metadata": {
    "collapsed": true
   },
   "outputs": [],
   "source": []
  },
  {
   "cell_type": "code",
   "execution_count": 50,
   "metadata": {
    "collapsed": true
   },
   "outputs": [],
   "source": [
    "from sklearn.decomposition import PCA"
   ]
  },
  {
   "cell_type": "code",
   "execution_count": 60,
   "metadata": {},
   "outputs": [
    {
     "data": {
      "text/plain": [
       "(0.97607850133156471,\n",
       " array([ 0.4969759 ,  0.21005769,  0.17827818,  0.09076673]))"
      ]
     },
     "execution_count": 60,
     "metadata": {},
     "output_type": "execute_result"
    }
   ],
   "source": [
    "pca = PCA(n_components=4)\n",
    "pca_fin_x = pd.DataFrame(pca.fit_transform(fin_x_3),index=fin_x.index)\n",
    "np.sum(pca.explained_variance_ratio_),pca.explained_variance_ratio_"
   ]
  },
  {
   "cell_type": "code",
   "execution_count": 52,
   "metadata": {
    "collapsed": true,
    "scrolled": true
   },
   "outputs": [],
   "source": [
    "pca_scaled_fin = pd.DataFrame(preprocessing.scale(pca_fin_x),index= pca_fin_x.index)"
   ]
  },
  {
   "cell_type": "code",
   "execution_count": 65,
   "metadata": {},
   "outputs": [
    {
     "data": {
      "text/html": [
       "<div>\n",
       "<style>\n",
       "    .dataframe thead tr:only-child th {\n",
       "        text-align: right;\n",
       "    }\n",
       "\n",
       "    .dataframe thead th {\n",
       "        text-align: left;\n",
       "    }\n",
       "\n",
       "    .dataframe tbody tr th {\n",
       "        vertical-align: top;\n",
       "    }\n",
       "</style>\n",
       "<table border=\"1\" class=\"dataframe\">\n",
       "  <thead>\n",
       "    <tr style=\"text-align: right;\">\n",
       "      <th></th>\n",
       "      <th>JTU5200JOR</th>\n",
       "    </tr>\n",
       "  </thead>\n",
       "  <tbody>\n",
       "    <tr>\n",
       "      <th>2000-12-31</th>\n",
       "      <td>0.133431</td>\n",
       "    </tr>\n",
       "    <tr>\n",
       "      <th>2001-01-31</th>\n",
       "      <td>2.129957</td>\n",
       "    </tr>\n",
       "    <tr>\n",
       "      <th>2001-02-28</th>\n",
       "      <td>0.757346</td>\n",
       "    </tr>\n",
       "    <tr>\n",
       "      <th>2001-03-31</th>\n",
       "      <td>0.258214</td>\n",
       "    </tr>\n",
       "    <tr>\n",
       "      <th>2001-04-30</th>\n",
       "      <td>0.632563</td>\n",
       "    </tr>\n",
       "  </tbody>\n",
       "</table>\n",
       "</div>"
      ],
      "text/plain": [
       "            JTU5200JOR\n",
       "2000-12-31    0.133431\n",
       "2001-01-31    2.129957\n",
       "2001-02-28    0.757346\n",
       "2001-03-31    0.258214\n",
       "2001-04-30    0.632563"
      ]
     },
     "execution_count": 65,
     "metadata": {},
     "output_type": "execute_result"
    }
   ],
   "source": [
    "JOB_FINANCE,y=model_data(JOB_FINANCE,y)\n",
    "JOB_FINANCE.head()"
   ]
  },
  {
   "cell_type": "code",
   "execution_count": 67,
   "metadata": {},
   "outputs": [
    {
     "data": {
      "text/html": [
       "<div>\n",
       "<style>\n",
       "    .dataframe thead tr:only-child th {\n",
       "        text-align: right;\n",
       "    }\n",
       "\n",
       "    .dataframe thead th {\n",
       "        text-align: left;\n",
       "    }\n",
       "\n",
       "    .dataframe tbody tr th {\n",
       "        vertical-align: top;\n",
       "    }\n",
       "</style>\n",
       "<table border=\"1\" class=\"dataframe\">\n",
       "  <thead>\n",
       "    <tr style=\"text-align: right;\">\n",
       "      <th></th>\n",
       "      <th>JTU5200JOR</th>\n",
       "    </tr>\n",
       "  </thead>\n",
       "  <tbody>\n",
       "    <tr>\n",
       "      <th>0</th>\n",
       "      <td>0.135835</td>\n",
       "    </tr>\n",
       "    <tr>\n",
       "      <th>1</th>\n",
       "      <td>-0.093077</td>\n",
       "    </tr>\n",
       "    <tr>\n",
       "      <th>2</th>\n",
       "      <td>-0.028389</td>\n",
       "    </tr>\n",
       "  </tbody>\n",
       "</table>\n",
       "</div>"
      ],
      "text/plain": [
       "   JTU5200JOR\n",
       "0    0.135835\n",
       "1   -0.093077\n",
       "2   -0.028389"
      ]
     },
     "execution_count": 67,
     "metadata": {},
     "output_type": "execute_result"
    }
   ],
   "source": [
    "metric_list,coef_df = KF_logistic_eval(JOB_FINANCE\n",
    "    ,y,n = 3,penalty ='l2',C = 1/(10.0),evaluation_metric = 'r2')\n",
    "coef_df"
   ]
  },
  {
   "cell_type": "code",
   "execution_count": 68,
   "metadata": {},
   "outputs": [
    {
     "data": {
      "text/plain": [
       "[-1.2321428571428568, -1.1083333333333338, -0.92500000000000049]"
      ]
     },
     "execution_count": 68,
     "metadata": {},
     "output_type": "execute_result"
    }
   ],
   "source": [
    "metric_list"
   ]
  },
  {
   "cell_type": "code",
   "execution_count": null,
   "metadata": {
    "collapsed": true
   },
   "outputs": [],
   "source": []
  },
  {
   "cell_type": "code",
   "execution_count": null,
   "metadata": {
    "collapsed": true
   },
   "outputs": [],
   "source": []
  },
  {
   "cell_type": "code",
   "execution_count": null,
   "metadata": {
    "collapsed": true
   },
   "outputs": [],
   "source": []
  },
  {
   "cell_type": "code",
   "execution_count": null,
   "metadata": {
    "collapsed": true
   },
   "outputs": [],
   "source": []
  },
  {
   "cell_type": "code",
   "execution_count": null,
   "metadata": {
    "collapsed": true
   },
   "outputs": [],
   "source": []
  },
  {
   "cell_type": "code",
   "execution_count": null,
   "metadata": {
    "collapsed": true
   },
   "outputs": [],
   "source": []
  },
  {
   "cell_type": "code",
   "execution_count": null,
   "metadata": {
    "collapsed": true
   },
   "outputs": [],
   "source": []
  },
  {
   "cell_type": "code",
   "execution_count": null,
   "metadata": {
    "collapsed": true
   },
   "outputs": [],
   "source": []
  },
  {
   "cell_type": "code",
   "execution_count": null,
   "metadata": {
    "collapsed": true
   },
   "outputs": [],
   "source": []
  },
  {
   "cell_type": "code",
   "execution_count": null,
   "metadata": {
    "collapsed": true
   },
   "outputs": [],
   "source": []
  }
 ],
 "metadata": {
  "kernelspec": {
   "display_name": "Python 2",
   "language": "python",
   "name": "python2"
  },
  "language_info": {
   "codemirror_mode": {
    "name": "ipython",
    "version": 2
   },
   "file_extension": ".py",
   "mimetype": "text/x-python",
   "name": "python",
   "nbconvert_exporter": "python",
   "pygments_lexer": "ipython2",
   "version": "2.7.13"
  }
 },
 "nbformat": 4,
 "nbformat_minor": 2
}
