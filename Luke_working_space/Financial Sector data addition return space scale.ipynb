{
 "cells": [
  {
   "cell_type": "code",
   "execution_count": 1,
   "metadata": {
    "collapsed": true
   },
   "outputs": [],
   "source": [
    "import os\n",
    "import sys\n",
    "sys.path.append('../')\n",
    "from lib.env.global_var import *\n",
    "from lib.func.shelve_store import *\n",
    "sys.path.remove('../')\n",
    "import statsmodels\n",
    "import copy"
   ]
  },
  {
   "cell_type": "code",
   "execution_count": 2,
   "metadata": {
    "collapsed": true
   },
   "outputs": [],
   "source": [
    "return_space = True"
   ]
  },
  {
   "cell_type": "code",
   "execution_count": 3,
   "metadata": {},
   "outputs": [
    {
     "name": "stderr",
     "output_type": "stream",
     "text": [
      "/home/luke/anaconda2/lib/python2.7/site-packages/statsmodels/compat/pandas.py:56: FutureWarning: The pandas.core.datetools module is deprecated and will be removed in a future version. Please use the pandas.tseries module instead.\n",
      "  from pandas.core import datetools\n"
     ]
    }
   ],
   "source": [
    "%run -i financial_sector_functions.py"
   ]
  },
  {
   "cell_type": "code",
   "execution_count": 4,
   "metadata": {
    "collapsed": true,
    "scrolled": true
   },
   "outputs": [],
   "source": [
    "%run -i financial_sector_ret_space.py"
   ]
  },
  {
   "cell_type": "code",
   "execution_count": 5,
   "metadata": {},
   "outputs": [
    {
     "name": "stdout",
     "output_type": "stream",
     "text": [
      "('CPI', 'QS-OCT')\n",
      "('GDP', 'QS-OCT')\n",
      "('DGS10', None)\n",
      "('HPI', 'MS')\n",
      "('PAYEMS', 'MS')\n",
      "('TEDRATE', None)\n",
      "('FEDFUNDS', 'MS')\n",
      "('NETEXP', 'QS-OCT')\n",
      "('PCE', 'MS')\n",
      "('UNRATE', 'MS')\n",
      "('CSENT', 'MS')\n",
      "('OAS', None)\n",
      "('RECESSION', 'MS')\n",
      "('VIXCLS', None)\n"
     ]
    }
   ],
   "source": [
    "for csv_name in csv_name_list:\n",
    "    var_name = csv_name.split(\".\")[0]\n",
    "    exec(\"freq = pd.infer_freq(\"+var_name+\".index)\")\n",
    "    print(var_name,freq)"
   ]
  },
  {
   "cell_type": "code",
   "execution_count": 6,
   "metadata": {
    "collapsed": true
   },
   "outputs": [],
   "source": [
    "if return_space:\n",
    "    CPI = CPI.diff().dropna()\n",
    "    GDP = (GDP.shift(-1)/GDP-1).dropna()\n",
    "    NETEXP = (NETEXP.shift(-1)/NETEXP-1).dropna()"
   ]
  },
  {
   "cell_type": "code",
   "execution_count": 7,
   "metadata": {},
   "outputs": [
    {
     "name": "stdout",
     "output_type": "stream",
     "text": [
      "CPI\n",
      "GDP\n",
      "DGS10\n",
      "HPI\n",
      "PAYEMS\n",
      "TEDRATE\n",
      "FEDFUNDS\n",
      "NETEXP\n",
      "PCE\n",
      "UNRATE\n",
      "CSENT\n",
      "OAS\n",
      "RECESSION\n",
      "VIXCLS\n"
     ]
    }
   ],
   "source": [
    "for csv_name in csv_name_list:\n",
    "    var_name = csv_name.split(\".\")[0]\n",
    "    print(var_name)\n",
    "    exec(var_name+\" = quaterly_to_monthly(\"+var_name+\")\")"
   ]
  },
  {
   "cell_type": "code",
   "execution_count": 8,
   "metadata": {},
   "outputs": [
    {
     "data": {
      "text/plain": [
       "['CPI.csv',\n",
       " 'GDP.csv',\n",
       " 'NETEXP.csv',\n",
       " 'UNRATE.csv',\n",
       " 'RECESSION.csv',\n",
       " 'OAS.csv',\n",
       " 'FEDFUNDS.csv']"
      ]
     },
     "execution_count": 8,
     "metadata": {},
     "output_type": "execute_result"
    }
   ],
   "source": [
    "manual_conversion_list = ['CPI.csv','GDP.csv','NETEXP.csv']\n",
    "do_not_convert_to_ret = ['UNRATE.csv','RECESSION.csv','OAS.csv','FEDFUNDS.csv']\n",
    "ret_exemp_list = manual_conversion_list+do_not_convert_to_ret\n",
    "ret_exemp_list"
   ]
  },
  {
   "cell_type": "code",
   "execution_count": 9,
   "metadata": {
    "collapsed": true
   },
   "outputs": [],
   "source": [
    "for csv_name in do_not_convert_to_ret:\n",
    "    var_name = csv_name.split(\".\")[0]\n",
    "    exec(var_name+\"=\"+var_name+\"/100\")"
   ]
  },
  {
   "cell_type": "code",
   "execution_count": 10,
   "metadata": {
    "collapsed": true,
    "scrolled": true
   },
   "outputs": [],
   "source": [
    "if return_space:\n",
    "    for csv_name in np.setdiff1d(csv_name_list,ret_exemp_list):\n",
    "        var_name = csv_name.split(\".\")[0]\n",
    "        exec(var_name+\"=(\"+var_name+\".shift(-1)\"+\"/\"+var_name+\"-1).dropna()\")\n"
   ]
  },
  {
   "cell_type": "code",
   "execution_count": 11,
   "metadata": {},
   "outputs": [
    {
     "data": {
      "text/plain": [
       "['CPI',\n",
       " 'GDP',\n",
       " 'DGS10',\n",
       " 'HPI',\n",
       " 'PAYEMS',\n",
       " 'TEDRATE',\n",
       " 'FEDFUNDS',\n",
       " 'NETEXP',\n",
       " 'PCE',\n",
       " 'UNRATE',\n",
       " 'CSENT',\n",
       " 'OAS',\n",
       " 'RECESSION',\n",
       " 'VIXCLS']"
      ]
     },
     "execution_count": 11,
     "metadata": {},
     "output_type": "execute_result"
    }
   ],
   "source": [
    "var_list = map(lambda x:x.split(\".\")[0],csv_name_list)\n",
    "var_list"
   ]
  },
  {
   "cell_type": "code",
   "execution_count": 12,
   "metadata": {},
   "outputs": [
    {
     "data": {
      "text/plain": [
       "['OIL.xlsx', 'YIELD_SLOPE.xlsx', 'GOLD.xlsx']"
      ]
     },
     "execution_count": 12,
     "metadata": {},
     "output_type": "execute_result"
    }
   ],
   "source": [
    "bldata_name_list"
   ]
  },
  {
   "cell_type": "code",
   "execution_count": 13,
   "metadata": {
    "collapsed": true
   },
   "outputs": [],
   "source": [
    "econ_x = pd.concat([GDP,DGS10,HPI,PAYEMS,TEDRATE,FEDFUNDS,NETEXP,PCE,UNRATE,CSENT,OAS,RECESSION,\n",
    "           VIXCLS],1).resample(\"M\").last().dropna()"
   ]
  },
  {
   "cell_type": "code",
   "execution_count": 14,
   "metadata": {},
   "outputs": [
    {
     "data": {
      "text/plain": [
       "(Timestamp('2017-01-31 00:00:00', freq='M'),\n",
       " Timestamp('2017-04-30 00:00:00', freq='M'),\n",
       " Timestamp('2017-10-31 00:00:00', freq='M'),\n",
       " Timestamp('2017-07-31 00:00:00', freq='M'),\n",
       " Timestamp('2017-09-30 00:00:00', freq='M'),\n",
       " Timestamp('2017-10-31 00:00:00', freq='M'),\n",
       " Timestamp('2017-10-31 00:00:00', freq='M'),\n",
       " Timestamp('2017-04-30 00:00:00', freq='M'),\n",
       " Timestamp('2017-08-31 00:00:00', freq='M'),\n",
       " Timestamp('2017-10-31 00:00:00', freq='M'),\n",
       " Timestamp('2017-09-30 00:00:00', freq='M'),\n",
       " Timestamp('2017-11-30 00:00:00', freq='M'),\n",
       " Timestamp('2017-08-31 00:00:00', freq='M'),\n",
       " Timestamp('2017-10-31 00:00:00', freq='M'))"
      ]
     },
     "execution_count": 14,
     "metadata": {},
     "output_type": "execute_result"
    }
   ],
   "source": [
    "CPI.index.max(),GDP.index.max(),DGS10.index.max(),HPI.index.max(),PAYEMS.index.max(),TEDRATE.index.max(),FEDFUNDS.index.max(),NETEXP.index.max(),PCE.index.max(),UNRATE.index.max(),CSENT.index.max(),OAS.index.max(),RECESSION.index.max(),VIXCLS.index.max()"
   ]
  },
  {
   "cell_type": "code",
   "execution_count": 15,
   "metadata": {},
   "outputs": [
    {
     "data": {
      "text/plain": [
       "['OIL.xlsx', 'YIELD_SLOPE.xlsx', 'GOLD.xlsx']"
      ]
     },
     "execution_count": 15,
     "metadata": {},
     "output_type": "execute_result"
    }
   ],
   "source": [
    "bldata_name_list"
   ]
  },
  {
   "cell_type": "code",
   "execution_count": 16,
   "metadata": {
    "collapsed": true
   },
   "outputs": [],
   "source": [
    "if return_space:\n",
    "    OIL=(OIL.shift(-1)/OIL-1).dropna()\n",
    "    YIELD_SLOPE = YIELD_SLOPE/100\n",
    "    GOLD = (GOLD.shift(-1)/GOLD-1).dropna()"
   ]
  },
  {
   "cell_type": "code",
   "execution_count": 17,
   "metadata": {
    "collapsed": true
   },
   "outputs": [],
   "source": [
    "econ_x = pd.concat([econ_x,OIL,YIELD_SLOPE,GOLD],1).resample(\"M\").last().dropna()"
   ]
  },
  {
   "cell_type": "code",
   "execution_count": 18,
   "metadata": {},
   "outputs": [
    {
     "data": {
      "text/plain": [
       "(Timestamp('2017-10-31 00:00:00'),\n",
       " Timestamp('2017-11-30 00:00:00'),\n",
       " Timestamp('2017-10-31 00:00:00'))"
      ]
     },
     "execution_count": 18,
     "metadata": {},
     "output_type": "execute_result"
    }
   ],
   "source": [
    "OIL.index.max(),YIELD_SLOPE.index.max(),GOLD.index.max()"
   ]
  },
  {
   "cell_type": "code",
   "execution_count": 19,
   "metadata": {},
   "outputs": [
    {
     "name": "stdout",
     "output_type": "stream",
     "text": [
      "Stored 'econ_x_raw' (DataFrame)\n"
     ]
    }
   ],
   "source": [
    "econ_x_raw = econ_x\n",
    "%store econ_x_raw"
   ]
  },
  {
   "cell_type": "markdown",
   "metadata": {},
   "source": [
    "# Adding non-econ data"
   ]
  },
  {
   "cell_type": "code",
   "execution_count": 20,
   "metadata": {},
   "outputs": [
    {
     "data": {
      "text/html": [
       "<div>\n",
       "<style>\n",
       "    .dataframe thead tr:only-child th {\n",
       "        text-align: right;\n",
       "    }\n",
       "\n",
       "    .dataframe thead th {\n",
       "        text-align: left;\n",
       "    }\n",
       "\n",
       "    .dataframe tbody tr th {\n",
       "        vertical-align: top;\n",
       "    }\n",
       "</style>\n",
       "<table border=\"1\" class=\"dataframe\">\n",
       "  <thead>\n",
       "    <tr style=\"text-align: right;\">\n",
       "      <th></th>\n",
       "      <th>0</th>\n",
       "    </tr>\n",
       "  </thead>\n",
       "  <tbody>\n",
       "    <tr>\n",
       "      <th>LUMSTRUU Index</th>\n",
       "      <td>The Bloomberg Barclays US Mortgage Backed Secu...</td>\n",
       "    </tr>\n",
       "    <tr>\n",
       "      <th>DXY Curncy</th>\n",
       "      <td>The U.S. Dollar Index(USDX) indicates the gene...</td>\n",
       "    </tr>\n",
       "    <tr>\n",
       "      <th>BBDXY Index</th>\n",
       "      <td>The Bloomberg Dollar Spot Index tracks the per...</td>\n",
       "    </tr>\n",
       "    <tr>\n",
       "      <th>BXIICSTN Index</th>\n",
       "      <td>For any further information regarding this ind...</td>\n",
       "    </tr>\n",
       "    <tr>\n",
       "      <th>LUGCTRUU Index</th>\n",
       "      <td>The Bloomberg Barclays US Government/Credit Bo...</td>\n",
       "    </tr>\n",
       "  </tbody>\n",
       "</table>\n",
       "</div>"
      ],
      "text/plain": [
       "                                                                0\n",
       "LUMSTRUU Index  The Bloomberg Barclays US Mortgage Backed Secu...\n",
       "DXY Curncy      The U.S. Dollar Index(USDX) indicates the gene...\n",
       "BBDXY Index     The Bloomberg Dollar Spot Index tracks the per...\n",
       "BXIICSTN Index  For any further information regarding this ind...\n",
       "LUGCTRUU Index  The Bloomberg Barclays US Government/Credit Bo..."
      ]
     },
     "execution_count": 20,
     "metadata": {},
     "output_type": "execute_result"
    }
   ],
   "source": [
    "data_description = pd.read_excel(benchmark_dir_str+'financial_sector_data.xlsx',0).T.dropna()\n",
    "data_description"
   ]
  },
  {
   "cell_type": "code",
   "execution_count": 21,
   "metadata": {},
   "outputs": [
    {
     "data": {
      "text/plain": [
       "u'The Bloomberg Barclays US Government/Credit Bond Index is a broad-based flagship benchmark that measures the non-securitized component of the US Aggregate Index. It includes investment grade, US dollar-denominated, fixed-rate Treasuries, government-related and corporate securities.'"
      ]
     },
     "execution_count": 21,
     "metadata": {},
     "output_type": "execute_result"
    }
   ],
   "source": [
    "data_description.iloc[4,0]"
   ]
  },
  {
   "cell_type": "code",
   "execution_count": 22,
   "metadata": {
    "collapsed": true,
    "scrolled": true
   },
   "outputs": [],
   "source": [
    "fin_sector_df = pd.read_excel(benchmark_dir_str+'financial_sector_data.xlsx',1)\n",
    "fin_sector_df.index = fin_sector_df.iloc[:,0].values\n",
    "MBS = fin_sector_df.loc[:,['LUMSTRUU Index']]\n",
    "USD = fin_sector_df.loc[:,['DXY Curncy']]\n",
    "# BBUSD = fin_sector_df.loc[:,['BBDXY Index']]\n",
    "MTWO = fin_sector_df.loc[:,['M2 Index']]\n",
    "CAPE = fin_sector_df.loc[:,['BXIICSTN Index']]\n",
    "CREDIT = fin_sector_df.loc[:,['LUGCTRUU Index']]\n",
    "\n",
    "if return_space:\n",
    "    for var_name in ['MBS','USD','MTWO','CAPE','CREDIT']:\n",
    "        exec(var_name+\"=(\"+var_name+\".shift()/\"+var_name+\"-1)\"+\".dropna()\")\n",
    "#     print(var_name+'=pd.DataFrame('+var_name+\n",
    "#           \",index=\"+var_name+\".index, columns =\"+var_name+\".columns)\")"
   ]
  },
  {
   "cell_type": "code",
   "execution_count": 23,
   "metadata": {
    "collapsed": true
   },
   "outputs": [],
   "source": [
    "# MBS: ret\n",
    "# USD: ret\n",
    "# MTWO: ret\n",
    "# CAPE: ret\n",
    "# CREDIT: ret"
   ]
  },
  {
   "cell_type": "code",
   "execution_count": 24,
   "metadata": {},
   "outputs": [
    {
     "data": {
      "text/plain": [
       "(Timestamp('2017-11-30 00:00:00'),\n",
       " Timestamp('2017-11-30 00:00:00'),\n",
       " Timestamp('2017-10-31 00:00:00'),\n",
       " Timestamp('2014-03-31 00:00:00'),\n",
       " Timestamp('2017-11-30 00:00:00'))"
      ]
     },
     "execution_count": 24,
     "metadata": {},
     "output_type": "execute_result"
    }
   ],
   "source": [
    "MBS.index.max(),USD.index.max(),MTWO.index.max(),CAPE.index.max(),CREDIT.index.max()"
   ]
  },
  {
   "cell_type": "code",
   "execution_count": 25,
   "metadata": {},
   "outputs": [
    {
     "data": {
      "text/plain": [
       "Timestamp('2017-04-30 00:00:00', freq='M')"
      ]
     },
     "execution_count": 25,
     "metadata": {},
     "output_type": "execute_result"
    }
   ],
   "source": [
    "fin_x = pd.concat([econ_x,MBS,USD,MTWO,CREDIT],1).resample(\"M\").last().dropna()\n",
    "fin_x.index.max()"
   ]
  },
  {
   "cell_type": "code",
   "execution_count": 26,
   "metadata": {
    "collapsed": true
   },
   "outputs": [],
   "source": [
    "WORKING_POPULATION = read_csv(sector_dir_str+'WORKING_POPULATION.csv')\n",
    "WORKING_POPULATION = WORKING_POPULATION.resample(\"M\").last().dropna()"
   ]
  },
  {
   "cell_type": "code",
   "execution_count": 27,
   "metadata": {
    "collapsed": true
   },
   "outputs": [],
   "source": [
    "sector_csv_list = ['ASSET_INTEREST.csv','INSURED_CLAIMS.csv','JOB_FINANCE.csv','LOAN_COMM_INDUS.csv'\n",
    "                   ,'LOANCONSUM.csv']\n",
    "for sector_csv in sector_csv_list:\n",
    "    temp = read_csv(sector_dir_str+sector_csv)\n",
    "    temp = pd.DataFrame(temp,index = temp.index,columns = temp.columns)\n",
    "    temp = quaterly_to_monthly(temp).dropna()\n",
    "    exec(sector_csv.split(\".\")[0]+\"=temp\")\n",
    "#     print(temp.index.min())"
   ]
  },
  {
   "cell_type": "code",
   "execution_count": 28,
   "metadata": {
    "collapsed": true
   },
   "outputs": [],
   "source": [
    "WORKING_POPULATION,INSURED_CLAIMS=model_data(WORKING_POPULATION,INSURED_CLAIMS)"
   ]
  },
  {
   "cell_type": "code",
   "execution_count": 29,
   "metadata": {
    "collapsed": true
   },
   "outputs": [],
   "source": [
    "if return_space:\n",
    "    ASSET_INTEREST = (ASSET_INTEREST.shift(-1)/ASSET_INTEREST-1).dropna()\n",
    "    INSURED_CLAIMS = INSURED_CLAIMS/WORKING_POPULATION.values\n",
    "    JOB_FINANCE = JOB_FINANCE/100\n",
    "    LOAN_COMM_INDUS = (LOAN_COMM_INDUS.shift(-1)/LOAN_COMM_INDUS-1).dropna()"
   ]
  },
  {
   "cell_type": "code",
   "execution_count": 30,
   "metadata": {},
   "outputs": [
    {
     "name": "stdout",
     "output_type": "stream",
     "text": [
      "(Timestamp('1985-01-31 00:00:00', freq='M'), Timestamp('1999-01-31 00:00:00', freq='M'), Timestamp('2000-12-31 00:00:00', freq='M'), Timestamp('1985-01-31 00:00:00', freq='M'))\n"
     ]
    },
    {
     "data": {
      "text/plain": [
       "(Timestamp('2017-06-30 00:00:00', freq='M'),\n",
       " Timestamp('2017-10-31 00:00:00', freq='M'),\n",
       " Timestamp('2017-09-30 00:00:00', freq='M'),\n",
       " Timestamp('2017-06-30 00:00:00', freq='M'))"
      ]
     },
     "execution_count": 30,
     "metadata": {},
     "output_type": "execute_result"
    }
   ],
   "source": [
    "print(\n",
    "ASSET_INTEREST.index.min(),INSURED_CLAIMS.index.min(),JOB_FINANCE.index.min(),LOAN_COMM_INDUS.index.min())\n",
    "ASSET_INTEREST.index.max(),INSURED_CLAIMS.index.max(),JOB_FINANCE.index.max(),LOAN_COMM_INDUS.index.max()"
   ]
  },
  {
   "cell_type": "code",
   "execution_count": 31,
   "metadata": {
    "collapsed": true
   },
   "outputs": [],
   "source": [
    "fin_x_all = pd.concat([fin_x,ASSET_INTEREST,INSURED_CLAIMS,JOB_FINANCE,LOAN_COMM_INDUS],1).resample(\"M\").last().dropna()"
   ]
  },
  {
   "cell_type": "code",
   "execution_count": 32,
   "metadata": {
    "collapsed": true
   },
   "outputs": [],
   "source": [
    "# ASSET_INTEREST(dollars): ret\n",
    "# INSURED_CLAIMS(Millions): percentage -> divide by number of people\n",
    "# JOB_FINANCE(percentage): divide by 100\n",
    "# LOAN_COMM_INDUS(dollars): ret"
   ]
  },
  {
   "cell_type": "code",
   "execution_count": 33,
   "metadata": {
    "collapsed": true,
    "scrolled": true
   },
   "outputs": [],
   "source": [
    "sector_ind,fin_x_all = model_data(sector_ind,fin_x_all)"
   ]
  },
  {
   "cell_type": "code",
   "execution_count": 34,
   "metadata": {
    "collapsed": true
   },
   "outputs": [],
   "source": [
    "raw_data = pd.concat([sector_ind,fin_x_all],1)"
   ]
  },
  {
   "cell_type": "code",
   "execution_count": 35,
   "metadata": {},
   "outputs": [
    {
     "data": {
      "text/plain": [
       "Index([     u'IYW US Equity',                u'GDP',              u'DGS10',\n",
       "               u'CSUSHPINSA',             u'PAYEMS',            u'TEDRATE',\n",
       "                 u'FEDFUNDS',             u'NETEXP',                u'PCE',\n",
       "                   u'UNRATE',            u'UMCSENT',       u'BAMLH0A0HYM2',\n",
       "            u'RECPROUSM156N',             u'VIXCLS',          u'XOI Index',\n",
       "              u'YIELD_SLOPE',         u'XAU Curncy',     u'LUMSTRUU Index',\n",
       "               u'DXY Curncy',           u'M2 Index',     u'LUGCTRUU Index',\n",
       "       u'TAIEALLGCLCRT100EP',               u'CCSA',         u'JTU5200JOR',\n",
       "                   u'ACILOB'],\n",
       "      dtype='object')"
      ]
     },
     "execution_count": 35,
     "metadata": {},
     "output_type": "execute_result"
    }
   ],
   "source": [
    "raw_data.columns"
   ]
  },
  {
   "cell_type": "code",
   "execution_count": 37,
   "metadata": {
    "collapsed": true
   },
   "outputs": [],
   "source": [
    "# raw_data.to_csv(\"financial_sctor_raw.csv\")"
   ]
  },
  {
   "cell_type": "code",
   "execution_count": 31,
   "metadata": {
    "collapsed": true
   },
   "outputs": [],
   "source": [
    "x,y=model_data(fin_x_all,sector_beat_spx)"
   ]
  },
  {
   "cell_type": "code",
   "execution_count": 32,
   "metadata": {},
   "outputs": [
    {
     "name": "stdout",
     "output_type": "stream",
     "text": [
      "Stored 'x' (DataFrame)\n"
     ]
    }
   ],
   "source": [
    "%store x"
   ]
  },
  {
   "cell_type": "code",
   "execution_count": 33,
   "metadata": {},
   "outputs": [
    {
     "name": "stdout",
     "output_type": "stream",
     "text": [
      "Stored 'sector_beat_spx' (DataFrame)\n"
     ]
    }
   ],
   "source": [
    "%store sector_beat_spx"
   ]
  },
  {
   "cell_type": "code",
   "execution_count": 34,
   "metadata": {
    "collapsed": true,
    "scrolled": true
   },
   "outputs": [],
   "source": [
    "x,sector_beat_spx = model_data(x,sector_beat_spx)"
   ]
  },
  {
   "cell_type": "code",
   "execution_count": 35,
   "metadata": {},
   "outputs": [
    {
     "name": "stderr",
     "output_type": "stream",
     "text": [
      "/home/luke/anaconda2/lib/python2.7/site-packages/sklearn/utils/validation.py:526: DataConversionWarning: A column-vector y was passed when a 1d array was expected. Please change the shape of y to (n_samples, ), for example using ravel().\n",
      "  y = column_or_1d(y, warn=True)\n"
     ]
    },
    {
     "data": {
      "text/plain": [
       "SVC(C=0.1, cache_size=200, class_weight=None, coef0=0.0,\n",
       "  decision_function_shape=None, degree=3, gamma='auto', kernel='rbf',\n",
       "  max_iter=-1, probability=False, random_state=None, shrinking=True,\n",
       "  tol=0.001, verbose=False)"
      ]
     },
     "execution_count": 35,
     "metadata": {},
     "output_type": "execute_result"
    }
   ],
   "source": [
    "from sklearn import svm\n",
    "clf = svm.SVC(C = 1.0/(10.0))\n",
    "clf.fit(x, sector_beat_spx)"
   ]
  },
  {
   "cell_type": "code",
   "execution_count": 36,
   "metadata": {
    "scrolled": true
   },
   "outputs": [
    {
     "data": {
      "text/plain": [
       "0.53000000000000003"
      ]
     },
     "execution_count": 36,
     "metadata": {},
     "output_type": "execute_result"
    }
   ],
   "source": [
    "l_clf = svm.LinearSVC()\n",
    "l_clf.fit(x,sector_beat_spx)\n",
    "l_clf_predict = pd.DataFrame(l_clf.predict(x),index=x.index)\n",
    "evaluate_metric(sector_beat_spx,l_clf_predict,'acf')"
   ]
  },
  {
   "cell_type": "code",
   "execution_count": 54,
   "metadata": {},
   "outputs": [
    {
     "data": {
      "text/html": [
       "<div>\n",
       "<style>\n",
       "    .dataframe thead tr:only-child th {\n",
       "        text-align: right;\n",
       "    }\n",
       "\n",
       "    .dataframe thead th {\n",
       "        text-align: left;\n",
       "    }\n",
       "\n",
       "    .dataframe tbody tr th {\n",
       "        vertical-align: top;\n",
       "    }\n",
       "</style>\n",
       "<table border=\"1\" class=\"dataframe\">\n",
       "  <thead>\n",
       "    <tr style=\"text-align: right;\">\n",
       "      <th></th>\n",
       "      <th>IYW US Equity</th>\n",
       "    </tr>\n",
       "  </thead>\n",
       "  <tbody>\n",
       "    <tr>\n",
       "      <th>2000-05-31</th>\n",
       "      <td>115.2188</td>\n",
       "    </tr>\n",
       "    <tr>\n",
       "      <th>2000-06-30</th>\n",
       "      <td>127.5625</td>\n",
       "    </tr>\n",
       "    <tr>\n",
       "      <th>2000-07-31</th>\n",
       "      <td>120.2813</td>\n",
       "    </tr>\n",
       "    <tr>\n",
       "      <th>2000-08-31</th>\n",
       "      <td>136.8125</td>\n",
       "    </tr>\n",
       "    <tr>\n",
       "      <th>2000-09-29</th>\n",
       "      <td>116.0625</td>\n",
       "    </tr>\n",
       "  </tbody>\n",
       "</table>\n",
       "</div>"
      ],
      "text/plain": [
       "            IYW US Equity\n",
       "2000-05-31       115.2188\n",
       "2000-06-30       127.5625\n",
       "2000-07-31       120.2813\n",
       "2000-08-31       136.8125\n",
       "2000-09-29       116.0625"
      ]
     },
     "execution_count": 54,
     "metadata": {},
     "output_type": "execute_result"
    }
   ],
   "source": [
    "sector_ind.head()"
   ]
  },
  {
   "cell_type": "code",
   "execution_count": 61,
   "metadata": {},
   "outputs": [
    {
     "data": {
      "text/html": [
       "<div>\n",
       "<style>\n",
       "    .dataframe thead tr:only-child th {\n",
       "        text-align: right;\n",
       "    }\n",
       "\n",
       "    .dataframe thead th {\n",
       "        text-align: left;\n",
       "    }\n",
       "\n",
       "    .dataframe tbody tr th {\n",
       "        vertical-align: top;\n",
       "    }\n",
       "</style>\n",
       "<table border=\"1\" class=\"dataframe\">\n",
       "  <thead>\n",
       "    <tr style=\"text-align: right;\">\n",
       "      <th></th>\n",
       "      <th>IYW US Equity</th>\n",
       "    </tr>\n",
       "  </thead>\n",
       "  <tbody>\n",
       "    <tr>\n",
       "      <th>2000-05-31</th>\n",
       "      <td>0.107133</td>\n",
       "    </tr>\n",
       "    <tr>\n",
       "      <th>2000-06-30</th>\n",
       "      <td>-0.057079</td>\n",
       "    </tr>\n",
       "    <tr>\n",
       "      <th>2000-07-31</th>\n",
       "      <td>0.137438</td>\n",
       "    </tr>\n",
       "    <tr>\n",
       "      <th>2000-08-31</th>\n",
       "      <td>-0.151667</td>\n",
       "    </tr>\n",
       "    <tr>\n",
       "      <th>2000-09-29</th>\n",
       "      <td>-0.080775</td>\n",
       "    </tr>\n",
       "  </tbody>\n",
       "</table>\n",
       "</div>"
      ],
      "text/plain": [
       "            IYW US Equity\n",
       "2000-05-31       0.107133\n",
       "2000-06-30      -0.057079\n",
       "2000-07-31       0.137438\n",
       "2000-08-31      -0.151667\n",
       "2000-09-29      -0.080775"
      ]
     },
     "execution_count": 61,
     "metadata": {},
     "output_type": "execute_result"
    }
   ],
   "source": [
    "sector_ind_ret = ((sector_ind.shift(-1)/sector_ind)-1).dropna()\n",
    "sector_ind_ret.head()"
   ]
  },
  {
   "cell_type": "code",
   "execution_count": 62,
   "metadata": {},
   "outputs": [
    {
     "data": {
      "text/plain": [
       "120.2813600625"
      ]
     },
     "execution_count": 62,
     "metadata": {},
     "output_type": "execute_result"
    }
   ],
   "source": [
    "127.5625*(1-0.057079)"
   ]
  },
  {
   "cell_type": "code",
   "execution_count": 37,
   "metadata": {},
   "outputs": [
    {
     "data": {
      "text/plain": [
       "1.0"
      ]
     },
     "execution_count": 37,
     "metadata": {},
     "output_type": "execute_result"
    }
   ],
   "source": [
    "nu = svm.NuSVC()\n",
    "nu.fit(x,sector_beat_spx)\n",
    "nu_predict = pd.DataFrame(nu.predict(x),index=x.index)\n",
    "evaluate_metric(sector_beat_spx,nu_predict,'acf')"
   ]
  },
  {
   "cell_type": "code",
   "execution_count": 37,
   "metadata": {},
   "outputs": [
    {
     "data": {
      "text/html": [
       "<div>\n",
       "<style>\n",
       "    .dataframe thead tr:only-child th {\n",
       "        text-align: right;\n",
       "    }\n",
       "\n",
       "    .dataframe thead th {\n",
       "        text-align: left;\n",
       "    }\n",
       "\n",
       "    .dataframe tbody tr th {\n",
       "        vertical-align: top;\n",
       "    }\n",
       "</style>\n",
       "<table border=\"1\" class=\"dataframe\">\n",
       "  <thead>\n",
       "    <tr style=\"text-align: right;\">\n",
       "      <th></th>\n",
       "      <th>2000-12-31 00:00:00</th>\n",
       "      <th>2001-01-31 00:00:00</th>\n",
       "      <th>2001-02-28 00:00:00</th>\n",
       "      <th>2001-03-31 00:00:00</th>\n",
       "      <th>2001-04-30 00:00:00</th>\n",
       "    </tr>\n",
       "  </thead>\n",
       "  <tbody>\n",
       "    <tr>\n",
       "      <th>GDP</th>\n",
       "      <td>0.003422</td>\n",
       "      <td>0.012396</td>\n",
       "      <td>0.012396</td>\n",
       "      <td>0.012396</td>\n",
       "      <td>0.000104</td>\n",
       "    </tr>\n",
       "    <tr>\n",
       "      <th>DGS10</th>\n",
       "      <td>0.013672</td>\n",
       "      <td>-0.052023</td>\n",
       "      <td>0.002033</td>\n",
       "      <td>0.085193</td>\n",
       "      <td>0.014953</td>\n",
       "    </tr>\n",
       "    <tr>\n",
       "      <th>CSUSHPINSA</th>\n",
       "      <td>0.003953</td>\n",
       "      <td>0.003845</td>\n",
       "      <td>0.006932</td>\n",
       "      <td>0.007699</td>\n",
       "      <td>0.008539</td>\n",
       "    </tr>\n",
       "    <tr>\n",
       "      <th>PAYEMS</th>\n",
       "      <td>-0.000188</td>\n",
       "      <td>0.000543</td>\n",
       "      <td>-0.000203</td>\n",
       "      <td>-0.002109</td>\n",
       "      <td>-0.000294</td>\n",
       "    </tr>\n",
       "    <tr>\n",
       "      <th>TEDRATE</th>\n",
       "      <td>-0.164179</td>\n",
       "      <td>-0.428571</td>\n",
       "      <td>1.125000</td>\n",
       "      <td>-0.294118</td>\n",
       "      <td>-0.083333</td>\n",
       "    </tr>\n",
       "    <tr>\n",
       "      <th>FEDFUNDS</th>\n",
       "      <td>0.064000</td>\n",
       "      <td>0.059800</td>\n",
       "      <td>0.054900</td>\n",
       "      <td>0.053100</td>\n",
       "      <td>0.048000</td>\n",
       "    </tr>\n",
       "    <tr>\n",
       "      <th>NETEXP</th>\n",
       "      <td>-0.026502</td>\n",
       "      <td>-0.082609</td>\n",
       "      <td>-0.082609</td>\n",
       "      <td>-0.082609</td>\n",
       "      <td>0.020413</td>\n",
       "    </tr>\n",
       "    <tr>\n",
       "      <th>PCE</th>\n",
       "      <td>0.004399</td>\n",
       "      <td>0.002782</td>\n",
       "      <td>-0.001024</td>\n",
       "      <td>0.002008</td>\n",
       "      <td>0.006666</td>\n",
       "    </tr>\n",
       "    <tr>\n",
       "      <th>UNRATE</th>\n",
       "      <td>0.039000</td>\n",
       "      <td>0.042000</td>\n",
       "      <td>0.042000</td>\n",
       "      <td>0.043000</td>\n",
       "      <td>0.044000</td>\n",
       "    </tr>\n",
       "    <tr>\n",
       "      <th>UMCSENT</th>\n",
       "      <td>-0.037602</td>\n",
       "      <td>-0.043295</td>\n",
       "      <td>0.009934</td>\n",
       "      <td>-0.033880</td>\n",
       "      <td>0.040724</td>\n",
       "    </tr>\n",
       "    <tr>\n",
       "      <th>BAMLH0A0HYM2</th>\n",
       "      <td>0.091600</td>\n",
       "      <td>0.078700</td>\n",
       "      <td>0.077000</td>\n",
       "      <td>0.081800</td>\n",
       "      <td>0.080600</td>\n",
       "    </tr>\n",
       "    <tr>\n",
       "      <th>RECPROUSM156N</th>\n",
       "      <td>0.080600</td>\n",
       "      <td>0.157600</td>\n",
       "      <td>0.186800</td>\n",
       "      <td>0.226800</td>\n",
       "      <td>0.263800</td>\n",
       "    </tr>\n",
       "    <tr>\n",
       "      <th>VIXCLS</th>\n",
       "      <td>-0.179888</td>\n",
       "      <td>0.287466</td>\n",
       "      <td>0.010229</td>\n",
       "      <td>-0.110335</td>\n",
       "      <td>-0.111460</td>\n",
       "    </tr>\n",
       "    <tr>\n",
       "      <th>XOI Index</th>\n",
       "      <td>535.308089</td>\n",
       "      <td>526.964337</td>\n",
       "      <td>524.385070</td>\n",
       "      <td>528.447650</td>\n",
       "      <td>583.894665</td>\n",
       "    </tr>\n",
       "    <tr>\n",
       "      <th>YIELD_SLOPE</th>\n",
       "      <td>0.000160</td>\n",
       "      <td>0.005420</td>\n",
       "      <td>0.005060</td>\n",
       "      <td>0.007370</td>\n",
       "      <td>0.010620</td>\n",
       "    </tr>\n",
       "    <tr>\n",
       "      <th>XAU Curncy</th>\n",
       "      <td>271.256612</td>\n",
       "      <td>264.825926</td>\n",
       "      <td>266.154866</td>\n",
       "      <td>256.914334</td>\n",
       "      <td>263.073102</td>\n",
       "    </tr>\n",
       "    <tr>\n",
       "      <th>LUMSTRUU Index</th>\n",
       "      <td>-0.015846</td>\n",
       "      <td>-0.015331</td>\n",
       "      <td>-0.005694</td>\n",
       "      <td>-0.005771</td>\n",
       "      <td>-0.001386</td>\n",
       "    </tr>\n",
       "    <tr>\n",
       "      <th>DXY Curncy</th>\n",
       "      <td>0.051844</td>\n",
       "      <td>-0.008686</td>\n",
       "      <td>-0.013302</td>\n",
       "      <td>-0.045668</td>\n",
       "      <td>0.013908</td>\n",
       "    </tr>\n",
       "    <tr>\n",
       "      <th>M2 Index</th>\n",
       "      <td>-0.009052</td>\n",
       "      <td>-0.010151</td>\n",
       "      <td>-0.007551</td>\n",
       "      <td>-0.011346</td>\n",
       "      <td>-0.012398</td>\n",
       "    </tr>\n",
       "    <tr>\n",
       "      <th>LUGCTRUU Index</th>\n",
       "      <td>-0.019350</td>\n",
       "      <td>-0.016498</td>\n",
       "      <td>-0.010214</td>\n",
       "      <td>-0.004568</td>\n",
       "      <td>0.007553</td>\n",
       "    </tr>\n",
       "    <tr>\n",
       "      <th>TAIEALLGCLCRT100EP</th>\n",
       "      <td>-0.142559</td>\n",
       "      <td>0.000000</td>\n",
       "      <td>0.000000</td>\n",
       "      <td>0.027795</td>\n",
       "      <td>0.000000</td>\n",
       "    </tr>\n",
       "    <tr>\n",
       "      <th>CCSA</th>\n",
       "      <td>0.012806</td>\n",
       "      <td>0.013281</td>\n",
       "      <td>0.013768</td>\n",
       "      <td>0.014308</td>\n",
       "      <td>0.014916</td>\n",
       "    </tr>\n",
       "    <tr>\n",
       "      <th>JTU5200JOR</th>\n",
       "      <td>0.034000</td>\n",
       "      <td>0.050000</td>\n",
       "      <td>0.039000</td>\n",
       "      <td>0.035000</td>\n",
       "      <td>0.038000</td>\n",
       "    </tr>\n",
       "    <tr>\n",
       "      <th>ACILOB</th>\n",
       "      <td>0.071585</td>\n",
       "      <td>0.000000</td>\n",
       "      <td>0.000000</td>\n",
       "      <td>-0.012309</td>\n",
       "      <td>0.000000</td>\n",
       "    </tr>\n",
       "  </tbody>\n",
       "</table>\n",
       "</div>"
      ],
      "text/plain": [
       "                    2000-12-31  2001-01-31  2001-02-28  2001-03-31  2001-04-30\n",
       "GDP                   0.003422    0.012396    0.012396    0.012396    0.000104\n",
       "DGS10                 0.013672   -0.052023    0.002033    0.085193    0.014953\n",
       "CSUSHPINSA            0.003953    0.003845    0.006932    0.007699    0.008539\n",
       "PAYEMS               -0.000188    0.000543   -0.000203   -0.002109   -0.000294\n",
       "TEDRATE              -0.164179   -0.428571    1.125000   -0.294118   -0.083333\n",
       "FEDFUNDS              0.064000    0.059800    0.054900    0.053100    0.048000\n",
       "NETEXP               -0.026502   -0.082609   -0.082609   -0.082609    0.020413\n",
       "PCE                   0.004399    0.002782   -0.001024    0.002008    0.006666\n",
       "UNRATE                0.039000    0.042000    0.042000    0.043000    0.044000\n",
       "UMCSENT              -0.037602   -0.043295    0.009934   -0.033880    0.040724\n",
       "BAMLH0A0HYM2          0.091600    0.078700    0.077000    0.081800    0.080600\n",
       "RECPROUSM156N         0.080600    0.157600    0.186800    0.226800    0.263800\n",
       "VIXCLS               -0.179888    0.287466    0.010229   -0.110335   -0.111460\n",
       "XOI Index           535.308089  526.964337  524.385070  528.447650  583.894665\n",
       "YIELD_SLOPE           0.000160    0.005420    0.005060    0.007370    0.010620\n",
       "XAU Curncy          271.256612  264.825926  266.154866  256.914334  263.073102\n",
       "LUMSTRUU Index       -0.015846   -0.015331   -0.005694   -0.005771   -0.001386\n",
       "DXY Curncy            0.051844   -0.008686   -0.013302   -0.045668    0.013908\n",
       "M2 Index             -0.009052   -0.010151   -0.007551   -0.011346   -0.012398\n",
       "LUGCTRUU Index       -0.019350   -0.016498   -0.010214   -0.004568    0.007553\n",
       "TAIEALLGCLCRT100EP   -0.142559    0.000000    0.000000    0.027795    0.000000\n",
       "CCSA                  0.012806    0.013281    0.013768    0.014308    0.014916\n",
       "JTU5200JOR            0.034000    0.050000    0.039000    0.035000    0.038000\n",
       "ACILOB                0.071585    0.000000    0.000000   -0.012309    0.000000"
      ]
     },
     "execution_count": 37,
     "metadata": {},
     "output_type": "execute_result"
    }
   ],
   "source": [
    "x.head().T"
   ]
  },
  {
   "cell_type": "code",
   "execution_count": 38,
   "metadata": {
    "collapsed": true
   },
   "outputs": [],
   "source": [
    "# x_more=pd.concat([l_clf_predict,nu_predict,x],1)"
   ]
  },
  {
   "cell_type": "code",
   "execution_count": 35,
   "metadata": {},
   "outputs": [
    {
     "data": {
      "image/png": "[encoded data removed]",
      "text/plain": [
       "<matplotlib.figure.Figure at 0x7fac11c86110>"
      ]
     },
     "metadata": {},
     "output_type": "display_data"
    }
   ],
   "source": [
    "plt.figure(figsize = (15,5))\n",
    "plt.plot(x,alpha=0.5)\n",
    "plt.plot(2*(y-0.5),'r.')\n",
    "plt.show()"
   ]
  },
  {
   "cell_type": "code",
   "execution_count": 40,
   "metadata": {
    "collapsed": true
   },
   "outputs": [],
   "source": [
    "clean_ret_data = pd.concat([y,x],1)\n",
    "clean_ret_data.to_csv(\"/home/luke/workspace/Sector-Analysis/Luke_working_space/\"+\"clearn_return.csv\")"
   ]
  },
  {
   "cell_type": "code",
   "execution_count": 41,
   "metadata": {
    "collapsed": true
   },
   "outputs": [],
   "source": [
    "# fin_x.to_csv('~/fin_x.csv')"
   ]
  },
  {
   "cell_type": "code",
   "execution_count": 42,
   "metadata": {
    "collapsed": true
   },
   "outputs": [],
   "source": [
    "# y.to_csv('~/y.csv')"
   ]
  },
  {
   "cell_type": "code",
   "execution_count": 43,
   "metadata": {},
   "outputs": [
    {
     "data": {
      "text/plain": [
       "0.65500000000000003"
      ]
     },
     "execution_count": 43,
     "metadata": {},
     "output_type": "execute_result"
    }
   ],
   "source": [
    "logistic_1  = LogisticRegression(penalty='l1', C = 1/(0.01))\n",
    "logistic_1.fit(x,sector_beat_spx)\n",
    "\n",
    "coef_df_1 = pd.DataFrame(logistic_1.coef_,columns=x.columns)\n",
    "predict_df_1 = pd.DataFrame(logistic_1.predict(x),index=x.index)\n",
    "predict_prob_df_1 = pd.DataFrame(logistic_1.predict_proba(x),index = x.index).iloc[:,[1]]\n",
    "evaluate_metric(y,predict_df_1,'acf')"
   ]
  },
  {
   "cell_type": "code",
   "execution_count": 44,
   "metadata": {
    "collapsed": true
   },
   "outputs": [],
   "source": [
    "x_norm = (x/np.linalg.norm(x,axis =0))"
   ]
  },
  {
   "cell_type": "code",
   "execution_count": 48,
   "metadata": {
    "collapsed": true
   },
   "outputs": [],
   "source": [
    "x_more = pd.concat([nu_predict,x_norm],1)"
   ]
  },
  {
   "cell_type": "code",
   "execution_count": 49,
   "metadata": {},
   "outputs": [
    {
     "data": {
      "text/plain": [
       "1.0"
      ]
     },
     "execution_count": 49,
     "metadata": {},
     "output_type": "execute_result"
    }
   ],
   "source": [
    "logistic  = LogisticRegression(penalty='l1', C = 1/(0.01))\n",
    "logistic.fit(x_more,sector_beat_spx)\n",
    "\n",
    "coef_df = pd.DataFrame(logistic.coef_,columns=x_more.columns)\n",
    "predict_df = pd.DataFrame(logistic.predict(x_more),index=x_more.index)\n",
    "predict_prob_df = pd.DataFrame(logistic.predict_proba(x_more),index = x_more.index).iloc[:,[1]]\n",
    "evaluate_metric(y,predict_df,'acf')"
   ]
  },
  {
   "cell_type": "code",
   "execution_count": 50,
   "metadata": {},
   "outputs": [
    {
     "data": {
      "image/png": "[encoded data removed]",
      "text/plain": [
       "<matplotlib.figure.Figure at 0x7f4169ca7fd0>"
      ]
     },
     "metadata": {},
     "output_type": "display_data"
    }
   ],
   "source": [
    "coef = pd.DataFrame(coef_df.values).T\n",
    "plt.plot(coef,'.')\n",
    "plt.show()"
   ]
  },
  {
   "cell_type": "code",
   "execution_count": 52,
   "metadata": {
    "scrolled": true
   },
   "outputs": [
    {
     "name": "stdout",
     "output_type": "stream",
     "text": [
      "Stored 'x' (DataFrame)\n",
      "Stored 'sector_beat_spx' (DataFrame)\n"
     ]
    }
   ],
   "source": [
    "%store x\n",
    "%store sector_beat_spx"
   ]
  },
  {
   "cell_type": "code",
   "execution_count": 63,
   "metadata": {
    "collapsed": true
   },
   "outputs": [],
   "source": [
    "# plt.figure(figsize=(20,7))\n",
    "# plt.plot(y,'r-')\n",
    "# plt.plot(predict_df,'b.')\n",
    "# plt.plot(predict_prob_df,'go')\n",
    "# plt.hlines(0.5,x.index.min(),x.index.max())\n",
    "# plt.show()"
   ]
  },
  {
   "cell_type": "markdown",
   "metadata": {},
   "source": [
    "# Dropping some data"
   ]
  },
  {
   "cell_type": "code",
   "execution_count": 69,
   "metadata": {},
   "outputs": [
    {
     "name": "stdout",
     "output_type": "stream",
     "text": [
      "(6, 24)\n",
      "['PAYEMS', 'UMCSENT', u'YIELD_SLOPE', 'LUMSTRUU Index', 'M2 Index', 'JTU5200JOR']\n"
     ]
    }
   ],
   "source": [
    "coef_is_zero = pd.DataFrame(np.prod(coef_df,0)).T\n",
    "# coef_is_zero[coef_is_zero.values == 0]\n",
    "zero_coef_ticker_list =[]\n",
    "for ticker in coef_is_zero.columns:\n",
    "    if coef_is_zero.loc[0,ticker]==0:\n",
    "        zero_coef_ticker_list.append(ticker)\n",
    "        \n",
    "assert(len(zero_coef_ticker_list)<len(coef_df.columns))\n",
    "print(len(zero_coef_ticker_list),len(coef_df.columns))\n",
    "print(zero_coef_ticker_list)"
   ]
  },
  {
   "cell_type": "code",
   "execution_count": 70,
   "metadata": {
    "scrolled": true
   },
   "outputs": [
    {
     "data": {
      "text/plain": [
       "Index([               u'GDP',              u'DGS10',         u'CSUSHPINSA',\n",
       "                  u'TEDRATE',           u'FEDFUNDS',             u'NETEXP',\n",
       "                      u'PCE',             u'UNRATE',       u'BAMLH0A0HYM2',\n",
       "            u'RECPROUSM156N',             u'VIXCLS',          u'XOI Index',\n",
       "               u'XAU Curncy',         u'DXY Curncy',     u'LUGCTRUU Index',\n",
       "       u'TAIEALLGCLCRT100EP',               u'CCSA',             u'ACILOB'],\n",
       "      dtype='object')"
      ]
     },
     "execution_count": 70,
     "metadata": {},
     "output_type": "execute_result"
    }
   ],
   "source": [
    "fin_x_2 = copy.deepcopy(x)\n",
    "for ticker in zero_coef_ticker_list:\n",
    "    fin_x_2 = fin_x_2.drop(ticker,1)\n",
    "fin_x_2.columns"
   ]
  },
  {
   "cell_type": "code",
   "execution_count": 71,
   "metadata": {},
   "outputs": [
    {
     "name": "stdout",
     "output_type": "stream",
     "text": [
      "(0.001, 0.69499999999999995)\n",
      "(0.01, 0.69499999999999995)\n",
      "(0.1, 0.67000000000000004)\n",
      "(1.0, 0.66500000000000004)\n",
      "(10.0, 0.54000000000000004)\n"
     ]
    }
   ],
   "source": [
    "lambda_list = [0.001,0.01,0.1,1.0,10.0]\n",
    "coef_df_all = pd.DataFrame()\n",
    "for C in map(lambda x: 1/x,lambda_list):\n",
    "    logistic  = LogisticRegression(penalty='l2', C = C)\n",
    "    logistic.fit(fin_x_2,y)\n",
    "\n",
    "    coef_df_x_2 = pd.DataFrame(logistic.coef_,columns=fin_x_2.columns)\n",
    "    predict_df_x_2 = pd.DataFrame(logistic.predict(fin_x_2),index=fin_x_2.index)\n",
    "    predict_prob_df_x_2 = pd.DataFrame(logistic.predict_proba(fin_x_2),index = fin_x_2.index).iloc[:,[1]]\n",
    "    print(1/C,evaluate_metric(y,predict_df_x_2,'acf'))"
   ]
  },
  {
   "cell_type": "markdown",
   "metadata": {},
   "source": [
    "# Try l2 with lambda"
   ]
  },
  {
   "cell_type": "code",
   "execution_count": 73,
   "metadata": {},
   "outputs": [
    {
     "name": "stdout",
     "output_type": "stream",
     "text": [
      "(0.001, 0.69999999999999996)\n",
      "(0.01, 0.68000000000000005)\n",
      "(0.1, 0.67000000000000004)\n",
      "(1.0, 0.65500000000000003)\n",
      "(10.0, 0.54000000000000004)\n"
     ]
    }
   ],
   "source": [
    "lambda_list = [0.001,0.01,0.1,1.0,10.0]\n",
    "coef_df_all = pd.DataFrame()\n",
    "for C in map(lambda x: 1/x,lambda_list):\n",
    "    logistic  = LogisticRegression(penalty='l2', C = C)\n",
    "    logistic.fit(x,y)\n",
    "\n",
    "    coef_df = pd.DataFrame(logistic.coef_,columns=x.columns)\n",
    "    predict_df = pd.DataFrame(logistic.predict(x),index=x.index)\n",
    "    predict_prob_df = pd.DataFrame(logistic.predict_proba(x),index = x.index).iloc[:,[1]]\n",
    "    print(1/C,evaluate_metric(y,predict_df,'acf'))"
   ]
  },
  {
   "cell_type": "code",
   "execution_count": null,
   "metadata": {
    "collapsed": true
   },
   "outputs": [],
   "source": []
  },
  {
   "cell_type": "code",
   "execution_count": null,
   "metadata": {
    "collapsed": true
   },
   "outputs": [],
   "source": []
  },
  {
   "cell_type": "code",
   "execution_count": 50,
   "metadata": {
    "collapsed": true
   },
   "outputs": [],
   "source": [
    "from sklearn.decomposition import PCA"
   ]
  },
  {
   "cell_type": "code",
   "execution_count": 60,
   "metadata": {},
   "outputs": [
    {
     "data": {
      "text/plain": [
       "(0.97607850133156471,\n",
       " array([ 0.4969759 ,  0.21005769,  0.17827818,  0.09076673]))"
      ]
     },
     "execution_count": 60,
     "metadata": {},
     "output_type": "execute_result"
    }
   ],
   "source": [
    "pca = PCA(n_components=4)\n",
    "pca_fin_x = pd.DataFrame(pca.fit_transform(fin_x_3),index=fin_x.index)\n",
    "np.sum(pca.explained_variance_ratio_),pca.explained_variance_ratio_"
   ]
  },
  {
   "cell_type": "code",
   "execution_count": 52,
   "metadata": {
    "collapsed": true,
    "scrolled": true
   },
   "outputs": [],
   "source": [
    "pca_scaled_fin = pd.DataFrame(preprocessing.scale(pca_fin_x),index= pca_fin_x.index)"
   ]
  },
  {
   "cell_type": "code",
   "execution_count": 65,
   "metadata": {},
   "outputs": [
    {
     "data": {
      "text/html": [
       "<div>\n",
       "<style>\n",
       "    .dataframe thead tr:only-child th {\n",
       "        text-align: right;\n",
       "    }\n",
       "\n",
       "    .dataframe thead th {\n",
       "        text-align: left;\n",
       "    }\n",
       "\n",
       "    .dataframe tbody tr th {\n",
       "        vertical-align: top;\n",
       "    }\n",
       "</style>\n",
       "<table border=\"1\" class=\"dataframe\">\n",
       "  <thead>\n",
       "    <tr style=\"text-align: right;\">\n",
       "      <th></th>\n",
       "      <th>JTU5200JOR</th>\n",
       "    </tr>\n",
       "  </thead>\n",
       "  <tbody>\n",
       "    <tr>\n",
       "      <th>2000-12-31</th>\n",
       "      <td>0.133431</td>\n",
       "    </tr>\n",
       "    <tr>\n",
       "      <th>2001-01-31</th>\n",
       "      <td>2.129957</td>\n",
       "    </tr>\n",
       "    <tr>\n",
       "      <th>2001-02-28</th>\n",
       "      <td>0.757346</td>\n",
       "    </tr>\n",
       "    <tr>\n",
       "      <th>2001-03-31</th>\n",
       "      <td>0.258214</td>\n",
       "    </tr>\n",
       "    <tr>\n",
       "      <th>2001-04-30</th>\n",
       "      <td>0.632563</td>\n",
       "    </tr>\n",
       "  </tbody>\n",
       "</table>\n",
       "</div>"
      ],
      "text/plain": [
       "            JTU5200JOR\n",
       "2000-12-31    0.133431\n",
       "2001-01-31    2.129957\n",
       "2001-02-28    0.757346\n",
       "2001-03-31    0.258214\n",
       "2001-04-30    0.632563"
      ]
     },
     "execution_count": 65,
     "metadata": {},
     "output_type": "execute_result"
    }
   ],
   "source": [
    "JOB_FINANCE,y=model_data(JOB_FINANCE,y)\n",
    "JOB_FINANCE.head()"
   ]
  },
  {
   "cell_type": "code",
   "execution_count": 67,
   "metadata": {},
   "outputs": [
    {
     "data": {
      "text/html": [
       "<div>\n",
       "<style>\n",
       "    .dataframe thead tr:only-child th {\n",
       "        text-align: right;\n",
       "    }\n",
       "\n",
       "    .dataframe thead th {\n",
       "        text-align: left;\n",
       "    }\n",
       "\n",
       "    .dataframe tbody tr th {\n",
       "        vertical-align: top;\n",
       "    }\n",
       "</style>\n",
       "<table border=\"1\" class=\"dataframe\">\n",
       "  <thead>\n",
       "    <tr style=\"text-align: right;\">\n",
       "      <th></th>\n",
       "      <th>JTU5200JOR</th>\n",
       "    </tr>\n",
       "  </thead>\n",
       "  <tbody>\n",
       "    <tr>\n",
       "      <th>0</th>\n",
       "      <td>0.135835</td>\n",
       "    </tr>\n",
       "    <tr>\n",
       "      <th>1</th>\n",
       "      <td>-0.093077</td>\n",
       "    </tr>\n",
       "    <tr>\n",
       "      <th>2</th>\n",
       "      <td>-0.028389</td>\n",
       "    </tr>\n",
       "  </tbody>\n",
       "</table>\n",
       "</div>"
      ],
      "text/plain": [
       "   JTU5200JOR\n",
       "0    0.135835\n",
       "1   -0.093077\n",
       "2   -0.028389"
      ]
     },
     "execution_count": 67,
     "metadata": {},
     "output_type": "execute_result"
    }
   ],
   "source": [
    "metric_list,coef_df = KF_logistic_eval(JOB_FINANCE\n",
    "    ,y,n = 3,penalty ='l2',C = 1/(10.0),evaluation_metric = 'r2')\n",
    "coef_df"
   ]
  },
  {
   "cell_type": "code",
   "execution_count": 68,
   "metadata": {},
   "outputs": [
    {
     "data": {
      "text/plain": [
       "[-1.2321428571428568, -1.1083333333333338, -0.92500000000000049]"
      ]
     },
     "execution_count": 68,
     "metadata": {},
     "output_type": "execute_result"
    }
   ],
   "source": [
    "metric_list"
   ]
  },
  {
   "cell_type": "code",
   "execution_count": null,
   "metadata": {
    "collapsed": true
   },
   "outputs": [],
   "source": []
  },
  {
   "cell_type": "code",
   "execution_count": null,
   "metadata": {
    "collapsed": true
   },
   "outputs": [],
   "source": []
  },
  {
   "cell_type": "code",
   "execution_count": null,
   "metadata": {
    "collapsed": true
   },
   "outputs": [],
   "source": []
  },
  {
   "cell_type": "code",
   "execution_count": null,
   "metadata": {
    "collapsed": true
   },
   "outputs": [],
   "source": []
  },
  {
   "cell_type": "code",
   "execution_count": null,
   "metadata": {
    "collapsed": true
   },
   "outputs": [],
   "source": []
  },
  {
   "cell_type": "code",
   "execution_count": null,
   "metadata": {
    "collapsed": true
   },
   "outputs": [],
   "source": []
  },
  {
   "cell_type": "code",
   "execution_count": null,
   "metadata": {
    "collapsed": true
   },
   "outputs": [],
   "source": []
  },
  {
   "cell_type": "code",
   "execution_count": null,
   "metadata": {
    "collapsed": true
   },
   "outputs": [],
   "source": []
  },
  {
   "cell_type": "code",
   "execution_count": null,
   "metadata": {
    "collapsed": true
   },
   "outputs": [],
   "source": []
  },
  {
   "cell_type": "code",
   "execution_count": null,
   "metadata": {
    "collapsed": true
   },
   "outputs": [],
   "source": []
  }
 ],
 "metadata": {
  "kernelspec": {
   "display_name": "Python 2",
   "language": "python",
   "name": "python2"
  },
  "language_info": {
   "codemirror_mode": {
    "name": "ipython",
    "version": 2
   },
   "file_extension": ".py",
   "mimetype": "text/x-python",
   "name": "python",
   "nbconvert_exporter": "python",
   "pygments_lexer": "ipython2",
   "version": "2.7.13"
  }
 },
 "nbformat": 4,
 "nbformat_minor": 2
}
