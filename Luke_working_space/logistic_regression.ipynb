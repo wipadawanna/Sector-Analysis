{
 "cells": [
  {
   "cell_type": "code",
   "execution_count": 1,
   "metadata": {
    "collapsed": true
   },
   "outputs": [],
   "source": [
    "import pandas as pd\n",
    "import numpy as np\n",
    "import os\n",
    "from sklearn.linear_model import LogisticRegression\n",
    "import matplotlib.pyplot as plt\n",
    "from sklearn import preprocessing"
   ]
  },
  {
   "cell_type": "code",
   "execution_count": 2,
   "metadata": {},
   "outputs": [
    {
     "data": {
      "text/plain": [
       "'/home/luke/workspace/Investible-Stocks-Selection/Luke_working_space'"
      ]
     },
     "execution_count": 2,
     "metadata": {},
     "output_type": "execute_result"
    }
   ],
   "source": [
    "os.getcwd()"
   ]
  },
  {
   "cell_type": "code",
   "execution_count": 3,
   "metadata": {
    "collapsed": true
   },
   "outputs": [],
   "source": [
    "def read_data(directory_str,sheet_index):\n",
    "    df = pd.read_excel(directory_str,sheet_index)\n",
    "    df.index = df.iloc[:,0]\n",
    "    df = df.iloc[:,[1]]\n",
    "    df = df.dropna()\n",
    "    # convert index to pd.DatetimeIndex\n",
    "    if type(df.index) != pd.DatetimeIndex:\n",
    "        df.index = pd.DatetimeIndex(df.index)\n",
    "    df = df.replace(\".\",np.nan)\n",
    "    return df\n",
    "\n",
    "def read_csv(directory_str):\n",
    "    data = pd.read_csv(directory_str)\n",
    "    df = pd.DataFrame(pd.to_numeric(data.iloc[:,1].replace(\".\",np.nan)).values,index = data.iloc[:,0].values)\n",
    "    df.columns = data.iloc[:,[1]].columns\n",
    "    df = df.dropna()\n",
    "    # convert index to pd.DatetimeIndex\n",
    "    if type(df.index) != pd.DatetimeIndex:\n",
    "        df.index = pd.DatetimeIndex(df.index)\n",
    "    return df"
   ]
  },
  {
   "cell_type": "code",
   "execution_count": 4,
   "metadata": {
    "collapsed": true
   },
   "outputs": [],
   "source": [
    "def model_data(x,y):\n",
    "    merged_data = pd.concat([y,x],1).resample(\"M\").last().dropna()\n",
    "    y = merged_data[y.columns].loc[merged_data.index,:]\n",
    "    x = merged_data[x.columns].loc[merged_data.index,:]\n",
    "    return(x,y)"
   ]
  },
  {
   "cell_type": "code",
   "execution_count": 5,
   "metadata": {
    "collapsed": true
   },
   "outputs": [],
   "source": [
    "def quaterly_to_monthly(df):\n",
    "    # if the index is not pd.DatetimeIndex, convert it\n",
    "    if type(df.index) != pd.DatetimeIndex:\n",
    "        df.index = pd.DatetimeIndex(df.index)\n",
    "        \n",
    "    resampled_df = df.resample(\"M\").last()\n",
    "    for int_index in range(len(resampled_df)):\n",
    "        value = resampled_df.iloc[int_index,:].values[0]\n",
    "        if not np.isnan(value):\n",
    "            # copy quater data\n",
    "            previouse_quater = value\n",
    "            quater_index = 1\n",
    "        if np.isnan(value) and quater_index ==1:\n",
    "            # filling first value\n",
    "            resampled_df.iloc[int_index,:] = previouse_quater\n",
    "            quater_index += 1\n",
    "        if np.isnan(value) and quater_index ==2:\n",
    "            # filling the second value\n",
    "            resampled_df.iloc[int_index,:] = previouse_quater\n",
    "            quater_index = 1\n",
    "    return(resampled_df)"
   ]
  },
  {
   "cell_type": "code",
   "execution_count": 6,
   "metadata": {
    "collapsed": true
   },
   "outputs": [],
   "source": [
    "def norm2_normalize(df):\n",
    "    return_df = pd.DataFrame(index=df.index,columns=df.columns)\n",
    "    for col_names in df.columns:\n",
    "        data = df.loc[:,[col_names]]\n",
    "        return_df.loc[:,[col_names]] = data/np.linalg.norm(data)\n",
    "    return return_df"
   ]
  },
  {
   "cell_type": "code",
   "execution_count": 7,
   "metadata": {
    "collapsed": true
   },
   "outputs": [],
   "source": [
    "econ_dir_str = os.path.join(os.getcwd(),'../data/Economics/')\n",
    "benchmark_str = econ_dir_str+'benchmark_data.xlsx'\n",
    "cpi_str = econ_dir_str+'CPI.csv'\n",
    "gdp_str = econ_dir_str+'GDP.csv'\n",
    "dsg10_str = econ_dir_str+'DGS10.csv'\n",
    "hpi_str = econ_dir_str+'HPI.csv'\n",
    "payems_str = econ_dir_str+'PAYEMS.csv'\n",
    "ted_str= econ_dir_str+'TEDRATE.csv'\n",
    "fed_str= econ_dir_str+'FEDFUNDS.csv'\n",
    "netexp_str = econ_dir_str+'NETEXP.csv'\n",
    "pce_str= econ_dir_str+'PCE.csv'\n",
    "rate_str= econ_dir_str+'UNRATE.csv'\n",
    "csent_str = econ_dir_str+'CSENT.csv'\n",
    "oas_str = econ_dir_str+'OAS.csv'\n",
    "recession_str= econ_dir_str+'RECESSION.csv'\n",
    "vix_str= econ_dir_str+'VIXCLS.csv'\n",
    "spx_str = econ_dir_str+'SP500.csv'\n",
    "\n",
    "cpi = read_csv(cpi_str)\n",
    "gdp = read_csv(gdp_str)\n",
    "dsg10 = read_csv(dsg10_str)\n",
    "hpi = read_csv(hpi_str)\n",
    "payems =read_csv(payems_str)\n",
    "ted = read_csv(ted_str)\n",
    "fed = read_csv(fed_str)\n",
    "netexp =read_csv(netexp_str)\n",
    "pce = read_csv(pce_str)\n",
    "rate = read_csv(rate_str)\n",
    "csent = read_csv(csent_str)\n",
    "oas = read_csv(oas_str)\n",
    "recession = read_csv(recession_str)\n",
    "vix = read_csv(vix_str)"
   ]
  },
  {
   "cell_type": "code",
   "execution_count": 22,
   "metadata": {},
   "outputs": [
    {
     "name": "stdout",
     "output_type": "stream",
     "text": [
      "CPI= read_csv(/home/luke/workspace/Investible-Stocks-Selection/Luke_working_space/../data/Economics/CPI.csv)\n",
      "GDP= read_csv(/home/luke/workspace/Investible-Stocks-Selection/Luke_working_space/../data/Economics/GDP.csv)\n",
      "DGS10= read_csv(/home/luke/workspace/Investible-Stocks-Selection/Luke_working_space/../data/Economics/DGS10.csv)\n",
      "HPI= read_csv(/home/luke/workspace/Investible-Stocks-Selection/Luke_working_space/../data/Economics/HPI.csv)\n",
      "PAYEMS= read_csv(/home/luke/workspace/Investible-Stocks-Selection/Luke_working_space/../data/Economics/PAYEMS.csv)\n",
      "TEDRATE= read_csv(/home/luke/workspace/Investible-Stocks-Selection/Luke_working_space/../data/Economics/TEDRATE.csv)\n",
      "FEDFUNDS= read_csv(/home/luke/workspace/Investible-Stocks-Selection/Luke_working_space/../data/Economics/FEDFUNDS.csv)\n",
      "NETEXP= read_csv(/home/luke/workspace/Investible-Stocks-Selection/Luke_working_space/../data/Economics/NETEXP.csv)\n",
      "PCE= read_csv(/home/luke/workspace/Investible-Stocks-Selection/Luke_working_space/../data/Economics/PCE.csv)\n",
      "UNRATE= read_csv(/home/luke/workspace/Investible-Stocks-Selection/Luke_working_space/../data/Economics/UNRATE.csv)\n",
      "CSENT= read_csv(/home/luke/workspace/Investible-Stocks-Selection/Luke_working_space/../data/Economics/CSENT.csv)\n",
      "OAS= read_csv(/home/luke/workspace/Investible-Stocks-Selection/Luke_working_space/../data/Economics/OAS.csv)\n",
      "RECESSION= read_csv(/home/luke/workspace/Investible-Stocks-Selection/Luke_working_space/../data/Economics/RECESSION.csv)\n",
      "VIXCLS= read_csv(/home/luke/workspace/Investible-Stocks-Selection/Luke_working_space/../data/Economics/VIXCLS.csv)\n"
     ]
    }
   ],
   "source": [
    "csv_name_list = ['CPI.csv','GDP.csv','DGS10.csv','HPI.csv','PAYEMS.csv','TEDRATE.csv','FEDFUNDS.csv','NETEXP.csv','PCE.csv','UNRATE.csv','CSENT.csv','OAS.csv','RECESSION.csv','VIXCLS.csv']\n",
    "\n",
    "\n",
    "for file_name in csv_name_list:\n",
    "\tfile_dir_str = econ_dir_str+file_name\n",
    "\tvariable_name = file_name.split(\".\")[0]\n",
    "\n",
    "\tprint(variable_name+\"= read_csv(\"+file_dir_str+\")\")\n"
   ]
  },
  {
   "cell_type": "code",
   "execution_count": 8,
   "metadata": {
    "scrolled": true
   },
   "outputs": [],
   "source": []
  },
  {
   "cell_type": "code",
   "execution_count": 9,
   "metadata": {},
   "outputs": [],
   "source": [
    "cpi = quaterly_to_monthly(cpi)\n",
    "gdp = quaterly_to_monthly(gdp)\n",
    "dsf10 = quaterly_to_monthly(dsg10)\n",
    "hpi = quaterly_to_monthly(hpi)\n",
    "payems = quaterly_to_monthly(payems)\n",
    "ted = quaterly_to_monthly(ted)\n",
    "fed = quaterly_to_monthly(fed)\n",
    "netexp = quaterly_to_monthly(netexp)\n",
    "pce = quaterly_to_monthly(pce)\n",
    "rate = quaterly_to_monthly(rate)\n",
    "csent = quaterly_to_monthly(csent)\n",
    "oas = quaterly_to_monthly(oas)\n",
    "recession = quaterly_to_monthly(recession)\n",
    "vix = quaterly_to_monthly(vix)\n",
    "# [cpi,gdp,dsg10,hpi,ted,fed,pce,rate,recession,vix]\n",
    "\n",
    "data_set_selection = [cpi,gdp,hpi,dsg10,hpi,ted,fed,pce,rate,recession,vix]\n",
    "\n",
    "# [cpi,gdp,hpi,recession]\n",
    "# [cpi,gdp,dsf10,hpi,payems,ted,fed,netexp,pce,rate,csent,oas,recession,vix]\n",
    "\n",
    "\n",
    "\n",
    "x = pd.concat(data_set_selection,1).resample(\"M\").last().dropna()\n",
    "temp = preprocessing.scale(x,axis=0)\n",
    "x = pd.DataFrame(temp,index = x.index,columns = x.columns)\n",
    "# norm2_normalize(x)\n",
    "x = x.shift()/x -1\n"
   ]
  },
  {
   "cell_type": "code",
   "execution_count": 10,
   "metadata": {
    "collapsed": true
   },
   "outputs": [],
   "source": [
    "IYW = read_data(benchmark_str,8)\n",
    "IYW_ret = IYW.apply(np.log).diff()"
   ]
  },
  {
   "cell_type": "code",
   "execution_count": 11,
   "metadata": {
    "scrolled": true
   },
   "outputs": [],
   "source": [
    "IYW_ret,spx_ret =model_data(IYW_ret,spx_ret)"
   ]
  },
  {
   "cell_type": "code",
   "execution_count": 12,
   "metadata": {},
   "outputs": [
    {
     "data": {
      "image/png": "[encoded data removed]",
      "text/plain": [
       "<matplotlib.figure.Figure at 0x7ff47a48c510>"
      ]
     },
     "metadata": {},
     "output_type": "display_data"
    }
   ],
   "source": [
    "plt.plot((IYW_ret.values>spx_ret.values).flatten(),'b-')\n",
    "plt.show()"
   ]
  },
  {
   "cell_type": "code",
   "execution_count": 13,
   "metadata": {
    "collapsed": true
   },
   "outputs": [],
   "source": [
    "\n",
    "\n",
    "\n",
    "# 1: for positive return, 0:for negative return\n",
    "# positive_ret = IYW_ret[IYW_ret>0.05].notnull()*1\n",
    "\n",
    "# temp = pd.concat([IYZ_ret,spx_ret],1).dropna()\n",
    "# comparison = temp.iloc[:,0]-temp.iloc[:,1]\n",
    "defeat_benchmark = pd.DataFrame((IYW_ret.values>spx_ret.values),index= IYW_ret.index,columns=['defeat_benchmark'])*1\n",
    "\n",
    "\n",
    "x,y = model_data(x,defeat_benchmark)"
   ]
  },
  {
   "cell_type": "code",
   "execution_count": 18,
   "metadata": {},
   "outputs": [],
   "source": [
    "# %store -r top_sector"
   ]
  },
  {
   "cell_type": "code",
   "execution_count": 21,
   "metadata": {},
   "outputs": [
    {
     "data": {
      "text/plain": [
       "2000-08-31    1\n",
       "2000-09-29    0\n",
       "2000-10-31    0\n",
       "2000-11-30    0\n",
       "2000-12-29    0\n",
       "2001-01-31    1\n",
       "2001-02-28    0\n",
       "2001-03-30    0\n",
       "2001-04-30    1\n",
       "2001-05-31    0\n",
       "2001-06-29    1\n",
       "2001-07-31    0\n",
       "2001-08-31    0\n",
       "2001-09-28    0\n",
       "2001-10-31    1\n",
       "2001-11-30    1\n",
       "2001-12-31    0\n",
       "2002-01-31    1\n",
       "2002-02-28    0\n",
       "2002-03-28    1\n",
       "2002-04-30    0\n",
       "2002-05-31    0\n",
       "2002-06-28    0\n",
       "2002-07-31    0\n",
       "2002-08-30    0\n",
       "2002-09-30    0\n",
       "2002-10-31    1\n",
       "2002-11-29    1\n",
       "2002-12-31    0\n",
       "2003-01-31    1\n",
       "             ..\n",
       "2015-03-31    0\n",
       "2015-04-30    1\n",
       "2015-05-29    1\n",
       "2015-06-30    0\n",
       "2015-07-31    0\n",
       "2015-08-31    0\n",
       "2015-09-30    1\n",
       "2015-10-30    0\n",
       "2015-11-30    0\n",
       "2015-12-31    0\n",
       "2016-01-29    0\n",
       "2016-02-29    0\n",
       "2016-03-31    1\n",
       "2016-04-29    0\n",
       "2016-05-31    1\n",
       "2016-06-30    0\n",
       "2016-07-29    1\n",
       "2016-08-31    1\n",
       "2016-09-30    1\n",
       "2016-10-31    1\n",
       "2016-11-30    0\n",
       "2016-12-30    0\n",
       "2017-01-31    1\n",
       "2017-02-28    1\n",
       "2017-03-31    1\n",
       "2017-04-28    1\n",
       "2017-05-31    1\n",
       "2017-06-30    0\n",
       "2017-07-31    1\n",
       "2017-08-31    1\n",
       "Name: IYW US Equity, Length: 205, dtype: int64"
      ]
     },
     "execution_count": 21,
     "metadata": {},
     "output_type": "execute_result"
    }
   ],
   "source": [
    "# top_sector.loc[:,'IYW US Equity']*1"
   ]
  },
  {
   "cell_type": "code",
   "execution_count": 14,
   "metadata": {},
   "outputs": [
    {
     "name": "stderr",
     "output_type": "stream",
     "text": [
      "/home/luke/anaconda2/lib/python2.7/site-packages/sklearn/utils/validation.py:526: DataConversionWarning: A column-vector y was passed when a 1d array was expected. Please change the shape of y to (n_samples, ), for example using ravel().\n",
      "  y = column_or_1d(y, warn=True)\n"
     ]
    },
    {
     "data": {
      "text/html": [
       "<div>\n",
       "<style>\n",
       "    .dataframe thead tr:only-child th {\n",
       "        text-align: right;\n",
       "    }\n",
       "\n",
       "    .dataframe thead th {\n",
       "        text-align: left;\n",
       "    }\n",
       "\n",
       "    .dataframe tbody tr th {\n",
       "        vertical-align: top;\n",
       "    }\n",
       "</style>\n",
       "<table border=\"1\" class=\"dataframe\">\n",
       "  <thead>\n",
       "    <tr style=\"text-align: right;\">\n",
       "      <th></th>\n",
       "      <th>CPALTT01USQ657N</th>\n",
       "      <th>GDP</th>\n",
       "      <th>CSUSHPINSA</th>\n",
       "      <th>CSUSHPINSA</th>\n",
       "      <th>DGS10</th>\n",
       "      <th>CSUSHPINSA</th>\n",
       "      <th>CSUSHPINSA</th>\n",
       "      <th>TEDRATE</th>\n",
       "      <th>FEDFUNDS</th>\n",
       "      <th>PCE</th>\n",
       "      <th>UNRATE</th>\n",
       "      <th>RECPROUSM156N</th>\n",
       "      <th>VIXCLS</th>\n",
       "    </tr>\n",
       "  </thead>\n",
       "  <tbody>\n",
       "    <tr>\n",
       "      <th>0</th>\n",
       "      <td>-0.392634</td>\n",
       "      <td>0.036071</td>\n",
       "      <td>0.304854</td>\n",
       "      <td>0.304854</td>\n",
       "      <td>1.366021</td>\n",
       "      <td>0.304854</td>\n",
       "      <td>0.304854</td>\n",
       "      <td>-0.048088</td>\n",
       "      <td>0.159395</td>\n",
       "      <td>0.014712</td>\n",
       "      <td>-0.375419</td>\n",
       "      <td>-0.279949</td>\n",
       "      <td>-0.02714</td>\n",
       "    </tr>\n",
       "  </tbody>\n",
       "</table>\n",
       "</div>"
      ],
      "text/plain": [
       "   CPALTT01USQ657N       GDP  CSUSHPINSA  CSUSHPINSA     DGS10  CSUSHPINSA  \\\n",
       "0        -0.392634  0.036071    0.304854    0.304854  1.366021    0.304854   \n",
       "\n",
       "   CSUSHPINSA   TEDRATE  FEDFUNDS       PCE    UNRATE  RECPROUSM156N   VIXCLS  \n",
       "0    0.304854 -0.048088  0.159395  0.014712 -0.375419      -0.279949 -0.02714  "
      ]
     },
     "execution_count": 14,
     "metadata": {},
     "output_type": "execute_result"
    }
   ],
   "source": [
    "train_index = x.index[0:len(x.index)*3/4]\n",
    "validate_index = pd.DatetimeIndex(np.setdiff1d(x.index,train_index))\n",
    "\n",
    "logistic  = LogisticRegression()\n",
    "logistic.fit(x.loc[train_index,:],y.loc[train_index,:])\n",
    "\n",
    "y_predict = pd.DataFrame(logistic.predict(x.loc[validate_index,:]),index = validate_index)\n",
    "\n",
    "pd.DataFrame(logistic.coef_,columns = x.columns)"
   ]
  },
  {
   "cell_type": "code",
   "execution_count": 15,
   "metadata": {},
   "outputs": [
    {
     "data": {
      "image/png": "[encoded data removed]",
      "text/plain": [
       "<matplotlib.figure.Figure at 0x7ff4774c6650>"
      ]
     },
     "metadata": {},
     "output_type": "display_data"
    }
   ],
   "source": [
    "plt.figure(figsize=(15,5))\n",
    "plt.plot(y,'r-')\n",
    "plt.plot(y_predict,'b--')\n",
    "plt.show()"
   ]
  },
  {
   "cell_type": "code",
   "execution_count": 16,
   "metadata": {},
   "outputs": [
    {
     "name": "stdout",
     "output_type": "stream",
     "text": [
      "prediction rate: 67.857%\n"
     ]
    }
   ],
   "source": [
    "comparison_df = pd.concat([y,y_predict],1).dropna()\n",
    "score_df = pd.DataFrame(map(lambda x: x[0]==x[1],comparison_df.values))*1\n",
    "score = np.mean(score_df)\n",
    "\n",
    "print(\"prediction rate: \"+str(round(score*100,3))+\"%\")"
   ]
  },
  {
   "cell_type": "code",
   "execution_count": null,
   "metadata": {
    "collapsed": true
   },
   "outputs": [],
   "source": []
  },
  {
   "cell_type": "code",
   "execution_count": null,
   "metadata": {
    "collapsed": true
   },
   "outputs": [],
   "source": []
  },
  {
   "cell_type": "code",
   "execution_count": null,
   "metadata": {
    "collapsed": true
   },
   "outputs": [],
   "source": []
  },
  {
   "cell_type": "code",
   "execution_count": null,
   "metadata": {
    "collapsed": true
   },
   "outputs": [],
   "source": []
  },
  {
   "cell_type": "code",
   "execution_count": null,
   "metadata": {
    "collapsed": true
   },
   "outputs": [],
   "source": []
  }
 ],
 "metadata": {
  "kernelspec": {
   "display_name": "Python 2",
   "language": "python",
   "name": "python2"
  },
  "language_info": {
   "codemirror_mode": {
    "name": "ipython",
    "version": 2
   },
   "file_extension": ".py",
   "mimetype": "text/x-python",
   "name": "python",
   "nbconvert_exporter": "python",
   "pygments_lexer": "ipython2",
   "version": "2.7.13"
  }
 },
 "nbformat": 4,
 "nbformat_minor": 2
}
