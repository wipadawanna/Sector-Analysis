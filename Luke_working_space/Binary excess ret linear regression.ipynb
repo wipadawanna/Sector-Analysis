{
 "cells": [
  {
   "cell_type": "code",
   "execution_count": 1,
   "metadata": {
    "collapsed": true
   },
   "outputs": [],
   "source": [
    "import pandas as pd\n",
    "import numpy as np\n",
    "import statsmodels\n"
   ]
  },
  {
   "cell_type": "code",
   "execution_count": 2,
   "metadata": {},
   "outputs": [
    {
     "data": {
      "text/plain": [
       "u'0.20.1'"
      ]
     },
     "execution_count": 2,
     "metadata": {},
     "output_type": "execute_result"
    }
   ],
   "source": [
    "pd.__version__"
   ]
  },
  {
   "cell_type": "code",
   "execution_count": 15,
   "metadata": {
    "collapsed": true
   },
   "outputs": [],
   "source": [
    "clean_data = pd.read_csv(\"/home/luke/workspace/Sector-Analysis/Luke_working_space/\"+\"clearn_return.csv\")\n",
    "clean_data.index = clean_data.iloc[:,0].values\n",
    "clean_data = clean_data.iloc[:,1:]\n",
    "\n",
    "y = clean_data.iloc[:,[0]]\n",
    "x = clean_data.iloc[:,1:]"
   ]
  },
  {
   "cell_type": "code",
   "execution_count": 19,
   "metadata": {
    "collapsed": true
   },
   "outputs": [],
   "source": []
  },
  {
   "cell_type": "code",
   "execution_count": 21,
   "metadata": {},
   "outputs": [
    {
     "name": "stderr",
     "output_type": "stream",
     "text": [
      "/home/luke/anaconda2/lib/python2.7/site-packages/statsmodels/compat/pandas.py:56: FutureWarning: The pandas.core.datetools module is deprecated and will be removed in a future version. Please use the pandas.tseries module instead.\n",
      "  from pandas.core import datetools\n"
     ]
    }
   ],
   "source": [
    "import statsmodels.api as sm"
   ]
  },
  {
   "cell_type": "code",
   "execution_count": 22,
   "metadata": {
    "collapsed": true
   },
   "outputs": [],
   "source": [
    "mod = sm.OLS(endog = y, exog = x)\n",
    "results = mod.fit()"
   ]
  },
  {
   "cell_type": "code",
   "execution_count": 24,
   "metadata": {
    "scrolled": false
   },
   "outputs": [
    {
     "data": {
      "text/html": [
       "<table class=\"simpletable\">\n",
       "<caption>OLS Regression Results</caption>\n",
       "<tr>\n",
       "  <th>Dep. Variable:</th>      <td>IYW US Equity</td>  <th>  R-squared:         </th> <td>   0.577</td>\n",
       "</tr>\n",
       "<tr>\n",
       "  <th>Model:</th>                   <td>OLS</td>       <th>  Adj. R-squared:    </th> <td>   0.519</td>\n",
       "</tr>\n",
       "<tr>\n",
       "  <th>Method:</th>             <td>Least Squares</td>  <th>  F-statistic:       </th> <td>   9.984</td>\n",
       "</tr>\n",
       "<tr>\n",
       "  <th>Date:</th>             <td>Wed, 06 Dec 2017</td> <th>  Prob (F-statistic):</th> <td>4.68e-22</td>\n",
       "</tr>\n",
       "<tr>\n",
       "  <th>Time:</th>                 <td>17:09:45</td>     <th>  Log-Likelihood:    </th> <td> -122.36</td>\n",
       "</tr>\n",
       "<tr>\n",
       "  <th>No. Observations:</th>      <td>   200</td>      <th>  AIC:               </th> <td>   292.7</td>\n",
       "</tr>\n",
       "<tr>\n",
       "  <th>Df Residuals:</th>          <td>   176</td>      <th>  BIC:               </th> <td>   371.9</td>\n",
       "</tr>\n",
       "<tr>\n",
       "  <th>Df Model:</th>              <td>    24</td>      <th>                     </th>     <td> </td>   \n",
       "</tr>\n",
       "<tr>\n",
       "  <th>Covariance Type:</th>      <td>nonrobust</td>    <th>                     </th>     <td> </td>   \n",
       "</tr>\n",
       "</table>\n",
       "<table class=\"simpletable\">\n",
       "<tr>\n",
       "           <td></td>             <th>coef</th>     <th>std err</th>      <th>t</th>      <th>P>|t|</th>  <th>[0.025</th>    <th>0.975]</th>  \n",
       "</tr>\n",
       "<tr>\n",
       "  <th>GDP</th>                <td>   10.4753</td> <td>    8.669</td> <td>    1.208</td> <td> 0.229</td> <td>   -6.634</td> <td>   27.584</td>\n",
       "</tr>\n",
       "<tr>\n",
       "  <th>DGS10</th>              <td>    1.3460</td> <td>    0.951</td> <td>    1.416</td> <td> 0.159</td> <td>   -0.531</td> <td>    3.222</td>\n",
       "</tr>\n",
       "<tr>\n",
       "  <th>CSUSHPINSA</th>         <td>  -18.6430</td> <td>    5.493</td> <td>   -3.394</td> <td> 0.001</td> <td>  -29.484</td> <td>   -7.802</td>\n",
       "</tr>\n",
       "<tr>\n",
       "  <th>PAYEMS</th>             <td>   33.2341</td> <td>   48.671</td> <td>    0.683</td> <td> 0.496</td> <td>  -62.819</td> <td>  129.287</td>\n",
       "</tr>\n",
       "<tr>\n",
       "  <th>TEDRATE</th>            <td>   -0.0093</td> <td>    0.137</td> <td>   -0.068</td> <td> 0.946</td> <td>   -0.279</td> <td>    0.260</td>\n",
       "</tr>\n",
       "<tr>\n",
       "  <th>FEDFUNDS</th>           <td>    8.2233</td> <td>    3.927</td> <td>    2.094</td> <td> 0.038</td> <td>    0.474</td> <td>   15.973</td>\n",
       "</tr>\n",
       "<tr>\n",
       "  <th>NETEXP</th>             <td>   -0.9781</td> <td>    0.493</td> <td>   -1.983</td> <td> 0.049</td> <td>   -1.951</td> <td>   -0.005</td>\n",
       "</tr>\n",
       "<tr>\n",
       "  <th>PCE</th>                <td>   -7.5386</td> <td>    9.720</td> <td>   -0.776</td> <td> 0.439</td> <td>  -26.722</td> <td>   11.645</td>\n",
       "</tr>\n",
       "<tr>\n",
       "  <th>UNRATE</th>             <td>   15.4893</td> <td>    5.442</td> <td>    2.846</td> <td> 0.005</td> <td>    4.749</td> <td>   26.229</td>\n",
       "</tr>\n",
       "<tr>\n",
       "  <th>UMCSENT</th>            <td>   -0.2337</td> <td>    0.683</td> <td>   -0.342</td> <td> 0.733</td> <td>   -1.581</td> <td>    1.114</td>\n",
       "</tr>\n",
       "<tr>\n",
       "  <th>BAMLH0A0HYM2</th>       <td>    4.5248</td> <td>    2.820</td> <td>    1.605</td> <td> 0.110</td> <td>   -1.040</td> <td>   10.090</td>\n",
       "</tr>\n",
       "<tr>\n",
       "  <th>RECPROUSM156N</th>      <td>   -0.0301</td> <td>    0.260</td> <td>   -0.116</td> <td> 0.908</td> <td>   -0.544</td> <td>    0.483</td>\n",
       "</tr>\n",
       "<tr>\n",
       "  <th>VIXCLS</th>             <td>   -0.6074</td> <td>    0.207</td> <td>   -2.938</td> <td> 0.004</td> <td>   -1.015</td> <td>   -0.199</td>\n",
       "</tr>\n",
       "<tr>\n",
       "  <th>XOI Index</th>          <td>   -1.0366</td> <td>    0.798</td> <td>   -1.300</td> <td> 0.195</td> <td>   -2.611</td> <td>    0.537</td>\n",
       "</tr>\n",
       "<tr>\n",
       "  <th>YIELD_SLOPE</th>        <td>    2.4624</td> <td>    8.824</td> <td>    0.279</td> <td> 0.781</td> <td>  -14.952</td> <td>   19.877</td>\n",
       "</tr>\n",
       "<tr>\n",
       "  <th>XAU Curncy</th>         <td>   -0.8112</td> <td>    0.865</td> <td>   -0.938</td> <td> 0.350</td> <td>   -2.519</td> <td>    0.896</td>\n",
       "</tr>\n",
       "<tr>\n",
       "  <th>LUMSTRUU Index</th>     <td>   -6.4717</td> <td>    9.666</td> <td>   -0.670</td> <td> 0.504</td> <td>  -25.548</td> <td>   12.605</td>\n",
       "</tr>\n",
       "<tr>\n",
       "  <th>DXY Curncy</th>         <td>   -0.4331</td> <td>    1.887</td> <td>   -0.230</td> <td> 0.819</td> <td>   -4.156</td> <td>    3.290</td>\n",
       "</tr>\n",
       "<tr>\n",
       "  <th>M2 Index</th>           <td>    4.5121</td> <td>   11.272</td> <td>    0.400</td> <td> 0.689</td> <td>  -17.734</td> <td>   26.758</td>\n",
       "</tr>\n",
       "<tr>\n",
       "  <th>LUGCTRUU Index</th>     <td>    8.5448</td> <td>    8.501</td> <td>    1.005</td> <td> 0.316</td> <td>   -8.232</td> <td>   25.321</td>\n",
       "</tr>\n",
       "<tr>\n",
       "  <th>TAIEALLGCLCRT100EP</th> <td>   -1.1230</td> <td>    0.752</td> <td>   -1.493</td> <td> 0.137</td> <td>   -2.608</td> <td>    0.362</td>\n",
       "</tr>\n",
       "<tr>\n",
       "  <th>CCSA</th>               <td>  -50.7031</td> <td>   24.897</td> <td>   -2.037</td> <td> 0.043</td> <td>  -99.838</td> <td>   -1.568</td>\n",
       "</tr>\n",
       "<tr>\n",
       "  <th>JTU5200JOR</th>         <td>   -1.9572</td> <td>    4.499</td> <td>   -0.435</td> <td> 0.664</td> <td>  -10.835</td> <td>    6.921</td>\n",
       "</tr>\n",
       "<tr>\n",
       "  <th>ACILOB</th>             <td>   -5.6626</td> <td>    3.078</td> <td>   -1.840</td> <td> 0.067</td> <td>  -11.736</td> <td>    0.411</td>\n",
       "</tr>\n",
       "</table>\n",
       "<table class=\"simpletable\">\n",
       "<tr>\n",
       "  <th>Omnibus:</th>       <td>127.505</td> <th>  Durbin-Watson:     </th> <td>   2.006</td>\n",
       "</tr>\n",
       "<tr>\n",
       "  <th>Prob(Omnibus):</th> <td> 0.000</td>  <th>  Jarque-Bera (JB):  </th> <td>  13.402</td>\n",
       "</tr>\n",
       "<tr>\n",
       "  <th>Skew:</th>          <td> 0.096</td>  <th>  Prob(JB):          </th> <td> 0.00123</td>\n",
       "</tr>\n",
       "<tr>\n",
       "  <th>Kurtosis:</th>      <td> 1.746</td>  <th>  Cond. No.          </th> <td>    446.</td>\n",
       "</tr>\n",
       "</table>"
      ],
      "text/plain": [
       "<class 'statsmodels.iolib.summary.Summary'>\n",
       "\"\"\"\n",
       "                            OLS Regression Results                            \n",
       "==============================================================================\n",
       "Dep. Variable:          IYW US Equity   R-squared:                       0.577\n",
       "Model:                            OLS   Adj. R-squared:                  0.519\n",
       "Method:                 Least Squares   F-statistic:                     9.984\n",
       "Date:                Wed, 06 Dec 2017   Prob (F-statistic):           4.68e-22\n",
       "Time:                        17:09:45   Log-Likelihood:                -122.36\n",
       "No. Observations:                 200   AIC:                             292.7\n",
       "Df Residuals:                     176   BIC:                             371.9\n",
       "Df Model:                          24                                         \n",
       "Covariance Type:            nonrobust                                         \n",
       "======================================================================================\n",
       "                         coef    std err          t      P>|t|      [0.025      0.975]\n",
       "--------------------------------------------------------------------------------------\n",
       "GDP                   10.4753      8.669      1.208      0.229      -6.634      27.584\n",
       "DGS10                  1.3460      0.951      1.416      0.159      -0.531       3.222\n",
       "CSUSHPINSA           -18.6430      5.493     -3.394      0.001     -29.484      -7.802\n",
       "PAYEMS                33.2341     48.671      0.683      0.496     -62.819     129.287\n",
       "TEDRATE               -0.0093      0.137     -0.068      0.946      -0.279       0.260\n",
       "FEDFUNDS               8.2233      3.927      2.094      0.038       0.474      15.973\n",
       "NETEXP                -0.9781      0.493     -1.983      0.049      -1.951      -0.005\n",
       "PCE                   -7.5386      9.720     -0.776      0.439     -26.722      11.645\n",
       "UNRATE                15.4893      5.442      2.846      0.005       4.749      26.229\n",
       "UMCSENT               -0.2337      0.683     -0.342      0.733      -1.581       1.114\n",
       "BAMLH0A0HYM2           4.5248      2.820      1.605      0.110      -1.040      10.090\n",
       "RECPROUSM156N         -0.0301      0.260     -0.116      0.908      -0.544       0.483\n",
       "VIXCLS                -0.6074      0.207     -2.938      0.004      -1.015      -0.199\n",
       "XOI Index             -1.0366      0.798     -1.300      0.195      -2.611       0.537\n",
       "YIELD_SLOPE            2.4624      8.824      0.279      0.781     -14.952      19.877\n",
       "XAU Curncy            -0.8112      0.865     -0.938      0.350      -2.519       0.896\n",
       "LUMSTRUU Index        -6.4717      9.666     -0.670      0.504     -25.548      12.605\n",
       "DXY Curncy            -0.4331      1.887     -0.230      0.819      -4.156       3.290\n",
       "M2 Index               4.5121     11.272      0.400      0.689     -17.734      26.758\n",
       "LUGCTRUU Index         8.5448      8.501      1.005      0.316      -8.232      25.321\n",
       "TAIEALLGCLCRT100EP    -1.1230      0.752     -1.493      0.137      -2.608       0.362\n",
       "CCSA                 -50.7031     24.897     -2.037      0.043     -99.838      -1.568\n",
       "JTU5200JOR            -1.9572      4.499     -0.435      0.664     -10.835       6.921\n",
       "ACILOB                -5.6626      3.078     -1.840      0.067     -11.736       0.411\n",
       "==============================================================================\n",
       "Omnibus:                      127.505   Durbin-Watson:                   2.006\n",
       "Prob(Omnibus):                  0.000   Jarque-Bera (JB):               13.402\n",
       "Skew:                           0.096   Prob(JB):                      0.00123\n",
       "Kurtosis:                       1.746   Cond. No.                         446.\n",
       "==============================================================================\n",
       "\n",
       "Warnings:\n",
       "[1] Standard Errors assume that the covariance matrix of the errors is correctly specified.\n",
       "\"\"\""
      ]
     },
     "execution_count": 24,
     "metadata": {},
     "output_type": "execute_result"
    }
   ],
   "source": [
    "results.summary()"
   ]
  },
  {
   "cell_type": "code",
   "execution_count": null,
   "metadata": {
    "collapsed": true
   },
   "outputs": [],
   "source": []
  }
 ],
 "metadata": {
  "kernelspec": {
   "display_name": "Python 2",
   "language": "python",
   "name": "python2"
  },
  "language_info": {
   "codemirror_mode": {
    "name": "ipython",
    "version": 2
   },
   "file_extension": ".py",
   "mimetype": "text/x-python",
   "name": "python",
   "nbconvert_exporter": "python",
   "pygments_lexer": "ipython2",
   "version": "2.7.13"
  }
 },
 "nbformat": 4,
 "nbformat_minor": 2
}
