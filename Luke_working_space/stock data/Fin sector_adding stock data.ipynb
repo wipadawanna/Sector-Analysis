{
 "cells": [
  {
   "cell_type": "code",
   "execution_count": 1,
   "metadata": {},
   "outputs": [],
   "source": [
    "import os\n",
    "import sys\n",
    "sys.path.append('../../')\n",
    "from lib.env.global_var import *\n",
    "from lib.func.shelve_store import *\n",
    "sys.path.remove('../../')\n",
    "import statsmodels\n",
    "import copy"
   ]
  },
  {
   "cell_type": "code",
   "execution_count": 2,
   "metadata": {},
   "outputs": [
    {
     "name": "stderr",
     "output_type": "stream",
     "text": [
      "/home/luke/anaconda2/lib/python2.7/site-packages/statsmodels/compat/pandas.py:56: FutureWarning: The pandas.core.datetools module is deprecated and will be removed in a future version. Please use the pandas.tseries module instead.\n",
      "  from pandas.core import datetools\n"
     ]
    }
   ],
   "source": [
    "%run -i financial_sector_functions.py"
   ]
  },
  {
   "cell_type": "code",
   "execution_count": 3,
   "metadata": {
    "scrolled": true
   },
   "outputs": [],
   "source": [
    "%run -i financial_sector_ret_space.py"
   ]
  },
  {
   "cell_type": "code",
   "execution_count": 4,
   "metadata": {},
   "outputs": [
    {
     "name": "stdout",
     "output_type": "stream",
     "text": [
      "('CPI', 'QS-OCT')\n",
      "('GDP', 'QS-OCT')\n",
      "('DGS10', None)\n",
      "('HPI', 'MS')\n",
      "('PAYEMS', 'MS')\n",
      "('TEDRATE', None)\n",
      "('FEDFUNDS', 'MS')\n",
      "('NETEXP', 'QS-OCT')\n",
      "('PCE', 'MS')\n",
      "('UNRATE', 'MS')\n",
      "('CSENT', 'MS')\n",
      "('OAS', None)\n",
      "('RECESSION', 'MS')\n",
      "('VIXCLS', None)\n"
     ]
    }
   ],
   "source": [
    "for csv_name in csv_name_list:\n",
    "    var_name = csv_name.split(\".\")[0]\n",
    "    exec(\"freq = pd.infer_freq(\"+var_name+\".index)\")\n",
    "    print(var_name,freq)"
   ]
  },
  {
   "cell_type": "code",
   "execution_count": 5,
   "metadata": {
    "collapsed": true
   },
   "outputs": [],
   "source": [
    "CPI = CPI.diff().dropna()\n",
    "GDP = (GDP.shift()/GDP-1).dropna()\n",
    "NETEXP = (NETEXP.shift()/NETEXP -1).dropna()"
   ]
  },
  {
   "cell_type": "code",
   "execution_count": 6,
   "metadata": {},
   "outputs": [
    {
     "name": "stdout",
     "output_type": "stream",
     "text": [
      "CPI\n",
      "GDP\n",
      "DGS10\n",
      "HPI\n",
      "PAYEMS\n",
      "TEDRATE\n",
      "FEDFUNDS\n",
      "NETEXP\n",
      "PCE\n",
      "UNRATE\n",
      "CSENT\n",
      "OAS\n",
      "RECESSION\n",
      "VIXCLS\n"
     ]
    }
   ],
   "source": [
    "for csv_name in csv_name_list:\n",
    "    var_name = csv_name.split(\".\")[0]\n",
    "    print(var_name)\n",
    "    exec(var_name+\" = quaterly_to_monthly(\"+var_name+\")\")"
   ]
  },
  {
   "cell_type": "code",
   "execution_count": 7,
   "metadata": {},
   "outputs": [
    {
     "data": {
      "text/plain": [
       "['CPI.csv',\n",
       " 'GDP.csv',\n",
       " 'NETEXP.csv',\n",
       " 'UNRATE.csv',\n",
       " 'RECESSION.csv',\n",
       " 'OAS.csv',\n",
       " 'FEDFUNDS.csv']"
      ]
     },
     "execution_count": 7,
     "metadata": {},
     "output_type": "execute_result"
    }
   ],
   "source": [
    "manual_conversion_list = ['CPI.csv','GDP.csv','NETEXP.csv']\n",
    "do_not_convert_to_ret = ['UNRATE.csv','RECESSION.csv','OAS.csv','FEDFUNDS.csv']\n",
    "ret_exemp_list = manual_conversion_list+do_not_convert_to_ret\n",
    "ret_exemp_list"
   ]
  },
  {
   "cell_type": "code",
   "execution_count": 8,
   "metadata": {
    "collapsed": true
   },
   "outputs": [],
   "source": [
    "for csv_name in do_not_convert_to_ret:\n",
    "    var_name = csv_name.split(\".\")[0]\n",
    "    exec(var_name+\"=\"+var_name+\"/100\")"
   ]
  },
  {
   "cell_type": "code",
   "execution_count": 9,
   "metadata": {
    "collapsed": true
   },
   "outputs": [],
   "source": [
    "for csv_name in np.setdiff1d(csv_name_list,ret_exemp_list):\n",
    "    var_name = csv_name.split(\".\")[0]\n",
    "    exec(var_name+\"=(\"+var_name+\".shift()\"+\"/\"+var_name+\"-1).dropna()\")\n"
   ]
  },
  {
   "cell_type": "code",
   "execution_count": 10,
   "metadata": {},
   "outputs": [
    {
     "data": {
      "text/plain": [
       "['CPI',\n",
       " 'GDP',\n",
       " 'DGS10',\n",
       " 'HPI',\n",
       " 'PAYEMS',\n",
       " 'TEDRATE',\n",
       " 'FEDFUNDS',\n",
       " 'NETEXP',\n",
       " 'PCE',\n",
       " 'UNRATE',\n",
       " 'CSENT',\n",
       " 'OAS',\n",
       " 'RECESSION',\n",
       " 'VIXCLS']"
      ]
     },
     "execution_count": 10,
     "metadata": {},
     "output_type": "execute_result"
    }
   ],
   "source": [
    "var_list = map(lambda x:x.split(\".\")[0],csv_name_list)\n",
    "var_list"
   ]
  },
  {
   "cell_type": "code",
   "execution_count": 11,
   "metadata": {},
   "outputs": [
    {
     "data": {
      "text/plain": [
       "['OIL.xlsx', 'YIELD_SLOPE.xlsx', 'GOLD.xlsx']"
      ]
     },
     "execution_count": 11,
     "metadata": {},
     "output_type": "execute_result"
    }
   ],
   "source": [
    "bldata_name_list"
   ]
  },
  {
   "cell_type": "code",
   "execution_count": 12,
   "metadata": {
    "collapsed": true
   },
   "outputs": [],
   "source": [
    "econ_x = pd.concat([GDP,DGS10,HPI,PAYEMS,TEDRATE,FEDFUNDS,NETEXP,PCE,UNRATE,CSENT,OAS,RECESSION,\n",
    "           VIXCLS],1).resample(\"M\").last().dropna()"
   ]
  },
  {
   "cell_type": "code",
   "execution_count": 13,
   "metadata": {},
   "outputs": [
    {
     "data": {
      "text/plain": [
       "(Timestamp('2017-01-31 00:00:00', freq='M'),\n",
       " Timestamp('2017-07-31 00:00:00', freq='M'),\n",
       " Timestamp('2017-11-30 00:00:00', freq='M'),\n",
       " Timestamp('2017-08-31 00:00:00', freq='M'),\n",
       " Timestamp('2017-10-31 00:00:00', freq='M'),\n",
       " Timestamp('2017-11-30 00:00:00', freq='M'),\n",
       " Timestamp('2017-10-31 00:00:00', freq='M'),\n",
       " Timestamp('2017-07-31 00:00:00', freq='M'),\n",
       " Timestamp('2017-09-30 00:00:00', freq='M'),\n",
       " Timestamp('2017-10-31 00:00:00', freq='M'),\n",
       " Timestamp('2017-10-31 00:00:00', freq='M'),\n",
       " Timestamp('2017-11-30 00:00:00', freq='M'),\n",
       " Timestamp('2017-08-31 00:00:00', freq='M'),\n",
       " Timestamp('2017-11-30 00:00:00', freq='M'))"
      ]
     },
     "execution_count": 13,
     "metadata": {},
     "output_type": "execute_result"
    }
   ],
   "source": [
    "CPI.index.max(),GDP.index.max(),DGS10.index.max(),HPI.index.max(),PAYEMS.index.max(),TEDRATE.index.max(),FEDFUNDS.index.max(),NETEXP.index.max(),PCE.index.max(),UNRATE.index.max(),CSENT.index.max(),OAS.index.max(),RECESSION.index.max(),VIXCLS.index.max()"
   ]
  },
  {
   "cell_type": "code",
   "execution_count": 14,
   "metadata": {},
   "outputs": [
    {
     "data": {
      "text/plain": [
       "['OIL.xlsx', 'YIELD_SLOPE.xlsx', 'GOLD.xlsx']"
      ]
     },
     "execution_count": 14,
     "metadata": {},
     "output_type": "execute_result"
    }
   ],
   "source": [
    "bldata_name_list"
   ]
  },
  {
   "cell_type": "code",
   "execution_count": 15,
   "metadata": {
    "collapsed": true
   },
   "outputs": [],
   "source": [
    "OIL=(OIL.shift()/OIL-1).dropna()\n",
    "YIELD_SLOPE = YIELD_SLOPE/100\n",
    "GOLD = (GOLD.shift()/GOLD-1).dropna()"
   ]
  },
  {
   "cell_type": "code",
   "execution_count": 16,
   "metadata": {
    "collapsed": true
   },
   "outputs": [],
   "source": [
    "econ_x = pd.concat([econ_x,OIL,YIELD_SLOPE,GOLD],1).resample(\"M\").last().dropna()"
   ]
  },
  {
   "cell_type": "code",
   "execution_count": 17,
   "metadata": {},
   "outputs": [
    {
     "data": {
      "text/plain": [
       "(Timestamp('2017-11-30 00:00:00'),\n",
       " Timestamp('2017-11-30 00:00:00'),\n",
       " Timestamp('2017-11-30 00:00:00'))"
      ]
     },
     "execution_count": 17,
     "metadata": {},
     "output_type": "execute_result"
    }
   ],
   "source": [
    "OIL.index.max(),YIELD_SLOPE.index.max(),GOLD.index.max()"
   ]
  },
  {
   "cell_type": "markdown",
   "metadata": {},
   "source": [
    "# Adding non-econ data"
   ]
  },
  {
   "cell_type": "code",
   "execution_count": 18,
   "metadata": {},
   "outputs": [
    {
     "data": {
      "text/html": [
       "<div>\n",
       "<style>\n",
       "    .dataframe thead tr:only-child th {\n",
       "        text-align: right;\n",
       "    }\n",
       "\n",
       "    .dataframe thead th {\n",
       "        text-align: left;\n",
       "    }\n",
       "\n",
       "    .dataframe tbody tr th {\n",
       "        vertical-align: top;\n",
       "    }\n",
       "</style>\n",
       "<table border=\"1\" class=\"dataframe\">\n",
       "  <thead>\n",
       "    <tr style=\"text-align: right;\">\n",
       "      <th></th>\n",
       "      <th>0</th>\n",
       "    </tr>\n",
       "  </thead>\n",
       "  <tbody>\n",
       "    <tr>\n",
       "      <th>LUMSTRUU Index</th>\n",
       "      <td>The Bloomberg Barclays US Mortgage Backed Secu...</td>\n",
       "    </tr>\n",
       "    <tr>\n",
       "      <th>DXY Curncy</th>\n",
       "      <td>The U.S. Dollar Index(USDX) indicates the gene...</td>\n",
       "    </tr>\n",
       "    <tr>\n",
       "      <th>BBDXY Index</th>\n",
       "      <td>The Bloomberg Dollar Spot Index tracks the per...</td>\n",
       "    </tr>\n",
       "    <tr>\n",
       "      <th>BXIICSTN Index</th>\n",
       "      <td>For any further information regarding this ind...</td>\n",
       "    </tr>\n",
       "    <tr>\n",
       "      <th>LUGCTRUU Index</th>\n",
       "      <td>The Bloomberg Barclays US Government/Credit Bo...</td>\n",
       "    </tr>\n",
       "  </tbody>\n",
       "</table>\n",
       "</div>"
      ],
      "text/plain": [
       "                                                                0\n",
       "LUMSTRUU Index  The Bloomberg Barclays US Mortgage Backed Secu...\n",
       "DXY Curncy      The U.S. Dollar Index(USDX) indicates the gene...\n",
       "BBDXY Index     The Bloomberg Dollar Spot Index tracks the per...\n",
       "BXIICSTN Index  For any further information regarding this ind...\n",
       "LUGCTRUU Index  The Bloomberg Barclays US Government/Credit Bo..."
      ]
     },
     "execution_count": 18,
     "metadata": {},
     "output_type": "execute_result"
    }
   ],
   "source": [
    "data_description = pd.read_excel(benchmark_dir_str+'financial_sector_data.xlsx',0).T.dropna()\n",
    "data_description"
   ]
  },
  {
   "cell_type": "code",
   "execution_count": 19,
   "metadata": {},
   "outputs": [
    {
     "data": {
      "text/plain": [
       "u'The Bloomberg Barclays US Government/Credit Bond Index is a broad-based flagship benchmark that measures the non-securitized component of the US Aggregate Index. It includes investment grade, US dollar-denominated, fixed-rate Treasuries, government-related and corporate securities.'"
      ]
     },
     "execution_count": 19,
     "metadata": {},
     "output_type": "execute_result"
    }
   ],
   "source": [
    "data_description.iloc[4,0]"
   ]
  },
  {
   "cell_type": "code",
   "execution_count": 20,
   "metadata": {
    "collapsed": true,
    "scrolled": true
   },
   "outputs": [],
   "source": [
    "fin_sector_df = pd.read_excel(benchmark_dir_str+'financial_sector_data.xlsx',1)\n",
    "fin_sector_df.index = fin_sector_df.iloc[:,0].values\n",
    "MBS = fin_sector_df.loc[:,['LUMSTRUU Index']]\n",
    "USD = fin_sector_df.loc[:,['DXY Curncy']]\n",
    "# BBUSD = fin_sector_df.loc[:,['BBDXY Index']]\n",
    "MTWO = fin_sector_df.loc[:,['M2 Index']]\n",
    "CAPE = fin_sector_df.loc[:,['BXIICSTN Index']]\n",
    "CREDIT = fin_sector_df.loc[:,['LUGCTRUU Index']]\n",
    "\n",
    "for var_name in ['MBS','USD','MTWO','CAPE','CREDIT']:\n",
    "    exec(var_name+\"=(\"+var_name+\".shift()/\"+var_name+\"-1)\"+\".dropna()\")\n",
    "#     print(var_name+'=pd.DataFrame('+var_name+\n",
    "#           \",index=\"+var_name+\".index, columns =\"+var_name+\".columns)\")"
   ]
  },
  {
   "cell_type": "code",
   "execution_count": 21,
   "metadata": {
    "collapsed": true
   },
   "outputs": [],
   "source": [
    "# MBS: ret\n",
    "# USD: ret\n",
    "# MTWO: ret\n",
    "# CAPE: ret\n",
    "# CREDIT: ret"
   ]
  },
  {
   "cell_type": "code",
   "execution_count": 22,
   "metadata": {},
   "outputs": [
    {
     "data": {
      "text/plain": [
       "(Timestamp('2017-11-30 00:00:00'),\n",
       " Timestamp('2017-11-30 00:00:00'),\n",
       " Timestamp('2017-10-31 00:00:00'),\n",
       " Timestamp('2014-03-31 00:00:00'),\n",
       " Timestamp('2017-11-30 00:00:00'))"
      ]
     },
     "execution_count": 22,
     "metadata": {},
     "output_type": "execute_result"
    }
   ],
   "source": [
    "MBS.index.max(),USD.index.max(),MTWO.index.max(),CAPE.index.max(),CREDIT.index.max()"
   ]
  },
  {
   "cell_type": "code",
   "execution_count": 23,
   "metadata": {},
   "outputs": [
    {
     "data": {
      "text/plain": [
       "Timestamp('2017-07-31 00:00:00', freq='M')"
      ]
     },
     "execution_count": 23,
     "metadata": {},
     "output_type": "execute_result"
    }
   ],
   "source": [
    "fin_x = pd.concat([econ_x,MBS,USD,MTWO,CREDIT],1).resample(\"M\").last().dropna()\n",
    "fin_x.index.max()"
   ]
  },
  {
   "cell_type": "code",
   "execution_count": 24,
   "metadata": {
    "collapsed": true
   },
   "outputs": [],
   "source": [
    "WORKING_POPULATION = read_csv(sector_dir_str+'WORKING_POPULATION.csv')\n",
    "WORKING_POPULATION = WORKING_POPULATION.resample(\"M\").last().dropna()"
   ]
  },
  {
   "cell_type": "code",
   "execution_count": 25,
   "metadata": {
    "collapsed": true
   },
   "outputs": [],
   "source": [
    "sector_csv_list = ['ASSET_INTEREST.csv','INSURED_CLAIMS.csv','JOB_FINANCE.csv','LOAN_COMM_INDUS.csv'\n",
    "                   ,'LOANCONSUM.csv']\n",
    "for sector_csv in sector_csv_list:\n",
    "    temp = read_csv(sector_dir_str+sector_csv)\n",
    "    temp = pd.DataFrame(temp,index = temp.index,columns = temp.columns)\n",
    "    temp = quaterly_to_monthly(temp).dropna()\n",
    "    exec(sector_csv.split(\".\")[0]+\"=temp\")\n",
    "#     print(temp.index.min())"
   ]
  },
  {
   "cell_type": "code",
   "execution_count": 26,
   "metadata": {
    "collapsed": true
   },
   "outputs": [],
   "source": [
    "WORKING_POPULATION,INSURED_CLAIMS=model_data(WORKING_POPULATION,INSURED_CLAIMS)"
   ]
  },
  {
   "cell_type": "code",
   "execution_count": 27,
   "metadata": {
    "collapsed": true
   },
   "outputs": [],
   "source": [
    "ASSET_INTEREST = (ASSET_INTEREST.shift()/ASSET_INTEREST-1).dropna()\n",
    "INSURED_CLAIMS = INSURED_CLAIMS/WORKING_POPULATION.values\n",
    "JOB_FINANCE = JOB_FINANCE/100\n",
    "LOAN_COMM_INDUS = (LOAN_COMM_INDUS.shift()/LOAN_COMM_INDUS-1).dropna()"
   ]
  },
  {
   "cell_type": "code",
   "execution_count": 28,
   "metadata": {},
   "outputs": [
    {
     "name": "stdout",
     "output_type": "stream",
     "text": [
      "(Timestamp('1985-02-28 00:00:00', freq='M'), Timestamp('1999-01-31 00:00:00', freq='M'), Timestamp('2000-12-31 00:00:00', freq='M'), Timestamp('1985-02-28 00:00:00', freq='M'))\n"
     ]
    },
    {
     "data": {
      "text/plain": [
       "(Timestamp('2017-07-31 00:00:00', freq='M'),\n",
       " Timestamp('2017-10-31 00:00:00', freq='M'),\n",
       " Timestamp('2017-09-30 00:00:00', freq='M'),\n",
       " Timestamp('2017-07-31 00:00:00', freq='M'))"
      ]
     },
     "execution_count": 28,
     "metadata": {},
     "output_type": "execute_result"
    }
   ],
   "source": [
    "print(\n",
    "ASSET_INTEREST.index.min(),INSURED_CLAIMS.index.min(),JOB_FINANCE.index.min(),LOAN_COMM_INDUS.index.min())\n",
    "ASSET_INTEREST.index.max(),INSURED_CLAIMS.index.max(),JOB_FINANCE.index.max(),LOAN_COMM_INDUS.index.max()"
   ]
  },
  {
   "cell_type": "code",
   "execution_count": 29,
   "metadata": {
    "collapsed": true
   },
   "outputs": [],
   "source": [
    "fin_x_all = pd.concat([fin_x,ASSET_INTEREST,INSURED_CLAIMS,JOB_FINANCE,LOAN_COMM_INDUS],1).resample(\"M\").last().dropna()"
   ]
  },
  {
   "cell_type": "code",
   "execution_count": 30,
   "metadata": {
    "collapsed": true
   },
   "outputs": [],
   "source": [
    "# ASSET_INTEREST(dollars): ret\n",
    "# INSURED_CLAIMS(Millions): percentage -> divide by number of people\n",
    "# JOB_FINANCE(percentage): divide by 100\n",
    "# LOAN_COMM_INDUS(dollars): ret"
   ]
  },
  {
   "cell_type": "code",
   "execution_count": 31,
   "metadata": {
    "collapsed": true
   },
   "outputs": [],
   "source": [
    "x,y=model_data(fin_x_all,sector_beat_spx)"
   ]
  },
  {
   "cell_type": "code",
   "execution_count": 32,
   "metadata": {},
   "outputs": [
    {
     "data": {
      "image/png": "[encoded data removed]",
      "text/plain": [
       "<matplotlib.figure.Figure at 0x7fe8af135590>"
      ]
     },
     "metadata": {},
     "output_type": "display_data"
    }
   ],
   "source": [
    "plt.figure(figsize = (15,5))\n",
    "plt.plot(x,alpha=0.5)\n",
    "plt.plot(2*(y-0.5),'r.')\n",
    "plt.show()"
   ]
  },
  {
   "cell_type": "code",
   "execution_count": null,
   "metadata": {
    "collapsed": true
   },
   "outputs": [],
   "source": []
  },
  {
   "cell_type": "code",
   "execution_count": 44,
   "metadata": {},
   "outputs": [],
   "source": [
    "stock_data_dir = '/home/luke/workspace/Sector-Analysis/data/CFRM521_final_project/'\n",
    "name_to_sector = pd.read_excel(stock_data_dir+'INDUSTRY_SECTOR.xlsx',1)\n",
    "name_to_sector.index = name_to_sector.iloc[:,0]\n",
    "name_to_sector = name_to_sector.iloc[:,[1]]\n",
    "name_to_sector.columns = ['Sector']"
   ]
  },
  {
   "cell_type": "code",
   "execution_count": 45,
   "metadata": {},
   "outputs": [
    {
     "data": {
      "text/html": [
       "<div>\n",
       "<style>\n",
       "    .dataframe thead tr:only-child th {\n",
       "        text-align: right;\n",
       "    }\n",
       "\n",
       "    .dataframe thead th {\n",
       "        text-align: left;\n",
       "    }\n",
       "\n",
       "    .dataframe tbody tr th {\n",
       "        vertical-align: top;\n",
       "    }\n",
       "</style>\n",
       "<table border=\"1\" class=\"dataframe\">\n",
       "  <thead>\n",
       "    <tr style=\"text-align: right;\">\n",
       "      <th></th>\n",
       "      <th>Sector</th>\n",
       "    </tr>\n",
       "    <tr>\n",
       "      <th>INDUSTRY_SECTOR</th>\n",
       "      <th></th>\n",
       "    </tr>\n",
       "  </thead>\n",
       "  <tbody>\n",
       "    <tr>\n",
       "      <th>AXP UN Equity</th>\n",
       "      <td>Financial</td>\n",
       "    </tr>\n",
       "    <tr>\n",
       "      <th>JPM UN Equity</th>\n",
       "      <td>Financial</td>\n",
       "    </tr>\n",
       "    <tr>\n",
       "      <th>EXR UN Equity</th>\n",
       "      <td>Financial</td>\n",
       "    </tr>\n",
       "    <tr>\n",
       "      <th>BAC UN Equity</th>\n",
       "      <td>Financial</td>\n",
       "    </tr>\n",
       "    <tr>\n",
       "      <th>BHF UW Equity</th>\n",
       "      <td>Financial</td>\n",
       "    </tr>\n",
       "  </tbody>\n",
       "</table>\n",
       "</div>"
      ],
      "text/plain": [
       "                    Sector\n",
       "INDUSTRY_SECTOR           \n",
       "AXP UN Equity    Financial\n",
       "JPM UN Equity    Financial\n",
       "EXR UN Equity    Financial\n",
       "BAC UN Equity    Financial\n",
       "BHF UW Equity    Financial"
      ]
     },
     "execution_count": 45,
     "metadata": {},
     "output_type": "execute_result"
    }
   ],
   "source": [
    "financial_large_cap = name_to_sector[name_to_sector.values=='Financial']\n",
    "financial_large_cap.head()"
   ]
  },
  {
   "cell_type": "code",
   "execution_count": null,
   "metadata": {
    "collapsed": true
   },
   "outputs": [],
   "source": [
    "financial_large_cap.to_csv(\"fin)\")"
   ]
  },
  {
   "cell_type": "code",
   "execution_count": 92,
   "metadata": {},
   "outputs": [],
   "source": [
    "# px_last = pd.read_excel(stock_data_dir+'PX_LAST.xlsx',1)\n",
    "# px_last.head()"
   ]
  },
  {
   "cell_type": "code",
   "execution_count": 93,
   "metadata": {},
   "outputs": [],
   "source": [
    "# fin_lc_price = px_last[px_last['PX_LAST'].isin(financial_large_cap.index)]\n",
    "# fin_lc_price = fin_lc_price.T\n",
    "# fin_lc_price.columns = fin_lc_price.iloc[0,:].values\n",
    "# fin_lc_price = fin_lc_price.iloc[1:,:]\n",
    "# dt_index = map(str,fin_lc_price.index)\n",
    "# fin_lc_price = fin_lc_price.loc[[False if 'Unnamed' in index else True for index in dt_index]]\n",
    "# fin_lc_price.index = pd.DatetimeIndex(fin_lc_price.index)\n",
    "# fin_lc_price = fin_lc_price.iloc[1:,:]"
   ]
  },
  {
   "cell_type": "code",
   "execution_count": null,
   "metadata": {
    "collapsed": true
   },
   "outputs": [],
   "source": []
  },
  {
   "cell_type": "code",
   "execution_count": null,
   "metadata": {
    "collapsed": true
   },
   "outputs": [],
   "source": []
  },
  {
   "cell_type": "code",
   "execution_count": null,
   "metadata": {
    "collapsed": true
   },
   "outputs": [],
   "source": []
  },
  {
   "cell_type": "code",
   "execution_count": null,
   "metadata": {
    "collapsed": true
   },
   "outputs": [],
   "source": []
  },
  {
   "cell_type": "code",
   "execution_count": null,
   "metadata": {
    "collapsed": true
   },
   "outputs": [],
   "source": []
  },
  {
   "cell_type": "code",
   "execution_count": null,
   "metadata": {
    "collapsed": true
   },
   "outputs": [],
   "source": []
  },
  {
   "cell_type": "code",
   "execution_count": null,
   "metadata": {
    "collapsed": true
   },
   "outputs": [],
   "source": []
  }
 ],
 "metadata": {
  "kernelspec": {
   "display_name": "Python 2",
   "language": "python",
   "name": "python2"
  },
  "language_info": {
   "codemirror_mode": {
    "name": "ipython",
    "version": 2
   },
   "file_extension": ".py",
   "mimetype": "text/x-python",
   "name": "python",
   "nbconvert_exporter": "python",
   "pygments_lexer": "ipython2",
   "version": "2.7.13"
  }
 },
 "nbformat": 4,
 "nbformat_minor": 2
}
