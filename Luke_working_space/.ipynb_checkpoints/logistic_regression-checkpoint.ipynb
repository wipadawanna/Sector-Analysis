{
 "cells": [
  {
   "cell_type": "code",
   "execution_count": 1,
   "metadata": {
    "collapsed": true
   },
   "outputs": [],
   "source": [
    "import pandas as pd\n",
    "import numpy as np\n",
    "import os\n",
    "from sklearn.linear_model import LogisticRegression\n",
    "import matplotlib.pyplot as plt"
   ]
  },
  {
   "cell_type": "code",
   "execution_count": 2,
   "metadata": {
    "collapsed": false
   },
   "outputs": [
    {
     "data": {
      "text/plain": [
       "'C:\\\\Users\\\\globa\\\\Documents\\\\Investible-Stocks-Selection\\\\Luke_working_space'"
      ]
     },
     "execution_count": 2,
     "metadata": {},
     "output_type": "execute_result"
    }
   ],
   "source": [
    "os.getcwd()"
   ]
  },
  {
   "cell_type": "code",
   "execution_count": 3,
   "metadata": {
    "collapsed": true
   },
   "outputs": [],
   "source": [
    "def read_data(directory_str,sheet_index):\n",
    "    df = pd.read_excel(directory_str,sheet_index)\n",
    "    df.index = df.iloc[:,0]\n",
    "    df = df.iloc[:,[1]]\n",
    "    df = df.dropna()\n",
    "    # convert index to pd.DatetimeIndex\n",
    "    if type(df.index) != pd.DatetimeIndex:\n",
    "        df.index = pd.DatetimeIndex(df.index)\n",
    "    df = df.replace(\".\",0)\n",
    "    return df\n",
    "\n",
    "def read_csv(directory_str):\n",
    "    data = pd.read_csv(directory_str)\n",
    "    df = pd.DataFrame(pd.to_numeric(data.iloc[:,1].replace(\".\",0)).values,index = data.iloc[:,0].values)\n",
    "    df.columns = data.iloc[:,[1]].columns\n",
    "    df = df.dropna()\n",
    "    # convert index to pd.DatetimeIndex\n",
    "    if type(df.index) != pd.DatetimeIndex:\n",
    "        df.index = pd.DatetimeIndex(df.index)\n",
    "    return df"
   ]
  },
  {
   "cell_type": "code",
   "execution_count": 4,
   "metadata": {
    "collapsed": true
   },
   "outputs": [],
   "source": [
    "def model_data(x,y):\n",
    "    merged_data = pd.concat([y,x],1).resample(\"M\").last().dropna()\n",
    "    y = merged_data[y.columns].loc[merged_data.index,:]\n",
    "    x = merged_data[x.columns].loc[merged_data.index,:]\n",
    "    return(x,y)"
   ]
  },
  {
   "cell_type": "code",
   "execution_count": 5,
   "metadata": {
    "collapsed": true
   },
   "outputs": [],
   "source": [
    "def quaterly_to_monthly(df):\n",
    "    # if the index is not pd.DatetimeIndex, convert it\n",
    "    if type(df.index) != pd.DatetimeIndex:\n",
    "        df.index = pd.DatetimeIndex(df.index)\n",
    "        \n",
    "    resampled_df = df.resample(\"M\").last()\n",
    "    for int_index in range(len(resampled_df)):\n",
    "        value = resampled_df.iloc[int_index,:].values[0]\n",
    "        if not np.isnan(value):\n",
    "            # copy quater data\n",
    "            previouse_quater = value\n",
    "            quater_index = 1\n",
    "        if np.isnan(value) and quater_index ==1:\n",
    "            # filling first value\n",
    "            resampled_df.iloc[int_index,:] = previouse_quater\n",
    "            quater_index += 1\n",
    "        if np.isnan(value) and quater_index ==2:\n",
    "            # filling the second value\n",
    "            resampled_df.iloc[int_index,:] = previouse_quater\n",
    "            quater_index = 1\n",
    "    return(resampled_df)"
   ]
  },
  {
   "cell_type": "code",
   "execution_count": 6,
   "metadata": {
    "collapsed": true
   },
   "outputs": [],
   "source": [
    "def norm2_normalize(df):\n",
    "    return_df = pd.DataFrame(index=df.index,columns=df.columns)\n",
    "    for col_names in df.columns:\n",
    "        data = df.loc[:,[col_names]]\n",
    "        return_df.loc[:,[col_names]] = data/np.linalg.norm(data)\n",
    "    return return_df"
   ]
  },
  {
   "cell_type": "code",
   "execution_count": 7,
   "metadata": {
    "collapsed": true
   },
   "outputs": [],
   "source": [
    "econ_dir_str = os.path.join(os.getcwd(),'../data/Economics/')\n",
    "benchmark_str = econ_dir_str+'benchmark_data.xlsx'\n",
    "cpi_str = econ_dir_str+'CPI.csv'\n",
    "gdp_str = econ_dir_str+'GDP.csv'\n",
    "dsg10_str = econ_dir_str+'DGS10.csv'\n",
    "hpi_str = econ_dir_str+'HPI.csv'\n",
    "# = econ_dir_str+'PAYEMS.csv'\n",
    "ted_str= econ_dir_str+'TEDRATE.csv'\n",
    "fed_str= econ_dir_str+'FEDFUNDS.csv'\n",
    "# = econ_dir_str+'NETEXP.csv'\n",
    "pce_str= econ_dir_str+'PCE.csv'\n",
    "rate_str= econ_dir_str+'UNRATE.csv'\n",
    "# = econ_dir_str+'CSENT.csv'\n",
    "# = econ_dir_str+'OAS.csv'\n",
    "recession_str= econ_dir_str+'RECESSION.csv'\n",
    "vix_str= econ_dir_str+'VIXCLS.csv'\n",
    "\n",
    "cpi = read_csv(cpi_str)\n",
    "gdp = read_csv(gdp_str)\n",
    "dsg10 = read_csv(dsg10_str)\n",
    "hpi = read_csv(hpi_str)\n",
    "ted = read_csv(ted_str)\n",
    "fed = read_csv(fed_str)\n",
    "pce = read_csv(pce_str)\n",
    "rate = read_csv(rate_str)\n",
    "recession = read_csv(recession_str)\n",
    "vix = read_csv(vix_str)"
   ]
  },
  {
   "cell_type": "code",
   "execution_count": 8,
   "metadata": {
    "collapsed": false
   },
   "outputs": [
    {
     "data": {
      "text/html": [
       "<div>\n",
       "<style>\n",
       "    .dataframe thead tr:only-child th {\n",
       "        text-align: right;\n",
       "    }\n",
       "\n",
       "    .dataframe thead th {\n",
       "        text-align: left;\n",
       "    }\n",
       "\n",
       "    .dataframe tbody tr th {\n",
       "        vertical-align: top;\n",
       "    }\n",
       "</style>\n",
       "<table border=\"1\" class=\"dataframe\">\n",
       "  <thead>\n",
       "    <tr style=\"text-align: right;\">\n",
       "      <th></th>\n",
       "      <th>SPX Index</th>\n",
       "    </tr>\n",
       "    <tr>\n",
       "      <th>Date</th>\n",
       "      <th></th>\n",
       "    </tr>\n",
       "  </thead>\n",
       "  <tbody>\n",
       "    <tr>\n",
       "      <th>1990-02-28</th>\n",
       "      <td>0.008503</td>\n",
       "    </tr>\n",
       "    <tr>\n",
       "      <th>1990-03-30</th>\n",
       "      <td>0.023966</td>\n",
       "    </tr>\n",
       "    <tr>\n",
       "      <th>1990-04-30</th>\n",
       "      <td>-0.027255</td>\n",
       "    </tr>\n",
       "    <tr>\n",
       "      <th>1990-05-31</th>\n",
       "      <td>0.088001</td>\n",
       "    </tr>\n",
       "    <tr>\n",
       "      <th>1990-06-29</th>\n",
       "      <td>-0.008926</td>\n",
       "    </tr>\n",
       "    <tr>\n",
       "      <th>1990-07-31</th>\n",
       "      <td>-0.005237</td>\n",
       "    </tr>\n",
       "    <tr>\n",
       "      <th>1990-08-31</th>\n",
       "      <td>-0.099063</td>\n",
       "    </tr>\n",
       "    <tr>\n",
       "      <th>1990-09-28</th>\n",
       "      <td>-0.052541</td>\n",
       "    </tr>\n",
       "    <tr>\n",
       "      <th>1990-10-31</th>\n",
       "      <td>-0.006721</td>\n",
       "    </tr>\n",
       "    <tr>\n",
       "      <th>1990-11-30</th>\n",
       "      <td>0.058207</td>\n",
       "    </tr>\n",
       "    <tr>\n",
       "      <th>1990-12-31</th>\n",
       "      <td>0.024525</td>\n",
       "    </tr>\n",
       "    <tr>\n",
       "      <th>1991-01-31</th>\n",
       "      <td>0.040679</td>\n",
       "    </tr>\n",
       "    <tr>\n",
       "      <th>1991-02-28</th>\n",
       "      <td>0.065114</td>\n",
       "    </tr>\n",
       "    <tr>\n",
       "      <th>1991-03-29</th>\n",
       "      <td>0.021960</td>\n",
       "    </tr>\n",
       "    <tr>\n",
       "      <th>1991-04-30</th>\n",
       "      <td>0.000346</td>\n",
       "    </tr>\n",
       "    <tr>\n",
       "      <th>1991-05-31</th>\n",
       "      <td>0.037852</td>\n",
       "    </tr>\n",
       "    <tr>\n",
       "      <th>1991-06-28</th>\n",
       "      <td>-0.049078</td>\n",
       "    </tr>\n",
       "    <tr>\n",
       "      <th>1991-07-31</th>\n",
       "      <td>0.043882</td>\n",
       "    </tr>\n",
       "    <tr>\n",
       "      <th>1991-08-30</th>\n",
       "      <td>0.019458</td>\n",
       "    </tr>\n",
       "    <tr>\n",
       "      <th>1991-09-30</th>\n",
       "      <td>-0.019329</td>\n",
       "    </tr>\n",
       "    <tr>\n",
       "      <th>1991-10-31</th>\n",
       "      <td>0.011790</td>\n",
       "    </tr>\n",
       "    <tr>\n",
       "      <th>1991-11-29</th>\n",
       "      <td>-0.044922</td>\n",
       "    </tr>\n",
       "    <tr>\n",
       "      <th>1991-12-31</th>\n",
       "      <td>0.105790</td>\n",
       "    </tr>\n",
       "    <tr>\n",
       "      <th>1992-01-31</th>\n",
       "      <td>-0.020100</td>\n",
       "    </tr>\n",
       "    <tr>\n",
       "      <th>1992-02-28</th>\n",
       "      <td>0.009519</td>\n",
       "    </tr>\n",
       "    <tr>\n",
       "      <th>1992-03-31</th>\n",
       "      <td>-0.022074</td>\n",
       "    </tr>\n",
       "    <tr>\n",
       "      <th>1992-04-30</th>\n",
       "      <td>0.027511</td>\n",
       "    </tr>\n",
       "    <tr>\n",
       "      <th>1992-05-29</th>\n",
       "      <td>0.000964</td>\n",
       "    </tr>\n",
       "    <tr>\n",
       "      <th>1992-06-30</th>\n",
       "      <td>-0.017511</td>\n",
       "    </tr>\n",
       "    <tr>\n",
       "      <th>1992-07-31</th>\n",
       "      <td>0.038618</td>\n",
       "    </tr>\n",
       "    <tr>\n",
       "      <th>...</th>\n",
       "      <td>...</td>\n",
       "    </tr>\n",
       "    <tr>\n",
       "      <th>2004-11-30</th>\n",
       "      <td>0.037869</td>\n",
       "    </tr>\n",
       "    <tr>\n",
       "      <th>2004-12-31</th>\n",
       "      <td>0.031942</td>\n",
       "    </tr>\n",
       "    <tr>\n",
       "      <th>2005-01-31</th>\n",
       "      <td>-0.025616</td>\n",
       "    </tr>\n",
       "    <tr>\n",
       "      <th>2005-02-28</th>\n",
       "      <td>0.018727</td>\n",
       "    </tr>\n",
       "    <tr>\n",
       "      <th>2005-03-31</th>\n",
       "      <td>-0.019303</td>\n",
       "    </tr>\n",
       "    <tr>\n",
       "      <th>2005-04-29</th>\n",
       "      <td>-0.020314</td>\n",
       "    </tr>\n",
       "    <tr>\n",
       "      <th>2005-05-31</th>\n",
       "      <td>0.029512</td>\n",
       "    </tr>\n",
       "    <tr>\n",
       "      <th>2005-06-30</th>\n",
       "      <td>-0.000143</td>\n",
       "    </tr>\n",
       "    <tr>\n",
       "      <th>2005-07-29</th>\n",
       "      <td>0.035336</td>\n",
       "    </tr>\n",
       "    <tr>\n",
       "      <th>2005-08-31</th>\n",
       "      <td>-0.011285</td>\n",
       "    </tr>\n",
       "    <tr>\n",
       "      <th>2005-09-30</th>\n",
       "      <td>0.006925</td>\n",
       "    </tr>\n",
       "    <tr>\n",
       "      <th>2005-10-31</th>\n",
       "      <td>-0.017900</td>\n",
       "    </tr>\n",
       "    <tr>\n",
       "      <th>2005-11-30</th>\n",
       "      <td>0.034581</td>\n",
       "    </tr>\n",
       "    <tr>\n",
       "      <th>2005-12-30</th>\n",
       "      <td>-0.000953</td>\n",
       "    </tr>\n",
       "    <tr>\n",
       "      <th>2006-01-31</th>\n",
       "      <td>0.025148</td>\n",
       "    </tr>\n",
       "    <tr>\n",
       "      <th>2006-02-28</th>\n",
       "      <td>0.000453</td>\n",
       "    </tr>\n",
       "    <tr>\n",
       "      <th>2006-03-31</th>\n",
       "      <td>0.011004</td>\n",
       "    </tr>\n",
       "    <tr>\n",
       "      <th>2006-04-28</th>\n",
       "      <td>0.012113</td>\n",
       "    </tr>\n",
       "    <tr>\n",
       "      <th>2006-05-31</th>\n",
       "      <td>-0.031405</td>\n",
       "    </tr>\n",
       "    <tr>\n",
       "      <th>2006-06-30</th>\n",
       "      <td>0.000087</td>\n",
       "    </tr>\n",
       "    <tr>\n",
       "      <th>2006-07-31</th>\n",
       "      <td>0.005073</td>\n",
       "    </tr>\n",
       "    <tr>\n",
       "      <th>2006-08-31</th>\n",
       "      <td>0.021051</td>\n",
       "    </tr>\n",
       "    <tr>\n",
       "      <th>2006-09-29</th>\n",
       "      <td>0.024269</td>\n",
       "    </tr>\n",
       "    <tr>\n",
       "      <th>2006-10-31</th>\n",
       "      <td>0.031022</td>\n",
       "    </tr>\n",
       "    <tr>\n",
       "      <th>2006-11-30</th>\n",
       "      <td>0.016333</td>\n",
       "    </tr>\n",
       "    <tr>\n",
       "      <th>2006-12-29</th>\n",
       "      <td>0.012537</td>\n",
       "    </tr>\n",
       "    <tr>\n",
       "      <th>2007-01-31</th>\n",
       "      <td>0.013961</td>\n",
       "    </tr>\n",
       "    <tr>\n",
       "      <th>2007-02-28</th>\n",
       "      <td>-0.022088</td>\n",
       "    </tr>\n",
       "    <tr>\n",
       "      <th>2007-03-30</th>\n",
       "      <td>0.009930</td>\n",
       "    </tr>\n",
       "    <tr>\n",
       "      <th>2007-04-30</th>\n",
       "      <td>0.042380</td>\n",
       "    </tr>\n",
       "  </tbody>\n",
       "</table>\n",
       "<p>207 rows × 1 columns</p>\n",
       "</div>"
      ],
      "text/plain": [
       "            SPX Index\n",
       "Date                 \n",
       "1990-02-28   0.008503\n",
       "1990-03-30   0.023966\n",
       "1990-04-30  -0.027255\n",
       "1990-05-31   0.088001\n",
       "1990-06-29  -0.008926\n",
       "1990-07-31  -0.005237\n",
       "1990-08-31  -0.099063\n",
       "1990-09-28  -0.052541\n",
       "1990-10-31  -0.006721\n",
       "1990-11-30   0.058207\n",
       "1990-12-31   0.024525\n",
       "1991-01-31   0.040679\n",
       "1991-02-28   0.065114\n",
       "1991-03-29   0.021960\n",
       "1991-04-30   0.000346\n",
       "1991-05-31   0.037852\n",
       "1991-06-28  -0.049078\n",
       "1991-07-31   0.043882\n",
       "1991-08-30   0.019458\n",
       "1991-09-30  -0.019329\n",
       "1991-10-31   0.011790\n",
       "1991-11-29  -0.044922\n",
       "1991-12-31   0.105790\n",
       "1992-01-31  -0.020100\n",
       "1992-02-28   0.009519\n",
       "1992-03-31  -0.022074\n",
       "1992-04-30   0.027511\n",
       "1992-05-29   0.000964\n",
       "1992-06-30  -0.017511\n",
       "1992-07-31   0.038618\n",
       "...               ...\n",
       "2004-11-30   0.037869\n",
       "2004-12-31   0.031942\n",
       "2005-01-31  -0.025616\n",
       "2005-02-28   0.018727\n",
       "2005-03-31  -0.019303\n",
       "2005-04-29  -0.020314\n",
       "2005-05-31   0.029512\n",
       "2005-06-30  -0.000143\n",
       "2005-07-29   0.035336\n",
       "2005-08-31  -0.011285\n",
       "2005-09-30   0.006925\n",
       "2005-10-31  -0.017900\n",
       "2005-11-30   0.034581\n",
       "2005-12-30  -0.000953\n",
       "2006-01-31   0.025148\n",
       "2006-02-28   0.000453\n",
       "2006-03-31   0.011004\n",
       "2006-04-28   0.012113\n",
       "2006-05-31  -0.031405\n",
       "2006-06-30   0.000087\n",
       "2006-07-31   0.005073\n",
       "2006-08-31   0.021051\n",
       "2006-09-29   0.024269\n",
       "2006-10-31   0.031022\n",
       "2006-11-30   0.016333\n",
       "2006-12-29   0.012537\n",
       "2007-01-31   0.013961\n",
       "2007-02-28  -0.022088\n",
       "2007-03-30   0.009930\n",
       "2007-04-30   0.042380\n",
       "\n",
       "[207 rows x 1 columns]"
      ]
     },
     "execution_count": 8,
     "metadata": {},
     "output_type": "execute_result"
    }
   ],
   "source": [
    "spx = read_data(benchmark_str,-1)\n",
    "spx_ret = spx.apply(np.log).diff().dropna()\n",
    "spx_ret"
   ]
  },
  {
   "cell_type": "code",
   "execution_count": 9,
   "metadata": {
    "collapsed": true
   },
   "outputs": [],
   "source": [
    "cpi = quaterly_to_monthly(cpi)\n",
    "gdp = quaterly_to_monthly(gdp)\n",
    "dsf10 = quaterly_to_monthly(dsg10)\n",
    "hpi = quaterly_to_monthly(hpi)\n",
    "ted = quaterly_to_monthly(ted)\n",
    "fed = quaterly_to_monthly(fed)\n",
    "pce = quaterly_to_monthly(pce)\n",
    "rate = quaterly_to_monthly(rate)\n",
    "recession = quaterly_to_monthly(recession)\n",
    "# [cpi,gdp,dsg10,hpi,ted,fed,pce,rate,recession,vix]\n",
    "data_set_selection = [cpi,gdp,dsg10,hpi,ted,fed,pce,rate,recession,vix]\n",
    "x = pd.concat(data_set_selection,1).resample(\"M\").last().dropna()\n",
    "x = norm2_normalize(x)\n",
    "\n",
    "IYZ = read_data(benchmark_str,1)\n",
    "IYZ_ret = IYZ.apply(np.log).diff()\n",
    "\n",
    "# 1: for positive return, 0:for negative return\n",
    "positive_ret = IYZ_ret[IYZ_ret>0.05].notnull()*1\n",
    "\n",
    "temp = pd.concat([IYZ_ret,spx_ret],1).dropna()\n",
    "comparison = temp.iloc[:,0]-temp.iloc[:,1]\n",
    "defeat_benchmark = (comparison>0).to_frame()*1\n",
    "\n",
    "\n",
    "x,y = model_data(x,defeat_benchmark)"
   ]
  },
  {
   "cell_type": "code",
   "execution_count": 10,
   "metadata": {
    "collapsed": false
   },
   "outputs": [
    {
     "name": "stdout",
     "output_type": "stream",
     "text": [
      "[[-0.05551026  0.00781701 -0.03129223  0.02769638  0.00973798 -0.10472036\n",
      "   0.00792778  0.00570651 -0.12032175 -0.13023369]]\n"
     ]
    },
    {
     "name": "stderr",
     "output_type": "stream",
     "text": [
      "C:\\Users\\globa\\Anaconda3\\envs\\py27\\lib\\site-packages\\sklearn\\utils\\validation.py:547: DataConversionWarning: A column-vector y was passed when a 1d array was expected. Please change the shape of y to (n_samples, ), for example using ravel().\n",
      "  y = column_or_1d(y, warn=True)\n"
     ]
    }
   ],
   "source": [
    "train_index = x.index[0:len(x.index)*3/4]\n",
    "validate_index = pd.DatetimeIndex(np.setdiff1d(x.index,train_index))\n",
    "\n",
    "logistic  = LogisticRegression()\n",
    "logistic.fit(x.loc[train_index,:],y.loc[train_index,:])\n",
    "print(logistic.coef_)\n",
    "y_predict = pd.DataFrame(logistic.predict(x.loc[validate_index,:]),index = validate_index)"
   ]
  },
  {
   "cell_type": "code",
   "execution_count": 11,
   "metadata": {
    "collapsed": false
   },
   "outputs": [
    {
     "data": {
      "image/png": "[encoded data removed]",
      "text/plain": [
       "<matplotlib.figure.Figure at 0x7f2e4782dc90>"
      ]
     },
     "metadata": {},
     "output_type": "display_data"
    }
   ],
   "source": [
    "plt.figure(figsize=(15,5))\n",
    "plt.plot(y,'r-')\n",
    "plt.plot(y_predict,'b--')\n",
    "plt.show()"
   ]
  },
  {
   "cell_type": "code",
   "execution_count": 12,
   "metadata": {
    "collapsed": false
   },
   "outputs": [
    {
     "name": "stdout",
     "output_type": "stream",
     "text": [
      "prediction rate: 38.095%\n"
     ]
    }
   ],
   "source": [
    "comparison_df = pd.concat([y,y_predict],1).dropna()\n",
    "score_df = pd.DataFrame(map(lambda x: x[0]==x[1],comparison_df.values))*1\n",
    "score = np.mean(score_df)\n",
    "\n",
    "print(\"prediction rate: \"+str(round(score*100,3))+\"%\")"
   ]
  },
  {
   "cell_type": "code",
   "execution_count": null,
   "metadata": {
    "collapsed": true
   },
   "outputs": [],
   "source": []
  },
  {
   "cell_type": "code",
   "execution_count": null,
   "metadata": {
    "collapsed": true
   },
   "outputs": [],
   "source": []
  },
  {
   "cell_type": "code",
   "execution_count": null,
   "metadata": {
    "collapsed": true
   },
   "outputs": [],
   "source": []
  },
  {
   "cell_type": "code",
   "execution_count": null,
   "metadata": {
    "collapsed": true
   },
   "outputs": [],
   "source": []
  },
  {
   "cell_type": "code",
   "execution_count": null,
   "metadata": {
    "collapsed": true
   },
   "outputs": [],
   "source": []
  }
 ],
 "metadata": {
  "kernelspec": {
   "display_name": "Python 2",
   "language": "python",
   "name": "python2"
  },
  "language_info": {
   "codemirror_mode": {
    "name": "ipython",
    "version": 2
   },
   "file_extension": ".py",
   "mimetype": "text/x-python",
   "name": "python",
   "nbconvert_exporter": "python",
   "pygments_lexer": "ipython2",
   "version": "2.7.14"
  }
 },
 "nbformat": 4,
 "nbformat_minor": 2
}
