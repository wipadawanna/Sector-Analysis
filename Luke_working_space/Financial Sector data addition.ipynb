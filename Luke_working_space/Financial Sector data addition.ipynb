{
 "cells": [
  {
   "cell_type": "code",
   "execution_count": 1,
   "metadata": {
    "collapsed": true
   },
   "outputs": [],
   "source": [
    "import os\n",
    "import sys\n",
    "sys.path.append('../')\n",
    "from lib.env.global_var import *\n",
    "from lib.func.shelve_store import *\n",
    "sys.path.remove('../')\n",
    "import statsmodels\n",
    "import copy"
   ]
  },
  {
   "cell_type": "code",
   "execution_count": 2,
   "metadata": {},
   "outputs": [
    {
     "name": "stderr",
     "output_type": "stream",
     "text": [
      "/home/luke/anaconda2/lib/python2.7/site-packages/statsmodels/compat/pandas.py:56: FutureWarning: The pandas.core.datetools module is deprecated and will be removed in a future version. Please use the pandas.tseries module instead.\n",
      "  from pandas.core import datetools\n"
     ]
    }
   ],
   "source": [
    "%run -i financial_sector_functions.py"
   ]
  },
  {
   "cell_type": "code",
   "execution_count": 3,
   "metadata": {
    "scrolled": true
   },
   "outputs": [],
   "source": [
    "%run -i financial_sector.py"
   ]
  },
  {
   "cell_type": "code",
   "execution_count": 4,
   "metadata": {},
   "outputs": [
    {
     "data": {
      "text/html": [
       "<div>\n",
       "<style>\n",
       "    .dataframe thead tr:only-child th {\n",
       "        text-align: right;\n",
       "    }\n",
       "\n",
       "    .dataframe thead th {\n",
       "        text-align: left;\n",
       "    }\n",
       "\n",
       "    .dataframe tbody tr th {\n",
       "        vertical-align: top;\n",
       "    }\n",
       "</style>\n",
       "<table border=\"1\" class=\"dataframe\">\n",
       "  <thead>\n",
       "    <tr style=\"text-align: right;\">\n",
       "      <th></th>\n",
       "      <th>CPALTT01USQ657N</th>\n",
       "      <th>GDP_ret</th>\n",
       "      <th>DGS10</th>\n",
       "      <th>CSUSHPINSA</th>\n",
       "      <th>PAYEMS</th>\n",
       "      <th>TEDRATE</th>\n",
       "      <th>FEDFUNDS</th>\n",
       "      <th>NETEXP</th>\n",
       "      <th>PCE_ret</th>\n",
       "      <th>UNRATE</th>\n",
       "      <th>UMCSENT</th>\n",
       "      <th>BAMLH0A0HYM2</th>\n",
       "      <th>RECPROUSM156N</th>\n",
       "      <th>VIXCLS</th>\n",
       "      <th>XOI Index</th>\n",
       "      <th>YIELD_SLOPE</th>\n",
       "      <th>XAU Curncy</th>\n",
       "    </tr>\n",
       "  </thead>\n",
       "  <tbody>\n",
       "    <tr>\n",
       "      <th>2000-06-30</th>\n",
       "      <td>0.210852</td>\n",
       "      <td>-0.054394</td>\n",
       "      <td>-0.077553</td>\n",
       "      <td>0.103854</td>\n",
       "      <td>1.260199</td>\n",
       "      <td>1.096091</td>\n",
       "      <td>0.459563</td>\n",
       "      <td>-0.829315</td>\n",
       "      <td>-0.016192</td>\n",
       "      <td>-1.097780</td>\n",
       "      <td>1.630211</td>\n",
       "      <td>0.163361</td>\n",
       "      <td>-0.362834</td>\n",
       "      <td>0.017714</td>\n",
       "      <td>-1.345377</td>\n",
       "      <td>-1.880183</td>\n",
       "      <td>-1.199618</td>\n",
       "    </tr>\n",
       "    <tr>\n",
       "      <th>2000-07-31</th>\n",
       "      <td>-0.154023</td>\n",
       "      <td>-0.017101</td>\n",
       "      <td>-0.074062</td>\n",
       "      <td>0.121190</td>\n",
       "      <td>1.265161</td>\n",
       "      <td>0.248626</td>\n",
       "      <td>0.462332</td>\n",
       "      <td>-0.951118</td>\n",
       "      <td>-0.008862</td>\n",
       "      <td>-1.097780</td>\n",
       "      <td>1.779992</td>\n",
       "      <td>0.195948</td>\n",
       "      <td>-0.356728</td>\n",
       "      <td>0.170213</td>\n",
       "      <td>-1.414405</td>\n",
       "      <td>-1.797790</td>\n",
       "      <td>-1.225477</td>\n",
       "    </tr>\n",
       "    <tr>\n",
       "      <th>2000-08-31</th>\n",
       "      <td>-0.154023</td>\n",
       "      <td>-0.017101</td>\n",
       "      <td>-0.182285</td>\n",
       "      <td>0.137316</td>\n",
       "      <td>1.264795</td>\n",
       "      <td>-0.072037</td>\n",
       "      <td>0.451257</td>\n",
       "      <td>-0.951118</td>\n",
       "      <td>-0.015197</td>\n",
       "      <td>-1.036573</td>\n",
       "      <td>1.701160</td>\n",
       "      <td>0.257500</td>\n",
       "      <td>-0.347135</td>\n",
       "      <td>-0.325409</td>\n",
       "      <td>-1.303837</td>\n",
       "      <td>-1.999318</td>\n",
       "      <td>-1.224213</td>\n",
       "    </tr>\n",
       "    <tr>\n",
       "      <th>2000-09-30</th>\n",
       "      <td>-0.154023</td>\n",
       "      <td>-0.017101</td>\n",
       "      <td>-0.157848</td>\n",
       "      <td>0.149813</td>\n",
       "      <td>1.268601</td>\n",
       "      <td>0.408957</td>\n",
       "      <td>0.456795</td>\n",
       "      <td>-0.951118</td>\n",
       "      <td>-0.035350</td>\n",
       "      <td>-1.158986</td>\n",
       "      <td>1.661744</td>\n",
       "      <td>0.380605</td>\n",
       "      <td>-0.334053</td>\n",
       "      <td>0.148609</td>\n",
       "      <td>-1.285910</td>\n",
       "      <td>-1.708717</td>\n",
       "      <td>-1.231794</td>\n",
       "    </tr>\n",
       "    <tr>\n",
       "      <th>2000-10-31</th>\n",
       "      <td>-0.518897</td>\n",
       "      <td>-0.024225</td>\n",
       "      <td>-0.168321</td>\n",
       "      <td>0.161706</td>\n",
       "      <td>1.268206</td>\n",
       "      <td>-0.026228</td>\n",
       "      <td>0.454026</td>\n",
       "      <td>-1.009549</td>\n",
       "      <td>-0.002715</td>\n",
       "      <td>-1.158986</td>\n",
       "      <td>1.582912</td>\n",
       "      <td>0.749920</td>\n",
       "      <td>-0.260792</td>\n",
       "      <td>0.537482</td>\n",
       "      <td>-1.307684</td>\n",
       "      <td>-1.693129</td>\n",
       "      <td>-1.250957</td>\n",
       "    </tr>\n",
       "  </tbody>\n",
       "</table>\n",
       "</div>"
      ],
      "text/plain": [
       "            CPALTT01USQ657N   GDP_ret     DGS10  CSUSHPINSA    PAYEMS  \\\n",
       "2000-06-30         0.210852 -0.054394 -0.077553    0.103854  1.260199   \n",
       "2000-07-31        -0.154023 -0.017101 -0.074062    0.121190  1.265161   \n",
       "2000-08-31        -0.154023 -0.017101 -0.182285    0.137316  1.264795   \n",
       "2000-09-30        -0.154023 -0.017101 -0.157848    0.149813  1.268601   \n",
       "2000-10-31        -0.518897 -0.024225 -0.168321    0.161706  1.268206   \n",
       "\n",
       "             TEDRATE  FEDFUNDS    NETEXP   PCE_ret    UNRATE   UMCSENT  \\\n",
       "2000-06-30  1.096091  0.459563 -0.829315 -0.016192 -1.097780  1.630211   \n",
       "2000-07-31  0.248626  0.462332 -0.951118 -0.008862 -1.097780  1.779992   \n",
       "2000-08-31 -0.072037  0.451257 -0.951118 -0.015197 -1.036573  1.701160   \n",
       "2000-09-30  0.408957  0.456795 -0.951118 -0.035350 -1.158986  1.661744   \n",
       "2000-10-31 -0.026228  0.454026 -1.009549 -0.002715 -1.158986  1.582912   \n",
       "\n",
       "            BAMLH0A0HYM2  RECPROUSM156N    VIXCLS  XOI Index  YIELD_SLOPE  \\\n",
       "2000-06-30      0.163361      -0.362834  0.017714  -1.345377    -1.880183   \n",
       "2000-07-31      0.195948      -0.356728  0.170213  -1.414405    -1.797790   \n",
       "2000-08-31      0.257500      -0.347135 -0.325409  -1.303837    -1.999318   \n",
       "2000-09-30      0.380605      -0.334053  0.148609  -1.285910    -1.708717   \n",
       "2000-10-31      0.749920      -0.260792  0.537482  -1.307684    -1.693129   \n",
       "\n",
       "            XAU Curncy  \n",
       "2000-06-30   -1.199618  \n",
       "2000-07-31   -1.225477  \n",
       "2000-08-31   -1.224213  \n",
       "2000-09-30   -1.231794  \n",
       "2000-10-31   -1.250957  "
      ]
     },
     "execution_count": 4,
     "metadata": {},
     "output_type": "execute_result"
    }
   ],
   "source": [
    "x.head()"
   ]
  },
  {
   "cell_type": "code",
   "execution_count": 5,
   "metadata": {},
   "outputs": [
    {
     "data": {
      "text/html": [
       "<div>\n",
       "<style>\n",
       "    .dataframe thead tr:only-child th {\n",
       "        text-align: right;\n",
       "    }\n",
       "\n",
       "    .dataframe thead th {\n",
       "        text-align: left;\n",
       "    }\n",
       "\n",
       "    .dataframe tbody tr th {\n",
       "        vertical-align: top;\n",
       "    }\n",
       "</style>\n",
       "<table border=\"1\" class=\"dataframe\">\n",
       "  <thead>\n",
       "    <tr style=\"text-align: right;\">\n",
       "      <th></th>\n",
       "      <th>sector_beat_spx</th>\n",
       "    </tr>\n",
       "  </thead>\n",
       "  <tbody>\n",
       "    <tr>\n",
       "      <th>2000-06-30</th>\n",
       "      <td>0.0</td>\n",
       "    </tr>\n",
       "    <tr>\n",
       "      <th>2000-07-31</th>\n",
       "      <td>1.0</td>\n",
       "    </tr>\n",
       "    <tr>\n",
       "      <th>2000-08-31</th>\n",
       "      <td>0.0</td>\n",
       "    </tr>\n",
       "    <tr>\n",
       "      <th>2000-09-30</th>\n",
       "      <td>1.0</td>\n",
       "    </tr>\n",
       "    <tr>\n",
       "      <th>2000-10-31</th>\n",
       "      <td>1.0</td>\n",
       "    </tr>\n",
       "  </tbody>\n",
       "</table>\n",
       "</div>"
      ],
      "text/plain": [
       "            sector_beat_spx\n",
       "2000-06-30              0.0\n",
       "2000-07-31              1.0\n",
       "2000-08-31              0.0\n",
       "2000-09-30              1.0\n",
       "2000-10-31              1.0"
      ]
     },
     "execution_count": 5,
     "metadata": {},
     "output_type": "execute_result"
    }
   ],
   "source": [
    "y.head()"
   ]
  },
  {
   "cell_type": "markdown",
   "metadata": {},
   "source": [
    "# Adding non-econ data"
   ]
  },
  {
   "cell_type": "code",
   "execution_count": 6,
   "metadata": {},
   "outputs": [
    {
     "data": {
      "text/html": [
       "<div>\n",
       "<style>\n",
       "    .dataframe thead tr:only-child th {\n",
       "        text-align: right;\n",
       "    }\n",
       "\n",
       "    .dataframe thead th {\n",
       "        text-align: left;\n",
       "    }\n",
       "\n",
       "    .dataframe tbody tr th {\n",
       "        vertical-align: top;\n",
       "    }\n",
       "</style>\n",
       "<table border=\"1\" class=\"dataframe\">\n",
       "  <thead>\n",
       "    <tr style=\"text-align: right;\">\n",
       "      <th></th>\n",
       "      <th>0</th>\n",
       "    </tr>\n",
       "  </thead>\n",
       "  <tbody>\n",
       "    <tr>\n",
       "      <th>LUMSTRUU Index</th>\n",
       "      <td>The Bloomberg Barclays US Mortgage Backed Secu...</td>\n",
       "    </tr>\n",
       "    <tr>\n",
       "      <th>DXY Curncy</th>\n",
       "      <td>The U.S. Dollar Index(USDX) indicates the gene...</td>\n",
       "    </tr>\n",
       "    <tr>\n",
       "      <th>BBDXY Index</th>\n",
       "      <td>The Bloomberg Dollar Spot Index tracks the per...</td>\n",
       "    </tr>\n",
       "    <tr>\n",
       "      <th>BXIICSTN Index</th>\n",
       "      <td>For any further information regarding this ind...</td>\n",
       "    </tr>\n",
       "    <tr>\n",
       "      <th>LUGCTRUU Index</th>\n",
       "      <td>The Bloomberg Barclays US Government/Credit Bo...</td>\n",
       "    </tr>\n",
       "  </tbody>\n",
       "</table>\n",
       "</div>"
      ],
      "text/plain": [
       "                                                                0\n",
       "LUMSTRUU Index  The Bloomberg Barclays US Mortgage Backed Secu...\n",
       "DXY Curncy      The U.S. Dollar Index(USDX) indicates the gene...\n",
       "BBDXY Index     The Bloomberg Dollar Spot Index tracks the per...\n",
       "BXIICSTN Index  For any further information regarding this ind...\n",
       "LUGCTRUU Index  The Bloomberg Barclays US Government/Credit Bo..."
      ]
     },
     "execution_count": 6,
     "metadata": {},
     "output_type": "execute_result"
    }
   ],
   "source": [
    "data_description = pd.read_excel(benchmark_dir_str+'financial_sector_data.xlsx',0).T.dropna()\n",
    "data_description"
   ]
  },
  {
   "cell_type": "code",
   "execution_count": 7,
   "metadata": {},
   "outputs": [
    {
     "data": {
      "text/plain": [
       "u'The Bloomberg Barclays US Government/Credit Bond Index is a broad-based flagship benchmark that measures the non-securitized component of the US Aggregate Index. It includes investment grade, US dollar-denominated, fixed-rate Treasuries, government-related and corporate securities.'"
      ]
     },
     "execution_count": 7,
     "metadata": {},
     "output_type": "execute_result"
    }
   ],
   "source": [
    "data_description.iloc[4,0]"
   ]
  },
  {
   "cell_type": "code",
   "execution_count": 8,
   "metadata": {
    "scrolled": true
   },
   "outputs": [],
   "source": [
    "fin_sector_df = pd.read_excel(benchmark_dir_str+'financial_sector_data.xlsx',1)\n",
    "fin_sector_df.index = fin_sector_df.iloc[:,0].values\n",
    "MBS = fin_sector_df.loc[:,['LUMSTRUU Index']]\n",
    "# USD = fin_sector_df.loc[:,['DXY Curncy']]\n",
    "BBUSD = fin_sector_df.loc[:,['BBDXY Index']]\n",
    "MTWO = fin_sector_df.loc[:,['M2 Index']]\n",
    "CAPE = fin_sector_df.loc[:,['BXIICSTN Index']]\n",
    "CREDIT = fin_sector_df.loc[:,['LUGCTRUU Index']]\n",
    "\n",
    "for var_name in ['MBS','BBUSD','MTWO','CAPE','CREDIT']:\n",
    "    exec(var_name+\"=\"+var_name+\".dropna()\")\n",
    "    exec(var_name+'=pd.DataFrame(preprocessing.scale('+var_name+\n",
    "          \"),index=\"+var_name+\".index, columns =\"+var_name+\".columns)\")"
   ]
  },
  {
   "cell_type": "code",
   "execution_count": null,
   "metadata": {
    "collapsed": true
   },
   "outputs": [],
   "source": []
  },
  {
   "cell_type": "code",
   "execution_count": 9,
   "metadata": {},
   "outputs": [],
   "source": [
    "fin_x = pd.concat([x,MBS,BBUSD,MTWO,CAPE,CREDIT],1).resample(\"M\").last().dropna()"
   ]
  },
  {
   "cell_type": "code",
   "execution_count": 10,
   "metadata": {},
   "outputs": [],
   "source": [
    "sector_csv_list = ['ASSET_INTEREST.csv','INSURED_CLAIMS.csv','JOB_FINANCE.csv','LOAN_COMM_INDUS.csv','LOANCONSUM.csv']\n",
    "for sector_csv in sector_csv_list:\n",
    "    temp = read_csv(sector_dir_str+sector_csv)\n",
    "    temp = pd.DataFrame(preprocessing.scale(temp),index = temp.index,columns = temp.columns)\n",
    "    temp = quaterly_to_monthly(temp)\n",
    "    exec(sector_csv.split(\".\")[0]+\"=temp\")\n",
    "#     print(temp.index.min())"
   ]
  },
  {
   "cell_type": "code",
   "execution_count": 11,
   "metadata": {},
   "outputs": [],
   "source": [
    "fin_x = pd.concat([fin_x,ASSET_INTEREST,INSURED_CLAIMS,JOB_FINANCE,LOAN_COMM_INDUS],1).resample(\"M\").last().dropna()"
   ]
  },
  {
   "cell_type": "code",
   "execution_count": 12,
   "metadata": {},
   "outputs": [],
   "source": [
    "fin_x,y = model_data(fin_x,y)"
   ]
  },
  {
   "cell_type": "code",
   "execution_count": 14,
   "metadata": {
    "collapsed": true
   },
   "outputs": [],
   "source": [
    "n = 3\n",
    "evaluation_metric = 'r2'"
   ]
  },
  {
   "cell_type": "code",
   "execution_count": 33,
   "metadata": {},
   "outputs": [],
   "source": [
    "metric_list,coef_df = KF_logistic_eval(fin_x,y,n = 3,penalty ='l1',C = 1/(0.10),evaluation_metric = 'r2')"
   ]
  },
  {
   "cell_type": "code",
   "execution_count": 34,
   "metadata": {},
   "outputs": [
    {
     "data": {
      "text/plain": [
       "(-1.1200000000000001, array([-1.232, -1.475, -0.65 ]))"
      ]
     },
     "execution_count": 34,
     "metadata": {},
     "output_type": "execute_result"
    }
   ],
   "source": [
    "np.round(np.mean(metric_list),2),np.round(metric_list,3)"
   ]
  },
  {
   "cell_type": "code",
   "execution_count": 35,
   "metadata": {},
   "outputs": [
    {
     "data": {
      "text/html": [
       "<div>\n",
       "<style>\n",
       "    .dataframe thead tr:only-child th {\n",
       "        text-align: right;\n",
       "    }\n",
       "\n",
       "    .dataframe thead th {\n",
       "        text-align: left;\n",
       "    }\n",
       "\n",
       "    .dataframe tbody tr th {\n",
       "        vertical-align: top;\n",
       "    }\n",
       "</style>\n",
       "<table border=\"1\" class=\"dataframe\">\n",
       "  <thead>\n",
       "    <tr style=\"text-align: right;\">\n",
       "      <th></th>\n",
       "      <th>CPALTT01USQ657N</th>\n",
       "      <th>GDP_ret</th>\n",
       "      <th>DGS10</th>\n",
       "      <th>CSUSHPINSA</th>\n",
       "      <th>PAYEMS</th>\n",
       "      <th>TEDRATE</th>\n",
       "      <th>FEDFUNDS</th>\n",
       "      <th>NETEXP</th>\n",
       "      <th>PCE_ret</th>\n",
       "      <th>UNRATE</th>\n",
       "      <th>...</th>\n",
       "      <th>XAU Curncy</th>\n",
       "      <th>LUMSTRUU Index</th>\n",
       "      <th>BBDXY Index</th>\n",
       "      <th>M2 Index</th>\n",
       "      <th>BXIICSTN Index</th>\n",
       "      <th>LUGCTRUU Index</th>\n",
       "      <th>TAIEALLGCLCRT100EP</th>\n",
       "      <th>CCSA</th>\n",
       "      <th>JTU5200JOR</th>\n",
       "      <th>ACILOB</th>\n",
       "    </tr>\n",
       "  </thead>\n",
       "  <tbody>\n",
       "    <tr>\n",
       "      <th>0</th>\n",
       "      <td>0.347700</td>\n",
       "      <td>0.0</td>\n",
       "      <td>2.553843</td>\n",
       "      <td>-0.606940</td>\n",
       "      <td>-0.224509</td>\n",
       "      <td>0.719746</td>\n",
       "      <td>-0.744077</td>\n",
       "      <td>-0.792234</td>\n",
       "      <td>0.0</td>\n",
       "      <td>0.207214</td>\n",
       "      <td>...</td>\n",
       "      <td>6.488602</td>\n",
       "      <td>0.000000</td>\n",
       "      <td>0.888979</td>\n",
       "      <td>-6.398715</td>\n",
       "      <td>-4.013951</td>\n",
       "      <td>0.0</td>\n",
       "      <td>0.000000</td>\n",
       "      <td>0.000000</td>\n",
       "      <td>0.004816</td>\n",
       "      <td>-0.318250</td>\n",
       "    </tr>\n",
       "    <tr>\n",
       "      <th>1</th>\n",
       "      <td>0.376653</td>\n",
       "      <td>0.0</td>\n",
       "      <td>-0.741727</td>\n",
       "      <td>1.373848</td>\n",
       "      <td>-1.394109</td>\n",
       "      <td>-0.202552</td>\n",
       "      <td>0.998140</td>\n",
       "      <td>0.000000</td>\n",
       "      <td>0.0</td>\n",
       "      <td>-0.562165</td>\n",
       "      <td>...</td>\n",
       "      <td>2.613352</td>\n",
       "      <td>4.549865</td>\n",
       "      <td>-0.279945</td>\n",
       "      <td>-9.892125</td>\n",
       "      <td>0.767320</td>\n",
       "      <td>0.0</td>\n",
       "      <td>0.251701</td>\n",
       "      <td>-0.260857</td>\n",
       "      <td>-1.216395</td>\n",
       "      <td>0.000000</td>\n",
       "    </tr>\n",
       "    <tr>\n",
       "      <th>2</th>\n",
       "      <td>0.234958</td>\n",
       "      <td>0.0</td>\n",
       "      <td>1.004425</td>\n",
       "      <td>0.000000</td>\n",
       "      <td>-2.177976</td>\n",
       "      <td>0.043825</td>\n",
       "      <td>-0.619927</td>\n",
       "      <td>-0.898288</td>\n",
       "      <td>0.0</td>\n",
       "      <td>-0.386582</td>\n",
       "      <td>...</td>\n",
       "      <td>7.222354</td>\n",
       "      <td>0.000000</td>\n",
       "      <td>-0.505749</td>\n",
       "      <td>-6.822849</td>\n",
       "      <td>-3.708363</td>\n",
       "      <td>0.0</td>\n",
       "      <td>0.000000</td>\n",
       "      <td>0.000000</td>\n",
       "      <td>-0.260018</td>\n",
       "      <td>-1.537191</td>\n",
       "    </tr>\n",
       "  </tbody>\n",
       "</table>\n",
       "<p>3 rows × 26 columns</p>\n",
       "</div>"
      ],
      "text/plain": [
       "   CPALTT01USQ657N  GDP_ret     DGS10  CSUSHPINSA    PAYEMS   TEDRATE  \\\n",
       "0         0.347700      0.0  2.553843   -0.606940 -0.224509  0.719746   \n",
       "1         0.376653      0.0 -0.741727    1.373848 -1.394109 -0.202552   \n",
       "2         0.234958      0.0  1.004425    0.000000 -2.177976  0.043825   \n",
       "\n",
       "   FEDFUNDS    NETEXP  PCE_ret    UNRATE    ...     XAU Curncy  \\\n",
       "0 -0.744077 -0.792234      0.0  0.207214    ...       6.488602   \n",
       "1  0.998140  0.000000      0.0 -0.562165    ...       2.613352   \n",
       "2 -0.619927 -0.898288      0.0 -0.386582    ...       7.222354   \n",
       "\n",
       "   LUMSTRUU Index  BBDXY Index  M2 Index  BXIICSTN Index  LUGCTRUU Index  \\\n",
       "0        0.000000     0.888979 -6.398715       -4.013951             0.0   \n",
       "1        4.549865    -0.279945 -9.892125        0.767320             0.0   \n",
       "2        0.000000    -0.505749 -6.822849       -3.708363             0.0   \n",
       "\n",
       "   TAIEALLGCLCRT100EP      CCSA  JTU5200JOR    ACILOB  \n",
       "0            0.000000  0.000000    0.004816 -0.318250  \n",
       "1            0.251701 -0.260857   -1.216395  0.000000  \n",
       "2            0.000000  0.000000   -0.260018 -1.537191  \n",
       "\n",
       "[3 rows x 26 columns]"
      ]
     },
     "execution_count": 35,
     "metadata": {},
     "output_type": "execute_result"
    }
   ],
   "source": [
    "coef_df"
   ]
  },
  {
   "cell_type": "code",
   "execution_count": 36,
   "metadata": {},
   "outputs": [
    {
     "name": "stdout",
     "output_type": "stream",
     "text": [
      "(10, 26)\n",
      "['GDP_ret', 'CSUSHPINSA', 'NETEXP', 'PCE_ret', u'XOI Index', 'LUMSTRUU Index', 'LUGCTRUU Index', 'TAIEALLGCLCRT100EP', 'CCSA', 'ACILOB']\n"
     ]
    }
   ],
   "source": [
    "coef_is_zero = pd.DataFrame(np.prod(coef_df,0)).T\n",
    "# coef_is_zero[coef_is_zero.values == 0]\n",
    "zero_coef_ticker_list =[]\n",
    "for ticker in coef_is_zero.columns:\n",
    "    if coef_is_zero.loc[0,ticker]==0:\n",
    "        zero_coef_ticker_list.append(ticker)\n",
    "        \n",
    "assert(len(zero_coef_ticker_list)<len(coef_df.columns))\n",
    "print(len(zero_coef_ticker_list),len(coef_df.columns))\n",
    "print(zero_coef_ticker_list)"
   ]
  },
  {
   "cell_type": "code",
   "execution_count": 37,
   "metadata": {
    "scrolled": true
   },
   "outputs": [],
   "source": [
    "fin_x_2 = copy.deepcopy(fin_x)\n",
    "for ticker in zero_coef_ticker_list:\n",
    "    fin_x_2 = fin_x_2.drop(ticker,1)"
   ]
  },
  {
   "cell_type": "code",
   "execution_count": 38,
   "metadata": {},
   "outputs": [
    {
     "name": "stdout",
     "output_type": "stream",
     "text": [
      "-0.999206349206\n",
      "-1.18095238095\n",
      "-1.11984126984\n",
      "-1.11984126984\n",
      "-1.02817460317\n"
     ]
    }
   ],
   "source": [
    "lambda_list = [0.001,0.01,0.1,1.0,10.0]\n",
    "coef_df_all = pd.DataFrame()\n",
    "for C in map(lambda x: 1/x,lambda_list):\n",
    "    metric_list,coef_df = KF_logistic_eval(fin_x_2,y,n = 3,penalty ='l2',C = C,evaluation_metric = 'r2')\n",
    "    coef_df.index = [str(C)+\"_0\",str(C)+\"_1\",str(C)+\"_2\"]\n",
    "    coef_df_all = pd.concat([coef_df_all,coef_df])\n",
    "    print(np.mean(metric_list))"
   ]
  },
  {
   "cell_type": "code",
   "execution_count": 44,
   "metadata": {},
   "outputs": [
    {
     "name": "stdout",
     "output_type": "stream",
     "text": [
      "   CPALTT01USQ657N     DGS10    PAYEMS   TEDRATE  FEDFUNDS    UNRATE  \\\n",
      "0         0.269531  0.407528 -0.252538  0.177908 -1.150069 -0.463926   \n",
      "\n",
      "    UMCSENT  BAMLH0A0HYM2  RECPROUSM156N    VIXCLS  YIELD_SLOPE  XAU Curncy  \\\n",
      "0  0.681327     -0.135249      -0.124865  0.430929    -0.480047     3.67516   \n",
      "\n",
      "   BBDXY Index  M2 Index  BXIICSTN Index  JTU5200JOR  \n",
      "0    -0.088249 -4.984175       -0.712586   -0.328803  \n"
     ]
    }
   ],
   "source": [
    "mean_coef_resutls = pd.DataFrame(coef_df_all.apply(np.mean))\n",
    "print(mean_coef_resutls.T)\n",
    "n_largest_coef = mean_coef_resutls.nlargest(6,0).T"
   ]
  },
  {
   "cell_type": "code",
   "execution_count": 47,
   "metadata": {},
   "outputs": [
    {
     "data": {
      "text/plain": [
       "(Index([u'CPALTT01USQ657N',           u'DGS10',          u'PAYEMS',\n",
       "                u'TEDRATE',        u'FEDFUNDS',          u'UNRATE',\n",
       "                u'UMCSENT',    u'BAMLH0A0HYM2',   u'RECPROUSM156N',\n",
       "                 u'VIXCLS',     u'YIELD_SLOPE',      u'XAU Curncy',\n",
       "            u'BBDXY Index',        u'M2 Index',  u'BXIICSTN Index',\n",
       "             u'JTU5200JOR'],\n",
       "       dtype='object'),\n",
       "    XAU Curncy   UMCSENT    VIXCLS     DGS10  CPALTT01USQ657N   TEDRATE\n",
       " 0     3.67516  0.681327  0.430929  0.407528         0.269531  0.177908)"
      ]
     },
     "execution_count": 47,
     "metadata": {},
     "output_type": "execute_result"
    }
   ],
   "source": [
    "fin_x_2.columns,n_largest_coef"
   ]
  },
  {
   "cell_type": "code",
   "execution_count": 48,
   "metadata": {},
   "outputs": [],
   "source": [
    "fin_x_3 = fin_x_2.loc[:,map(str,n_largest_coef.columns)]"
   ]
  },
  {
   "cell_type": "code",
   "execution_count": 49,
   "metadata": {},
   "outputs": [
    {
     "data": {
      "text/html": [
       "<div>\n",
       "<style>\n",
       "    .dataframe thead tr:only-child th {\n",
       "        text-align: right;\n",
       "    }\n",
       "\n",
       "    .dataframe thead th {\n",
       "        text-align: left;\n",
       "    }\n",
       "\n",
       "    .dataframe tbody tr th {\n",
       "        vertical-align: top;\n",
       "    }\n",
       "</style>\n",
       "<table border=\"1\" class=\"dataframe\">\n",
       "  <thead>\n",
       "    <tr style=\"text-align: right;\">\n",
       "      <th></th>\n",
       "      <th>XAU Curncy</th>\n",
       "      <th>UMCSENT</th>\n",
       "      <th>VIXCLS</th>\n",
       "      <th>DGS10</th>\n",
       "      <th>CPALTT01USQ657N</th>\n",
       "      <th>TEDRATE</th>\n",
       "    </tr>\n",
       "  </thead>\n",
       "  <tbody>\n",
       "    <tr>\n",
       "      <th>2000-12-31</th>\n",
       "      <td>-1.236006</td>\n",
       "      <td>0.999553</td>\n",
       "      <td>0.946688</td>\n",
       "      <td>-0.395239</td>\n",
       "      <td>-0.518897</td>\n",
       "      <td>0.202817</td>\n",
       "    </tr>\n",
       "    <tr>\n",
       "      <th>2001-01-31</th>\n",
       "      <td>-1.249483</td>\n",
       "      <td>0.707874</td>\n",
       "      <td>0.332879</td>\n",
       "      <td>-0.370802</td>\n",
       "      <td>0.089227</td>\n",
       "      <td>-0.049132</td>\n",
       "    </tr>\n",
       "    <tr>\n",
       "      <th>2001-02-28</th>\n",
       "      <td>-1.246745</td>\n",
       "      <td>0.384662</td>\n",
       "      <td>1.137311</td>\n",
       "      <td>-0.465060</td>\n",
       "      <td>0.089227</td>\n",
       "      <td>-0.598839</td>\n",
       "    </tr>\n",
       "    <tr>\n",
       "      <th>2001-03-31</th>\n",
       "      <td>-1.266118</td>\n",
       "      <td>0.455611</td>\n",
       "      <td>1.174165</td>\n",
       "      <td>-0.461569</td>\n",
       "      <td>0.089227</td>\n",
       "      <td>0.225721</td>\n",
       "    </tr>\n",
       "    <tr>\n",
       "      <th>2001-04-30</th>\n",
       "      <td>-1.253273</td>\n",
       "      <td>0.211231</td>\n",
       "      <td>0.772584</td>\n",
       "      <td>-0.314945</td>\n",
       "      <td>0.089227</td>\n",
       "      <td>-0.232368</td>\n",
       "    </tr>\n",
       "  </tbody>\n",
       "</table>\n",
       "</div>"
      ],
      "text/plain": [
       "            XAU Curncy   UMCSENT    VIXCLS     DGS10  CPALTT01USQ657N  \\\n",
       "2000-12-31   -1.236006  0.999553  0.946688 -0.395239        -0.518897   \n",
       "2001-01-31   -1.249483  0.707874  0.332879 -0.370802         0.089227   \n",
       "2001-02-28   -1.246745  0.384662  1.137311 -0.465060         0.089227   \n",
       "2001-03-31   -1.266118  0.455611  1.174165 -0.461569         0.089227   \n",
       "2001-04-30   -1.253273  0.211231  0.772584 -0.314945         0.089227   \n",
       "\n",
       "             TEDRATE  \n",
       "2000-12-31  0.202817  \n",
       "2001-01-31 -0.049132  \n",
       "2001-02-28 -0.598839  \n",
       "2001-03-31  0.225721  \n",
       "2001-04-30 -0.232368  "
      ]
     },
     "execution_count": 49,
     "metadata": {},
     "output_type": "execute_result"
    }
   ],
   "source": [
    "fin_x_3.head()"
   ]
  },
  {
   "cell_type": "code",
   "execution_count": 50,
   "metadata": {
    "collapsed": true
   },
   "outputs": [],
   "source": [
    "from sklearn.decomposition import PCA"
   ]
  },
  {
   "cell_type": "code",
   "execution_count": 60,
   "metadata": {},
   "outputs": [
    {
     "data": {
      "text/plain": [
       "(0.97607850133156471,\n",
       " array([ 0.4969759 ,  0.21005769,  0.17827818,  0.09076673]))"
      ]
     },
     "execution_count": 60,
     "metadata": {},
     "output_type": "execute_result"
    }
   ],
   "source": [
    "pca = PCA(n_components=4)\n",
    "pca_fin_x = pd.DataFrame(pca.fit_transform(fin_x_3),index=fin_x.index)\n",
    "np.sum(pca.explained_variance_ratio_),pca.explained_variance_ratio_"
   ]
  },
  {
   "cell_type": "code",
   "execution_count": 52,
   "metadata": {
    "scrolled": true
   },
   "outputs": [],
   "source": [
    "pca_scaled_fin = pd.DataFrame(preprocessing.scale(pca_fin_x),index= pca_fin_x.index)"
   ]
  },
  {
   "cell_type": "code",
   "execution_count": 65,
   "metadata": {},
   "outputs": [
    {
     "data": {
      "text/html": [
       "<div>\n",
       "<style>\n",
       "    .dataframe thead tr:only-child th {\n",
       "        text-align: right;\n",
       "    }\n",
       "\n",
       "    .dataframe thead th {\n",
       "        text-align: left;\n",
       "    }\n",
       "\n",
       "    .dataframe tbody tr th {\n",
       "        vertical-align: top;\n",
       "    }\n",
       "</style>\n",
       "<table border=\"1\" class=\"dataframe\">\n",
       "  <thead>\n",
       "    <tr style=\"text-align: right;\">\n",
       "      <th></th>\n",
       "      <th>JTU5200JOR</th>\n",
       "    </tr>\n",
       "  </thead>\n",
       "  <tbody>\n",
       "    <tr>\n",
       "      <th>2000-12-31</th>\n",
       "      <td>0.133431</td>\n",
       "    </tr>\n",
       "    <tr>\n",
       "      <th>2001-01-31</th>\n",
       "      <td>2.129957</td>\n",
       "    </tr>\n",
       "    <tr>\n",
       "      <th>2001-02-28</th>\n",
       "      <td>0.757346</td>\n",
       "    </tr>\n",
       "    <tr>\n",
       "      <th>2001-03-31</th>\n",
       "      <td>0.258214</td>\n",
       "    </tr>\n",
       "    <tr>\n",
       "      <th>2001-04-30</th>\n",
       "      <td>0.632563</td>\n",
       "    </tr>\n",
       "  </tbody>\n",
       "</table>\n",
       "</div>"
      ],
      "text/plain": [
       "            JTU5200JOR\n",
       "2000-12-31    0.133431\n",
       "2001-01-31    2.129957\n",
       "2001-02-28    0.757346\n",
       "2001-03-31    0.258214\n",
       "2001-04-30    0.632563"
      ]
     },
     "execution_count": 65,
     "metadata": {},
     "output_type": "execute_result"
    }
   ],
   "source": [
    "JOB_FINANCE,y=model_data(JOB_FINANCE,y)\n",
    "JOB_FINANCE.head()"
   ]
  },
  {
   "cell_type": "code",
   "execution_count": 67,
   "metadata": {},
   "outputs": [
    {
     "data": {
      "text/html": [
       "<div>\n",
       "<style>\n",
       "    .dataframe thead tr:only-child th {\n",
       "        text-align: right;\n",
       "    }\n",
       "\n",
       "    .dataframe thead th {\n",
       "        text-align: left;\n",
       "    }\n",
       "\n",
       "    .dataframe tbody tr th {\n",
       "        vertical-align: top;\n",
       "    }\n",
       "</style>\n",
       "<table border=\"1\" class=\"dataframe\">\n",
       "  <thead>\n",
       "    <tr style=\"text-align: right;\">\n",
       "      <th></th>\n",
       "      <th>JTU5200JOR</th>\n",
       "    </tr>\n",
       "  </thead>\n",
       "  <tbody>\n",
       "    <tr>\n",
       "      <th>0</th>\n",
       "      <td>0.135835</td>\n",
       "    </tr>\n",
       "    <tr>\n",
       "      <th>1</th>\n",
       "      <td>-0.093077</td>\n",
       "    </tr>\n",
       "    <tr>\n",
       "      <th>2</th>\n",
       "      <td>-0.028389</td>\n",
       "    </tr>\n",
       "  </tbody>\n",
       "</table>\n",
       "</div>"
      ],
      "text/plain": [
       "   JTU5200JOR\n",
       "0    0.135835\n",
       "1   -0.093077\n",
       "2   -0.028389"
      ]
     },
     "execution_count": 67,
     "metadata": {},
     "output_type": "execute_result"
    }
   ],
   "source": [
    "metric_list,coef_df = KF_logistic_eval(JOB_FINANCE\n",
    "    ,y,n = 3,penalty ='l2',C = 1/(10.0),evaluation_metric = 'r2')\n",
    "coef_df"
   ]
  },
  {
   "cell_type": "code",
   "execution_count": 68,
   "metadata": {},
   "outputs": [
    {
     "data": {
      "text/plain": [
       "[-1.2321428571428568, -1.1083333333333338, -0.92500000000000049]"
      ]
     },
     "execution_count": 68,
     "metadata": {},
     "output_type": "execute_result"
    }
   ],
   "source": [
    "metric_list"
   ]
  },
  {
   "cell_type": "code",
   "execution_count": null,
   "metadata": {
    "collapsed": true
   },
   "outputs": [],
   "source": []
  },
  {
   "cell_type": "code",
   "execution_count": null,
   "metadata": {
    "collapsed": true
   },
   "outputs": [],
   "source": []
  },
  {
   "cell_type": "code",
   "execution_count": null,
   "metadata": {
    "collapsed": true
   },
   "outputs": [],
   "source": []
  },
  {
   "cell_type": "code",
   "execution_count": null,
   "metadata": {
    "collapsed": true
   },
   "outputs": [],
   "source": []
  },
  {
   "cell_type": "code",
   "execution_count": null,
   "metadata": {
    "collapsed": true
   },
   "outputs": [],
   "source": []
  },
  {
   "cell_type": "code",
   "execution_count": null,
   "metadata": {
    "collapsed": true
   },
   "outputs": [],
   "source": []
  },
  {
   "cell_type": "code",
   "execution_count": null,
   "metadata": {
    "collapsed": true
   },
   "outputs": [],
   "source": []
  },
  {
   "cell_type": "code",
   "execution_count": null,
   "metadata": {
    "collapsed": true
   },
   "outputs": [],
   "source": []
  },
  {
   "cell_type": "code",
   "execution_count": null,
   "metadata": {
    "collapsed": true
   },
   "outputs": [],
   "source": []
  },
  {
   "cell_type": "code",
   "execution_count": null,
   "metadata": {
    "collapsed": true
   },
   "outputs": [],
   "source": []
  }
 ],
 "metadata": {
  "kernelspec": {
   "display_name": "Python 2",
   "language": "python",
   "name": "python2"
  },
  "language_info": {
   "codemirror_mode": {
    "name": "ipython",
    "version": 2
   },
   "file_extension": ".py",
   "mimetype": "text/x-python",
   "name": "python",
   "nbconvert_exporter": "python",
   "pygments_lexer": "ipython2",
   "version": "2.7.13"
  }
 },
 "nbformat": 4,
 "nbformat_minor": 2
}
