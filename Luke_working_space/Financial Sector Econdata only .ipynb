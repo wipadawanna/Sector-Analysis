{
 "cells": [
  {
   "cell_type": "code",
   "execution_count": 1,
   "metadata": {
    "collapsed": true
   },
   "outputs": [],
   "source": [
    "import os\n",
    "import sys\n",
    "sys.path.append('../')\n",
    "from lib.env.global_var import *\n",
    "from lib.func.shelve_store import *\n",
    "sys.path.remove('../')\n",
    "import statsmodels"
   ]
  },
  {
   "cell_type": "code",
   "execution_count": 2,
   "metadata": {},
   "outputs": [
    {
     "name": "stderr",
     "output_type": "stream",
     "text": [
      "/home/luke/anaconda2/lib/python2.7/site-packages/statsmodels/compat/pandas.py:56: FutureWarning: The pandas.core.datetools module is deprecated and will be removed in a future version. Please use the pandas.tseries module instead.\n",
      "  from pandas.core import datetools\n"
     ]
    }
   ],
   "source": [
    "%run -i financial_sector_functions.py"
   ]
  },
  {
   "cell_type": "code",
   "execution_count": 3,
   "metadata": {},
   "outputs": [],
   "source": [
    "%run -i financial_sector.py"
   ]
  },
  {
   "cell_type": "markdown",
   "metadata": {},
   "source": [
    "# Fred econ data"
   ]
  },
  {
   "cell_type": "code",
   "execution_count": 4,
   "metadata": {},
   "outputs": [],
   "source": [
    "for csv_file in csv_name_list:\n",
    "    var_name = csv_file.split(\".\")[0]\n",
    "    exec(var_name+\" = read_csv( '\"+econ_dir_str+csv_file+\"' )\")"
   ]
  },
  {
   "cell_type": "code",
   "execution_count": 5,
   "metadata": {
    "scrolled": true
   },
   "outputs": [],
   "source": [
    "GDP_ret = GDP.shift()/GDP-1\n",
    "GDP_ret = quaterly_to_monthly(GDP_ret.dropna())\n",
    "GDP_ret.columns=[map(str,GDP.columns)[0]+\"_ret\"]"
   ]
  },
  {
   "cell_type": "code",
   "execution_count": 6,
   "metadata": {},
   "outputs": [],
   "source": [
    "PCE = PCE.resample(\"M\").last()\n",
    "PCE_ret = (PCE.shift()/PCE -1).dropna()\n",
    "PCE_ret.columns = [map(str,PCE.columns)[0]+\"_ret\"]"
   ]
  },
  {
   "cell_type": "markdown",
   "metadata": {},
   "source": [
    "# Bloomberg econ data"
   ]
  },
  {
   "cell_type": "code",
   "execution_count": 7,
   "metadata": {},
   "outputs": [],
   "source": [
    "for excel_file in bldata_name_list:\n",
    "    var_name = excel_file.split(\".\")[0]\n",
    "    exec(var_name+\" = read_data( '\" + bldata_dir_str+excel_file+\"' )\")"
   ]
  },
  {
   "cell_type": "code",
   "execution_count": 8,
   "metadata": {},
   "outputs": [],
   "source": [
    "blb_list = map(lambda x:x.split(\".\")[0],bldata_name_list)"
   ]
  },
  {
   "cell_type": "code",
   "execution_count": 9,
   "metadata": {},
   "outputs": [],
   "source": [
    "OIL=OIL.resample(\"M\").last()"
   ]
  },
  {
   "cell_type": "code",
   "execution_count": 10,
   "metadata": {},
   "outputs": [],
   "source": [
    "fred_list = map(lambda x: x.split(\".\")[0],csv_name_list)"
   ]
  },
  {
   "cell_type": "code",
   "execution_count": 11,
   "metadata": {},
   "outputs": [],
   "source": [
    "ret_list = ['GDP','PCE']\n",
    "for ret in ret_list:\n",
    "    fred_list[fred_list.index(ret)] =ret+\"_ret\""
   ]
  },
  {
   "cell_type": "code",
   "execution_count": 12,
   "metadata": {},
   "outputs": [],
   "source": [
    "x_list = fred_list+blb_list"
   ]
  },
  {
   "cell_type": "code",
   "execution_count": 13,
   "metadata": {
    "collapsed": true
   },
   "outputs": [],
   "source": [
    "var_list_str =\"\"\n",
    "for var in x_list:\n",
    "    var_list_str += ','+var\n",
    "var_list_str = var_list_str[1:]"
   ]
  },
  {
   "cell_type": "code",
   "execution_count": 14,
   "metadata": {},
   "outputs": [],
   "source": [
    "for var in x_list:\n",
    "    exec(var+\" = quaterly_to_monthly(\"+var+\")\")"
   ]
  },
  {
   "cell_type": "code",
   "execution_count": 15,
   "metadata": {},
   "outputs": [],
   "source": [
    "exec(\"x = pd.concat(\"+\"[\"+var_list_str+\"]\"+\",1)\")"
   ]
  },
  {
   "cell_type": "code",
   "execution_count": 16,
   "metadata": {},
   "outputs": [],
   "source": [
    "x = x.resample(\"M\").last().dropna()"
   ]
  },
  {
   "cell_type": "code",
   "execution_count": 17,
   "metadata": {},
   "outputs": [
    {
     "data": {
      "text/html": [
       "<div>\n",
       "<style>\n",
       "    .dataframe thead tr:only-child th {\n",
       "        text-align: right;\n",
       "    }\n",
       "\n",
       "    .dataframe thead th {\n",
       "        text-align: left;\n",
       "    }\n",
       "\n",
       "    .dataframe tbody tr th {\n",
       "        vertical-align: top;\n",
       "    }\n",
       "</style>\n",
       "<table border=\"1\" class=\"dataframe\">\n",
       "  <thead>\n",
       "    <tr style=\"text-align: right;\">\n",
       "      <th></th>\n",
       "      <th>CPALTT01USQ657N</th>\n",
       "      <th>GDP_ret</th>\n",
       "      <th>DGS10</th>\n",
       "      <th>CSUSHPINSA</th>\n",
       "      <th>PAYEMS</th>\n",
       "      <th>TEDRATE</th>\n",
       "      <th>FEDFUNDS</th>\n",
       "      <th>NETEXP</th>\n",
       "      <th>PCE_ret</th>\n",
       "      <th>UNRATE</th>\n",
       "      <th>UMCSENT</th>\n",
       "      <th>BAMLH0A0HYM2</th>\n",
       "      <th>RECPROUSM156N</th>\n",
       "      <th>VIXCLS</th>\n",
       "      <th>XOI Index</th>\n",
       "      <th>YIELD_SLOPE</th>\n",
       "      <th>XAU Curncy</th>\n",
       "    </tr>\n",
       "  </thead>\n",
       "  <tbody>\n",
       "    <tr>\n",
       "      <th>1999-01-31</th>\n",
       "      <td>0.4</td>\n",
       "      <td>-0.012856</td>\n",
       "      <td>4.66</td>\n",
       "      <td>92.75</td>\n",
       "      <td>127727.0</td>\n",
       "      <td>0.60</td>\n",
       "      <td>4.63</td>\n",
       "      <td>-208.515</td>\n",
       "      <td>-0.000148</td>\n",
       "      <td>4.3</td>\n",
       "      <td>103.9</td>\n",
       "      <td>5.60</td>\n",
       "      <td>0.00</td>\n",
       "      <td>26.25</td>\n",
       "      <td>394.97</td>\n",
       "      <td>0.081</td>\n",
       "      <td>286.15</td>\n",
       "    </tr>\n",
       "    <tr>\n",
       "      <th>1999-02-28</th>\n",
       "      <td>0.4</td>\n",
       "      <td>-0.012856</td>\n",
       "      <td>5.29</td>\n",
       "      <td>93.01</td>\n",
       "      <td>128136.0</td>\n",
       "      <td>0.48</td>\n",
       "      <td>4.76</td>\n",
       "      <td>-208.515</td>\n",
       "      <td>-0.004749</td>\n",
       "      <td>4.4</td>\n",
       "      <td>108.1</td>\n",
       "      <td>5.21</td>\n",
       "      <td>0.00</td>\n",
       "      <td>27.88</td>\n",
       "      <td>384.96</td>\n",
       "      <td>0.149</td>\n",
       "      <td>287.05</td>\n",
       "    </tr>\n",
       "    <tr>\n",
       "      <th>1999-03-31</th>\n",
       "      <td>0.4</td>\n",
       "      <td>-0.012856</td>\n",
       "      <td>5.25</td>\n",
       "      <td>93.64</td>\n",
       "      <td>128244.0</td>\n",
       "      <td>0.63</td>\n",
       "      <td>4.81</td>\n",
       "      <td>-208.515</td>\n",
       "      <td>-0.005114</td>\n",
       "      <td>4.2</td>\n",
       "      <td>105.7</td>\n",
       "      <td>5.19</td>\n",
       "      <td>0.04</td>\n",
       "      <td>23.26</td>\n",
       "      <td>450.59</td>\n",
       "      <td>0.255</td>\n",
       "      <td>280.05</td>\n",
       "    </tr>\n",
       "    <tr>\n",
       "      <th>1999-04-30</th>\n",
       "      <td>1.0</td>\n",
       "      <td>-0.011500</td>\n",
       "      <td>5.36</td>\n",
       "      <td>94.47</td>\n",
       "      <td>128618.0</td>\n",
       "      <td>0.56</td>\n",
       "      <td>4.74</td>\n",
       "      <td>-245.428</td>\n",
       "      <td>-0.010267</td>\n",
       "      <td>4.3</td>\n",
       "      <td>104.6</td>\n",
       "      <td>4.76</td>\n",
       "      <td>0.02</td>\n",
       "      <td>25.07</td>\n",
       "      <td>515.08</td>\n",
       "      <td>0.294</td>\n",
       "      <td>286.55</td>\n",
       "    </tr>\n",
       "    <tr>\n",
       "      <th>1999-05-31</th>\n",
       "      <td>1.0</td>\n",
       "      <td>-0.011500</td>\n",
       "      <td>5.64</td>\n",
       "      <td>95.40</td>\n",
       "      <td>128830.0</td>\n",
       "      <td>0.54</td>\n",
       "      <td>4.74</td>\n",
       "      <td>-245.428</td>\n",
       "      <td>-0.004765</td>\n",
       "      <td>4.2</td>\n",
       "      <td>106.8</td>\n",
       "      <td>4.75</td>\n",
       "      <td>0.00</td>\n",
       "      <td>25.39</td>\n",
       "      <td>505.39</td>\n",
       "      <td>0.209</td>\n",
       "      <td>270.35</td>\n",
       "    </tr>\n",
       "  </tbody>\n",
       "</table>\n",
       "</div>"
      ],
      "text/plain": [
       "            CPALTT01USQ657N   GDP_ret  DGS10  CSUSHPINSA    PAYEMS  TEDRATE  \\\n",
       "1999-01-31              0.4 -0.012856   4.66       92.75  127727.0     0.60   \n",
       "1999-02-28              0.4 -0.012856   5.29       93.01  128136.0     0.48   \n",
       "1999-03-31              0.4 -0.012856   5.25       93.64  128244.0     0.63   \n",
       "1999-04-30              1.0 -0.011500   5.36       94.47  128618.0     0.56   \n",
       "1999-05-31              1.0 -0.011500   5.64       95.40  128830.0     0.54   \n",
       "\n",
       "            FEDFUNDS   NETEXP   PCE_ret  UNRATE  UMCSENT  BAMLH0A0HYM2  \\\n",
       "1999-01-31      4.63 -208.515 -0.000148     4.3    103.9          5.60   \n",
       "1999-02-28      4.76 -208.515 -0.004749     4.4    108.1          5.21   \n",
       "1999-03-31      4.81 -208.515 -0.005114     4.2    105.7          5.19   \n",
       "1999-04-30      4.74 -245.428 -0.010267     4.3    104.6          4.76   \n",
       "1999-05-31      4.74 -245.428 -0.004765     4.2    106.8          4.75   \n",
       "\n",
       "            RECPROUSM156N  VIXCLS  XOI Index  YIELD_SLOPE  XAU Curncy  \n",
       "1999-01-31           0.00   26.25     394.97        0.081      286.15  \n",
       "1999-02-28           0.00   27.88     384.96        0.149      287.05  \n",
       "1999-03-31           0.04   23.26     450.59        0.255      280.05  \n",
       "1999-04-30           0.02   25.07     515.08        0.294      286.55  \n",
       "1999-05-31           0.00   25.39     505.39        0.209      270.35  "
      ]
     },
     "execution_count": 17,
     "metadata": {},
     "output_type": "execute_result"
    }
   ],
   "source": [
    "x.head()"
   ]
  },
  {
   "cell_type": "markdown",
   "metadata": {},
   "source": [
    "# prepare y"
   ]
  },
  {
   "cell_type": "code",
   "execution_count": 18,
   "metadata": {},
   "outputs": [],
   "source": [
    "sector_ind = read_data(benchmark_str,8)\n",
    "sector_ind_ret = (sector_ind.shift()/sector_ind - 1).dropna()\n",
    "# sector_ind_ret.head()"
   ]
  },
  {
   "cell_type": "code",
   "execution_count": 19,
   "metadata": {},
   "outputs": [],
   "source": [
    "spx_ind = read_csv(spx_str)\n",
    "spx_ind_ret = (spx_ind.shift()/spx_ind - 1).dropna()\n",
    "# spx_ind_ret.head()"
   ]
  },
  {
   "cell_type": "code",
   "execution_count": 20,
   "metadata": {
    "collapsed": true
   },
   "outputs": [],
   "source": [
    "sector_ind_ret,spx_ind_ret = model_data(sector_ind_ret,spx_ind_ret)"
   ]
  },
  {
   "cell_type": "code",
   "execution_count": 68,
   "metadata": {},
   "outputs": [
    {
     "data": {
      "text/html": [
       "<div>\n",
       "<style>\n",
       "    .dataframe thead tr:only-child th {\n",
       "        text-align: right;\n",
       "    }\n",
       "\n",
       "    .dataframe thead th {\n",
       "        text-align: left;\n",
       "    }\n",
       "\n",
       "    .dataframe tbody tr th {\n",
       "        vertical-align: top;\n",
       "    }\n",
       "</style>\n",
       "<table border=\"1\" class=\"dataframe\">\n",
       "  <thead>\n",
       "    <tr style=\"text-align: right;\">\n",
       "      <th></th>\n",
       "      <th>sector_beat_spx</th>\n",
       "    </tr>\n",
       "  </thead>\n",
       "  <tbody>\n",
       "    <tr>\n",
       "      <th>2000-06-30</th>\n",
       "      <td>0</td>\n",
       "    </tr>\n",
       "    <tr>\n",
       "      <th>2000-07-31</th>\n",
       "      <td>1</td>\n",
       "    </tr>\n",
       "  </tbody>\n",
       "</table>\n",
       "</div>"
      ],
      "text/plain": [
       "            sector_beat_spx\n",
       "2000-06-30                0\n",
       "2000-07-31                1"
      ]
     },
     "execution_count": 68,
     "metadata": {},
     "output_type": "execute_result"
    }
   ],
   "source": [
    "sector_beat_spx = pd.DataFrame((sector_ind_ret.values>spx_ind_ret.values),index = sector_ind_ret.index)*1\n",
    "sector_beat_spx.columns = ['sector_beat_spx']\n",
    "sector_beat_spx.head(2)"
   ]
  },
  {
   "cell_type": "code",
   "execution_count": 69,
   "metadata": {
    "scrolled": true
   },
   "outputs": [],
   "source": [
    "x,sector_beat_spx = model_data(x,sector_beat_spx)\n",
    "\n",
    "# x=pd.DataFrame(preprocessing.scale(x),index = x.index,columns =x.columns)\n",
    "y=sector_beat_spx"
   ]
  },
  {
   "cell_type": "code",
   "execution_count": 70,
   "metadata": {},
   "outputs": [
    {
     "data": {
      "text/plain": [
       "Index([u'CPALTT01USQ657N',         u'GDP_ret',           u'DGS10',\n",
       "            u'CSUSHPINSA',          u'PAYEMS',         u'TEDRATE',\n",
       "              u'FEDFUNDS',          u'NETEXP',         u'PCE_ret',\n",
       "                u'UNRATE',         u'UMCSENT',    u'BAMLH0A0HYM2',\n",
       "         u'RECPROUSM156N',          u'VIXCLS',       u'XOI Index',\n",
       "           u'YIELD_SLOPE',      u'XAU Curncy'],\n",
       "      dtype='object')"
      ]
     },
     "execution_count": 70,
     "metadata": {},
     "output_type": "execute_result"
    }
   ],
   "source": [
    "x.columns"
   ]
  },
  {
   "cell_type": "code",
   "execution_count": 71,
   "metadata": {},
   "outputs": [],
   "source": [
    "# for col_name in x.columns:\n",
    "#     if \"_ret\" not in col_name:\n",
    "#         x.loc[:,col_name] = pd.DataFrame(preprocessing.scale(x.loc[:,col_name]),index = x.index, columns = [col_name])"
   ]
  },
  {
   "cell_type": "code",
   "execution_count": 72,
   "metadata": {},
   "outputs": [
    {
     "data": {
      "text/html": [
       "<div>\n",
       "<style>\n",
       "    .dataframe thead tr:only-child th {\n",
       "        text-align: right;\n",
       "    }\n",
       "\n",
       "    .dataframe thead th {\n",
       "        text-align: left;\n",
       "    }\n",
       "\n",
       "    .dataframe tbody tr th {\n",
       "        vertical-align: top;\n",
       "    }\n",
       "</style>\n",
       "<table border=\"1\" class=\"dataframe\">\n",
       "  <thead>\n",
       "    <tr style=\"text-align: right;\">\n",
       "      <th></th>\n",
       "      <th>CPALTT01USQ657N</th>\n",
       "      <th>GDP_ret</th>\n",
       "      <th>DGS10</th>\n",
       "      <th>CSUSHPINSA</th>\n",
       "      <th>PAYEMS</th>\n",
       "      <th>TEDRATE</th>\n",
       "      <th>FEDFUNDS</th>\n",
       "      <th>NETEXP</th>\n",
       "      <th>PCE_ret</th>\n",
       "      <th>UNRATE</th>\n",
       "      <th>UMCSENT</th>\n",
       "      <th>BAMLH0A0HYM2</th>\n",
       "      <th>RECPROUSM156N</th>\n",
       "      <th>VIXCLS</th>\n",
       "      <th>XOI Index</th>\n",
       "      <th>YIELD_SLOPE</th>\n",
       "      <th>XAU Curncy</th>\n",
       "    </tr>\n",
       "  </thead>\n",
       "  <tbody>\n",
       "    <tr>\n",
       "      <th>2000-06-30</th>\n",
       "      <td>1.1</td>\n",
       "      <td>-0.024061</td>\n",
       "      <td>6.03</td>\n",
       "      <td>104.86</td>\n",
       "      <td>132077.0</td>\n",
       "      <td>1.06</td>\n",
       "      <td>6.53</td>\n",
       "      <td>-359.587</td>\n",
       "      <td>-0.005374</td>\n",
       "      <td>4.0</td>\n",
       "      <td>106.4</td>\n",
       "      <td>6.17</td>\n",
       "      <td>0.34</td>\n",
       "      <td>19.54</td>\n",
       "      <td>505.35</td>\n",
       "      <td>-0.331</td>\n",
       "      <td>289.53</td>\n",
       "    </tr>\n",
       "    <tr>\n",
       "      <th>2000-07-31</th>\n",
       "      <td>0.8</td>\n",
       "      <td>-0.007638</td>\n",
       "      <td>6.04</td>\n",
       "      <td>105.72</td>\n",
       "      <td>132253.0</td>\n",
       "      <td>0.69</td>\n",
       "      <td>6.54</td>\n",
       "      <td>-388.487</td>\n",
       "      <td>-0.002959</td>\n",
       "      <td>4.0</td>\n",
       "      <td>108.3</td>\n",
       "      <td>6.26</td>\n",
       "      <td>0.48</td>\n",
       "      <td>20.74</td>\n",
       "      <td>480.59</td>\n",
       "      <td>-0.257</td>\n",
       "      <td>277.25</td>\n",
       "    </tr>\n",
       "    <tr>\n",
       "      <th>2000-08-31</th>\n",
       "      <td>0.8</td>\n",
       "      <td>-0.007638</td>\n",
       "      <td>5.73</td>\n",
       "      <td>106.52</td>\n",
       "      <td>132240.0</td>\n",
       "      <td>0.55</td>\n",
       "      <td>6.50</td>\n",
       "      <td>-388.487</td>\n",
       "      <td>-0.005125</td>\n",
       "      <td>4.1</td>\n",
       "      <td>107.3</td>\n",
       "      <td>6.43</td>\n",
       "      <td>0.70</td>\n",
       "      <td>16.84</td>\n",
       "      <td>520.25</td>\n",
       "      <td>-0.438</td>\n",
       "      <td>277.85</td>\n",
       "    </tr>\n",
       "    <tr>\n",
       "      <th>2000-09-30</th>\n",
       "      <td>0.8</td>\n",
       "      <td>-0.007638</td>\n",
       "      <td>5.80</td>\n",
       "      <td>107.14</td>\n",
       "      <td>132375.0</td>\n",
       "      <td>0.76</td>\n",
       "      <td>6.52</td>\n",
       "      <td>-388.487</td>\n",
       "      <td>-0.012209</td>\n",
       "      <td>3.9</td>\n",
       "      <td>106.8</td>\n",
       "      <td>6.77</td>\n",
       "      <td>1.00</td>\n",
       "      <td>20.57</td>\n",
       "      <td>526.68</td>\n",
       "      <td>-0.177</td>\n",
       "      <td>274.25</td>\n",
       "    </tr>\n",
       "    <tr>\n",
       "      <th>2000-10-31</th>\n",
       "      <td>0.5</td>\n",
       "      <td>-0.010966</td>\n",
       "      <td>5.77</td>\n",
       "      <td>107.73</td>\n",
       "      <td>132361.0</td>\n",
       "      <td>0.57</td>\n",
       "      <td>6.51</td>\n",
       "      <td>-402.351</td>\n",
       "      <td>-0.000939</td>\n",
       "      <td>3.9</td>\n",
       "      <td>105.8</td>\n",
       "      <td>7.79</td>\n",
       "      <td>2.68</td>\n",
       "      <td>23.63</td>\n",
       "      <td>518.87</td>\n",
       "      <td>-0.163</td>\n",
       "      <td>265.15</td>\n",
       "    </tr>\n",
       "  </tbody>\n",
       "</table>\n",
       "</div>"
      ],
      "text/plain": [
       "            CPALTT01USQ657N   GDP_ret  DGS10  CSUSHPINSA    PAYEMS  TEDRATE  \\\n",
       "2000-06-30              1.1 -0.024061   6.03      104.86  132077.0     1.06   \n",
       "2000-07-31              0.8 -0.007638   6.04      105.72  132253.0     0.69   \n",
       "2000-08-31              0.8 -0.007638   5.73      106.52  132240.0     0.55   \n",
       "2000-09-30              0.8 -0.007638   5.80      107.14  132375.0     0.76   \n",
       "2000-10-31              0.5 -0.010966   5.77      107.73  132361.0     0.57   \n",
       "\n",
       "            FEDFUNDS   NETEXP   PCE_ret  UNRATE  UMCSENT  BAMLH0A0HYM2  \\\n",
       "2000-06-30      6.53 -359.587 -0.005374     4.0    106.4          6.17   \n",
       "2000-07-31      6.54 -388.487 -0.002959     4.0    108.3          6.26   \n",
       "2000-08-31      6.50 -388.487 -0.005125     4.1    107.3          6.43   \n",
       "2000-09-30      6.52 -388.487 -0.012209     3.9    106.8          6.77   \n",
       "2000-10-31      6.51 -402.351 -0.000939     3.9    105.8          7.79   \n",
       "\n",
       "            RECPROUSM156N  VIXCLS  XOI Index  YIELD_SLOPE  XAU Curncy  \n",
       "2000-06-30           0.34   19.54     505.35       -0.331      289.53  \n",
       "2000-07-31           0.48   20.74     480.59       -0.257      277.25  \n",
       "2000-08-31           0.70   16.84     520.25       -0.438      277.85  \n",
       "2000-09-30           1.00   20.57     526.68       -0.177      274.25  \n",
       "2000-10-31           2.68   23.63     518.87       -0.163      265.15  "
      ]
     },
     "execution_count": 72,
     "metadata": {},
     "output_type": "execute_result"
    }
   ],
   "source": [
    "x.head()"
   ]
  },
  {
   "cell_type": "code",
   "execution_count": 73,
   "metadata": {},
   "outputs": [
    {
     "data": {
      "image/png": "[encoded data removed]",
      "text/plain": [
       "<matplotlib.figure.Figure at 0x7fec90113d10>"
      ]
     },
     "metadata": {},
     "output_type": "display_data"
    }
   ],
   "source": [
    "plt.figure(figsize = (15,5))\n",
    "plt.plot(y)\n",
    "plt.show()"
   ]
  },
  {
   "cell_type": "markdown",
   "metadata": {},
   "source": [
    "# New method \n",
    "rolling years"
   ]
  },
  {
   "cell_type": "code",
   "execution_count": 63,
   "metadata": {},
   "outputs": [],
   "source": [
    "# data_years = np.sort(list(set(x.index.year)))\n",
    "\n",
    "# sample_years = 5\n",
    "\n",
    "# for index in range(len(data_years)-sample_years):\n",
    "#     print(data_years[index:index+sample_years],data_years[index+sample_years])"
   ]
  },
  {
   "cell_type": "code",
   "execution_count": 64,
   "metadata": {
    "collapsed": true
   },
   "outputs": [],
   "source": [
    "# temp = data_years[index:index+sample_years]"
   ]
  },
  {
   "cell_type": "code",
   "execution_count": 65,
   "metadata": {},
   "outputs": [],
   "source": [
    "# data = pd.DataFrame()\n",
    "# for year in temp:\n",
    "#     data = pd.concat([data,x[str(year)]])"
   ]
  },
  {
   "cell_type": "markdown",
   "metadata": {},
   "source": [
    "## data selection\n",
    "Used l1 penalty to suqash out not usefull data  \n",
    "decided to use the following econ data"
   ]
  },
  {
   "cell_type": "code",
   "execution_count": 74,
   "metadata": {
    "collapsed": true
   },
   "outputs": [],
   "source": [
    "n = 3\n",
    "penalty ='l1'\n",
    "C = 1/(0.10)\n",
    "evaluation_metric = 'r2'"
   ]
  },
  {
   "cell_type": "code",
   "execution_count": 75,
   "metadata": {},
   "outputs": [],
   "source": [
    "metric_list,coef_df = KF_logistic_eval(x,y,n = 3,penalty ='l1',C = 1/(10.0),evaluation_metric = 'r2')"
   ]
  },
  {
   "cell_type": "code",
   "execution_count": null,
   "metadata": {},
   "outputs": [],
   "source": []
  },
  {
   "cell_type": "code",
   "execution_count": 76,
   "metadata": {},
   "outputs": [
    {
     "data": {
      "text/plain": [
       "(-0.92000000000000004, array([-1.233, -1.025, -0.517]))"
      ]
     },
     "execution_count": 76,
     "metadata": {},
     "output_type": "execute_result"
    }
   ],
   "source": [
    "np.round(np.mean(metric_list),2),np.round(metric_list,3)"
   ]
  },
  {
   "cell_type": "code",
   "execution_count": 77,
   "metadata": {},
   "outputs": [
    {
     "data": {
      "text/html": [
       "<div>\n",
       "<style>\n",
       "    .dataframe thead tr:only-child th {\n",
       "        text-align: right;\n",
       "    }\n",
       "\n",
       "    .dataframe thead th {\n",
       "        text-align: left;\n",
       "    }\n",
       "\n",
       "    .dataframe tbody tr th {\n",
       "        vertical-align: top;\n",
       "    }\n",
       "</style>\n",
       "<table border=\"1\" class=\"dataframe\">\n",
       "  <thead>\n",
       "    <tr style=\"text-align: right;\">\n",
       "      <th></th>\n",
       "      <th>CPALTT01USQ657N</th>\n",
       "      <th>GDP_ret</th>\n",
       "      <th>DGS10</th>\n",
       "      <th>CSUSHPINSA</th>\n",
       "      <th>PAYEMS</th>\n",
       "      <th>TEDRATE</th>\n",
       "      <th>FEDFUNDS</th>\n",
       "      <th>NETEXP</th>\n",
       "      <th>PCE_ret</th>\n",
       "      <th>UNRATE</th>\n",
       "      <th>UMCSENT</th>\n",
       "      <th>BAMLH0A0HYM2</th>\n",
       "      <th>RECPROUSM156N</th>\n",
       "      <th>VIXCLS</th>\n",
       "      <th>XOI Index</th>\n",
       "      <th>YIELD_SLOPE</th>\n",
       "      <th>XAU Curncy</th>\n",
       "    </tr>\n",
       "  </thead>\n",
       "  <tbody>\n",
       "    <tr>\n",
       "      <th>0</th>\n",
       "      <td>0.0</td>\n",
       "      <td>0.0</td>\n",
       "      <td>0.0</td>\n",
       "      <td>0.000000</td>\n",
       "      <td>-0.000044</td>\n",
       "      <td>0.0</td>\n",
       "      <td>0.0</td>\n",
       "      <td>-0.004523</td>\n",
       "      <td>0.0</td>\n",
       "      <td>0.0</td>\n",
       "      <td>0.021059</td>\n",
       "      <td>0.0</td>\n",
       "      <td>0.003698</td>\n",
       "      <td>0.000000</td>\n",
       "      <td>-0.000774</td>\n",
       "      <td>0.0</td>\n",
       "      <td>0.002147</td>\n",
       "    </tr>\n",
       "    <tr>\n",
       "      <th>1</th>\n",
       "      <td>0.0</td>\n",
       "      <td>0.0</td>\n",
       "      <td>0.0</td>\n",
       "      <td>-0.013927</td>\n",
       "      <td>-0.000036</td>\n",
       "      <td>0.0</td>\n",
       "      <td>0.0</td>\n",
       "      <td>-0.003577</td>\n",
       "      <td>0.0</td>\n",
       "      <td>0.0</td>\n",
       "      <td>0.038050</td>\n",
       "      <td>0.0</td>\n",
       "      <td>0.021148</td>\n",
       "      <td>0.044040</td>\n",
       "      <td>0.000537</td>\n",
       "      <td>0.0</td>\n",
       "      <td>0.000512</td>\n",
       "    </tr>\n",
       "    <tr>\n",
       "      <th>2</th>\n",
       "      <td>0.0</td>\n",
       "      <td>0.0</td>\n",
       "      <td>0.0</td>\n",
       "      <td>-0.037852</td>\n",
       "      <td>-0.000016</td>\n",
       "      <td>0.0</td>\n",
       "      <td>0.0</td>\n",
       "      <td>-0.006187</td>\n",
       "      <td>0.0</td>\n",
       "      <td>0.0</td>\n",
       "      <td>0.036908</td>\n",
       "      <td>0.0</td>\n",
       "      <td>0.000000</td>\n",
       "      <td>0.024153</td>\n",
       "      <td>0.000067</td>\n",
       "      <td>0.0</td>\n",
       "      <td>0.000878</td>\n",
       "    </tr>\n",
       "  </tbody>\n",
       "</table>\n",
       "</div>"
      ],
      "text/plain": [
       "   CPALTT01USQ657N  GDP_ret  DGS10  CSUSHPINSA    PAYEMS  TEDRATE  FEDFUNDS  \\\n",
       "0              0.0      0.0    0.0    0.000000 -0.000044      0.0       0.0   \n",
       "1              0.0      0.0    0.0   -0.013927 -0.000036      0.0       0.0   \n",
       "2              0.0      0.0    0.0   -0.037852 -0.000016      0.0       0.0   \n",
       "\n",
       "     NETEXP  PCE_ret  UNRATE   UMCSENT  BAMLH0A0HYM2  RECPROUSM156N    VIXCLS  \\\n",
       "0 -0.004523      0.0     0.0  0.021059           0.0       0.003698  0.000000   \n",
       "1 -0.003577      0.0     0.0  0.038050           0.0       0.021148  0.044040   \n",
       "2 -0.006187      0.0     0.0  0.036908           0.0       0.000000  0.024153   \n",
       "\n",
       "   XOI Index  YIELD_SLOPE  XAU Curncy  \n",
       "0  -0.000774          0.0    0.002147  \n",
       "1   0.000537          0.0    0.000512  \n",
       "2   0.000067          0.0    0.000878  "
      ]
     },
     "execution_count": 77,
     "metadata": {},
     "output_type": "execute_result"
    }
   ],
   "source": [
    "coef_df"
   ]
  },
  {
   "cell_type": "code",
   "execution_count": null,
   "metadata": {},
   "outputs": [],
   "source": []
  },
  {
   "cell_type": "code",
   "execution_count": null,
   "metadata": {
    "collapsed": true
   },
   "outputs": [],
   "source": []
  },
  {
   "cell_type": "code",
   "execution_count": null,
   "metadata": {
    "collapsed": true
   },
   "outputs": [],
   "source": []
  },
  {
   "cell_type": "code",
   "execution_count": null,
   "metadata": {
    "collapsed": true
   },
   "outputs": [],
   "source": []
  }
 ],
 "metadata": {
  "kernelspec": {
   "display_name": "Python 2",
   "language": "python",
   "name": "python2"
  },
  "language_info": {
   "codemirror_mode": {
    "name": "ipython",
    "version": 2
   },
   "file_extension": ".py",
   "mimetype": "text/x-python",
   "name": "python",
   "nbconvert_exporter": "python",
   "pygments_lexer": "ipython2",
   "version": "2.7.13"
  }
 },
 "nbformat": 4,
 "nbformat_minor": 2
}
